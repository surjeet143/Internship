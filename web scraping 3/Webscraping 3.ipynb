{
 "cells": [
  {
   "cell_type": "code",
   "execution_count": 5,
   "metadata": {},
   "outputs": [],
   "source": [
    "from selenium import webdriver\n",
    "from selenium.webdriver.common.keys import Keys\n",
    "import pandas as pd\n",
    "from selenium.webdriver.common.action_chains import ActionChains\n",
    "from selenium.webdriver.support.ui import WebDriverWait\n",
    "from selenium.webdriver.common.by import By\n",
    "from selenium.common.exceptions import NoSuchElementException\n",
    "import time\n",
    "from selenium.webdriver.support.ui import Select\n",
    "from selenium.webdriver.support import expected_conditions as EC"
   ]
  },
  {
   "cell_type": "markdown",
   "metadata": {},
   "source": [
    "### 1. creating search algorithm for amazon"
   ]
  },
  {
   "cell_type": "code",
   "execution_count": 41,
   "metadata": {},
   "outputs": [
    {
     "ename": "NameError",
     "evalue": "name 'EC' is not defined",
     "output_type": "error",
     "traceback": [
      "\u001b[1;31m---------------------------------------------------------------------------\u001b[0m",
      "\u001b[1;31mNameError\u001b[0m                                 Traceback (most recent call last)",
      "\u001b[1;32m<ipython-input-41-bf16288d0ef9>\u001b[0m in \u001b[0;36m<module>\u001b[1;34m\u001b[0m\n\u001b[0;32m      3\u001b[0m \u001b[1;31m#driver.get(\"https://www.amazon.in/\")\u001b[0m\u001b[1;33m\u001b[0m\u001b[1;33m\u001b[0m\u001b[1;33m\u001b[0m\u001b[0m\n\u001b[0;32m      4\u001b[0m \u001b[0mdelay\u001b[0m \u001b[1;33m=\u001b[0m \u001b[1;36m10\u001b[0m\u001b[1;33m\u001b[0m\u001b[1;33m\u001b[0m\u001b[0m\n\u001b[1;32m----> 5\u001b[1;33m \u001b[0mWebDriverWait\u001b[0m\u001b[1;33m(\u001b[0m\u001b[0mdriver\u001b[0m\u001b[1;33m,\u001b[0m \u001b[0mdelay\u001b[0m\u001b[1;33m)\u001b[0m\u001b[1;33m.\u001b[0m\u001b[0muntil\u001b[0m\u001b[1;33m(\u001b[0m\u001b[0mEC\u001b[0m\u001b[1;33m.\u001b[0m\u001b[0mpresence_of_element_located\u001b[0m\u001b[1;33m(\u001b[0m\u001b[1;33m(\u001b[0m\u001b[0mBy\u001b[0m\u001b[1;33m.\u001b[0m\u001b[0mCLASS_NAME\u001b[0m\u001b[1;33m,\u001b[0m \u001b[1;34m'nav_last'\u001b[0m\u001b[1;33m)\u001b[0m\u001b[1;33m)\u001b[0m\u001b[1;33m)\u001b[0m\u001b[1;33m\u001b[0m\u001b[1;33m\u001b[0m\u001b[0m\n\u001b[0m",
      "\u001b[1;31mNameError\u001b[0m: name 'EC' is not defined"
     ]
    }
   ],
   "source": [
    "# starting chrome \n",
    "driver = webdriver.Chrome('chromedriver')\n",
    "#driver.get(\"https://www.amazon.in/\")\n",
    "delay = 10\n",
    "WebDriverWait(driver, delay).until(EC.presence_of_element_located((By.CLASS_NAME, 'nav_last')))"
   ]
  },
  {
   "cell_type": "code",
   "execution_count": 83,
   "metadata": {},
   "outputs": [],
   "source": [
    "driver.get('http://www.amazon.in/')"
   ]
  },
  {
   "cell_type": "code",
   "execution_count": 96,
   "metadata": {},
   "outputs": [],
   "source": [
    "# navigating to search box\n",
    "search_box = driver.find_element_by_xpath(\"//input[@id = 'twotabsearchtextbox']\")\n",
    "search_box.click()\n",
    "search_box.clear()\n",
    "search_box.send_keys(\"guitar\")\n",
    "search_btn = driver.find_element_by_xpath(\"//input[@id = 'nav-search-submit-button']\")\n",
    "search_btn.click()"
   ]
  },
  {
   "cell_type": "markdown",
   "metadata": {},
   "source": [
    "### 2. scraping the data of guitars from amazon"
   ]
  },
  {
   "cell_type": "code",
   "execution_count": 97,
   "metadata": {},
   "outputs": [],
   "source": [
    "links = []\n",
    "for i in range(2):\n",
    "    link = driver.find_elements_by_xpath(\"//div[@class='a-section a-spacing-none']/div/h2/a\") \n",
    "    link = [g.get_attribute(\"href\") for g in link]\n",
    "    links = links + link\n",
    "    driver.find_element_by_xpath(\"//li[@class = 'a-last']/a\").click()\n",
    "    time.sleep(10)"
   ]
  },
  {
   "cell_type": "code",
   "execution_count": 99,
   "metadata": {},
   "outputs": [
    {
     "data": {
      "text/plain": [
       "129"
      ]
     },
     "execution_count": 99,
     "metadata": {},
     "output_type": "execute_result"
    }
   ],
   "source": [
    "len(links)"
   ]
  },
  {
   "cell_type": "code",
   "execution_count": 106,
   "metadata": {},
   "outputs": [],
   "source": [
    "title = []\n",
    "brand = []\n",
    "rating = []\n",
    "no_ratings = []\n",
    "price = []\n",
    "product_url = []\n",
    "delivery_date = []\n",
    "color = []\n",
    "material = []\n",
    "returns_policy = []\n",
    "\n",
    "for i in range(5):\n",
    "    driver.get(links[i])\n",
    "    time.sleep(5)\n",
    "    title.append(driver.find_element_by_xpath(\"//span[@id = 'productTitle']\").text)\n",
    "    brand.append(driver.find_element_by_xpath(\"//tr[@class= 'a-spacing-small']/td[2]/span\").text)\n",
    "    \n",
    "    try:\n",
    "        rating.append(driver.find_element_by_xpath(\"//span[@class='a-size-base a-nowrap']\").text.split()[0])\n",
    "    except NoSuchElementException:\n",
    "        rating.append(\"-\")\n",
    "    \n",
    "    try:\n",
    "        no_ratings.append(driver.find_element_by_xpath(\"//div[@class='a-row a-spacing-medium averageStarRatingNumerical']/span\").text.split()[0].replace(',',\"\"))\n",
    "    except NoSuchElementException:\n",
    "        no_ratings.append(\"-\")\n",
    "        \n",
    "    try:\n",
    "        price.append(driver.find_element_by_xpath(\"//span[@id='priceblock_dealprice']\").text.replace('₹',\"\"))\n",
    "    except NoSuchElementException:\n",
    "        price.append(\"-\")\n",
    "    \n",
    "    product_url.append(links[i])\n",
    "    \n",
    "    try:\n",
    "        delivery_date.append(driver.find_element_by_xpath(\"//div[@id='ddmDeliveryMessage']/b\").text)\n",
    "    except NoSuchElementException:\n",
    "        delivery_date.append(\"-\")\n",
    "        \n",
    "    try:\n",
    "        details = driver.find_elements_by_xpath(\"//tbody\")[1].text\n",
    "        color.append(details.split(\"\\n\")[1].split()[-1])\n",
    "        material.append(details.split(\"\\n\")[2].split()[-1])\n",
    "    except IndexError:\n",
    "        color.append('-')\n",
    "        material.append('-')\n",
    "        \n",
    "    try:\n",
    "        returns_policy.append(driver.find_element_by_xpath(\"//div[@id = 'RETURNS_POLICY']/span/div[2]/a\").text)\n",
    "    except NoSuchElementException:\n",
    "        returns_policy.append(\"-\")\n",
    "    \n",
    "    #rating.append(driver.find_element_by_xpath(\"//i[@class='a-icon a-icon-star a-star-4']/span\").text.split(\" \")[1])"
   ]
  },
  {
   "cell_type": "code",
   "execution_count": 107,
   "metadata": {},
   "outputs": [],
   "source": [
    "dict = {\"brand\":brand,\"title\":title,\"rating\":rating, \"no of ratings\":no_ratings, \"price\":price, \"color\":color, 'material':material, 'delivery_date':delivery_date, \"returns_policy\":returns_policy, \"product_url\":product_url}"
   ]
  },
  {
   "cell_type": "code",
   "execution_count": 108,
   "metadata": {},
   "outputs": [],
   "source": [
    "df = pd.DataFrame(dict)"
   ]
  },
  {
   "cell_type": "code",
   "execution_count": 109,
   "metadata": {},
   "outputs": [
    {
     "data": {
      "text/html": [
       "<div>\n",
       "<style scoped>\n",
       "    .dataframe tbody tr th:only-of-type {\n",
       "        vertical-align: middle;\n",
       "    }\n",
       "\n",
       "    .dataframe tbody tr th {\n",
       "        vertical-align: top;\n",
       "    }\n",
       "\n",
       "    .dataframe thead th {\n",
       "        text-align: right;\n",
       "    }\n",
       "</style>\n",
       "<table border=\"1\" class=\"dataframe\">\n",
       "  <thead>\n",
       "    <tr style=\"text-align: right;\">\n",
       "      <th></th>\n",
       "      <th>brand</th>\n",
       "      <th>title</th>\n",
       "      <th>rating</th>\n",
       "      <th>no of ratings</th>\n",
       "      <th>price</th>\n",
       "      <th>color</th>\n",
       "      <th>material</th>\n",
       "      <th>delivery_date</th>\n",
       "      <th>returns_policy</th>\n",
       "      <th>product_url</th>\n",
       "    </tr>\n",
       "  </thead>\n",
       "  <tbody>\n",
       "    <tr>\n",
       "      <th>0</th>\n",
       "      <td>Juârez</td>\n",
       "      <td>Juârez Acoustic Guitar, 38 Inch Cutaway, 038C ...</td>\n",
       "      <td>4</td>\n",
       "      <td>13319</td>\n",
       "      <td>1,999.00</td>\n",
       "      <td>Black</td>\n",
       "      <td>Wood</td>\n",
       "      <td>Thursday, Oct 28</td>\n",
       "      <td>7 Days Replacement</td>\n",
       "      <td>https://www.amazon.in/gp/slredirect/picassoRed...</td>\n",
       "    </tr>\n",
       "    <tr>\n",
       "      <th>1</th>\n",
       "      <td>Kadence</td>\n",
       "      <td>Kadence Frontier Jumbo Semi Acoustic Guitar Wi...</td>\n",
       "      <td>3.9</td>\n",
       "      <td>1042</td>\n",
       "      <td>6,599.00</td>\n",
       "      <td>-</td>\n",
       "      <td>-</td>\n",
       "      <td>Friday, Oct 29</td>\n",
       "      <td>7 Days Replacement</td>\n",
       "      <td>https://www.amazon.in/gp/slredirect/picassoRed...</td>\n",
       "    </tr>\n",
       "    <tr>\n",
       "      <th>2</th>\n",
       "      <td>JUAREZ</td>\n",
       "      <td>Juarez Acoustic Guitar Kit, 38 Inch Cutaway, 3...</td>\n",
       "      <td>4</td>\n",
       "      <td>4484</td>\n",
       "      <td>1,999.00</td>\n",
       "      <td>Sunburst</td>\n",
       "      <td>Wood</td>\n",
       "      <td>Monday, Oct 25</td>\n",
       "      <td>7 Days Replacement</td>\n",
       "      <td>https://www.amazon.in/gp/slredirect/picassoRed...</td>\n",
       "    </tr>\n",
       "    <tr>\n",
       "      <th>3</th>\n",
       "      <td>JUAREZ</td>\n",
       "      <td>Juarez Acoustic Guitar Kit, 38 Inch Cutaway, 3...</td>\n",
       "      <td>4</td>\n",
       "      <td>4349</td>\n",
       "      <td>1,999.00</td>\n",
       "      <td>Sunburst</td>\n",
       "      <td>Wood</td>\n",
       "      <td>Thursday, Oct 28</td>\n",
       "      <td>7 Days Replacement</td>\n",
       "      <td>https://www.amazon.in/gp/slredirect/picassoRed...</td>\n",
       "    </tr>\n",
       "    <tr>\n",
       "      <th>4</th>\n",
       "      <td>Juârez</td>\n",
       "      <td>Juârez Acoustic Guitar, 38 Inch Cutaway, 038C ...</td>\n",
       "      <td>4</td>\n",
       "      <td>13319</td>\n",
       "      <td>1,999.00</td>\n",
       "      <td>Black</td>\n",
       "      <td>Wood</td>\n",
       "      <td>Thursday, Oct 28</td>\n",
       "      <td>7 Days Replacement</td>\n",
       "      <td>https://www.amazon.in/Juarez-Acoustic-Cutaway-...</td>\n",
       "    </tr>\n",
       "  </tbody>\n",
       "</table>\n",
       "</div>"
      ],
      "text/plain": [
       "     brand                                              title rating  \\\n",
       "0   Juârez  Juârez Acoustic Guitar, 38 Inch Cutaway, 038C ...      4   \n",
       "1  Kadence  Kadence Frontier Jumbo Semi Acoustic Guitar Wi...    3.9   \n",
       "2   JUAREZ  Juarez Acoustic Guitar Kit, 38 Inch Cutaway, 3...      4   \n",
       "3   JUAREZ  Juarez Acoustic Guitar Kit, 38 Inch Cutaway, 3...      4   \n",
       "4   Juârez  Juârez Acoustic Guitar, 38 Inch Cutaway, 038C ...      4   \n",
       "\n",
       "  no of ratings     price     color material     delivery_date  \\\n",
       "0         13319  1,999.00     Black     Wood  Thursday, Oct 28   \n",
       "1          1042  6,599.00         -        -    Friday, Oct 29   \n",
       "2          4484  1,999.00  Sunburst     Wood    Monday, Oct 25   \n",
       "3          4349  1,999.00  Sunburst     Wood  Thursday, Oct 28   \n",
       "4         13319  1,999.00     Black     Wood  Thursday, Oct 28   \n",
       "\n",
       "       returns_policy                                        product_url  \n",
       "0  7 Days Replacement  https://www.amazon.in/gp/slredirect/picassoRed...  \n",
       "1  7 Days Replacement  https://www.amazon.in/gp/slredirect/picassoRed...  \n",
       "2  7 Days Replacement  https://www.amazon.in/gp/slredirect/picassoRed...  \n",
       "3  7 Days Replacement  https://www.amazon.in/gp/slredirect/picassoRed...  \n",
       "4  7 Days Replacement  https://www.amazon.in/Juarez-Acoustic-Cutaway-...  "
      ]
     },
     "execution_count": 109,
     "metadata": {},
     "output_type": "execute_result"
    }
   ],
   "source": [
    "df.head()"
   ]
  },
  {
   "cell_type": "markdown",
   "metadata": {},
   "source": [
    "### 3. Accessing the search bar on google image"
   ]
  },
  {
   "cell_type": "code",
   "execution_count": 57,
   "metadata": {},
   "outputs": [],
   "source": [
    "driver = webdriver.Chrome('chromedriver')"
   ]
  },
  {
   "cell_type": "markdown",
   "metadata": {},
   "source": [
    "#### 1. fruits"
   ]
  },
  {
   "cell_type": "code",
   "execution_count": 82,
   "metadata": {},
   "outputs": [],
   "source": [
    "# finding the search box and searching the key words\n",
    "driver.get('https://images.google.com/')\n",
    "search_box = driver.find_element_by_xpath(\"//input[@class='gLFyf gsfi']\")\n",
    "search_box.click()\n",
    "search_box.clear()\n",
    "search_box.send_keys(\"fruits\")\n",
    "search_box.submit()\n",
    "time.sleep(3)\n",
    "for i in range(2):\n",
    "    driver.execute_script(\"window.scrollTo(0,document.body.scrollHeight)\") #scrolling down the page\n",
    "    time.sleep(3)"
   ]
  },
  {
   "cell_type": "code",
   "execution_count": 83,
   "metadata": {},
   "outputs": [
    {
     "data": {
      "text/plain": [
       "200"
      ]
     },
     "execution_count": 83,
     "metadata": {},
     "output_type": "execute_result"
    }
   ],
   "source": [
    "fruit_img = driver.find_elements_by_xpath(\"//div[@class = 'bRMDJf islir']/img\")\n",
    "len(fruit_img)"
   ]
  },
  {
   "cell_type": "code",
   "execution_count": 85,
   "metadata": {},
   "outputs": [
    {
     "data": {
      "text/html": [
       "<div>\n",
       "<style scoped>\n",
       "    .dataframe tbody tr th:only-of-type {\n",
       "        vertical-align: middle;\n",
       "    }\n",
       "\n",
       "    .dataframe tbody tr th {\n",
       "        vertical-align: top;\n",
       "    }\n",
       "\n",
       "    .dataframe thead th {\n",
       "        text-align: right;\n",
       "    }\n",
       "</style>\n",
       "<table border=\"1\" class=\"dataframe\">\n",
       "  <thead>\n",
       "    <tr style=\"text-align: right;\">\n",
       "      <th></th>\n",
       "      <th>fruit image url</th>\n",
       "    </tr>\n",
       "  </thead>\n",
       "  <tbody>\n",
       "    <tr>\n",
       "      <th>0</th>\n",
       "      <td>data:image/jpeg;base64,/9j/4AAQSkZJRgABAQAAAQA...</td>\n",
       "    </tr>\n",
       "    <tr>\n",
       "      <th>1</th>\n",
       "      <td>data:image/jpeg;base64,/9j/4AAQSkZJRgABAQAAAQA...</td>\n",
       "    </tr>\n",
       "    <tr>\n",
       "      <th>2</th>\n",
       "      <td>data:image/jpeg;base64,/9j/4AAQSkZJRgABAQAAAQA...</td>\n",
       "    </tr>\n",
       "    <tr>\n",
       "      <th>3</th>\n",
       "      <td>data:image/jpeg;base64,/9j/4AAQSkZJRgABAQAAAQA...</td>\n",
       "    </tr>\n",
       "    <tr>\n",
       "      <th>4</th>\n",
       "      <td>data:image/jpeg;base64,/9j/4AAQSkZJRgABAQAAAQA...</td>\n",
       "    </tr>\n",
       "  </tbody>\n",
       "</table>\n",
       "</div>"
      ],
      "text/plain": [
       "                                     fruit image url\n",
       "0  data:image/jpeg;base64,/9j/4AAQSkZJRgABAQAAAQA...\n",
       "1  data:image/jpeg;base64,/9j/4AAQSkZJRgABAQAAAQA...\n",
       "2  data:image/jpeg;base64,/9j/4AAQSkZJRgABAQAAAQA...\n",
       "3  data:image/jpeg;base64,/9j/4AAQSkZJRgABAQAAAQA...\n",
       "4  data:image/jpeg;base64,/9j/4AAQSkZJRgABAQAAAQA..."
      ]
     },
     "execution_count": 85,
     "metadata": {},
     "output_type": "execute_result"
    }
   ],
   "source": [
    "fruit_img_url = [image.get_attribute(\"src\") for image in fruit_img][:100]\n",
    "fruit_df= pd.DataFrame({\"fruit image url\":fruit_img_url})\n",
    "fruit_df.head()"
   ]
  },
  {
   "cell_type": "markdown",
   "metadata": {},
   "source": [
    "#### 2. cars"
   ]
  },
  {
   "cell_type": "code",
   "execution_count": 73,
   "metadata": {},
   "outputs": [],
   "source": [
    "driver.get('https://images.google.com/')\n",
    "time.sleep(3)\n",
    "search_box = driver.find_element_by_xpath(\"//input[@class='gLFyf gsfi']\")\n",
    "search_box.click()\n",
    "search_box.clear()\n",
    "search_box.send_keys(\"cars\")\n",
    "search_box.submit()\n",
    "time.sleep(3)\n",
    "for i in range(2):\n",
    "    driver.execute_script(\"window.scrollTo(0,document.body.scrollHeight)\") #scrolling down the page\n",
    "    time.sleep(3)"
   ]
  },
  {
   "cell_type": "code",
   "execution_count": 75,
   "metadata": {},
   "outputs": [
    {
     "data": {
      "text/plain": [
       "200"
      ]
     },
     "execution_count": 75,
     "metadata": {},
     "output_type": "execute_result"
    }
   ],
   "source": [
    "car_img = driver.find_elements_by_xpath(\"//div[@class = 'bRMDJf islir']/img\")\n",
    "len(car_img)"
   ]
  },
  {
   "cell_type": "code",
   "execution_count": 78,
   "metadata": {},
   "outputs": [],
   "source": [
    "car_img_url = [image.get_attribute(\"src\") for image in img][:100]\n",
    "car_df= pd.DataFrame({\"car image url\":car_img_url})"
   ]
  },
  {
   "cell_type": "code",
   "execution_count": 81,
   "metadata": {},
   "outputs": [
    {
     "data": {
      "text/html": [
       "<div>\n",
       "<style scoped>\n",
       "    .dataframe tbody tr th:only-of-type {\n",
       "        vertical-align: middle;\n",
       "    }\n",
       "\n",
       "    .dataframe tbody tr th {\n",
       "        vertical-align: top;\n",
       "    }\n",
       "\n",
       "    .dataframe thead th {\n",
       "        text-align: right;\n",
       "    }\n",
       "</style>\n",
       "<table border=\"1\" class=\"dataframe\">\n",
       "  <thead>\n",
       "    <tr style=\"text-align: right;\">\n",
       "      <th></th>\n",
       "      <th>car image url</th>\n",
       "    </tr>\n",
       "  </thead>\n",
       "  <tbody>\n",
       "    <tr>\n",
       "      <th>0</th>\n",
       "      <td>data:image/jpeg;base64,/9j/4AAQSkZJRgABAQAAAQA...</td>\n",
       "    </tr>\n",
       "    <tr>\n",
       "      <th>1</th>\n",
       "      <td>data:image/jpeg;base64,/9j/4AAQSkZJRgABAQAAAQA...</td>\n",
       "    </tr>\n",
       "    <tr>\n",
       "      <th>2</th>\n",
       "      <td>data:image/jpeg;base64,/9j/4AAQSkZJRgABAQAAAQA...</td>\n",
       "    </tr>\n",
       "    <tr>\n",
       "      <th>3</th>\n",
       "      <td>data:image/jpeg;base64,/9j/4AAQSkZJRgABAQAAAQA...</td>\n",
       "    </tr>\n",
       "    <tr>\n",
       "      <th>4</th>\n",
       "      <td>data:image/jpeg;base64,/9j/4AAQSkZJRgABAQAAAQA...</td>\n",
       "    </tr>\n",
       "  </tbody>\n",
       "</table>\n",
       "</div>"
      ],
      "text/plain": [
       "                                       car image url\n",
       "0  data:image/jpeg;base64,/9j/4AAQSkZJRgABAQAAAQA...\n",
       "1  data:image/jpeg;base64,/9j/4AAQSkZJRgABAQAAAQA...\n",
       "2  data:image/jpeg;base64,/9j/4AAQSkZJRgABAQAAAQA...\n",
       "3  data:image/jpeg;base64,/9j/4AAQSkZJRgABAQAAAQA...\n",
       "4  data:image/jpeg;base64,/9j/4AAQSkZJRgABAQAAAQA..."
      ]
     },
     "execution_count": 81,
     "metadata": {},
     "output_type": "execute_result"
    }
   ],
   "source": [
    "car_df.head()"
   ]
  },
  {
   "cell_type": "code",
   "execution_count": null,
   "metadata": {},
   "outputs": [],
   "source": []
  },
  {
   "cell_type": "markdown",
   "metadata": {},
   "source": [
    "#### 3. machine learning"
   ]
  },
  {
   "cell_type": "code",
   "execution_count": 86,
   "metadata": {},
   "outputs": [],
   "source": [
    "driver.get('https://images.google.com/')\n",
    "time.sleep(3)\n",
    "search_box = driver.find_element_by_xpath(\"//input[@class='gLFyf gsfi']\")\n",
    "search_box.click()\n",
    "search_box.clear()\n",
    "search_box.send_keys(\"Machine learning\")\n",
    "search_box.submit()\n",
    "time.sleep(3)\n",
    "for i in range(2):\n",
    "    driver.execute_script(\"window.scrollTo(0,document.body.scrollHeight)\") #scrolling down the page\n",
    "    time.sleep(3)"
   ]
  },
  {
   "cell_type": "code",
   "execution_count": 88,
   "metadata": {},
   "outputs": [
    {
     "data": {
      "text/html": [
       "<div>\n",
       "<style scoped>\n",
       "    .dataframe tbody tr th:only-of-type {\n",
       "        vertical-align: middle;\n",
       "    }\n",
       "\n",
       "    .dataframe tbody tr th {\n",
       "        vertical-align: top;\n",
       "    }\n",
       "\n",
       "    .dataframe thead th {\n",
       "        text-align: right;\n",
       "    }\n",
       "</style>\n",
       "<table border=\"1\" class=\"dataframe\">\n",
       "  <thead>\n",
       "    <tr style=\"text-align: right;\">\n",
       "      <th></th>\n",
       "      <th>ML image url</th>\n",
       "    </tr>\n",
       "  </thead>\n",
       "  <tbody>\n",
       "    <tr>\n",
       "      <th>0</th>\n",
       "      <td>data:image/jpeg;base64,/9j/4AAQSkZJRgABAQAAAQA...</td>\n",
       "    </tr>\n",
       "    <tr>\n",
       "      <th>1</th>\n",
       "      <td>data:image/jpeg;base64,/9j/4AAQSkZJRgABAQAAAQA...</td>\n",
       "    </tr>\n",
       "    <tr>\n",
       "      <th>2</th>\n",
       "      <td>data:image/jpeg;base64,/9j/4AAQSkZJRgABAQAAAQA...</td>\n",
       "    </tr>\n",
       "    <tr>\n",
       "      <th>3</th>\n",
       "      <td>data:image/jpeg;base64,/9j/4AAQSkZJRgABAQAAAQA...</td>\n",
       "    </tr>\n",
       "    <tr>\n",
       "      <th>4</th>\n",
       "      <td>data:image/jpeg;base64,/9j/4AAQSkZJRgABAQAAAQA...</td>\n",
       "    </tr>\n",
       "  </tbody>\n",
       "</table>\n",
       "</div>"
      ],
      "text/plain": [
       "                                        ML image url\n",
       "0  data:image/jpeg;base64,/9j/4AAQSkZJRgABAQAAAQA...\n",
       "1  data:image/jpeg;base64,/9j/4AAQSkZJRgABAQAAAQA...\n",
       "2  data:image/jpeg;base64,/9j/4AAQSkZJRgABAQAAAQA...\n",
       "3  data:image/jpeg;base64,/9j/4AAQSkZJRgABAQAAAQA...\n",
       "4  data:image/jpeg;base64,/9j/4AAQSkZJRgABAQAAAQA..."
      ]
     },
     "execution_count": 88,
     "metadata": {},
     "output_type": "execute_result"
    }
   ],
   "source": [
    "ML_img = driver.find_elements_by_xpath(\"//div[@class = 'bRMDJf islir']/img\")\n",
    "ML_img_url = [image.get_attribute(\"src\") for image in ML_img][:100]\n",
    "ML_df= pd.DataFrame({\"ML image url\":ML_img_url})\n",
    "ML_df.head()"
   ]
  },
  {
   "cell_type": "markdown",
   "metadata": {},
   "source": [
    "### 4. fetching the details of a smartphone from flipkart"
   ]
  },
  {
   "cell_type": "code",
   "execution_count": 2,
   "metadata": {},
   "outputs": [],
   "source": [
    "driver = webdriver.Chrome('chromedriver')\n",
    "driver.get('http://www.flipkart.com/')"
   ]
  },
  {
   "cell_type": "code",
   "execution_count": 3,
   "metadata": {},
   "outputs": [],
   "source": [
    "search_box = driver.find_element_by_xpath(\"//input[@class = '_3704LK']\")\n",
    "search_box.send_keys(\"Redmi note 10s\")\n",
    "search_box.submit()\n",
    "time.sleep(3)"
   ]
  },
  {
   "cell_type": "code",
   "execution_count": 4,
   "metadata": {},
   "outputs": [],
   "source": [
    "phones = driver.find_elements_by_xpath(\"//a[@class='_1fQZEK']\")\n",
    "phone_links = [phone.get_attribute('href') for phone in phones] # collecting links"
   ]
  },
  {
   "cell_type": "code",
   "execution_count": 14,
   "metadata": {},
   "outputs": [],
   "source": [
    "brand = []\n",
    "name = []\n",
    "color = []\n",
    "RAM = []\n",
    "storage = []\n",
    "camera1 = []\n",
    "camera2 = []\n",
    "dis_size = []\n",
    "dis_res = []\n",
    "pros = []\n",
    "pros_c = []\n",
    "battery = []\n",
    "price = []\n",
    "url = []\n",
    "\n",
    "for i in range(len(phone_links)):\n",
    "#for i in range(4):\n",
    "    driver.get(phone_links[i])\n",
    "    time.sleep(3)\n",
    "    url.append(phone_links[i])                                                          # adding url\n",
    "    brand.append(\"REDMI\")\n",
    "    title = driver.find_element_by_xpath(\"//h1[@class = 'yhB1nd']/span\")\n",
    "    name.append(\" \".join((title.text.split(\"(\")[0].split())[1:]))                       # name\n",
    "    color.append(title.text.split(\"(\")[1].split(\",\")[0])                                # color\n",
    "    price.append(driver.find_element_by_xpath(\"//div[@class = '_30jeq3 _16Jk6d']\").text)     # price\n",
    "    detail = driver.find_element_by_xpath(\"//div[@class = '_2418kt']\")                  \n",
    "    RAM.append(\" \".join(detail.text.split(\"\\n\")[0].split(\"|\")[0].split()[:2]))          # RAM\n",
    "    storage.append(\" \".join(detail.text.split(\"\\n\")[0].split(\"|\")[1].split()[:2]))      # storage\n",
    "    dis_size.append(detail.text.split(\"\\n\")[1].split(\"(\")[0].strip())                   # display size\n",
    "    battery.append(detail.text.split(\"\\n\")[3].replace(\"Battery\",\"\").strip())            # battery capacity\n",
    "    driver.find_element_by_xpath(\"//button[@class='_2KpZ6l _1FH0tX']\").click()          # clicking on \"Read more\"\n",
    "    time.sleep(3)\n",
    "    dis_res.append(driver.find_element_by_xpath(\"//div[@class='_3k-BhJ'][2]/table/tbody\").text.split(\"\\n\")[3])    # display resolution\n",
    "    OS = driver.find_element_by_xpath(\"//div[@class='_3k-BhJ'][3]/table/tbody\").text.split('\\n') \n",
    "    keys = []\n",
    "    values = []\n",
    "    for i in range(len(OS)):\n",
    "        if i%2==0:\n",
    "            keys.append(OS[i])\n",
    "        else:\n",
    "            values.append(OS[i])\n",
    "    OSs = dict(zip(keys, values))\n",
    "    try:\n",
    "        pros.append(OSs[\"Processor Type\"])                                              # processor\n",
    "    except:\n",
    "        pros.append(\"-\")\n",
    "    pros_c.append(OSs[\"Processor Core\"])                                                # cores\n",
    "    CAM = driver.find_element_by_xpath(\"//div[@class='_3k-BhJ'][5]/table/tbody\").text.split('\\n')\n",
    "    keys2 = []\n",
    "    values2  = []\n",
    "    for i in range(len(CAM)):\n",
    "        if i%2==0:\n",
    "            keys2.append(CAM[i])\n",
    "        else:\n",
    "            values2.append(CAM[i])\n",
    "    CAMs = dict(zip(keys2, values2))\n",
    "    camera1.append(CAMs['Primary Camera'])                                              # primary camera\n",
    "    try:\n",
    "        camera2.append(CAMs['Secondary Camera'])                                        # secondary camera\n",
    "    except:\n",
    "        camera2.append(\"-\")"
   ]
  },
  {
   "cell_type": "code",
   "execution_count": 15,
   "metadata": {},
   "outputs": [],
   "source": [
    "dictionary = {\"brand\":brand, \"color\":color,\"name\":name, \"RAM\":RAM, \"Storage\":storage, \"dis_size\":dis_size, \"display resolution\": dis_res,\"battery\":battery,\n",
    "             \"processor\": pros, \"cores\":pros_c,\"primary camera\": camera1, \"secondary camera\": camera2, \"price\":price, \"url\":url}"
   ]
  },
  {
   "cell_type": "code",
   "execution_count": 16,
   "metadata": {},
   "outputs": [
    {
     "data": {
      "text/html": [
       "<div>\n",
       "<style scoped>\n",
       "    .dataframe tbody tr th:only-of-type {\n",
       "        vertical-align: middle;\n",
       "    }\n",
       "\n",
       "    .dataframe tbody tr th {\n",
       "        vertical-align: top;\n",
       "    }\n",
       "\n",
       "    .dataframe thead th {\n",
       "        text-align: right;\n",
       "    }\n",
       "</style>\n",
       "<table border=\"1\" class=\"dataframe\">\n",
       "  <thead>\n",
       "    <tr style=\"text-align: right;\">\n",
       "      <th></th>\n",
       "      <th>brand</th>\n",
       "      <th>color</th>\n",
       "      <th>name</th>\n",
       "      <th>RAM</th>\n",
       "      <th>Storage</th>\n",
       "      <th>dis_size</th>\n",
       "      <th>display resolution</th>\n",
       "      <th>battery</th>\n",
       "      <th>processor</th>\n",
       "      <th>cores</th>\n",
       "      <th>primary camera</th>\n",
       "      <th>secondary camera</th>\n",
       "      <th>price</th>\n",
       "      <th>url</th>\n",
       "    </tr>\n",
       "  </thead>\n",
       "  <tbody>\n",
       "    <tr>\n",
       "      <th>0</th>\n",
       "      <td>REDMI</td>\n",
       "      <td>Cosmic Purple</td>\n",
       "      <td>Note 10S</td>\n",
       "      <td>6 GB</td>\n",
       "      <td>64 GB</td>\n",
       "      <td>16.33 cm</td>\n",
       "      <td>2400 x 1080$$pixels</td>\n",
       "      <td>5000 mAh</td>\n",
       "      <td>MediaTek Helio G95</td>\n",
       "      <td>Octa Core</td>\n",
       "      <td>64MP + 8MP + 2MP + 2MP</td>\n",
       "      <td>13MP Front Camera</td>\n",
       "      <td>₹14,793</td>\n",
       "      <td>https://www.flipkart.com/redmi-note-10s-cosmic...</td>\n",
       "    </tr>\n",
       "    <tr>\n",
       "      <th>1</th>\n",
       "      <td>REDMI</td>\n",
       "      <td>Cosmic Purple</td>\n",
       "      <td>Note 10S</td>\n",
       "      <td>6 GB</td>\n",
       "      <td>128 GB</td>\n",
       "      <td>16.33 cm</td>\n",
       "      <td>2400 x 1080$$pixel</td>\n",
       "      <td>5000 mAh</td>\n",
       "      <td>MediaTek Helio G95</td>\n",
       "      <td>Octa Core</td>\n",
       "      <td>64MP + 8MP + 2MP + 2MP</td>\n",
       "      <td>13MP Front Camera</td>\n",
       "      <td>₹16,743</td>\n",
       "      <td>https://www.flipkart.com/redmi-note-10s-cosmic...</td>\n",
       "    </tr>\n",
       "    <tr>\n",
       "      <th>2</th>\n",
       "      <td>REDMI</td>\n",
       "      <td>Deep Sea Blue</td>\n",
       "      <td>Note 10S</td>\n",
       "      <td>6 GB</td>\n",
       "      <td>128 GB</td>\n",
       "      <td>16.33 cm</td>\n",
       "      <td>2400 x 1080 Pixels</td>\n",
       "      <td>5000 mAh</td>\n",
       "      <td>MediaTek Helio G95</td>\n",
       "      <td>Octa Core</td>\n",
       "      <td>64MP + 8MP + 2MP + 2MP</td>\n",
       "      <td>13MP Front Camera</td>\n",
       "      <td>₹16,438</td>\n",
       "      <td>https://www.flipkart.com/redmi-note-10s-deep-s...</td>\n",
       "    </tr>\n",
       "    <tr>\n",
       "      <th>3</th>\n",
       "      <td>REDMI</td>\n",
       "      <td>Frost White</td>\n",
       "      <td>Note 10S</td>\n",
       "      <td>6 GB</td>\n",
       "      <td>128 GB</td>\n",
       "      <td>16.33 cm</td>\n",
       "      <td>2400 x 1080 Pixels</td>\n",
       "      <td>5000 mAh</td>\n",
       "      <td>MediaTek Helio G95</td>\n",
       "      <td>Octa Core</td>\n",
       "      <td>64MP + 8MP + 2MP + 2MP</td>\n",
       "      <td>13MP Front Camera</td>\n",
       "      <td>₹16,345</td>\n",
       "      <td>https://www.flipkart.com/redmi-note-10s-frost-...</td>\n",
       "    </tr>\n",
       "    <tr>\n",
       "      <th>4</th>\n",
       "      <td>REDMI</td>\n",
       "      <td>Frost White</td>\n",
       "      <td>Note 10S</td>\n",
       "      <td>6 GB</td>\n",
       "      <td>64 GB</td>\n",
       "      <td>16.33 cm</td>\n",
       "      <td>2400 x 1080 Pixels</td>\n",
       "      <td>5000 mAh</td>\n",
       "      <td>MediaTek Helio G95</td>\n",
       "      <td>Octa Core</td>\n",
       "      <td>64MP + 8MP + 2MP + 2MP</td>\n",
       "      <td>13MP Front Camera</td>\n",
       "      <td>₹14,787</td>\n",
       "      <td>https://www.flipkart.com/redmi-note-10s-frost-...</td>\n",
       "    </tr>\n",
       "  </tbody>\n",
       "</table>\n",
       "</div>"
      ],
      "text/plain": [
       "   brand          color      name   RAM Storage  dis_size  \\\n",
       "0  REDMI  Cosmic Purple  Note 10S  6 GB   64 GB  16.33 cm   \n",
       "1  REDMI  Cosmic Purple  Note 10S  6 GB  128 GB  16.33 cm   \n",
       "2  REDMI  Deep Sea Blue  Note 10S  6 GB  128 GB  16.33 cm   \n",
       "3  REDMI    Frost White  Note 10S  6 GB  128 GB  16.33 cm   \n",
       "4  REDMI    Frost White  Note 10S  6 GB   64 GB  16.33 cm   \n",
       "\n",
       "    display resolution   battery           processor      cores  \\\n",
       "0  2400 x 1080$$pixels  5000 mAh  MediaTek Helio G95  Octa Core   \n",
       "1   2400 x 1080$$pixel  5000 mAh  MediaTek Helio G95  Octa Core   \n",
       "2   2400 x 1080 Pixels  5000 mAh  MediaTek Helio G95  Octa Core   \n",
       "3   2400 x 1080 Pixels  5000 mAh  MediaTek Helio G95  Octa Core   \n",
       "4   2400 x 1080 Pixels  5000 mAh  MediaTek Helio G95  Octa Core   \n",
       "\n",
       "           primary camera   secondary camera    price  \\\n",
       "0  64MP + 8MP + 2MP + 2MP  13MP Front Camera  ₹14,793   \n",
       "1  64MP + 8MP + 2MP + 2MP  13MP Front Camera  ₹16,743   \n",
       "2  64MP + 8MP + 2MP + 2MP  13MP Front Camera  ₹16,438   \n",
       "3  64MP + 8MP + 2MP + 2MP  13MP Front Camera  ₹16,345   \n",
       "4  64MP + 8MP + 2MP + 2MP  13MP Front Camera  ₹14,787   \n",
       "\n",
       "                                                 url  \n",
       "0  https://www.flipkart.com/redmi-note-10s-cosmic...  \n",
       "1  https://www.flipkart.com/redmi-note-10s-cosmic...  \n",
       "2  https://www.flipkart.com/redmi-note-10s-deep-s...  \n",
       "3  https://www.flipkart.com/redmi-note-10s-frost-...  \n",
       "4  https://www.flipkart.com/redmi-note-10s-frost-...  "
      ]
     },
     "execution_count": 16,
     "metadata": {},
     "output_type": "execute_result"
    }
   ],
   "source": [
    "df = pd.DataFrame(dictionary)\n",
    "df.head()"
   ]
  },
  {
   "cell_type": "code",
   "execution_count": 24,
   "metadata": {},
   "outputs": [],
   "source": [
    "# saving as CSV\n",
    "df.to_csv(\"smartphone.csv\")"
   ]
  },
  {
   "cell_type": "markdown",
   "metadata": {},
   "source": [
    "### 5. fetcing the coordinates of a city from google map"
   ]
  },
  {
   "cell_type": "code",
   "execution_count": 17,
   "metadata": {},
   "outputs": [],
   "source": [
    "driver = webdriver.Chrome('chromedriver')\n",
    "driver.get(\"https://www.google.co.in/maps/\")"
   ]
  },
  {
   "cell_type": "code",
   "execution_count": 22,
   "metadata": {},
   "outputs": [],
   "source": [
    "cities = [\"chandigarh\", \"delhi\", \"bangalore\", \"abohar\", \"shimla\", \"kanpur\", \"mumbai\"] # list of some cities\n",
    "coordinates = []\n",
    "for city in cities:\n",
    "    map_search = driver.find_element_by_xpath(\"//div[@id='gs_lc50']/input[1]\")\n",
    "    map_search.clear()\n",
    "    map_search.send_keys(city)\n",
    "    driver.find_element_by_xpath(\"//button[@id='searchbox-searchbutton']\").click()\n",
    "    time.sleep(10)\n",
    "    current_url = driver.current_url                                            # fetching the curent url\n",
    "    coordinates.append(current_url.split(\"@\")[1].split(\"/\")[0].split(\",\")[:2])  # extrarcting the coordinates from url"
   ]
  },
  {
   "cell_type": "code",
   "execution_count": 26,
   "metadata": {},
   "outputs": [
    {
     "data": {
      "text/html": [
       "<div>\n",
       "<style scoped>\n",
       "    .dataframe tbody tr th:only-of-type {\n",
       "        vertical-align: middle;\n",
       "    }\n",
       "\n",
       "    .dataframe tbody tr th {\n",
       "        vertical-align: top;\n",
       "    }\n",
       "\n",
       "    .dataframe thead th {\n",
       "        text-align: right;\n",
       "    }\n",
       "</style>\n",
       "<table border=\"1\" class=\"dataframe\">\n",
       "  <thead>\n",
       "    <tr style=\"text-align: right;\">\n",
       "      <th></th>\n",
       "      <th>latitude</th>\n",
       "      <th>longitude</th>\n",
       "    </tr>\n",
       "  </thead>\n",
       "  <tbody>\n",
       "    <tr>\n",
       "      <th>chandigarh</th>\n",
       "      <td>30.7352102</td>\n",
       "      <td>76.693488</td>\n",
       "    </tr>\n",
       "    <tr>\n",
       "      <th>delhi</th>\n",
       "      <td>28.6472799</td>\n",
       "      <td>76.8130611</td>\n",
       "    </tr>\n",
       "    <tr>\n",
       "      <th>bangalore</th>\n",
       "      <td>28.6472799</td>\n",
       "      <td>76.8130611</td>\n",
       "    </tr>\n",
       "    <tr>\n",
       "      <th>abohar</th>\n",
       "      <td>28.6472799</td>\n",
       "      <td>76.8130611</td>\n",
       "    </tr>\n",
       "    <tr>\n",
       "      <th>shimla</th>\n",
       "      <td>28.6472799</td>\n",
       "      <td>76.8130611</td>\n",
       "    </tr>\n",
       "  </tbody>\n",
       "</table>\n",
       "</div>"
      ],
      "text/plain": [
       "              latitude   longitude\n",
       "chandigarh  30.7352102   76.693488\n",
       "delhi       28.6472799  76.8130611\n",
       "bangalore   28.6472799  76.8130611\n",
       "abohar      28.6472799  76.8130611\n",
       "shimla      28.6472799  76.8130611"
      ]
     },
     "execution_count": 26,
     "metadata": {},
     "output_type": "execute_result"
    }
   ],
   "source": [
    "map_dictionary = dict(zip(cities, coordinates))\n",
    "city_map_df = pd.DataFrame(map_dictionary).T\n",
    "city_map_df.columns = [\"latitude\", \"longitude\"]\n",
    "city_map_df.head()"
   ]
  },
  {
   "cell_type": "markdown",
   "metadata": {},
   "source": [
    "### 6. fetching the funding deal data"
   ]
  },
  {
   "cell_type": "code",
   "execution_count": 8,
   "metadata": {},
   "outputs": [],
   "source": [
    "driver = webdriver.Chrome('chromedriver')\n",
    "driver.get(\"https://trak.in/india-startup-funding-investment-2015/\")\n",
    "time.sleep(10)\n",
    "for i in range(3):\n",
    "    x = i+48\n",
    "    name = \"tablepress-\"+str(x)+\"_length\"\n",
    "    select = Select(driver.find_element_by_name(name))                        # selecting maximum from dropdown\n",
    "    select.select_by_value('100')\n",
    "t1 = driver.find_elements_by_xpath(\"//table[@id='tablepress-48']/tbody/tr/td\")# fetching the table wise data\n",
    "t2 = driver.find_elements_by_xpath(\"//table[@id='tablepress-49']/tbody/tr/td\")\n",
    "t3 = driver.find_elements_by_xpath(\"//table[@id='tablepress-50']/tbody/tr/td\")\n",
    "\n",
    "raw_data = t1+t2+t3                                                           # concatenating the raw data\n",
    "table = [r.text for r in raw_data]                                            # fetching the text data"
   ]
  },
  {
   "cell_type": "code",
   "execution_count": 9,
   "metadata": {},
   "outputs": [],
   "source": [
    "date = []\n",
    "startup_name = []\n",
    "industry = []\n",
    "sub_vertical = []\n",
    "location = []\n",
    "investors = []\n",
    "investment_type = []\n",
    "amount = []\n",
    "\n",
    "# diversifying the series of data into their respective column\n",
    "i = 0\n",
    "while i < len(table):\n",
    "    date.append(table[i+1])\n",
    "    startup_name.append(table[i+2])\n",
    "    industry.append(table[i+3])\n",
    "    sub_vertical.append(table[i+4])\n",
    "    location.append(table[i+5])\n",
    "    investors.append(table[i+6])\n",
    "    investment_type.append(table[i+7])\n",
    "    amount.append(table[i+8])\n",
    "    i = i+9"
   ]
  },
  {
   "cell_type": "code",
   "execution_count": 10,
   "metadata": {},
   "outputs": [
    {
     "data": {
      "text/html": [
       "<div>\n",
       "<style scoped>\n",
       "    .dataframe tbody tr th:only-of-type {\n",
       "        vertical-align: middle;\n",
       "    }\n",
       "\n",
       "    .dataframe tbody tr th {\n",
       "        vertical-align: top;\n",
       "    }\n",
       "\n",
       "    .dataframe thead th {\n",
       "        text-align: right;\n",
       "    }\n",
       "</style>\n",
       "<table border=\"1\" class=\"dataframe\">\n",
       "  <thead>\n",
       "    <tr style=\"text-align: right;\">\n",
       "      <th></th>\n",
       "      <th>date</th>\n",
       "      <th>startup name</th>\n",
       "      <th>industry</th>\n",
       "      <th>sub vertical</th>\n",
       "      <th>location</th>\n",
       "      <th>investors</th>\n",
       "      <th>investment_type</th>\n",
       "      <th>amount(USD)</th>\n",
       "    </tr>\n",
       "  </thead>\n",
       "  <tbody>\n",
       "    <tr>\n",
       "      <th>0</th>\n",
       "      <td>15/07/2020</td>\n",
       "      <td>Flipkart</td>\n",
       "      <td>E-commerce</td>\n",
       "      <td>E-commerce</td>\n",
       "      <td>Bangalore</td>\n",
       "      <td>Walmart Inc</td>\n",
       "      <td>M&amp;A</td>\n",
       "      <td>1,200,000,000</td>\n",
       "    </tr>\n",
       "    <tr>\n",
       "      <th>1</th>\n",
       "      <td>16/07/2020</td>\n",
       "      <td>Vedantu</td>\n",
       "      <td>EduTech</td>\n",
       "      <td>Online Tutoring</td>\n",
       "      <td>Bangalore</td>\n",
       "      <td>Coatue Management</td>\n",
       "      <td>Series D</td>\n",
       "      <td>100,000,000</td>\n",
       "    </tr>\n",
       "    <tr>\n",
       "      <th>2</th>\n",
       "      <td>16/07/2020</td>\n",
       "      <td>Crio</td>\n",
       "      <td>EduTech</td>\n",
       "      <td>Learning Platform for Developers</td>\n",
       "      <td>Bangalore</td>\n",
       "      <td>021 Capital</td>\n",
       "      <td>pre-Series A</td>\n",
       "      <td>934,160</td>\n",
       "    </tr>\n",
       "    <tr>\n",
       "      <th>3</th>\n",
       "      <td>14/07/2020</td>\n",
       "      <td>goDutch</td>\n",
       "      <td>FinTech</td>\n",
       "      <td>Group Payments</td>\n",
       "      <td>Mumbai</td>\n",
       "      <td>Matrix India,Y Combinator, Global Founders Cap...</td>\n",
       "      <td>Seed</td>\n",
       "      <td>1,700,000</td>\n",
       "    </tr>\n",
       "    <tr>\n",
       "      <th>4</th>\n",
       "      <td>13/07/2020</td>\n",
       "      <td>Mystifly</td>\n",
       "      <td>Airfare Marketplace</td>\n",
       "      <td>Ticketing, Airline Retailing, and Post-Ticketi...</td>\n",
       "      <td>Singapore and Bangalore</td>\n",
       "      <td>Recruit Co. Ltd.</td>\n",
       "      <td>pre-Series B</td>\n",
       "      <td>3,300,000</td>\n",
       "    </tr>\n",
       "  </tbody>\n",
       "</table>\n",
       "</div>"
      ],
      "text/plain": [
       "         date startup name             industry  \\\n",
       "0  15/07/2020     Flipkart           E-commerce   \n",
       "1  16/07/2020      Vedantu              EduTech   \n",
       "2  16/07/2020         Crio              EduTech   \n",
       "3  14/07/2020      goDutch              FinTech   \n",
       "4  13/07/2020     Mystifly  Airfare Marketplace   \n",
       "\n",
       "                                        sub vertical                 location  \\\n",
       "0                                         E-commerce                Bangalore   \n",
       "1                                    Online Tutoring                Bangalore   \n",
       "2                   Learning Platform for Developers                Bangalore   \n",
       "3                                     Group Payments                   Mumbai   \n",
       "4  Ticketing, Airline Retailing, and Post-Ticketi...  Singapore and Bangalore   \n",
       "\n",
       "                                           investors investment_type  \\\n",
       "0                                        Walmart Inc             M&A   \n",
       "1                                  Coatue Management        Series D   \n",
       "2                                        021 Capital    pre-Series A   \n",
       "3  Matrix India,Y Combinator, Global Founders Cap...            Seed   \n",
       "4                                   Recruit Co. Ltd.    pre-Series B   \n",
       "\n",
       "     amount(USD)  \n",
       "0  1,200,000,000  \n",
       "1    100,000,000  \n",
       "2        934,160  \n",
       "3      1,700,000  \n",
       "4      3,300,000  "
      ]
     },
     "execution_count": 10,
     "metadata": {},
     "output_type": "execute_result"
    }
   ],
   "source": [
    "fund_dict = {\"date\":date, \"startup name\": startup_name, \"industry\":industry, \"sub vertical\":sub_vertical, \n",
    "                \"location\":location, \"investors\":investors, \"investment_type\":investment_type, \"amount(USD)\":amount}\n",
    "\n",
    "fund_df = pd.DataFrame(fund_dict)\n",
    "fund_df.head()"
   ]
  },
  {
   "cell_type": "code",
   "execution_count": 13,
   "metadata": {},
   "outputs": [
    {
     "data": {
      "text/plain": [
       "(33, 8)"
      ]
     },
     "execution_count": 13,
     "metadata": {},
     "output_type": "execute_result"
    }
   ],
   "source": [
    "fund_df.shape"
   ]
  },
  {
   "cell_type": "markdown",
   "metadata": {},
   "source": [
    "### 7. fetching the best gaming laptop from digit.in"
   ]
  },
  {
   "cell_type": "code",
   "execution_count": 7,
   "metadata": {},
   "outputs": [],
   "source": [
    "driver = webdriver.Chrome('chromedriver')\n",
    "driver.get(\"https://www.digit.in/top-products/best-gaming-laptops-40.html\")\n",
    "time.sleep(10)"
   ]
  },
  {
   "cell_type": "code",
   "execution_count": 8,
   "metadata": {},
   "outputs": [],
   "source": [
    "title = driver.find_elements_by_xpath(\"//h3\")\n",
    "table = driver.find_elements_by_xpath(\"//table[@id='summtable']/tbody/tr/td[@class='smprice']\")\n",
    "price = [lap.text for lap in table]"
   ]
  },
  {
   "cell_type": "code",
   "execution_count": 10,
   "metadata": {},
   "outputs": [],
   "source": [
    "specs = driver.find_elements_by_xpath(\"//div[@class='Spcs-details']/table/tbody/tr\")\n",
    "specs = [spec.text for spec in specs if len(spec.text)>0]\n",
    "specs = [item.split(\":\") for item in specs if item !=\"SPECIFICATION\"]\n",
    "specs = [spec for spec in specs if spec[0]!=\"Price \"]"
   ]
  },
  {
   "cell_type": "code",
   "execution_count": 11,
   "metadata": {},
   "outputs": [
    {
     "data": {
      "text/html": [
       "<div>\n",
       "<style scoped>\n",
       "    .dataframe tbody tr th:only-of-type {\n",
       "        vertical-align: middle;\n",
       "    }\n",
       "\n",
       "    .dataframe tbody tr th {\n",
       "        vertical-align: top;\n",
       "    }\n",
       "\n",
       "    .dataframe thead th {\n",
       "        text-align: right;\n",
       "    }\n",
       "</style>\n",
       "<table border=\"1\" class=\"dataframe\">\n",
       "  <thead>\n",
       "    <tr style=\"text-align: right;\">\n",
       "      <th></th>\n",
       "      <th>Operating system</th>\n",
       "      <th>display</th>\n",
       "      <th>processor</th>\n",
       "      <th>memory</th>\n",
       "      <th>weight</th>\n",
       "      <th>dimension</th>\n",
       "      <th>graphic_processor</th>\n",
       "      <th>price</th>\n",
       "    </tr>\n",
       "  </thead>\n",
       "  <tbody>\n",
       "    <tr>\n",
       "      <th>0</th>\n",
       "      <td>Windows 10</td>\n",
       "      <td>15.6\" (1920 x 1080)</td>\n",
       "      <td>AMD Ryzen 9 Octa Core | 2.4 GHz</td>\n",
       "      <td>1 TB HDD/16 GBGB DDR4</td>\n",
       "      <td>2.4</td>\n",
       "      <td>363.4 x 255 x 23.9</td>\n",
       "      <td>NVIDIA GeForce RTX 3070</td>\n",
       "      <td>₹ 129,990</td>\n",
       "    </tr>\n",
       "    <tr>\n",
       "      <th>1</th>\n",
       "      <td>Windows 10</td>\n",
       "      <td>15.6\" (1920 x 1080)</td>\n",
       "      <td>Intel Core i7 11th Gen - 11375H | NA</td>\n",
       "      <td>1 TB SSD/16 GBGB DDR4</td>\n",
       "      <td>1.7</td>\n",
       "      <td>358.3 x 248 x 16.15</td>\n",
       "      <td>NVIDIA GeForce RTX 3060</td>\n",
       "      <td>₹ 134,990</td>\n",
       "    </tr>\n",
       "    <tr>\n",
       "      <th>2</th>\n",
       "      <td>Windows 10</td>\n",
       "      <td>15.6\" (2560 x 1440)</td>\n",
       "      <td>AMD Ryzen 9 Octa Core - 5900HX | 3.3 GHz</td>\n",
       "      <td>2 TB SSD/32 GBGB DDR4</td>\n",
       "      <td>2.30</td>\n",
       "      <td>354 x 259 x 22.6</td>\n",
       "      <td>NVIDIA GeForce RTX 3080</td>\n",
       "      <td>₹ 268,990</td>\n",
       "    </tr>\n",
       "    <tr>\n",
       "      <th>3</th>\n",
       "      <td>Windows 10 Home</td>\n",
       "      <td>17.3\" (1920 x 1080)</td>\n",
       "      <td>10th Gen Intel® Core™ i7-10700 | 2.90 GHz</td>\n",
       "      <td>1 TB SSD/16 GBGB DDR4</td>\n",
       "      <td>4.1</td>\n",
       "      <td>27.65 x 402.6 x 319.14</td>\n",
       "      <td>Intel® UHD Graphics 630</td>\n",
       "      <td>₹ 342,989</td>\n",
       "    </tr>\n",
       "    <tr>\n",
       "      <th>4</th>\n",
       "      <td>Windows 10 Home</td>\n",
       "      <td>15.6\" (3840 x 2160)</td>\n",
       "      <td>10th Gen Intel® Core™ i9-10980HK | NA</td>\n",
       "      <td>1 TB SSD/16 GBGB DDR4</td>\n",
       "      <td>NA</td>\n",
       "      <td>NA</td>\n",
       "      <td>NA</td>\n",
       "      <td>₹ 319,990</td>\n",
       "    </tr>\n",
       "  </tbody>\n",
       "</table>\n",
       "</div>"
      ],
      "text/plain": [
       "   Operating system               display  \\\n",
       "0        Windows 10   15.6\" (1920 x 1080)   \n",
       "1        Windows 10   15.6\" (1920 x 1080)   \n",
       "2        Windows 10   15.6\" (2560 x 1440)   \n",
       "3   Windows 10 Home   17.3\" (1920 x 1080)   \n",
       "4   Windows 10 Home   15.6\" (3840 x 2160)   \n",
       "\n",
       "                                    processor                  memory weight  \\\n",
       "0             AMD Ryzen 9 Octa Core | 2.4 GHz   1 TB HDD/16 GBGB DDR4    2.4   \n",
       "1        Intel Core i7 11th Gen - 11375H | NA   1 TB SSD/16 GBGB DDR4    1.7   \n",
       "2    AMD Ryzen 9 Octa Core - 5900HX | 3.3 GHz   2 TB SSD/32 GBGB DDR4   2.30   \n",
       "3   10th Gen Intel® Core™ i7-10700 | 2.90 GHz   1 TB SSD/16 GBGB DDR4    4.1   \n",
       "4       10th Gen Intel® Core™ i9-10980HK | NA   1 TB SSD/16 GBGB DDR4     NA   \n",
       "\n",
       "                 dimension         graphic_processor      price  \n",
       "0       363.4 x 255 x 23.9   NVIDIA GeForce RTX 3070  ₹ 129,990  \n",
       "1      358.3 x 248 x 16.15   NVIDIA GeForce RTX 3060  ₹ 134,990  \n",
       "2         354 x 259 x 22.6   NVIDIA GeForce RTX 3080  ₹ 268,990  \n",
       "3   27.65 x 402.6 x 319.14   Intel® UHD Graphics 630  ₹ 342,989  \n",
       "4                       NA                        NA  ₹ 319,990  "
      ]
     },
     "execution_count": 11,
     "metadata": {},
     "output_type": "execute_result"
    }
   ],
   "source": [
    "OS = []\n",
    "display = []\n",
    "processor = []\n",
    "memory = []\n",
    "weight = []\n",
    "dimension = []\n",
    "graphic_processor = []\n",
    "\n",
    "i = 0\n",
    "while i < len(specs):\n",
    "    OS.append(specs[i][1])\n",
    "    display.append(specs[i+1][1])\n",
    "    processor.append(specs[i+2][1])\n",
    "    memory.append(specs[i+3][1])\n",
    "    weight.append(specs[i+4][1])\n",
    "    dimension.append(specs[i+5][1])\n",
    "    graphic_processor.append(specs[i+6][1])\n",
    "    i=i+7\n",
    "    \n",
    "lap_dict = {\"Operating system\":OS, \"display\":display, \"processor\":processor,\"memory\":memory, \"weight\":weight, \"dimension\":dimension\n",
    "           ,\"graphic_processor\":graphic_processor, \"price\":price}\n",
    "\n",
    "lap_df = pd.DataFrame(lap_dict)\n",
    "lap_df.head()"
   ]
  },
  {
   "cell_type": "markdown",
   "metadata": {},
   "source": [
    "### 8. fetching billionaires from forbes"
   ]
  },
  {
   "cell_type": "code",
   "execution_count": 12,
   "metadata": {},
   "outputs": [],
   "source": [
    "bil = 'https://www.forbes.com/billionaires/'\n",
    "driver = webdriver.Chrome('chromedriver')\n",
    "driver.get(bil)\n",
    "time.sleep(10)"
   ]
  },
  {
   "cell_type": "code",
   "execution_count": 18,
   "metadata": {},
   "outputs": [],
   "source": [
    "table = driver.find_elements_by_xpath(\"//div[@class='table-row-group']/div[@class='table-row ']\")\n",
    "text = [t.text.split('\\n') for t in table]"
   ]
  },
  {
   "cell_type": "code",
   "execution_count": 21,
   "metadata": {},
   "outputs": [
    {
     "data": {
      "text/html": [
       "<div>\n",
       "<style scoped>\n",
       "    .dataframe tbody tr th:only-of-type {\n",
       "        vertical-align: middle;\n",
       "    }\n",
       "\n",
       "    .dataframe tbody tr th {\n",
       "        vertical-align: top;\n",
       "    }\n",
       "\n",
       "    .dataframe thead th {\n",
       "        text-align: right;\n",
       "    }\n",
       "</style>\n",
       "<table border=\"1\" class=\"dataframe\">\n",
       "  <thead>\n",
       "    <tr style=\"text-align: right;\">\n",
       "      <th></th>\n",
       "      <th>rank</th>\n",
       "      <th>name</th>\n",
       "      <th>net worth</th>\n",
       "      <th>age</th>\n",
       "      <th>citizenship</th>\n",
       "      <th>source</th>\n",
       "      <th>industry</th>\n",
       "    </tr>\n",
       "  </thead>\n",
       "  <tbody>\n",
       "    <tr>\n",
       "      <th>0</th>\n",
       "      <td>1.</td>\n",
       "      <td>Jeff Bezos</td>\n",
       "      <td>$177 B</td>\n",
       "      <td>57</td>\n",
       "      <td>United States</td>\n",
       "      <td>Amazon</td>\n",
       "      <td>Technology</td>\n",
       "    </tr>\n",
       "    <tr>\n",
       "      <th>1</th>\n",
       "      <td>2.</td>\n",
       "      <td>Elon Musk</td>\n",
       "      <td>$151 B</td>\n",
       "      <td>49</td>\n",
       "      <td>United States</td>\n",
       "      <td>Tesla, SpaceX</td>\n",
       "      <td>Automotive</td>\n",
       "    </tr>\n",
       "    <tr>\n",
       "      <th>2</th>\n",
       "      <td>3.</td>\n",
       "      <td>Bernard Arnault &amp; family</td>\n",
       "      <td>$150 B</td>\n",
       "      <td>72</td>\n",
       "      <td>France</td>\n",
       "      <td>LVMH</td>\n",
       "      <td>Fashion &amp; Retail</td>\n",
       "    </tr>\n",
       "    <tr>\n",
       "      <th>3</th>\n",
       "      <td>4.</td>\n",
       "      <td>Bill Gates</td>\n",
       "      <td>$124 B</td>\n",
       "      <td>65</td>\n",
       "      <td>United States</td>\n",
       "      <td>Microsoft</td>\n",
       "      <td>Technology</td>\n",
       "    </tr>\n",
       "    <tr>\n",
       "      <th>4</th>\n",
       "      <td>5.</td>\n",
       "      <td>Mark Zuckerberg</td>\n",
       "      <td>$97 B</td>\n",
       "      <td>36</td>\n",
       "      <td>United States</td>\n",
       "      <td>Facebook</td>\n",
       "      <td>Technology</td>\n",
       "    </tr>\n",
       "  </tbody>\n",
       "</table>\n",
       "</div>"
      ],
      "text/plain": [
       "  rank                      name net worth age    citizenship         source  \\\n",
       "0   1.                Jeff Bezos    $177 B  57  United States         Amazon   \n",
       "1   2.                 Elon Musk    $151 B  49  United States  Tesla, SpaceX   \n",
       "2   3.  Bernard Arnault & family    $150 B  72         France           LVMH   \n",
       "3   4.                Bill Gates    $124 B  65  United States      Microsoft   \n",
       "4   5.           Mark Zuckerberg     $97 B  36  United States       Facebook   \n",
       "\n",
       "           industry  \n",
       "0        Technology  \n",
       "1        Automotive  \n",
       "2  Fashion & Retail  \n",
       "3        Technology  \n",
       "4        Technology  "
      ]
     },
     "execution_count": 21,
     "metadata": {},
     "output_type": "execute_result"
    }
   ],
   "source": [
    "rank = []\n",
    "name = []\n",
    "net_worth = []\n",
    "age = []\n",
    "citizenship = []\n",
    "source = []\n",
    "industry = []\n",
    "\n",
    "for item in text:\n",
    "    rank.append(item[0])\n",
    "    name.append(item[1])\n",
    "    net_worth.append(item[2])\n",
    "    age.append(item[3])\n",
    "    citizenship.append(item[4])\n",
    "    source.append(item[5])\n",
    "    industry.append(item[6])\n",
    "    \n",
    "bil_dict = {\"rank\":rank, \"name\":name, \"net worth\":net_worth, \"age\":age, \"citizenship\":citizenship, \"source\":source, \"industry\":industry}\n",
    "bil_df = pd.DataFrame(bil_dict)\n",
    "bil_df.head()"
   ]
  },
  {
   "cell_type": "markdown",
   "metadata": {},
   "source": [
    "### 9. fetching comments from youtube video "
   ]
  },
  {
   "cell_type": "code",
   "execution_count": 66,
   "metadata": {},
   "outputs": [],
   "source": [
    "youtube = 'https://www.youtube.com/watch?v=lotbZQ55SgU'\n",
    "driver = webdriver.Chrome('chromedriver')\n",
    "driver.get(youtube)\n",
    "time.sleep(10)"
   ]
  },
  {
   "cell_type": "code",
   "execution_count": 67,
   "metadata": {},
   "outputs": [],
   "source": [
    "driver.execute_script(\"window.scrollTo(0,document.body.scrollHeight)\")\n",
    "content = driver.find_elements_by_id(\"content-text\")"
   ]
  },
  {
   "cell_type": "code",
   "execution_count": 79,
   "metadata": {},
   "outputs": [],
   "source": [
    "while len(comment) < 501:\n",
    "    WebDriverWait(driver, 10).until(EC.visibility_of_element_located((By.TAG_NAME, \"body\"))).send_keys(Keys.END)\n",
    "    #driver.execute_script(\"window.scrollTo(0,document.body.scrollHeight)\")\n",
    "    time.sleep(5)\n",
    "    content = driver.find_elements_by_id(\"content-text\")\n",
    "    comment = [c.text for c in content]\n",
    "    time_ago = driver.find_elements_by_xpath(\"//div[@id='header-author']/yt-formatted-string\")\n",
    "    t = [t.text for t in time_ago]"
   ]
  },
  {
   "cell_type": "code",
   "execution_count": 72,
   "metadata": {},
   "outputs": [
    {
     "data": {
      "text/plain": [
       "520"
      ]
     },
     "execution_count": 72,
     "metadata": {},
     "output_type": "execute_result"
    }
   ],
   "source": [
    "len(comment)"
   ]
  },
  {
   "cell_type": "code",
   "execution_count": 74,
   "metadata": {},
   "outputs": [],
   "source": [
    "votes = driver.find_elements_by_xpath(\"//span[@id='vote-count-middle']\")\n",
    "votes = [t.text for t in votes]\n",
    "\n",
    "for i in range(len(votes)):\n",
    "    if len(votes[i])==0:\n",
    "        votes[i]='-'"
   ]
  },
  {
   "cell_type": "code",
   "execution_count": 77,
   "metadata": {},
   "outputs": [],
   "source": [
    "n = min(len(comment), len(time_ago), len(votes))\n",
    "comment_dict = {\"comment\":comment[:n], \"time_ago\":t[:n], \"votes\":votes[:n]}"
   ]
  },
  {
   "cell_type": "code",
   "execution_count": 78,
   "metadata": {},
   "outputs": [
    {
     "data": {
      "text/html": [
       "<div>\n",
       "<style scoped>\n",
       "    .dataframe tbody tr th:only-of-type {\n",
       "        vertical-align: middle;\n",
       "    }\n",
       "\n",
       "    .dataframe tbody tr th {\n",
       "        vertical-align: top;\n",
       "    }\n",
       "\n",
       "    .dataframe thead th {\n",
       "        text-align: right;\n",
       "    }\n",
       "</style>\n",
       "<table border=\"1\" class=\"dataframe\">\n",
       "  <thead>\n",
       "    <tr style=\"text-align: right;\">\n",
       "      <th></th>\n",
       "      <th>comment</th>\n",
       "      <th>time_ago</th>\n",
       "      <th>votes</th>\n",
       "    </tr>\n",
       "  </thead>\n",
       "  <tbody>\n",
       "    <tr>\n",
       "      <th>0</th>\n",
       "      <td>Well the pyramids were built before Isaac Newt...</td>\n",
       "      <td>17K</td>\n",
       "      <td>17K</td>\n",
       "    </tr>\n",
       "    <tr>\n",
       "      <th>1</th>\n",
       "      <td>I love how a single youtuber can make all this...</td>\n",
       "      <td>1.2K</td>\n",
       "      <td>1.2K</td>\n",
       "    </tr>\n",
       "    <tr>\n",
       "      <th>2</th>\n",
       "      <td>\"Work so hard that people in the future believ...</td>\n",
       "      <td>1.5K</td>\n",
       "      <td>1.5K</td>\n",
       "    </tr>\n",
       "    <tr>\n",
       "      <th>3</th>\n",
       "      <td>Imagine how beautiful the pyramids looked like...</td>\n",
       "      <td>267</td>\n",
       "      <td>267</td>\n",
       "    </tr>\n",
       "    <tr>\n",
       "      <th>4</th>\n",
       "      <td>I love that even in this age we still can't fi...</td>\n",
       "      <td>516</td>\n",
       "      <td>516</td>\n",
       "    </tr>\n",
       "  </tbody>\n",
       "</table>\n",
       "</div>"
      ],
      "text/plain": [
       "                                             comment time_ago votes\n",
       "0  Well the pyramids were built before Isaac Newt...      17K   17K\n",
       "1  I love how a single youtuber can make all this...     1.2K  1.2K\n",
       "2  \"Work so hard that people in the future believ...     1.5K  1.5K\n",
       "3  Imagine how beautiful the pyramids looked like...      267   267\n",
       "4  I love that even in this age we still can't fi...      516   516"
      ]
     },
     "execution_count": 78,
     "metadata": {},
     "output_type": "execute_result"
    }
   ],
   "source": [
    "comment_df = pd.DataFrame(comment_dict)\n",
    "comment_df.head()"
   ]
  },
  {
   "cell_type": "code",
   "execution_count": null,
   "metadata": {},
   "outputs": [],
   "source": []
  },
  {
   "cell_type": "markdown",
   "metadata": {},
   "source": [
    "### 10. fetching hostels data"
   ]
  },
  {
   "cell_type": "code",
   "execution_count": null,
   "metadata": {},
   "outputs": [],
   "source": [
    "hostel = \"https://www.hostelworld.com/\"\n",
    "driver  = webdriver.Chrome('chromedriver')\n",
    "driver.get(hostel)\n",
    "time.sleep(5)"
   ]
  },
  {
   "cell_type": "code",
   "execution_count": null,
   "metadata": {},
   "outputs": [],
   "source": [
    "search_host = driver.find_element_by_xpath(\"//input[@placeholder = 'Where do you want to go?']\")\n",
    "search_host.clear()\n",
    "search_host.send_keys(\"london\")"
   ]
  },
  {
   "cell_type": "code",
   "execution_count": null,
   "metadata": {},
   "outputs": [],
   "source": [
    "driver.find_element_by_xpath(\"//li[@tabindex = '-1'][2]\").click()\n",
    "time.sleep(3)\n",
    "driver.find_element_by_xpath(\"//button[@id='search-button']\").click()\n",
    "time.sleep(3)"
   ]
  },
  {
   "cell_type": "code",
   "execution_count": null,
   "metadata": {},
   "outputs": [],
   "source": [
    "title = driver.find_elements_by_xpath(\"//div[@class='property']/div/h2/a\")\n",
    "title = [t.text for t in title]\n",
    "distance = driver.find_elements_by_xpath(\"//div[@class='subtitle body-3']/a/span[1]\")\n",
    "distance = [d.text.split(\"-\")[1].split()[0] for d in distance]\n"
   ]
  }
 ],
 "metadata": {
  "kernelspec": {
   "display_name": "Python 3",
   "language": "python",
   "name": "python3"
  },
  "language_info": {
   "codemirror_mode": {
    "name": "ipython",
    "version": 3
   },
   "file_extension": ".py",
   "mimetype": "text/x-python",
   "name": "python",
   "nbconvert_exporter": "python",
   "pygments_lexer": "ipython3",
   "version": "3.7.3"
  }
 },
 "nbformat": 4,
 "nbformat_minor": 4
}
