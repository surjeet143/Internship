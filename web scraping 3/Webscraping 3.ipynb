{
 "cells": [
  {
   "cell_type": "code",
   "execution_count": 5,
   "metadata": {},
   "outputs": [],
   "source": [
    "from selenium import webdriver\n",
    "from selenium.webdriver.common.keys import Keys\n",
    "import pandas as pd\n",
    "from selenium.webdriver.common.action_chains import ActionChains\n",
    "from selenium.webdriver.support.ui import WebDriverWait\n",
    "from selenium.webdriver.common.by import By\n",
    "from selenium.common.exceptions import NoSuchElementException\n",
    "import time\n",
    "from selenium.webdriver.support.ui import Select\n",
    "from selenium.webdriver.support import expected_conditions as EC"
   ]
  },
  {
   "cell_type": "markdown",
   "metadata": {},
   "source": [
    "### 1. creating search algorithm for amazon"
   ]
  },
  {
   "cell_type": "code",
   "execution_count": 41,
   "metadata": {},
   "outputs": [
    {
     "ename": "NameError",
     "evalue": "name 'EC' is not defined",
     "output_type": "error",
     "traceback": [
      "\u001b[1;31m---------------------------------------------------------------------------\u001b[0m",
      "\u001b[1;31mNameError\u001b[0m                                 Traceback (most recent call last)",
      "\u001b[1;32m<ipython-input-41-bf16288d0ef9>\u001b[0m in \u001b[0;36m<module>\u001b[1;34m\u001b[0m\n\u001b[0;32m      3\u001b[0m \u001b[1;31m#driver.get(\"https://www.amazon.in/\")\u001b[0m\u001b[1;33m\u001b[0m\u001b[1;33m\u001b[0m\u001b[1;33m\u001b[0m\u001b[0m\n\u001b[0;32m      4\u001b[0m \u001b[0mdelay\u001b[0m \u001b[1;33m=\u001b[0m \u001b[1;36m10\u001b[0m\u001b[1;33m\u001b[0m\u001b[1;33m\u001b[0m\u001b[0m\n\u001b[1;32m----> 5\u001b[1;33m \u001b[0mWebDriverWait\u001b[0m\u001b[1;33m(\u001b[0m\u001b[0mdriver\u001b[0m\u001b[1;33m,\u001b[0m \u001b[0mdelay\u001b[0m\u001b[1;33m)\u001b[0m\u001b[1;33m.\u001b[0m\u001b[0muntil\u001b[0m\u001b[1;33m(\u001b[0m\u001b[0mEC\u001b[0m\u001b[1;33m.\u001b[0m\u001b[0mpresence_of_element_located\u001b[0m\u001b[1;33m(\u001b[0m\u001b[1;33m(\u001b[0m\u001b[0mBy\u001b[0m\u001b[1;33m.\u001b[0m\u001b[0mCLASS_NAME\u001b[0m\u001b[1;33m,\u001b[0m \u001b[1;34m'nav_last'\u001b[0m\u001b[1;33m)\u001b[0m\u001b[1;33m)\u001b[0m\u001b[1;33m)\u001b[0m\u001b[1;33m\u001b[0m\u001b[1;33m\u001b[0m\u001b[0m\n\u001b[0m",
      "\u001b[1;31mNameError\u001b[0m: name 'EC' is not defined"
     ]
    }
   ],
   "source": [
    "# starting chrome \n",
    "driver = webdriver.Chrome('chromedriver')\n",
    "#driver.get(\"https://www.amazon.in/\")\n",
    "delay = 10\n",
    "WebDriverWait(driver, delay).until(EC.presence_of_element_located((By.CLASS_NAME, 'nav_last')))"
   ]
  },
  {
   "cell_type": "code",
   "execution_count": 83,
   "metadata": {},
   "outputs": [],
   "source": [
    "driver.get('http://www.amazon.in/')"
   ]
  },
  {
   "cell_type": "code",
   "execution_count": 96,
   "metadata": {},
   "outputs": [],
   "source": [
    "# navigating to search box\n",
    "search_box = driver.find_element_by_xpath(\"//input[@id = 'twotabsearchtextbox']\")\n",
    "search_box.click()\n",
    "search_box.clear()\n",
    "search_box.send_keys(\"guitar\")\n",
    "search_btn = driver.find_element_by_xpath(\"//input[@id = 'nav-search-submit-button']\")\n",
    "search_btn.click()"
   ]
  },
  {
   "cell_type": "markdown",
   "metadata": {},
   "source": [
    "### 2. scraping the data of guitars from amazon"
   ]
  },
  {
   "cell_type": "code",
   "execution_count": 97,
   "metadata": {},
   "outputs": [],
   "source": [
    "links = []\n",
    "for i in range(2):\n",
    "    link = driver.find_elements_by_xpath(\"//div[@class='a-section a-spacing-none']/div/h2/a\") \n",
    "    link = [g.get_attribute(\"href\") for g in link]\n",
    "    links = links + link\n",
    "    driver.find_element_by_xpath(\"//li[@class = 'a-last']/a\").click()\n",
    "    time.sleep(10)"
   ]
  },
  {
   "cell_type": "code",
   "execution_count": 99,
   "metadata": {},
   "outputs": [
    {
     "data": {
      "text/plain": [
       "129"
      ]
     },
     "execution_count": 99,
     "metadata": {},
     "output_type": "execute_result"
    }
   ],
   "source": [
    "len(links)"
   ]
  },
  {
   "cell_type": "code",
   "execution_count": 106,
   "metadata": {},
   "outputs": [],
   "source": [
    "title = []\n",
    "brand = []\n",
    "rating = []\n",
    "no_ratings = []\n",
    "price = []\n",
    "product_url = []\n",
    "delivery_date = []\n",
    "color = []\n",
    "material = []\n",
    "returns_policy = []\n",
    "\n",
    "for i in range(5):\n",
    "    driver.get(links[i])\n",
    "    time.sleep(5)\n",
    "    title.append(driver.find_element_by_xpath(\"//span[@id = 'productTitle']\").text)\n",
    "    brand.append(driver.find_element_by_xpath(\"//tr[@class= 'a-spacing-small']/td[2]/span\").text)\n",
    "    \n",
    "    try:\n",
    "        rating.append(driver.find_element_by_xpath(\"//span[@class='a-size-base a-nowrap']\").text.split()[0])\n",
    "    except NoSuchElementException:\n",
    "        rating.append(\"-\")\n",
    "    \n",
    "    try:\n",
    "        no_ratings.append(driver.find_element_by_xpath(\"//div[@class='a-row a-spacing-medium averageStarRatingNumerical']/span\").text.split()[0].replace(',',\"\"))\n",
    "    except NoSuchElementException:\n",
    "        no_ratings.append(\"-\")\n",
    "        \n",
    "    try:\n",
    "        price.append(driver.find_element_by_xpath(\"//span[@id='priceblock_dealprice']\").text.replace('₹',\"\"))\n",
    "    except NoSuchElementException:\n",
    "        price.append(\"-\")\n",
    "    \n",
    "    product_url.append(links[i])\n",
    "    \n",
    "    try:\n",
    "        delivery_date.append(driver.find_element_by_xpath(\"//div[@id='ddmDeliveryMessage']/b\").text)\n",
    "    except NoSuchElementException:\n",
    "        delivery_date.append(\"-\")\n",
    "        \n",
    "    try:\n",
    "        details = driver.find_elements_by_xpath(\"//tbody\")[1].text\n",
    "        color.append(details.split(\"\\n\")[1].split()[-1])\n",
    "        material.append(details.split(\"\\n\")[2].split()[-1])\n",
    "    except IndexError:\n",
    "        color.append('-')\n",
    "        material.append('-')\n",
    "        \n",
    "    try:\n",
    "        returns_policy.append(driver.find_element_by_xpath(\"//div[@id = 'RETURNS_POLICY']/span/div[2]/a\").text)\n",
    "    except NoSuchElementException:\n",
    "        returns_policy.append(\"-\")\n",
    "    \n",
    "    #rating.append(driver.find_element_by_xpath(\"//i[@class='a-icon a-icon-star a-star-4']/span\").text.split(\" \")[1])"
   ]
  },
  {
   "cell_type": "code",
   "execution_count": 107,
   "metadata": {},
   "outputs": [],
   "source": [
    "dict = {\"brand\":brand,\"title\":title,\"rating\":rating, \"no of ratings\":no_ratings, \"price\":price, \"color\":color, 'material':material, 'delivery_date':delivery_date, \"returns_policy\":returns_policy, \"product_url\":product_url}"
   ]
  },
  {
   "cell_type": "code",
   "execution_count": 108,
   "metadata": {},
   "outputs": [],
   "source": [
    "df = pd.DataFrame(dict)"
   ]
  },
  {
   "cell_type": "code",
   "execution_count": 109,
   "metadata": {},
   "outputs": [
    {
     "data": {
      "text/html": [
       "<div>\n",
       "<style scoped>\n",
       "    .dataframe tbody tr th:only-of-type {\n",
       "        vertical-align: middle;\n",
       "    }\n",
       "\n",
       "    .dataframe tbody tr th {\n",
       "        vertical-align: top;\n",
       "    }\n",
       "\n",
       "    .dataframe thead th {\n",
       "        text-align: right;\n",
       "    }\n",
       "</style>\n",
       "<table border=\"1\" class=\"dataframe\">\n",
       "  <thead>\n",
       "    <tr style=\"text-align: right;\">\n",
       "      <th></th>\n",
       "      <th>brand</th>\n",
       "      <th>title</th>\n",
       "      <th>rating</th>\n",
       "      <th>no of ratings</th>\n",
       "      <th>price</th>\n",
       "      <th>color</th>\n",
       "      <th>material</th>\n",
       "      <th>delivery_date</th>\n",
       "      <th>returns_policy</th>\n",
       "      <th>product_url</th>\n",
       "    </tr>\n",
       "  </thead>\n",
       "  <tbody>\n",
       "    <tr>\n",
       "      <th>0</th>\n",
       "      <td>Juârez</td>\n",
       "      <td>Juârez Acoustic Guitar, 38 Inch Cutaway, 038C ...</td>\n",
       "      <td>4</td>\n",
       "      <td>13319</td>\n",
       "      <td>1,999.00</td>\n",
       "      <td>Black</td>\n",
       "      <td>Wood</td>\n",
       "      <td>Thursday, Oct 28</td>\n",
       "      <td>7 Days Replacement</td>\n",
       "      <td>https://www.amazon.in/gp/slredirect/picassoRed...</td>\n",
       "    </tr>\n",
       "    <tr>\n",
       "      <th>1</th>\n",
       "      <td>Kadence</td>\n",
       "      <td>Kadence Frontier Jumbo Semi Acoustic Guitar Wi...</td>\n",
       "      <td>3.9</td>\n",
       "      <td>1042</td>\n",
       "      <td>6,599.00</td>\n",
       "      <td>-</td>\n",
       "      <td>-</td>\n",
       "      <td>Friday, Oct 29</td>\n",
       "      <td>7 Days Replacement</td>\n",
       "      <td>https://www.amazon.in/gp/slredirect/picassoRed...</td>\n",
       "    </tr>\n",
       "    <tr>\n",
       "      <th>2</th>\n",
       "      <td>JUAREZ</td>\n",
       "      <td>Juarez Acoustic Guitar Kit, 38 Inch Cutaway, 3...</td>\n",
       "      <td>4</td>\n",
       "      <td>4484</td>\n",
       "      <td>1,999.00</td>\n",
       "      <td>Sunburst</td>\n",
       "      <td>Wood</td>\n",
       "      <td>Monday, Oct 25</td>\n",
       "      <td>7 Days Replacement</td>\n",
       "      <td>https://www.amazon.in/gp/slredirect/picassoRed...</td>\n",
       "    </tr>\n",
       "    <tr>\n",
       "      <th>3</th>\n",
       "      <td>JUAREZ</td>\n",
       "      <td>Juarez Acoustic Guitar Kit, 38 Inch Cutaway, 3...</td>\n",
       "      <td>4</td>\n",
       "      <td>4349</td>\n",
       "      <td>1,999.00</td>\n",
       "      <td>Sunburst</td>\n",
       "      <td>Wood</td>\n",
       "      <td>Thursday, Oct 28</td>\n",
       "      <td>7 Days Replacement</td>\n",
       "      <td>https://www.amazon.in/gp/slredirect/picassoRed...</td>\n",
       "    </tr>\n",
       "    <tr>\n",
       "      <th>4</th>\n",
       "      <td>Juârez</td>\n",
       "      <td>Juârez Acoustic Guitar, 38 Inch Cutaway, 038C ...</td>\n",
       "      <td>4</td>\n",
       "      <td>13319</td>\n",
       "      <td>1,999.00</td>\n",
       "      <td>Black</td>\n",
       "      <td>Wood</td>\n",
       "      <td>Thursday, Oct 28</td>\n",
       "      <td>7 Days Replacement</td>\n",
       "      <td>https://www.amazon.in/Juarez-Acoustic-Cutaway-...</td>\n",
       "    </tr>\n",
       "  </tbody>\n",
       "</table>\n",
       "</div>"
      ],
      "text/plain": [
       "     brand                                              title rating  \\\n",
       "0   Juârez  Juârez Acoustic Guitar, 38 Inch Cutaway, 038C ...      4   \n",
       "1  Kadence  Kadence Frontier Jumbo Semi Acoustic Guitar Wi...    3.9   \n",
       "2   JUAREZ  Juarez Acoustic Guitar Kit, 38 Inch Cutaway, 3...      4   \n",
       "3   JUAREZ  Juarez Acoustic Guitar Kit, 38 Inch Cutaway, 3...      4   \n",
       "4   Juârez  Juârez Acoustic Guitar, 38 Inch Cutaway, 038C ...      4   \n",
       "\n",
       "  no of ratings     price     color material     delivery_date  \\\n",
       "0         13319  1,999.00     Black     Wood  Thursday, Oct 28   \n",
       "1          1042  6,599.00         -        -    Friday, Oct 29   \n",
       "2          4484  1,999.00  Sunburst     Wood    Monday, Oct 25   \n",
       "3          4349  1,999.00  Sunburst     Wood  Thursday, Oct 28   \n",
       "4         13319  1,999.00     Black     Wood  Thursday, Oct 28   \n",
       "\n",
       "       returns_policy                                        product_url  \n",
       "0  7 Days Replacement  https://www.amazon.in/gp/slredirect/picassoRed...  \n",
       "1  7 Days Replacement  https://www.amazon.in/gp/slredirect/picassoRed...  \n",
       "2  7 Days Replacement  https://www.amazon.in/gp/slredirect/picassoRed...  \n",
       "3  7 Days Replacement  https://www.amazon.in/gp/slredirect/picassoRed...  \n",
       "4  7 Days Replacement  https://www.amazon.in/Juarez-Acoustic-Cutaway-...  "
      ]
     },
     "execution_count": 109,
     "metadata": {},
     "output_type": "execute_result"
    }
   ],
   "source": [
    "df.head()"
   ]
  },
  {
   "cell_type": "markdown",
   "metadata": {},
   "source": [
    "### 3. Accessing the search bar on google image"
   ]
  },
  {
   "cell_type": "code",
   "execution_count": 57,
   "metadata": {},
   "outputs": [],
   "source": [
    "driver = webdriver.Chrome('chromedriver')"
   ]
  },
  {
   "cell_type": "markdown",
   "metadata": {},
   "source": [
    "#### 1. fruits"
   ]
  },
  {
   "cell_type": "code",
   "execution_count": 82,
   "metadata": {},
   "outputs": [],
   "source": [
    "# finding the search box and searching the key words\n",
    "driver.get('https://images.google.com/')\n",
    "search_box = driver.find_element_by_xpath(\"//input[@class='gLFyf gsfi']\")\n",
    "search_box.click()\n",
    "search_box.clear()\n",
    "search_box.send_keys(\"fruits\")\n",
    "search_box.submit()\n",
    "time.sleep(3)\n",
    "for i in range(2):\n",
    "    driver.execute_script(\"window.scrollTo(0,document.body.scrollHeight)\") #scrolling down the page\n",
    "    time.sleep(3)"
   ]
  },
  {
   "cell_type": "code",
   "execution_count": 83,
   "metadata": {},
   "outputs": [
    {
     "data": {
      "text/plain": [
       "200"
      ]
     },
     "execution_count": 83,
     "metadata": {},
     "output_type": "execute_result"
    }
   ],
   "source": [
    "fruit_img = driver.find_elements_by_xpath(\"//div[@class = 'bRMDJf islir']/img\")\n",
    "len(fruit_img)"
   ]
  },
  {
   "cell_type": "code",
   "execution_count": 85,
   "metadata": {},
   "outputs": [
    {
     "data": {
      "text/html": [
       "<div>\n",
       "<style scoped>\n",
       "    .dataframe tbody tr th:only-of-type {\n",
       "        vertical-align: middle;\n",
       "    }\n",
       "\n",
       "    .dataframe tbody tr th {\n",
       "        vertical-align: top;\n",
       "    }\n",
       "\n",
       "    .dataframe thead th {\n",
       "        text-align: right;\n",
       "    }\n",
       "</style>\n",
       "<table border=\"1\" class=\"dataframe\">\n",
       "  <thead>\n",
       "    <tr style=\"text-align: right;\">\n",
       "      <th></th>\n",
       "      <th>fruit image url</th>\n",
       "    </tr>\n",
       "  </thead>\n",
       "  <tbody>\n",
       "    <tr>\n",
       "      <th>0</th>\n",
       "      <td>data:image/jpeg;base64,/9j/4AAQSkZJRgABAQAAAQA...</td>\n",
       "    </tr>\n",
       "    <tr>\n",
       "      <th>1</th>\n",
       "      <td>data:image/jpeg;base64,/9j/4AAQSkZJRgABAQAAAQA...</td>\n",
       "    </tr>\n",
       "    <tr>\n",
       "      <th>2</th>\n",
       "      <td>data:image/jpeg;base64,/9j/4AAQSkZJRgABAQAAAQA...</td>\n",
       "    </tr>\n",
       "    <tr>\n",
       "      <th>3</th>\n",
       "      <td>data:image/jpeg;base64,/9j/4AAQSkZJRgABAQAAAQA...</td>\n",
       "    </tr>\n",
       "    <tr>\n",
       "      <th>4</th>\n",
       "      <td>data:image/jpeg;base64,/9j/4AAQSkZJRgABAQAAAQA...</td>\n",
       "    </tr>\n",
       "  </tbody>\n",
       "</table>\n",
       "</div>"
      ],
      "text/plain": [
       "                                     fruit image url\n",
       "0  data:image/jpeg;base64,/9j/4AAQSkZJRgABAQAAAQA...\n",
       "1  data:image/jpeg;base64,/9j/4AAQSkZJRgABAQAAAQA...\n",
       "2  data:image/jpeg;base64,/9j/4AAQSkZJRgABAQAAAQA...\n",
       "3  data:image/jpeg;base64,/9j/4AAQSkZJRgABAQAAAQA...\n",
       "4  data:image/jpeg;base64,/9j/4AAQSkZJRgABAQAAAQA..."
      ]
     },
     "execution_count": 85,
     "metadata": {},
     "output_type": "execute_result"
    }
   ],
   "source": [
    "fruit_img_url = [image.get_attribute(\"src\") for image in fruit_img][:100]\n",
    "fruit_df= pd.DataFrame({\"fruit image url\":fruit_img_url})\n",
    "fruit_df.head()"
   ]
  },
  {
   "cell_type": "markdown",
   "metadata": {},
   "source": [
    "#### 2. cars"
   ]
  },
  {
   "cell_type": "code",
   "execution_count": 73,
   "metadata": {},
   "outputs": [],
   "source": [
    "driver.get('https://images.google.com/')\n",
    "time.sleep(3)\n",
    "search_box = driver.find_element_by_xpath(\"//input[@class='gLFyf gsfi']\")\n",
    "search_box.click()\n",
    "search_box.clear()\n",
    "search_box.send_keys(\"cars\")\n",
    "search_box.submit()\n",
    "time.sleep(3)\n",
    "for i in range(2):\n",
    "    driver.execute_script(\"window.scrollTo(0,document.body.scrollHeight)\") #scrolling down the page\n",
    "    time.sleep(3)"
   ]
  },
  {
   "cell_type": "code",
   "execution_count": 75,
   "metadata": {},
   "outputs": [
    {
     "data": {
      "text/plain": [
       "200"
      ]
     },
     "execution_count": 75,
     "metadata": {},
     "output_type": "execute_result"
    }
   ],
   "source": [
    "car_img = driver.find_elements_by_xpath(\"//div[@class = 'bRMDJf islir']/img\")\n",
    "len(car_img)"
   ]
  },
  {
   "cell_type": "code",
   "execution_count": 78,
   "metadata": {},
   "outputs": [],
   "source": [
    "car_img_url = [image.get_attribute(\"src\") for image in img][:100]\n",
    "car_df= pd.DataFrame({\"car image url\":car_img_url})"
   ]
  },
  {
   "cell_type": "code",
   "execution_count": 81,
   "metadata": {},
   "outputs": [
    {
     "data": {
      "text/html": [
       "<div>\n",
       "<style scoped>\n",
       "    .dataframe tbody tr th:only-of-type {\n",
       "        vertical-align: middle;\n",
       "    }\n",
       "\n",
       "    .dataframe tbody tr th {\n",
       "        vertical-align: top;\n",
       "    }\n",
       "\n",
       "    .dataframe thead th {\n",
       "        text-align: right;\n",
       "    }\n",
       "</style>\n",
       "<table border=\"1\" class=\"dataframe\">\n",
       "  <thead>\n",
       "    <tr style=\"text-align: right;\">\n",
       "      <th></th>\n",
       "      <th>car image url</th>\n",
       "    </tr>\n",
       "  </thead>\n",
       "  <tbody>\n",
       "    <tr>\n",
       "      <th>0</th>\n",
       "      <td>data:image/jpeg;base64,/9j/4AAQSkZJRgABAQAAAQA...</td>\n",
       "    </tr>\n",
       "    <tr>\n",
       "      <th>1</th>\n",
       "      <td>data:image/jpeg;base64,/9j/4AAQSkZJRgABAQAAAQA...</td>\n",
       "    </tr>\n",
       "    <tr>\n",
       "      <th>2</th>\n",
       "      <td>data:image/jpeg;base64,/9j/4AAQSkZJRgABAQAAAQA...</td>\n",
       "    </tr>\n",
       "    <tr>\n",
       "      <th>3</th>\n",
       "      <td>data:image/jpeg;base64,/9j/4AAQSkZJRgABAQAAAQA...</td>\n",
       "    </tr>\n",
       "    <tr>\n",
       "      <th>4</th>\n",
       "      <td>data:image/jpeg;base64,/9j/4AAQSkZJRgABAQAAAQA...</td>\n",
       "    </tr>\n",
       "  </tbody>\n",
       "</table>\n",
       "</div>"
      ],
      "text/plain": [
       "                                       car image url\n",
       "0  data:image/jpeg;base64,/9j/4AAQSkZJRgABAQAAAQA...\n",
       "1  data:image/jpeg;base64,/9j/4AAQSkZJRgABAQAAAQA...\n",
       "2  data:image/jpeg;base64,/9j/4AAQSkZJRgABAQAAAQA...\n",
       "3  data:image/jpeg;base64,/9j/4AAQSkZJRgABAQAAAQA...\n",
       "4  data:image/jpeg;base64,/9j/4AAQSkZJRgABAQAAAQA..."
      ]
     },
     "execution_count": 81,
     "metadata": {},
     "output_type": "execute_result"
    }
   ],
   "source": [
    "car_df.head()"
   ]
  },
  {
   "cell_type": "code",
   "execution_count": null,
   "metadata": {},
   "outputs": [],
   "source": []
  },
  {
   "cell_type": "markdown",
   "metadata": {},
   "source": [
    "#### 3. machine learning"
   ]
  },
  {
   "cell_type": "code",
   "execution_count": 86,
   "metadata": {},
   "outputs": [],
   "source": [
    "driver.get('https://images.google.com/')\n",
    "time.sleep(3)\n",
    "search_box = driver.find_element_by_xpath(\"//input[@class='gLFyf gsfi']\")\n",
    "search_box.click()\n",
    "search_box.clear()\n",
    "search_box.send_keys(\"Machine learning\")\n",
    "search_box.submit()\n",
    "time.sleep(3)\n",
    "for i in range(2):\n",
    "    driver.execute_script(\"window.scrollTo(0,document.body.scrollHeight)\") #scrolling down the page\n",
    "    time.sleep(3)"
   ]
  },
  {
   "cell_type": "code",
   "execution_count": 88,
   "metadata": {},
   "outputs": [
    {
     "data": {
      "text/html": [
       "<div>\n",
       "<style scoped>\n",
       "    .dataframe tbody tr th:only-of-type {\n",
       "        vertical-align: middle;\n",
       "    }\n",
       "\n",
       "    .dataframe tbody tr th {\n",
       "        vertical-align: top;\n",
       "    }\n",
       "\n",
       "    .dataframe thead th {\n",
       "        text-align: right;\n",
       "    }\n",
       "</style>\n",
       "<table border=\"1\" class=\"dataframe\">\n",
       "  <thead>\n",
       "    <tr style=\"text-align: right;\">\n",
       "      <th></th>\n",
       "      <th>ML image url</th>\n",
       "    </tr>\n",
       "  </thead>\n",
       "  <tbody>\n",
       "    <tr>\n",
       "      <th>0</th>\n",
       "      <td>data:image/jpeg;base64,/9j/4AAQSkZJRgABAQAAAQA...</td>\n",
       "    </tr>\n",
       "    <tr>\n",
       "      <th>1</th>\n",
       "      <td>data:image/jpeg;base64,/9j/4AAQSkZJRgABAQAAAQA...</td>\n",
       "    </tr>\n",
       "    <tr>\n",
       "      <th>2</th>\n",
       "      <td>data:image/jpeg;base64,/9j/4AAQSkZJRgABAQAAAQA...</td>\n",
       "    </tr>\n",
       "    <tr>\n",
       "      <th>3</th>\n",
       "      <td>data:image/jpeg;base64,/9j/4AAQSkZJRgABAQAAAQA...</td>\n",
       "    </tr>\n",
       "    <tr>\n",
       "      <th>4</th>\n",
       "      <td>data:image/jpeg;base64,/9j/4AAQSkZJRgABAQAAAQA...</td>\n",
       "    </tr>\n",
       "  </tbody>\n",
       "</table>\n",
       "</div>"
      ],
      "text/plain": [
       "                                        ML image url\n",
       "0  data:image/jpeg;base64,/9j/4AAQSkZJRgABAQAAAQA...\n",
       "1  data:image/jpeg;base64,/9j/4AAQSkZJRgABAQAAAQA...\n",
       "2  data:image/jpeg;base64,/9j/4AAQSkZJRgABAQAAAQA...\n",
       "3  data:image/jpeg;base64,/9j/4AAQSkZJRgABAQAAAQA...\n",
       "4  data:image/jpeg;base64,/9j/4AAQSkZJRgABAQAAAQA..."
      ]
     },
     "execution_count": 88,
     "metadata": {},
     "output_type": "execute_result"
    }
   ],
   "source": [
    "ML_img = driver.find_elements_by_xpath(\"//div[@class = 'bRMDJf islir']/img\")\n",
    "ML_img_url = [image.get_attribute(\"src\") for image in ML_img][:100]\n",
    "ML_df= pd.DataFrame({\"ML image url\":ML_img_url})\n",
    "ML_df.head()"
   ]
  },
  {
   "cell_type": "markdown",
   "metadata": {},
   "source": [
    "### 4. fetching the details of a smartphone from flipkart"
   ]
  },
  {
   "cell_type": "code",
   "execution_count": 2,
   "metadata": {},
   "outputs": [],
   "source": [
    "driver = webdriver.Chrome('chromedriver')\n",
    "driver.get('http://www.flipkart.com/')"
   ]
  },
  {
   "cell_type": "code",
   "execution_count": 3,
   "metadata": {},
   "outputs": [],
   "source": [
    "search_box = driver.find_element_by_xpath(\"//input[@class = '_3704LK']\")\n",
    "search_box.send_keys(\"Redmi note 10s\")\n",
    "search_box.submit()\n",
    "time.sleep(3)"
   ]
  },
  {
   "cell_type": "code",
   "execution_count": 4,
   "metadata": {},
   "outputs": [],
   "source": [
    "phones = driver.find_elements_by_xpath(\"//a[@class='_1fQZEK']\")\n",
    "phone_links = [phone.get_attribute('href') for phone in phones] # collecting links"
   ]
  },
  {
   "cell_type": "code",
   "execution_count": 14,
   "metadata": {},
   "outputs": [],
   "source": [
    "brand = []\n",
    "name = []\n",
    "color = []\n",
    "RAM = []\n",
    "storage = []\n",
    "camera1 = []\n",
    "camera2 = []\n",
    "dis_size = []\n",
    "dis_res = []\n",
    "pros = []\n",
    "pros_c = []\n",
    "battery = []\n",
    "price = []\n",
    "url = []\n",
    "\n",
    "for i in range(len(phone_links)):\n",
    "#for i in range(4):\n",
    "    driver.get(phone_links[i])\n",
    "    time.sleep(3)\n",
    "    url.append(phone_links[i])                                                          # adding url\n",
    "    brand.append(\"REDMI\")\n",
    "    title = driver.find_element_by_xpath(\"//h1[@class = 'yhB1nd']/span\")\n",
    "    name.append(\" \".join((title.text.split(\"(\")[0].split())[1:]))                       # name\n",
    "    color.append(title.text.split(\"(\")[1].split(\",\")[0])                                # color\n",
    "    price.append(driver.find_element_by_xpath(\"//div[@class = '_30jeq3 _16Jk6d']\").text)     # price\n",
    "    detail = driver.find_element_by_xpath(\"//div[@class = '_2418kt']\")                  \n",
    "    RAM.append(\" \".join(detail.text.split(\"\\n\")[0].split(\"|\")[0].split()[:2]))          # RAM\n",
    "    storage.append(\" \".join(detail.text.split(\"\\n\")[0].split(\"|\")[1].split()[:2]))      # storage\n",
    "    dis_size.append(detail.text.split(\"\\n\")[1].split(\"(\")[0].strip())                   # display size\n",
    "    battery.append(detail.text.split(\"\\n\")[3].replace(\"Battery\",\"\").strip())            # battery capacity\n",
    "    driver.find_element_by_xpath(\"//button[@class='_2KpZ6l _1FH0tX']\").click()          # clicking on \"Read more\"\n",
    "    time.sleep(3)\n",
    "    dis_res.append(driver.find_element_by_xpath(\"//div[@class='_3k-BhJ'][2]/table/tbody\").text.split(\"\\n\")[3])    # display resolution\n",
    "    OS = driver.find_element_by_xpath(\"//div[@class='_3k-BhJ'][3]/table/tbody\").text.split('\\n') \n",
    "    keys = []\n",
    "    values = []\n",
    "    for i in range(len(OS)):\n",
    "        if i%2==0:\n",
    "            keys.append(OS[i])\n",
    "        else:\n",
    "            values.append(OS[i])\n",
    "    OSs = dict(zip(keys, values))\n",
    "    try:\n",
    "        pros.append(OSs[\"Processor Type\"])                                              # processor\n",
    "    except:\n",
    "        pros.append(\"-\")\n",
    "    pros_c.append(OSs[\"Processor Core\"])                                                # cores\n",
    "    CAM = driver.find_element_by_xpath(\"//div[@class='_3k-BhJ'][5]/table/tbody\").text.split('\\n')\n",
    "    keys2 = []\n",
    "    values2  = []\n",
    "    for i in range(len(CAM)):\n",
    "        if i%2==0:\n",
    "            keys2.append(CAM[i])\n",
    "        else:\n",
    "            values2.append(CAM[i])\n",
    "    CAMs = dict(zip(keys2, values2))\n",
    "    camera1.append(CAMs['Primary Camera'])                                              # primary camera\n",
    "    try:\n",
    "        camera2.append(CAMs['Secondary Camera'])                                        # secondary camera\n",
    "    except:\n",
    "        camera2.append(\"-\")"
   ]
  },
  {
   "cell_type": "code",
   "execution_count": 15,
   "metadata": {},
   "outputs": [],
   "source": [
    "dictionary = {\"brand\":brand, \"color\":color,\"name\":name, \"RAM\":RAM, \"Storage\":storage, \"dis_size\":dis_size, \"display resolution\": dis_res,\"battery\":battery,\n",
    "             \"processor\": pros, \"cores\":pros_c,\"primary camera\": camera1, \"secondary camera\": camera2, \"price\":price, \"url\":url}"
   ]
  },
  {
   "cell_type": "code",
   "execution_count": 16,
   "metadata": {},
   "outputs": [
    {
     "data": {
      "text/html": [
       "<div>\n",
       "<style scoped>\n",
       "    .dataframe tbody tr th:only-of-type {\n",
       "        vertical-align: middle;\n",
       "    }\n",
       "\n",
       "    .dataframe tbody tr th {\n",
       "        vertical-align: top;\n",
       "    }\n",
       "\n",
       "    .dataframe thead th {\n",
       "        text-align: right;\n",
       "    }\n",
       "</style>\n",
       "<table border=\"1\" class=\"dataframe\">\n",
       "  <thead>\n",
       "    <tr style=\"text-align: right;\">\n",
       "      <th></th>\n",
       "      <th>brand</th>\n",
       "      <th>color</th>\n",
       "      <th>name</th>\n",
       "      <th>RAM</th>\n",
       "      <th>Storage</th>\n",
       "      <th>dis_size</th>\n",
       "      <th>display resolution</th>\n",
       "      <th>battery</th>\n",
       "      <th>processor</th>\n",
       "      <th>cores</th>\n",
       "      <th>primary camera</th>\n",
       "      <th>secondary camera</th>\n",
       "      <th>price</th>\n",
       "      <th>url</th>\n",
       "    </tr>\n",
       "  </thead>\n",
       "  <tbody>\n",
       "    <tr>\n",
       "      <th>0</th>\n",
       "      <td>REDMI</td>\n",
       "      <td>Cosmic Purple</td>\n",
       "      <td>Note 10S</td>\n",
       "      <td>6 GB</td>\n",
       "      <td>64 GB</td>\n",
       "      <td>16.33 cm</td>\n",
       "      <td>2400 x 1080$$pixels</td>\n",
       "      <td>5000 mAh</td>\n",
       "      <td>MediaTek Helio G95</td>\n",
       "      <td>Octa Core</td>\n",
       "      <td>64MP + 8MP + 2MP + 2MP</td>\n",
       "      <td>13MP Front Camera</td>\n",
       "      <td>₹14,793</td>\n",
       "      <td>https://www.flipkart.com/redmi-note-10s-cosmic...</td>\n",
       "    </tr>\n",
       "    <tr>\n",
       "      <th>1</th>\n",
       "      <td>REDMI</td>\n",
       "      <td>Cosmic Purple</td>\n",
       "      <td>Note 10S</td>\n",
       "      <td>6 GB</td>\n",
       "      <td>128 GB</td>\n",
       "      <td>16.33 cm</td>\n",
       "      <td>2400 x 1080$$pixel</td>\n",
       "      <td>5000 mAh</td>\n",
       "      <td>MediaTek Helio G95</td>\n",
       "      <td>Octa Core</td>\n",
       "      <td>64MP + 8MP + 2MP + 2MP</td>\n",
       "      <td>13MP Front Camera</td>\n",
       "      <td>₹16,743</td>\n",
       "      <td>https://www.flipkart.com/redmi-note-10s-cosmic...</td>\n",
       "    </tr>\n",
       "    <tr>\n",
       "      <th>2</th>\n",
       "      <td>REDMI</td>\n",
       "      <td>Deep Sea Blue</td>\n",
       "      <td>Note 10S</td>\n",
       "      <td>6 GB</td>\n",
       "      <td>128 GB</td>\n",
       "      <td>16.33 cm</td>\n",
       "      <td>2400 x 1080 Pixels</td>\n",
       "      <td>5000 mAh</td>\n",
       "      <td>MediaTek Helio G95</td>\n",
       "      <td>Octa Core</td>\n",
       "      <td>64MP + 8MP + 2MP + 2MP</td>\n",
       "      <td>13MP Front Camera</td>\n",
       "      <td>₹16,438</td>\n",
       "      <td>https://www.flipkart.com/redmi-note-10s-deep-s...</td>\n",
       "    </tr>\n",
       "    <tr>\n",
       "      <th>3</th>\n",
       "      <td>REDMI</td>\n",
       "      <td>Frost White</td>\n",
       "      <td>Note 10S</td>\n",
       "      <td>6 GB</td>\n",
       "      <td>128 GB</td>\n",
       "      <td>16.33 cm</td>\n",
       "      <td>2400 x 1080 Pixels</td>\n",
       "      <td>5000 mAh</td>\n",
       "      <td>MediaTek Helio G95</td>\n",
       "      <td>Octa Core</td>\n",
       "      <td>64MP + 8MP + 2MP + 2MP</td>\n",
       "      <td>13MP Front Camera</td>\n",
       "      <td>₹16,345</td>\n",
       "      <td>https://www.flipkart.com/redmi-note-10s-frost-...</td>\n",
       "    </tr>\n",
       "    <tr>\n",
       "      <th>4</th>\n",
       "      <td>REDMI</td>\n",
       "      <td>Frost White</td>\n",
       "      <td>Note 10S</td>\n",
       "      <td>6 GB</td>\n",
       "      <td>64 GB</td>\n",
       "      <td>16.33 cm</td>\n",
       "      <td>2400 x 1080 Pixels</td>\n",
       "      <td>5000 mAh</td>\n",
       "      <td>MediaTek Helio G95</td>\n",
       "      <td>Octa Core</td>\n",
       "      <td>64MP + 8MP + 2MP + 2MP</td>\n",
       "      <td>13MP Front Camera</td>\n",
       "      <td>₹14,787</td>\n",
       "      <td>https://www.flipkart.com/redmi-note-10s-frost-...</td>\n",
       "    </tr>\n",
       "  </tbody>\n",
       "</table>\n",
       "</div>"
      ],
      "text/plain": [
       "   brand          color      name   RAM Storage  dis_size  \\\n",
       "0  REDMI  Cosmic Purple  Note 10S  6 GB   64 GB  16.33 cm   \n",
       "1  REDMI  Cosmic Purple  Note 10S  6 GB  128 GB  16.33 cm   \n",
       "2  REDMI  Deep Sea Blue  Note 10S  6 GB  128 GB  16.33 cm   \n",
       "3  REDMI    Frost White  Note 10S  6 GB  128 GB  16.33 cm   \n",
       "4  REDMI    Frost White  Note 10S  6 GB   64 GB  16.33 cm   \n",
       "\n",
       "    display resolution   battery           processor      cores  \\\n",
       "0  2400 x 1080$$pixels  5000 mAh  MediaTek Helio G95  Octa Core   \n",
       "1   2400 x 1080$$pixel  5000 mAh  MediaTek Helio G95  Octa Core   \n",
       "2   2400 x 1080 Pixels  5000 mAh  MediaTek Helio G95  Octa Core   \n",
       "3   2400 x 1080 Pixels  5000 mAh  MediaTek Helio G95  Octa Core   \n",
       "4   2400 x 1080 Pixels  5000 mAh  MediaTek Helio G95  Octa Core   \n",
       "\n",
       "           primary camera   secondary camera    price  \\\n",
       "0  64MP + 8MP + 2MP + 2MP  13MP Front Camera  ₹14,793   \n",
       "1  64MP + 8MP + 2MP + 2MP  13MP Front Camera  ₹16,743   \n",
       "2  64MP + 8MP + 2MP + 2MP  13MP Front Camera  ₹16,438   \n",
       "3  64MP + 8MP + 2MP + 2MP  13MP Front Camera  ₹16,345   \n",
       "4  64MP + 8MP + 2MP + 2MP  13MP Front Camera  ₹14,787   \n",
       "\n",
       "                                                 url  \n",
       "0  https://www.flipkart.com/redmi-note-10s-cosmic...  \n",
       "1  https://www.flipkart.com/redmi-note-10s-cosmic...  \n",
       "2  https://www.flipkart.com/redmi-note-10s-deep-s...  \n",
       "3  https://www.flipkart.com/redmi-note-10s-frost-...  \n",
       "4  https://www.flipkart.com/redmi-note-10s-frost-...  "
      ]
     },
     "execution_count": 16,
     "metadata": {},
     "output_type": "execute_result"
    }
   ],
   "source": [
    "df = pd.DataFrame(dictionary)\n",
    "df.head()"
   ]
  },
  {
   "cell_type": "code",
   "execution_count": 24,
   "metadata": {},
   "outputs": [],
   "source": [
    "# saving as CSV\n",
    "df.to_csv(\"smartphone.csv\")"
   ]
  },
  {
   "cell_type": "markdown",
   "metadata": {},
   "source": [
    "### 5. fetcing the coordinates of a city from google map"
   ]
  },
  {
   "cell_type": "code",
   "execution_count": 17,
   "metadata": {},
   "outputs": [],
   "source": [
    "driver = webdriver.Chrome('chromedriver')\n",
    "driver.get(\"https://www.google.co.in/maps/\")"
   ]
  },
  {
   "cell_type": "code",
   "execution_count": 22,
   "metadata": {},
   "outputs": [],
   "source": [
    "cities = [\"chandigarh\", \"delhi\", \"bangalore\", \"abohar\", \"shimla\", \"kanpur\", \"mumbai\"] # list of some cities\n",
    "coordinates = []\n",
    "for city in cities:\n",
    "    map_search = driver.find_element_by_xpath(\"//div[@id='gs_lc50']/input[1]\")\n",
    "    map_search.clear()\n",
    "    map_search.send_keys(city)\n",
    "    driver.find_element_by_xpath(\"//button[@id='searchbox-searchbutton']\").click()\n",
    "    time.sleep(10)\n",
    "    current_url = driver.current_url                                            # fetching the curent url\n",
    "    coordinates.append(current_url.split(\"@\")[1].split(\"/\")[0].split(\",\")[:2])  # extrarcting the coordinates from url"
   ]
  },
  {
   "cell_type": "code",
   "execution_count": 26,
   "metadata": {},
   "outputs": [
    {
     "data": {
      "text/html": [
       "<div>\n",
       "<style scoped>\n",
       "    .dataframe tbody tr th:only-of-type {\n",
       "        vertical-align: middle;\n",
       "    }\n",
       "\n",
       "    .dataframe tbody tr th {\n",
       "        vertical-align: top;\n",
       "    }\n",
       "\n",
       "    .dataframe thead th {\n",
       "        text-align: right;\n",
       "    }\n",
       "</style>\n",
       "<table border=\"1\" class=\"dataframe\">\n",
       "  <thead>\n",
       "    <tr style=\"text-align: right;\">\n",
       "      <th></th>\n",
       "      <th>latitude</th>\n",
       "      <th>longitude</th>\n",
       "    </tr>\n",
       "  </thead>\n",
       "  <tbody>\n",
       "    <tr>\n",
       "      <th>chandigarh</th>\n",
       "      <td>30.7352102</td>\n",
       "      <td>76.693488</td>\n",
       "    </tr>\n",
       "    <tr>\n",
       "      <th>delhi</th>\n",
       "      <td>28.6472799</td>\n",
       "      <td>76.8130611</td>\n",
       "    </tr>\n",
       "    <tr>\n",
       "      <th>bangalore</th>\n",
       "      <td>28.6472799</td>\n",
       "      <td>76.8130611</td>\n",
       "    </tr>\n",
       "    <tr>\n",
       "      <th>abohar</th>\n",
       "      <td>28.6472799</td>\n",
       "      <td>76.8130611</td>\n",
       "    </tr>\n",
       "    <tr>\n",
       "      <th>shimla</th>\n",
       "      <td>28.6472799</td>\n",
       "      <td>76.8130611</td>\n",
       "    </tr>\n",
       "  </tbody>\n",
       "</table>\n",
       "</div>"
      ],
      "text/plain": [
       "              latitude   longitude\n",
       "chandigarh  30.7352102   76.693488\n",
       "delhi       28.6472799  76.8130611\n",
       "bangalore   28.6472799  76.8130611\n",
       "abohar      28.6472799  76.8130611\n",
       "shimla      28.6472799  76.8130611"
      ]
     },
     "execution_count": 26,
     "metadata": {},
     "output_type": "execute_result"
    }
   ],
   "source": [
    "map_dictionary = dict(zip(cities, coordinates))\n",
    "city_map_df = pd.DataFrame(map_dictionary).T\n",
    "city_map_df.columns = [\"latitude\", \"longitude\"]\n",
    "city_map_df.head()"
   ]
  },
  {
   "cell_type": "markdown",
   "metadata": {},
   "source": [
    "### 6. fetching the funding deal data"
   ]
  },
  {
   "cell_type": "code",
   "execution_count": 8,
   "metadata": {},
   "outputs": [],
   "source": [
    "driver = webdriver.Chrome('chromedriver')\n",
    "driver.get(\"https://trak.in/india-startup-funding-investment-2015/\")\n",
    "time.sleep(10)\n",
    "for i in range(3):\n",
    "    x = i+48\n",
    "    name = \"tablepress-\"+str(x)+\"_length\"\n",
    "    select = Select(driver.find_element_by_name(name))                        # selecting maximum from dropdown\n",
    "    select.select_by_value('100')\n",
    "t1 = driver.find_elements_by_xpath(\"//table[@id='tablepress-48']/tbody/tr/td\")# fetching the table wise data\n",
    "t2 = driver.find_elements_by_xpath(\"//table[@id='tablepress-49']/tbody/tr/td\")\n",
    "t3 = driver.find_elements_by_xpath(\"//table[@id='tablepress-50']/tbody/tr/td\")\n",
    "\n",
    "raw_data = t1+t2+t3                                                           # concatenating the raw data\n",
    "table = [r.text for r in raw_data]                                            # fetching the text data"
   ]
  },
  {
   "cell_type": "code",
   "execution_count": 9,
   "metadata": {},
   "outputs": [],
   "source": [
    "date = []\n",
    "startup_name = []\n",
    "industry = []\n",
    "sub_vertical = []\n",
    "location = []\n",
    "investors = []\n",
    "investment_type = []\n",
    "amount = []\n",
    "\n",
    "# diversifying the series of data into their respective column\n",
    "i = 0\n",
    "while i < len(table):\n",
    "    date.append(table[i+1])\n",
    "    startup_name.append(table[i+2])\n",
    "    industry.append(table[i+3])\n",
    "    sub_vertical.append(table[i+4])\n",
    "    location.append(table[i+5])\n",
    "    investors.append(table[i+6])\n",
    "    investment_type.append(table[i+7])\n",
    "    amount.append(table[i+8])\n",
    "    i = i+9"
   ]
  },
  {
   "cell_type": "code",
   "execution_count": 10,
   "metadata": {},
   "outputs": [
    {
     "data": {
      "text/html": [
       "<div>\n",
       "<style scoped>\n",
       "    .dataframe tbody tr th:only-of-type {\n",
       "        vertical-align: middle;\n",
       "    }\n",
       "\n",
       "    .dataframe tbody tr th {\n",
       "        vertical-align: top;\n",
       "    }\n",
       "\n",
       "    .dataframe thead th {\n",
       "        text-align: right;\n",
       "    }\n",
       "</style>\n",
       "<table border=\"1\" class=\"dataframe\">\n",
       "  <thead>\n",
       "    <tr style=\"text-align: right;\">\n",
       "      <th></th>\n",
       "      <th>date</th>\n",
       "      <th>startup name</th>\n",
       "      <th>industry</th>\n",
       "      <th>sub vertical</th>\n",
       "      <th>location</th>\n",
       "      <th>investors</th>\n",
       "      <th>investment_type</th>\n",
       "      <th>amount(USD)</th>\n",
       "    </tr>\n",
       "  </thead>\n",
       "  <tbody>\n",
       "    <tr>\n",
       "      <th>0</th>\n",
       "      <td>15/07/2020</td>\n",
       "      <td>Flipkart</td>\n",
       "      <td>E-commerce</td>\n",
       "      <td>E-commerce</td>\n",
       "      <td>Bangalore</td>\n",
       "      <td>Walmart Inc</td>\n",
       "      <td>M&amp;A</td>\n",
       "      <td>1,200,000,000</td>\n",
       "    </tr>\n",
       "    <tr>\n",
       "      <th>1</th>\n",
       "      <td>16/07/2020</td>\n",
       "      <td>Vedantu</td>\n",
       "      <td>EduTech</td>\n",
       "      <td>Online Tutoring</td>\n",
       "      <td>Bangalore</td>\n",
       "      <td>Coatue Management</td>\n",
       "      <td>Series D</td>\n",
       "      <td>100,000,000</td>\n",
       "    </tr>\n",
       "    <tr>\n",
       "      <th>2</th>\n",
       "      <td>16/07/2020</td>\n",
       "      <td>Crio</td>\n",
       "      <td>EduTech</td>\n",
       "      <td>Learning Platform for Developers</td>\n",
       "      <td>Bangalore</td>\n",
       "      <td>021 Capital</td>\n",
       "      <td>pre-Series A</td>\n",
       "      <td>934,160</td>\n",
       "    </tr>\n",
       "    <tr>\n",
       "      <th>3</th>\n",
       "      <td>14/07/2020</td>\n",
       "      <td>goDutch</td>\n",
       "      <td>FinTech</td>\n",
       "      <td>Group Payments</td>\n",
       "      <td>Mumbai</td>\n",
       "      <td>Matrix India,Y Combinator, Global Founders Cap...</td>\n",
       "      <td>Seed</td>\n",
       "      <td>1,700,000</td>\n",
       "    </tr>\n",
       "    <tr>\n",
       "      <th>4</th>\n",
       "      <td>13/07/2020</td>\n",
       "      <td>Mystifly</td>\n",
       "      <td>Airfare Marketplace</td>\n",
       "      <td>Ticketing, Airline Retailing, and Post-Ticketi...</td>\n",
       "      <td>Singapore and Bangalore</td>\n",
       "      <td>Recruit Co. Ltd.</td>\n",
       "      <td>pre-Series B</td>\n",
       "      <td>3,300,000</td>\n",
       "    </tr>\n",
       "  </tbody>\n",
       "</table>\n",
       "</div>"
      ],
      "text/plain": [
       "         date startup name             industry  \\\n",
       "0  15/07/2020     Flipkart           E-commerce   \n",
       "1  16/07/2020      Vedantu              EduTech   \n",
       "2  16/07/2020         Crio              EduTech   \n",
       "3  14/07/2020      goDutch              FinTech   \n",
       "4  13/07/2020     Mystifly  Airfare Marketplace   \n",
       "\n",
       "                                        sub vertical                 location  \\\n",
       "0                                         E-commerce                Bangalore   \n",
       "1                                    Online Tutoring                Bangalore   \n",
       "2                   Learning Platform for Developers                Bangalore   \n",
       "3                                     Group Payments                   Mumbai   \n",
       "4  Ticketing, Airline Retailing, and Post-Ticketi...  Singapore and Bangalore   \n",
       "\n",
       "                                           investors investment_type  \\\n",
       "0                                        Walmart Inc             M&A   \n",
       "1                                  Coatue Management        Series D   \n",
       "2                                        021 Capital    pre-Series A   \n",
       "3  Matrix India,Y Combinator, Global Founders Cap...            Seed   \n",
       "4                                   Recruit Co. Ltd.    pre-Series B   \n",
       "\n",
       "     amount(USD)  \n",
       "0  1,200,000,000  \n",
       "1    100,000,000  \n",
       "2        934,160  \n",
       "3      1,700,000  \n",
       "4      3,300,000  "
      ]
     },
     "execution_count": 10,
     "metadata": {},
     "output_type": "execute_result"
    }
   ],
   "source": [
    "fund_dict = {\"date\":date, \"startup name\": startup_name, \"industry\":industry, \"sub vertical\":sub_vertical, \n",
    "                \"location\":location, \"investors\":investors, \"investment_type\":investment_type, \"amount(USD)\":amount}\n",
    "\n",
    "fund_df = pd.DataFrame(fund_dict)\n",
    "fund_df.head()"
   ]
  },
  {
   "cell_type": "code",
   "execution_count": 13,
   "metadata": {},
   "outputs": [
    {
     "data": {
      "text/plain": [
       "(33, 8)"
      ]
     },
     "execution_count": 13,
     "metadata": {},
     "output_type": "execute_result"
    }
   ],
   "source": [
    "fund_df.shape"
   ]
  },
  {
   "cell_type": "markdown",
   "metadata": {},
   "source": [
    "### 7. fetching the best gaming laptop from digit.in"
   ]
  },
  {
   "cell_type": "code",
   "execution_count": 7,
   "metadata": {},
   "outputs": [],
   "source": [
    "driver = webdriver.Chrome('chromedriver')\n",
    "driver.get(\"https://www.digit.in/top-products/best-gaming-laptops-40.html\")\n",
    "time.sleep(10)"
   ]
  },
  {
   "cell_type": "code",
   "execution_count": 8,
   "metadata": {},
   "outputs": [],
   "source": [
    "title = driver.find_elements_by_xpath(\"//h3\")\n",
    "table = driver.find_elements_by_xpath(\"//table[@id='summtable']/tbody/tr/td[@class='smprice']\")\n",
    "price = [lap.text for lap in table]"
   ]
  },
  {
   "cell_type": "code",
   "execution_count": 10,
   "metadata": {},
   "outputs": [],
   "source": [
    "specs = driver.find_elements_by_xpath(\"//div[@class='Spcs-details']/table/tbody/tr\")\n",
    "specs = [spec.text for spec in specs if len(spec.text)>0]\n",
    "specs = [item.split(\":\") for item in specs if item !=\"SPECIFICATION\"]\n",
    "specs = [spec for spec in specs if spec[0]!=\"Price \"]"
   ]
  },
  {
   "cell_type": "code",
   "execution_count": 11,
   "metadata": {},
   "outputs": [
    {
     "data": {
      "text/html": [
       "<div>\n",
       "<style scoped>\n",
       "    .dataframe tbody tr th:only-of-type {\n",
       "        vertical-align: middle;\n",
       "    }\n",
       "\n",
       "    .dataframe tbody tr th {\n",
       "        vertical-align: top;\n",
       "    }\n",
       "\n",
       "    .dataframe thead th {\n",
       "        text-align: right;\n",
       "    }\n",
       "</style>\n",
       "<table border=\"1\" class=\"dataframe\">\n",
       "  <thead>\n",
       "    <tr style=\"text-align: right;\">\n",
       "      <th></th>\n",
       "      <th>Operating system</th>\n",
       "      <th>display</th>\n",
       "      <th>processor</th>\n",
       "      <th>memory</th>\n",
       "      <th>weight</th>\n",
       "      <th>dimension</th>\n",
       "      <th>graphic_processor</th>\n",
       "      <th>price</th>\n",
       "    </tr>\n",
       "  </thead>\n",
       "  <tbody>\n",
       "    <tr>\n",
       "      <th>0</th>\n",
       "      <td>Windows 10</td>\n",
       "      <td>15.6\" (1920 x 1080)</td>\n",
       "      <td>AMD Ryzen 9 Octa Core | 2.4 GHz</td>\n",
       "      <td>1 TB HDD/16 GBGB DDR4</td>\n",
       "      <td>2.4</td>\n",
       "      <td>363.4 x 255 x 23.9</td>\n",
       "      <td>NVIDIA GeForce RTX 3070</td>\n",
       "      <td>₹ 129,990</td>\n",
       "    </tr>\n",
       "    <tr>\n",
       "      <th>1</th>\n",
       "      <td>Windows 10</td>\n",
       "      <td>15.6\" (1920 x 1080)</td>\n",
       "      <td>Intel Core i7 11th Gen - 11375H | NA</td>\n",
       "      <td>1 TB SSD/16 GBGB DDR4</td>\n",
       "      <td>1.7</td>\n",
       "      <td>358.3 x 248 x 16.15</td>\n",
       "      <td>NVIDIA GeForce RTX 3060</td>\n",
       "      <td>₹ 134,990</td>\n",
       "    </tr>\n",
       "    <tr>\n",
       "      <th>2</th>\n",
       "      <td>Windows 10</td>\n",
       "      <td>15.6\" (2560 x 1440)</td>\n",
       "      <td>AMD Ryzen 9 Octa Core - 5900HX | 3.3 GHz</td>\n",
       "      <td>2 TB SSD/32 GBGB DDR4</td>\n",
       "      <td>2.30</td>\n",
       "      <td>354 x 259 x 22.6</td>\n",
       "      <td>NVIDIA GeForce RTX 3080</td>\n",
       "      <td>₹ 268,990</td>\n",
       "    </tr>\n",
       "    <tr>\n",
       "      <th>3</th>\n",
       "      <td>Windows 10 Home</td>\n",
       "      <td>17.3\" (1920 x 1080)</td>\n",
       "      <td>10th Gen Intel® Core™ i7-10700 | 2.90 GHz</td>\n",
       "      <td>1 TB SSD/16 GBGB DDR4</td>\n",
       "      <td>4.1</td>\n",
       "      <td>27.65 x 402.6 x 319.14</td>\n",
       "      <td>Intel® UHD Graphics 630</td>\n",
       "      <td>₹ 342,989</td>\n",
       "    </tr>\n",
       "    <tr>\n",
       "      <th>4</th>\n",
       "      <td>Windows 10 Home</td>\n",
       "      <td>15.6\" (3840 x 2160)</td>\n",
       "      <td>10th Gen Intel® Core™ i9-10980HK | NA</td>\n",
       "      <td>1 TB SSD/16 GBGB DDR4</td>\n",
       "      <td>NA</td>\n",
       "      <td>NA</td>\n",
       "      <td>NA</td>\n",
       "      <td>₹ 319,990</td>\n",
       "    </tr>\n",
       "  </tbody>\n",
       "</table>\n",
       "</div>"
      ],
      "text/plain": [
       "   Operating system               display  \\\n",
       "0        Windows 10   15.6\" (1920 x 1080)   \n",
       "1        Windows 10   15.6\" (1920 x 1080)   \n",
       "2        Windows 10   15.6\" (2560 x 1440)   \n",
       "3   Windows 10 Home   17.3\" (1920 x 1080)   \n",
       "4   Windows 10 Home   15.6\" (3840 x 2160)   \n",
       "\n",
       "                                    processor                  memory weight  \\\n",
       "0             AMD Ryzen 9 Octa Core | 2.4 GHz   1 TB HDD/16 GBGB DDR4    2.4   \n",
       "1        Intel Core i7 11th Gen - 11375H | NA   1 TB SSD/16 GBGB DDR4    1.7   \n",
       "2    AMD Ryzen 9 Octa Core - 5900HX | 3.3 GHz   2 TB SSD/32 GBGB DDR4   2.30   \n",
       "3   10th Gen Intel® Core™ i7-10700 | 2.90 GHz   1 TB SSD/16 GBGB DDR4    4.1   \n",
       "4       10th Gen Intel® Core™ i9-10980HK | NA   1 TB SSD/16 GBGB DDR4     NA   \n",
       "\n",
       "                 dimension         graphic_processor      price  \n",
       "0       363.4 x 255 x 23.9   NVIDIA GeForce RTX 3070  ₹ 129,990  \n",
       "1      358.3 x 248 x 16.15   NVIDIA GeForce RTX 3060  ₹ 134,990  \n",
       "2         354 x 259 x 22.6   NVIDIA GeForce RTX 3080  ₹ 268,990  \n",
       "3   27.65 x 402.6 x 319.14   Intel® UHD Graphics 630  ₹ 342,989  \n",
       "4                       NA                        NA  ₹ 319,990  "
      ]
     },
     "execution_count": 11,
     "metadata": {},
     "output_type": "execute_result"
    }
   ],
   "source": [
    "OS = []\n",
    "display = []\n",
    "processor = []\n",
    "memory = []\n",
    "weight = []\n",
    "dimension = []\n",
    "graphic_processor = []\n",
    "\n",
    "i = 0\n",
    "while i < len(specs):\n",
    "    OS.append(specs[i][1])\n",
    "    display.append(specs[i+1][1])\n",
    "    processor.append(specs[i+2][1])\n",
    "    memory.append(specs[i+3][1])\n",
    "    weight.append(specs[i+4][1])\n",
    "    dimension.append(specs[i+5][1])\n",
    "    graphic_processor.append(specs[i+6][1])\n",
    "    i=i+7\n",
    "    \n",
    "lap_dict = {\"Operating system\":OS, \"display\":display, \"processor\":processor,\"memory\":memory, \"weight\":weight, \"dimension\":dimension\n",
    "           ,\"graphic_processor\":graphic_processor, \"price\":price}\n",
    "\n",
    "lap_df = pd.DataFrame(lap_dict)\n",
    "lap_df.head()"
   ]
  },
  {
   "cell_type": "markdown",
   "metadata": {},
   "source": [
    "### 8. fetching billionaires from forbes"
   ]
  },
  {
   "cell_type": "code",
   "execution_count": 12,
   "metadata": {},
   "outputs": [],
   "source": [
    "bil = 'https://www.forbes.com/billionaires/'\n",
    "driver = webdriver.Chrome('chromedriver')\n",
    "driver.get(bil)\n",
    "time.sleep(10)"
   ]
  },
  {
   "cell_type": "code",
   "execution_count": 18,
   "metadata": {},
   "outputs": [],
   "source": [
    "table = driver.find_elements_by_xpath(\"//div[@class='table-row-group']/div[@class='table-row ']\")\n",
    "text = [t.text.split('\\n') for t in table]"
   ]
  },
  {
   "cell_type": "code",
   "execution_count": 21,
   "metadata": {},
   "outputs": [
    {
     "data": {
      "text/html": [
       "<div>\n",
       "<style scoped>\n",
       "    .dataframe tbody tr th:only-of-type {\n",
       "        vertical-align: middle;\n",
       "    }\n",
       "\n",
       "    .dataframe tbody tr th {\n",
       "        vertical-align: top;\n",
       "    }\n",
       "\n",
       "    .dataframe thead th {\n",
       "        text-align: right;\n",
       "    }\n",
       "</style>\n",
       "<table border=\"1\" class=\"dataframe\">\n",
       "  <thead>\n",
       "    <tr style=\"text-align: right;\">\n",
       "      <th></th>\n",
       "      <th>rank</th>\n",
       "      <th>name</th>\n",
       "      <th>net worth</th>\n",
       "      <th>age</th>\n",
       "      <th>citizenship</th>\n",
       "      <th>source</th>\n",
       "      <th>industry</th>\n",
       "    </tr>\n",
       "  </thead>\n",
       "  <tbody>\n",
       "    <tr>\n",
       "      <th>0</th>\n",
       "      <td>1.</td>\n",
       "      <td>Jeff Bezos</td>\n",
       "      <td>$177 B</td>\n",
       "      <td>57</td>\n",
       "      <td>United States</td>\n",
       "      <td>Amazon</td>\n",
       "      <td>Technology</td>\n",
       "    </tr>\n",
       "    <tr>\n",
       "      <th>1</th>\n",
       "      <td>2.</td>\n",
       "      <td>Elon Musk</td>\n",
       "      <td>$151 B</td>\n",
       "      <td>49</td>\n",
       "      <td>United States</td>\n",
       "      <td>Tesla, SpaceX</td>\n",
       "      <td>Automotive</td>\n",
       "    </tr>\n",
       "    <tr>\n",
       "      <th>2</th>\n",
       "      <td>3.</td>\n",
       "      <td>Bernard Arnault &amp; family</td>\n",
       "      <td>$150 B</td>\n",
       "      <td>72</td>\n",
       "      <td>France</td>\n",
       "      <td>LVMH</td>\n",
       "      <td>Fashion &amp; Retail</td>\n",
       "    </tr>\n",
       "    <tr>\n",
       "      <th>3</th>\n",
       "      <td>4.</td>\n",
       "      <td>Bill Gates</td>\n",
       "      <td>$124 B</td>\n",
       "      <td>65</td>\n",
       "      <td>United States</td>\n",
       "      <td>Microsoft</td>\n",
       "      <td>Technology</td>\n",
       "    </tr>\n",
       "    <tr>\n",
       "      <th>4</th>\n",
       "      <td>5.</td>\n",
       "      <td>Mark Zuckerberg</td>\n",
       "      <td>$97 B</td>\n",
       "      <td>36</td>\n",
       "      <td>United States</td>\n",
       "      <td>Facebook</td>\n",
       "      <td>Technology</td>\n",
       "    </tr>\n",
       "  </tbody>\n",
       "</table>\n",
       "</div>"
      ],
      "text/plain": [
       "  rank                      name net worth age    citizenship         source  \\\n",
       "0   1.                Jeff Bezos    $177 B  57  United States         Amazon   \n",
       "1   2.                 Elon Musk    $151 B  49  United States  Tesla, SpaceX   \n",
       "2   3.  Bernard Arnault & family    $150 B  72         France           LVMH   \n",
       "3   4.                Bill Gates    $124 B  65  United States      Microsoft   \n",
       "4   5.           Mark Zuckerberg     $97 B  36  United States       Facebook   \n",
       "\n",
       "           industry  \n",
       "0        Technology  \n",
       "1        Automotive  \n",
       "2  Fashion & Retail  \n",
       "3        Technology  \n",
       "4        Technology  "
      ]
     },
     "execution_count": 21,
     "metadata": {},
     "output_type": "execute_result"
    }
   ],
   "source": [
    "rank = []\n",
    "name = []\n",
    "net_worth = []\n",
    "age = []\n",
    "citizenship = []\n",
    "source = []\n",
    "industry = []\n",
    "\n",
    "for item in text:\n",
    "    rank.append(item[0])\n",
    "    name.append(item[1])\n",
    "    net_worth.append(item[2])\n",
    "    age.append(item[3])\n",
    "    citizenship.append(item[4])\n",
    "    source.append(item[5])\n",
    "    industry.append(item[6])\n",
    "    \n",
    "bil_dict = {\"rank\":rank, \"name\":name, \"net worth\":net_worth, \"age\":age, \"citizenship\":citizenship, \"source\":source, \"industry\":industry}\n",
    "bil_df = pd.DataFrame(bil_dict)\n",
    "bil_df.head()"
   ]
  },
  {
   "cell_type": "markdown",
   "metadata": {},
   "source": [
    "### 9. fetching comments from youtube video "
   ]
  },
  {
   "cell_type": "code",
   "execution_count": 66,
   "metadata": {},
   "outputs": [],
   "source": [
    "youtube = 'https://www.youtube.com/watch?v=lotbZQ55SgU'\n",
    "driver = webdriver.Chrome('chromedriver')\n",
    "driver.get(youtube)\n",
    "time.sleep(10)"
   ]
  },
  {
   "cell_type": "code",
   "execution_count": 11,
   "metadata": {},
   "outputs": [],
   "source": [
    "driver.execute_script(\"window.scrollTo(0,document.body.scrollHeight)\")\n",
    "content = driver.find_elements_by_id(\"content-text\")"
   ]
  },
  {
   "cell_type": "code",
   "execution_count": 41,
   "metadata": {},
   "outputs": [
    {
     "ename": "KeyboardInterrupt",
     "evalue": "",
     "output_type": "error",
     "traceback": [
      "\u001b[1;31m---------------------------------------------------------------------------\u001b[0m",
      "\u001b[1;31mKeyboardInterrupt\u001b[0m                         Traceback (most recent call last)",
      "\u001b[1;32m<ipython-input-41-a67d2b7b08a0>\u001b[0m in \u001b[0;36m<module>\u001b[1;34m\u001b[0m\n\u001b[0;32m      3\u001b[0m     \u001b[0mWebDriverWait\u001b[0m\u001b[1;33m(\u001b[0m\u001b[0mdriver\u001b[0m\u001b[1;33m,\u001b[0m \u001b[1;36m10\u001b[0m\u001b[1;33m)\u001b[0m\u001b[1;33m.\u001b[0m\u001b[0muntil\u001b[0m\u001b[1;33m(\u001b[0m\u001b[0mEC\u001b[0m\u001b[1;33m.\u001b[0m\u001b[0mvisibility_of_element_located\u001b[0m\u001b[1;33m(\u001b[0m\u001b[1;33m(\u001b[0m\u001b[0mBy\u001b[0m\u001b[1;33m.\u001b[0m\u001b[0mTAG_NAME\u001b[0m\u001b[1;33m,\u001b[0m \u001b[1;34m\"body\"\u001b[0m\u001b[1;33m)\u001b[0m\u001b[1;33m)\u001b[0m\u001b[1;33m)\u001b[0m\u001b[1;33m.\u001b[0m\u001b[0msend_keys\u001b[0m\u001b[1;33m(\u001b[0m\u001b[0mKeys\u001b[0m\u001b[1;33m.\u001b[0m\u001b[0mEND\u001b[0m\u001b[1;33m)\u001b[0m\u001b[1;33m\u001b[0m\u001b[1;33m\u001b[0m\u001b[0m\n\u001b[0;32m      4\u001b[0m     \u001b[1;31m#driver.execute_script(\"window.scrollTo(0,document.body.scrollHeight)\")\u001b[0m\u001b[1;33m\u001b[0m\u001b[1;33m\u001b[0m\u001b[1;33m\u001b[0m\u001b[0m\n\u001b[1;32m----> 5\u001b[1;33m     \u001b[0mtime\u001b[0m\u001b[1;33m.\u001b[0m\u001b[0msleep\u001b[0m\u001b[1;33m(\u001b[0m\u001b[1;36m15\u001b[0m\u001b[1;33m)\u001b[0m\u001b[1;33m\u001b[0m\u001b[1;33m\u001b[0m\u001b[0m\n\u001b[0m\u001b[0;32m      6\u001b[0m     \u001b[0mcontent\u001b[0m \u001b[1;33m=\u001b[0m \u001b[0mdriver\u001b[0m\u001b[1;33m.\u001b[0m\u001b[0mfind_elements_by_id\u001b[0m\u001b[1;33m(\u001b[0m\u001b[1;34m\"content-text\"\u001b[0m\u001b[1;33m)\u001b[0m\u001b[1;33m\u001b[0m\u001b[1;33m\u001b[0m\u001b[0m\n\u001b[0;32m      7\u001b[0m     \u001b[0mcomment\u001b[0m \u001b[1;33m=\u001b[0m \u001b[1;33m[\u001b[0m\u001b[0mc\u001b[0m\u001b[1;33m.\u001b[0m\u001b[0mtext\u001b[0m \u001b[1;32mfor\u001b[0m \u001b[0mc\u001b[0m \u001b[1;32min\u001b[0m \u001b[0mcontent\u001b[0m\u001b[1;33m]\u001b[0m\u001b[1;33m\u001b[0m\u001b[1;33m\u001b[0m\u001b[0m\n",
      "\u001b[1;31mKeyboardInterrupt\u001b[0m: "
     ]
    }
   ],
   "source": [
    "for i in range(20):\n",
    "    WebDriverWait(driver, 10).until(EC.visibility_of_element_located((By.TAG_NAME, \"body\"))).send_keys(Keys.END)\n",
    "#while len(comment) < 501:\n",
    "WebDriverWait(driver, 10).until(EC.visibility_of_element_located((By.TAG_NAME, \"body\"))).send_keys(Keys.END)\n",
    "    #driver.execute_script(\"window.scrollTo(0,document.body.scrollHeight)\")\n",
    "time.sleep(15)\n",
    "content = driver.find_elements_by_id(\"content-text\")\n",
    "comment = [c.text for c in content]\n",
    "time_ago = driver.find_elements_by_xpath(\"//div[@id='header-author']/yt-formatted-string\")\n",
    "t = [t.text for t in time_ago]\n",
    "    #comment = comment + new_comments"
   ]
  },
  {
   "cell_type": "code",
   "execution_count": 62,
   "metadata": {},
   "outputs": [],
   "source": [
    "ab = driver.find_elements_by_xpath(\"//span[@id='vote-count-middle']\")\n",
    "t = [t.text for t in ab]\n",
    "\n",
    "for i in range(len(t)):\n",
    "    if len(t[i])==0:\n",
    "        t[i]='-'"
   ]
  },
  {
   "cell_type": "code",
   "execution_count": 33,
   "metadata": {},
   "outputs": [
    {
     "data": {
      "text/plain": [
       "'IN\\nSKIP NAVIGATION\\nSIGN IN\\n0:00 / 6:30\\nHow Were the Pyramids Built?\\n7,090,873 viewsNov 5, 2014\\n110K\\n5.4K\\nSHARE\\nSAVE\\nVeritasium\\n10.4M subscribers\\nSUBSCRIBE\\nKey aspects of pyramid construction from quarry to completion.\\nCheck out Audible: http://bit.ly/AudibleVe\\nLive show in Alabama: http://bit.ly/VeRAOI\\nSHOW MORE\\n11,945 Comments\\nSORT BY\\nAdd a public comment...\\nSol Invictus\\n4 years ago\\nWell the pyramids were built before Isaac Newton invented gravity, so the stones weight wasn\\'t a problem.\\n17K\\nREPLY\\nView 480 replies\\nTim Domeika\\n2 months ago\\nI love how a single youtuber can make all this quality science/history content, yet the actual History Channel on television can\\'t do any better than pawn stars or storage wars.\\n1.2K\\nREPLY\\nView 28 replies\\n\\u200d\\u200d \\u200d\\n7 months ago\\n\"Work so hard that people in the future believe that aliens did it!\"\\n😌\\n1.5K\\nREPLY\\nView 94 replies\\nD R\\n2 months ago\\nImagine how beautiful the pyramids looked like once they were completely finished and the sun shined brightly onto to them.\\n267\\nREPLY\\nView 8 replies\\nAtmos\\n6 months ago\\nI love that even in this age we still can\\'t figure it out.\\n516\\nREPLY\\nView 70 replies\\nTaikamuna\\n3 years ago\\nI think they started from the bottom\\n8.8K\\nREPLY\\nView 88 replies\\njamcdonald120\\n6 months ago\\n2:00 you can use both.  Slaves to carry rocks, skilled stone cutters to cut it, and skilled stone fitters to direct the slaves to place the stones\\n103\\nREPLY\\nView 16 replies\\nRidwan AP\\n2 months ago\\nGuide: wanna climb it?\\nDerek: *internal thinking \"I know this guy is gonna rob me\"\\n99\\nREPLY\\nView 2 replies\\nHellmarch\\n4 months ago (edited)\\n3:54 did this smart man just hit a rock on a piece of history?\\n115\\nREPLY\\nView 9 replies\\nJosh O\\n2 weeks ago\\n\"If these workers had been slaves, they would not have received such honorable burials.\"\\nOr maybe the Pharaoh believed it was important to bring his slaves to the afterlife too...\\n40\\nREPLY\\nView 6 replies\\nAldrich Smith\\n1 year ago\\nThe Egyptians just figured out how to change it to creative mode.\\n4.6K\\nREPLY\\nView 99 replies\\nGuillaume Heritier\\n3 months ago\\nA real option that has been tested with the tools and elements they had at the time: it’s a form of poured concrete. Which is consistent with the density of the blocks that have heavier elements on the bottom.\\n37\\nREPLY\\nView 2 replies\\nMatthew John Vu\\n5 months ago\\n“That would have been a sight to behold” but then no digital image of a rendered shiny pyramid. Looks like I gotta do it.\\n65\\nREPLY\\nView 4 replies\\nVinny Contini\\n6 months ago\\nWhat if they didn’t need to BUILD any separate ramps at all? What if they started from the bottom, and build it up with a ledge in a spiral shape, and slowly filled it out until it was a complete pyramid\\n41\\nREPLY\\nView 6 replies\\nAnkit Kumar\\n6 months ago\\nThey started building it from the bottom and they started feeling lazy as they progressed, and thus they created pyramids.\\n77\\nREPLY\\nView 4 replies\\ngokurocks9\\n1 year ago\\nImagine being part of a civilization in which you worked so hard, that a future civilization believes that \"aliens did it.\"\\n3.8K\\nREPLY\\nView 173 replies\\nA Galah\\n3 months ago\\n\"This is heavy\"\\nDoc: \"Is there a problem with the Earth\\'s gravitational pull in the future?\"\\n41\\nREPLY\\nView reply\\nAlexander Young\\n3 months ago\\nJust one more reason why humans are the most amazing species that ever existed… to our knowledge.\\n60\\nREPLY\\nView 10 replies\\nIgorRyltsev\\n6 months ago\\nHistory of Minecraft! Blocks and primitive tools...\\n647\\nREPLY\\nView 7 replies\\ndragon lover 3000\\n8 months ago\\nThis was actually verry informative. Although you didn\\'t say how it was built I just learnd how it wasn\\'t and that\\'s helpful.\\n147\\nREPLY\\nView reply\\nPsyintZ\\n9 months ago\\nQ:  \"How were the Pyramids built?\"\\nA:  \"No idea. But thanks for clicking.\"\\n4K\\nREPLY\\nView 47 replies\\nJonahW\\n5 months ago (edited)\\nI\\'ve always kind of liked the idea that the \"blocks\" that they\\'re built with, were all created on-site and in place with wooden frames, and poured like concrete. Crushed limestone & sandstone, mixed with water and some other agent. Perhaps heated to form properly. The granite is another story!\\n5\\nREPLY\\nhelperbot 2000\\n5 months ago\\nimagine how impressive it must have looked if it had polished limestone still intact\\n4\\nREPLY\\nView reply\\nMichael ReznoR\\n1 month ago\\nYou can watch, admire, climb and slide a digitally reconstructed pyramid in Assassin\\'s Creed: Origins or Discovery Tour: Ancient Egypt. It\\'s spectacular.\\n10\\nREPLY\\nSameer Khan\\n5 months ago\\nI love Egypt.  I wish i could time travel in that age and see with my naked eyes building pyramids.\\n94\\nREPLY\\nView 7 replies\\nTacomaholic\\n1 year ago\\nSpoiler Alert: He has no idea how the pyramids were built.\\n3.8K\\nREPLY\\nView 96 replies\\nJollibee tilao\\n4 months ago\\nThat place before was full scattered stones and blocks, until they made the pyramid by using that blocks,  and all the sand was left behind.\\n3\\nREPLY\\nNidhi Agrawal\\n5 months ago\\nImagine the sun at the top of the piramid in the olden days shining down on it.\\n4\\nREPLY\\nAPE Suit9\\n8 months ago\\nImagine destroying one and finding jewelries.\\n5\\nREPLY\\nEmeraldView\\n6 months ago\\nThat would have been a REAL incredible site to behold in the ancient world.  Especially if you\\'d arrived from some place outside of Egypt.\\n17\\nREPLY\\nView reply\\nCorvux\\n5 years ago\\nWhy do I always discover new interesting channels right before I was going to sleep...?\\n3.7K\\nREPLY\\nView 50 replies\\nLextech Lighting\\n6 months ago\\nIf you have ever heard of drifting stones in the desert it would be easy to understand how they moved large objects as long as they did it at night. While hot in the daytime it freezes at night and stones simply slide around by wind.\\n4\\nREPLY\\nView reply\\nHisham Rashid\\n2 months ago\\nWhen you were so good at building that people in the future think its impossible.\\n2\\nREPLY\\nView reply\\nJL\\n3 months ago\\nEgyptians set out to build something cool af, and millennia later we\\'re like \"he did it.  The crazy bastard did it.\"\\n10\\nREPLY\\njdsstegman\\n2 months ago\\nI\\'m use to getting answers from you sir!!  Lol.  Thought you had the answer on exactly how they were built!\\n\\nGreat info.\\nREPLY\\nFABRICE MANZO\\n2 years ago\\nIt was easy!! \\neach worker get 10 friends to add a block, and each of them get 10 friends to add a block #pyramidScheme 😄\\n583\\nREPLY\\nView 7 replies\\nC Wallace\\n6 months ago\\nLove the earth and its history. such a shame i will perish one day. i quite enjoy being here\\n4\\nREPLY\\nView reply\\nCornel Syrzysko\\n2 weeks ago\\nAny chance that live show was recorded and uploaded as a video that I can now enjoy years later because I only now discovered the wonders that are Veritasium and CGP Grey?\\nREPLY\\nrupak rokade\\n9 hours ago\\nLegends say, right clicking on the stones gave them an option to adjust the mass.\\nREPLY\\nCole\\n1 month ago\\nYea, I highly doubt that simple rocks would create those scoop marks in the granite\\n4\\nREPLY\\nView 2 replies\\nzerospin\\n6 years ago\\nThe Egyptians used an analog 3D printer to build the pyramids.\\n1.2K\\nREPLY\\nView 6 replies\\nMason Burns\\n3 days ago\\nLearned more in this video then all my history classes\\nREPLY\\nThe Human Journey\\n2 months ago\\nGraham Hancock is the most knowledgeable about this subject and really the only opinion I trust\\n3\\nREPLY\\nView reply\\nDavid Jordan\\n3 months ago (edited)\\nI like to imagine they floated the stones on rafts down the Nile.  Then raised them up using a lockndamn system.  \\nKinda of like moving ships through canals?\\nMaybe thats what the tunnels underneath are for?\\n11\\nREPLY\\nView 3 replies\\nRosco P. CO\\n3 months ago\\nI feel I\\'ve unlearned more watching this\\n2\\nREPLY\\nrawb\\n6 years ago\\nSee guys? I told you they were made of limestone.\\n78\\nREPLY\\nView 8 replies\\nIronWolfKirvis\\n2 months ago\\nI once saw a video saying that air-filled bladders may have been used to float the blocks up the sides of the pyramid. Then they may have surrounded each layer of the pyramid in water as it was being built to ensure that every layer of rock was near-perfectly level.\\nREPLY\\nChris Kline\\n2 months ago\\nThis is one of the most clueless videos on the pyramids I have ever seen.\\n13\\nREPLY\\nAnon Surfer\\n2 months ago\\nDerek, please come out with an update either supporting or debunking the channel \"It\\'s Okay To Be Smart\" for their explanation of how the Pyramids were built. Thank you.\\nREPLY\\nAppleYou\\n8 months ago\\nThey used planes that flew and dropped the stones, they had to restart and lose the highscore if they missed\\n20\\nREPLY\\nView reply\\n💖 The Girl Squad!\\n1 year ago\\nWhat I found most interesting about pyramids is those projects are so costly that can easily ruin the kingdom budget, the wealth used could be used for agriculture or defence still they choose to do it but, then those projects thousands of year later brings a considerable amount of wealth to Egypt by tourism, a generation worked for a generation 5000 year later.\\nRead more\\n851\\nREPLY\\nView 54 replies\\nM A\\n5 months ago\\nEasy, it was the Goa’uld.\\n7\\nREPLY\\nWarGuy27\\n4 months ago\\nGotta love the fact he spent a whole video just going over what everyone has been saying for years\\nREPLY\\nNikhil Krishnan\\n8 months ago\\nOh, he\\'s just asking us if we know how the pyramids were built.\\n13\\nREPLY\\nguy sumpthin\\n7 months ago\\nWhats far more fascinating : mexico city is built on a much larger pyramid (mostly below grade), aztlan wi is a mostly buried and truncated pyramid , multiple ancient  pyramids below water rock lake wi , pueblo mexico one of the largest (mostly buried)\\n8\\nREPLY\\nView reply\\nChris Snyder\\n5 years ago\\nImagine the look on the faces of the Egyptians if someone would have rolled up in a cart or wagon with wheels on it right after the last block was placed on the pyramid.  \"Hey guys!  Whatcha doin?\"\\n2K\\nREPLY\\nView 61 replies\\nRalph Ellis\\n3 months ago\\nI am surprised you don’t mention the mathematics of the pyramids.\\nThe Great Pyramid is a Pi pyramid, it is based upon 2x Pi x r.\\nThe Second Pyramid is a 3 - 4 - 5 pythagorean pyramid.\\nR\\n6\\nREPLY\\nView 2 replies\\nPastybith070\\n3 months ago (edited)\\nAs a kid I always imagined they carved them out of one larger rock, then carved out an inside\\n1\\nREPLY\\nView reply\\nZayd Zulqurnain\\n1 week ago\\nSome people also say that the pyramids perfectly align with the positions of stars in Orion, the Big and Little Dippers, and the North Star from different angles.\\nREPLY\\nArticulate99\\n2 months ago\\nAlways interesting, thank you.\\nREPLY\\nMohamed Yousef\\n4 years ago\\nClimbing the pyramids is illegal in egypt. That guy doesn\\'t have any authority to take money from you to let you climb it Lol\\n618\\nREPLY\\nView 26 replies\\nBobert\\n3 months ago\\nI’d love to go back and see the pyramids in their glory they look so sad now\\nREPLY\\nView reply\\nQuanta_relet um\\n2 months ago\\nI saw in AC: Origins, the pyramids were cool. Just as you said!\\nREPLY\\nCameron Lamb\\n4 days ago\\nProbably one of the more accurate videos on the topic gj\\nREPLY\\nL2H2L2\\n3 months ago\\nVeritasium: “They’d have to be laying a stone every three minutes…”\\nMe: wow that really shows how many workers were simultaneously building\\nVeritasium: “…if you calculate with a regular 10 hour work day”\\nMe: Well there’s your problem right there!\\n11\\nREPLY\\nView reply\\nEmil Hartfelt\\n10 months ago (edited)\\nPyramid worker 1: I hear they made this new thing called a \"wheel\" to help move heavy objects. \\n\\nPyramid worker 2: Meh, I give it 2 weeks.\\n381\\nREPLY\\nView 3 replies\\nYoushaa Faisal\\n3 days ago\\nWe don\\'t have to imagine it anymore cause AC Origins has long done the job for us.\\nREPLY\\nLibelldrian\\n4 months ago\\nI\\'m actually suprised they let people climb the pyramids. I mean with the million of people visiting this site, if everbody were to go up that thing it would disappear faster than you think probably.\\n5\\nREPLY\\nView reply\\nTheComputec\\n3 months ago\\nLuckily on the day I managed to get to the pyramids, I had enough Egyptian pounds to be able to bribe the local army guard and I got two thirds of the way up the great pyramid before a combination of heatstroke, dehydration and cowardice led me to review my decision and descend.  When you stand at the base and look up, you really do have to crane your neck to see the top. It is an amazing achievement however it was built. I was told by one of the more authoritative guides that the most commonly held belief is that after the base stones were laid, sand was used to cover each gradient, such that the sleds were able to glide to each level with a much reduced gradient than trying to drag them over the steps. Still an amazing feat of human strength and stamina but manpower was abundant.\\nRead more\\n2\\nREPLY\\nView 2 replies\\nAbu Al Razee Khan Himaloy\\n7 months ago\\nI love that the background music is of shadow flight 2\\'s\\n2\\nREPLY\\nDevan Matthew\\n5 years ago\\nSo they can mathematically get every alignment down to the perfect degree to markings that wrap the planet and to a star constellation but can\\'t think of a wheel?\\n748\\nREPLY\\nView 52 replies\\nTom Kelly\\n1 month ago\\nHow were they built? With a lot of hard work, magic and engineering and crazy social structures.\\nREPLY\\ncircium fate\\n4 months ago\\nEasy, they lava casted it.\\n7\\nREPLY\\nView reply\\nLakshay Sharma\\n1 month ago\\n5:10 it maybe looked like the kailash parvat when sunshine falls on top of it and rest covered with the snow, nd tell u what the distance between kailash and Egyptian pyramids are exactly 6666km.\\n1\\nREPLY\\nJohn Kessler\\n1 week ago\\nWow! They were built in only thirty years! Amazing!\\nREPLY\\nUser\\n2 years ago\\nThe biggest flex in history\\n261\\nREPLY\\nView 2 replies\\nDonald Johnson\\n3 months ago\\nI needed a good laugh to end the day.   :) Thanks.\\nREPLY\\nMarkis THEGREAT\\n4 months ago\\nFor top of the you would need beasts of border bring the ton of rock at an incline being generous, at 10 degrees a ramp over half mile\\nREPLY\\nTobias Mattheis\\n2 months ago\\nif you wanna know you should watch Asterix & Obelix: Mission Cleopatra, the comic of course\\n1\\nREPLY\\nSineEyed 2020\\n4 months ago\\nI know how the Pyramids were built but I\\'m not gonna tell you. It\\'s pretty awesome though..\\nREPLY\\nLeggir\\n2 years ago\\nThis was much less informative than I expected.\\n2.5K\\nREPLY\\nView 25 replies\\nMatthew Erspamer\\n4 months ago\\nI thought you wrecked yourself at 3:13. Now I’m sitting here just glad you’re ok.\\n1\\nREPLY\\nJoey Prike\\n4 days ago\\nI would like to know the calculations on how long it would take to make just even the granite blocks at 5mm an hour times the number of blocks made. Let alone how long it would take to put them in place times the number of people it would take to do it in that timeline. I think that makes sense :/\\n1\\nREPLY\\nView reply\\nAndrew Thall\\n8 months ago\\n4:00. The secret is to bang the rocks together, guys.\\n10\\nREPLY\\nJett Muhlhuaser\\n2 months ago\\nThey were casted like concrete. Limestone can be liquified and then hardened to whatever shape they wanted.\\nREPLY\\nDavid Stewart\\n5 years ago\\nThe obviosly used a Ford pick up truck to carry all those stones. Maybe in the later years they upgrades to a Toyota Tundra to save on repair costs\\n903\\nREPLY\\nView 22 replies\\nMáté Dobra\\n1 month ago\\n3:45 - so, it scratches at level 6, with deeper grooves at level 7?\\nREPLY\\nLiselotte Normann Sørensen\\n3 months ago\\nYou make an interview with \"The Boss\" and his first sentence is \"We don\\'t know how it was buildt\" 🧐🧐\\n1\\nREPLY\\nDavid Kang\\n8 months ago\\nThe decisive bear postsynaptically love because divorced posteriorly whine before a grandiose dictionary. marvelous, keen dentist\\nREPLY\\nMuhammad Al-Nahhal\\n1 week ago\\nWish you made a 3D rendering of how they could\\'ve looked like back then when they were just new\\n1\\nREPLY\\nFunny Toaster\\n2 years ago\\n\"but it\\'s not free\"\\nwelp, that gonna cost a lot, since you\\'re a tourist\\n560\\nREPLY\\nView 8 replies\\nTR6Telos\\n1 month ago\\nSmashing the dolomite into the granite to shape it, yes what a great system. We should adopt these easy building methods, Bravo!\\nREPLY\\nYou\\n2 months ago (edited)\\nAt 0:37 I could imagine him saying “and today we’ll topple it with one”\\nREPLY\\nKonrad\\n3 months ago\\nMe before watching: Making a 6 minute video about the pyramids is an insult to their builders and there’s no way you can explain it that fast\\nREPLY\\nSolitude.\\n4 months ago\\nI might blow your minds, strap in everyone:\\n\\nThe pyramids were built from the bottom to the top, cause it would be a bit more difficult to do it the other way around.\\n25\\nREPLY\\nView 3 replies\\nRyan Sweeney\\n5 years ago\\nWould be awesome to build a modern pyramid to represent how far we\\'ve come in our understanding of the universe, using advanced materials so it could potentially last quite a bit longer than the ones of Giza\\n323\\nREPLY\\nView 52 replies\\nEndScreenGuy\\n4 months ago\\nYou know, I recon\\' they built the pyramids from the ground up, cuz let\\'s face it, building it top-first would be quite difficult\\nREPLY\\nThe Likebutton\\n2 months ago\\nThis music...I feel like I am playing Age of Mythology with Derek!\\nREPLY\\nJithin Jacob\\n3 months ago\\nWhenever I thought of what event I would like to go to in the past, if it were possible, the pyramids were never on my list. But now it is.\\nREPLY\\nThe funniest moment is\\n5 months ago\\nVibration\\nBest way to cut in a direct line (or a shape)\\nREPLY\\nVaruna\\n4 years ago\\nYou could have also talked about the math and precision built into the pyramids. It\\'s as hard to swallow as it is them mining granite by smashing rocks.\\n132\\nREPLY\\nView 9 replies\\nZain Ahmad\\n6 months ago\\nto me they used some kind of see-saw long enough to reach from top to bottom\\nREPLY\\nTerry Higdon\\n5 months ago\\nWhat if they used sand as a ramp adding more sand and outward distance per every level and when they got to the top just started digging the sand away as they added the granite\\nREPLY\\ntbmj\\n1 week ago (edited)\\nAnswering this question before I watch the video: tons and tons of people marking out the area on the floor then guiding big blocks of that stuff into place layer by layer lifted up with rope and other ways of lifting big rocks and then digging into the pyramid and to finish it up some sweet art on the inside or at least I assume\\nREPLY\\nAditya Singh\\n2 months ago\\n3:12 my heart skipped a beat\\n1\\nREPLY\\nThe Garden of Eatin\\n5 years ago\\n\"You can see where they had to level that ground\" holds camera at 34.6857 degree angle\\n130\\nREPLY\\nView 5 replies\\nAlexis GS\\n1 month ago\\n3:58 For how many million years do you think the damage he did will remain?\\nREPLY\\nJaypi hehe\\n8 months ago\\n1:30 states a less far - fetched theory that the pyramids were built by slaves. In the Bible, the Egyptians had a really huge number of slaves called the Israelites, and these pyramids might be one of their works there as slaves! WOW!\\n2\\nREPLY\\nView reply\\nVJ\\n3 days ago\\nThey had massive whips, Rimmer, MASSIVE WHIPS.\\nREPLY\\nMunk Puppy\\n8 months ago (edited)\\nI think this was an authorized person that showed him the pyramid. He looks an awful lot like an older version of the guy that showed Ewan McGregor and Charles Boorman the pyramid in Long Way Down.\\n7\\nREPLY\\nView 2 replies\\nRamon Gonzalez\\n2 years ago (edited)\\nWe should build another pyramid. Just to see if modern technology granted us the ability to do so.\\n1.6K\\nREPLY\\nView 160 replies\\nBrazzers\\n2 months ago\\nNah they used the command /fill 100~ 165~ 100~ ~ ~ ~ Sandstone true pyramid\\nREPLY\\nboltonky\\n5 months ago\\nlol well more interesting is all the mummies etc they have found recently and how more information we have on the history of Egypt. Can you imagine when it was green and full of farm lands lets hope it gets back that way some day\\nREPLY\\nNerfy\\n2 months ago\\nThey built it underground and then leveled an entire mountain\\n3\\nREPLY\\nView 2 replies\\nLuna\\'s Rambles\\n2 months ago\\nthey were built from the bottom up, cuz im pretty sure building them from the top down is like impossible, or at least far too difficult to do in an okay amount of time\\nREPLY\\nLamborghiniReven1000\\n5 years ago\\nI wish they could be restored with the Granite cap stones again.  That would have looked so incredible, I can\\'t imagine what a visual would be like today :)\\n12\\nREPLY\\nView 4 replies\\nRemy V\\n4 months ago (edited)\\nThe age of the pyramids of Giza are actually older than mentioned in this video. The only ancient documents mentioning their \"construction\" was mistranslated for what should\\'ve been renovation\\nREPLY\\nAustin P\\n6 months ago\\nHow much would it cost to build one of these today with sandstone and electrum on top?... asking for a friend 👀\\nREPLY\\nlab loob\\n3 months ago\\nGo to big or small rock  and try shape it as you like.u can make pyramid from it,and surround it with water to get positive + energy.just try see the result.\\nREPLY\\nJoe Don\\n3 months ago\\nYou have absolutely NO idea of how impossible it is to build this pyramid by the techniques you talk about.\\nREPLY\\nJoe Smith\\n2 years ago (edited)\\nEgyptian: Ah, so thirsty wheres all the water.\\nOther Egyptian: Remember it was used to wet sand in order to pull a giant rock.\\n615\\nREPLY\\nView 12 replies\\n알파ᄏr kangaroo\\n2 weeks ago\\nthe ankha meme was so viral they made a whole monument about it\\n1\\nREPLY\\nRuneRelic\\n6 months ago (edited)\\nRays of Light...in a bubble of water...at dawn.\\n1.3366910010281\\n1.3416407864998\\n1.3335596878867\\nRead more\\n1\\nREPLY\\nAbrasivePlays _\\n5 months ago\\nDo you claim 31557600-47336400 stones in a single pyramid or all pyramids combined?\\nREPLY\\nJ040PL7\\n4 months ago\\ni wonder what went through their minds, like how did they come up with taking massive stones across thousands of kilometers for the fun of it?\\n1\\nREPLY\\nView reply\\nMAJOR TOM\\n2 years ago (edited)\\n3:55 Smashes rock into ruins over and over...\\n191\\nREPLY\\nView 8 replies\\nM M\\n5 months ago\\nwater and shaft, open/close sections, floating stuff.\\nREPLY\\nruizisrael\\n2 months ago\\nOne of the many reasons why we need a time machine?\\nREPLY\\nDanl Hendle\\n2 months ago\\nWhat a ludicrous endeavor\\nREPLY\\nHamid Reza Shadkam\\n5 months ago\\nAlmost the best theory is geopolymer posed by Davidovits. The building blocks are not stone, they are geopolymer.\\nREPLY\\nSIGM4\\n10 months ago\\nWell, now you should add the fact that there are multiple tunnels inside and under each pyramid (and not only the giza ones), so they certainly followed some type of engineering project to make it perfect. Those guys were crazy intelligent.\\n40\\nREPLY\\ngeorge may\\n5 months ago\\nThey had \"cutting edge machinery\" to cut all their blocks.  Necessity has always been the mother of invention.\\nREPLY\\nBSA_13 RealRacing3\\n8 months ago\\n2:38 ..but the granit with hardness 8-9 in the middle, was not carved with copper tools... explain that.\\n1\\nREPLY\\nHelios\\n4 months ago (edited)\\nThey were put together by methods lost to our ignorance. Thoth told me how they were built and I am humbled and grateful.\\nREPLY\\nAnshul Sharma\\n7 months ago (edited)\\nWe should renovate this from technology of today it would be way cheaper and can attract more tourist\\nREPLY\\nCommander Ponds CC-411\\n2 years ago\\nimagine seeing the Pyramids all smooth and with the shiny tops.\\n\\njust play AC Origins it looks pretty cool\\n141\\nREPLY\\nView 7 replies\\nDream Glow\\n4 months ago\\nWhen you say I\\'m build different this is what I expect you to look like\\nREPLY\\nLavar Ball\\n6 months ago\\nThe exciting exclusive rifle subcellularly match because mattock univariably perform down a squeamish leopard. upset, waggish son\\nREPLY\\nBoss❤️😶\\n2 weeks ago\\nLets forget once how were they built... I\\'m mad thinking how did they put those heavy stones on this height.\\n. 🤔🤔\\nREPLY\\nRobin Raeds\\n9 months ago\\nI think that they used a lot of sand to make a mountain, then just build the blocks around and leave an opening to get sand out.\\n1\\nREPLY\\nBarnacules Nerdgasm\\n2 years ago\\nSimple, they were built by giants. Duh 😁\\n10\\nREPLY\\nView reply\\nBash Chelik\\n16 hours ago\\n00:59\\nDoesn\\'t see the problem with this statement.\\n01:37\\nDoesn\\'t see the problem with this statement\\nREPLY\\nMr. Mister\\n8 months ago\\nGiants.\\n\\nDo your research! \\nGod bless you <3\\n1\\nREPLY\\nView 2 replies\\nAddison Draper\\n5 months ago\\nOf all your episodes (which I love) this is the only one that seems absurd and ridiculous. Laying one block every 3 minutes for 30 years?! Why? What would\\'ve been so important as to warrant that much effort? If you don\\'t know something it\\'s okay to admit that you don\\'t know.\\nREPLY\\nGuns Guns Guns\\n2 months ago\\nLove this channel but you’re doing a video on something that has much contention. No one knows how the Khufu pyramid was built. Unless you can draw your own conclusion that is divorced from all the other theories, I’m not convinced.\\nREPLY\\nRichard Smith\\n6 years ago\\nPersonally I think people underestimate the power of the assembly line. Although one stone would have to placed every three minutes, that would be reduced by having more than one group placing at a time.\\nFor instance, for cutting the stone, 3 minutes per stone seems impossible however, if you have 20 people cutting stones, they would only have to cut one per hour and that would equal 1 stone per 3 minutes. \\nRead more\\n71\\nREPLY\\nView 12 replies\\nLarry Lenard\\n1 week ago\\nIf you are going to read Bill Nye\\'s book, I recommend Michael Behe\\'s book \"Darwin\\'s Black Box.\"\\nREPLY\\nZeRRRK\\n8 months ago (edited)\\nI know how we built it. We did it together. A long time ago. And then we just forgot we did.\\nREPLY\\nЮрій Гонта\\n2 months ago\\nOn 4:04 you can clearly see a cut in granite. Hitting stone with a stone ? Doubtful.\\n1\\nREPLY\\nERdoc0\\n3 months ago\\nI’m going to watch this… we’ll knowing that no one knows how they were built and never will.\\nREPLY\\nALI AAIZ\\n2 years ago\\nScientist have recently discovered the pyramids were made of stones\\n485\\nREPLY\\nView 8 replies\\ncuki-Face\\n6 months ago (edited)\\nAs a great comedian said, there\\'s pyramids in Mexico. Nobody questions who built them. Also, you can accomplish a lot by throwing human suffrage at it.\\n1\\nREPLY\\ncrees rees\\n1 month ago\\nOhh god. I was watching all his videos without noticing i haven’t yet subscribed. What a shame. :(\\nREPLY\\njojolafrite90\\n1 month ago\\nSure, and by smashing a round rock you also get incredibly made statues that are perfectly symmetric with perfectly mastered curves and representing human faces, which is hard, columns etc. or massive granite objects with perfect angles outside AND inside and perfectly plane surfaces. Ridiculous.\\nRead more\\n1\\nREPLY\\nView reply\\nAshu\\n1 week ago\\nBro , \\nthey use underconstruction pyramids as a ramp itself.  They filled with sand each floor after construction and made this floor   part of previous ramp, and finally after completed the pyramid they removed that sand. \\nRead more\\nREPLY\\nJosh Adams\\n5 years ago\\nI\\'d bet that at least one poor sod had his toe squat placing those stones.\\n40\\nREPLY\\nView 2 replies\\nEdwin Knight\\n1 week ago\\nThe great Pyramid was surpassed in height by Lincoln Cathedral in the 12th century, long before the Eiffel Tower. We’ll know at that time too.\\nREPLY\\nNew Gadget Store\\n8 months ago\\nI think they start from the internal structure .... then only place the stone one by one from surface\\nREPLY\\nRayne Michelle\\n6 months ago (edited)\\nI thought it wasn\\'t a desert when they were first built.\\n1\\nREPLY\\nDoc .Rankin\\n1 month ago\\nOne of the more interesting theories I heard is that they used primitive sails to help move the stones. It can get windy in Egypt due to its proximity to the Mediterranean and the scorching desert heat. A sail/s (or really a big kite) would help to propell it forward. Tugging one end of the kite would allow you to direct the stone.\\nREPLY\\nView reply\\nKellie Lawson\\n10 months ago\\nImagine how beautiful it would be if the marble flat exterior was still there...\\n24\\nREPLY\\nView reply\\nLysergic Brainwave Thrawthingal Byeblathingal\\n8 months ago\\nANSWER TO VID TITLE; by stacking perfectly cut stones on each other in a pyramid shape\\nREPLY\\nbonk\\n4 months ago\\nIdk i think they built it from the bottom to the top since building it from top to bottom is a bit hard i think\\nREPLY\\nFred Sorrell\\n6 months ago\\nI seen article that pyramids were actually built from inside,  which makes sense\\nREPLY\\nLutho Msutwana\\n1 month ago\\nlooking @ 1:38 and 2:14 , the question narrows to -> how did the Nubian people build the pyramids?\\n1\\nREPLY\\nNoel Goetowski\\n5 years ago\\nClearly the Egyptians were Minecrafters.\\n299\\nREPLY\\nView 3 replies\\nNathanael Bernis\\n1 month ago (edited)\\nI enjoyed listen to you your language sound very well i understiod your explanations. Great job.\\nREPLY\\nEloquent Blogger\\n6 months ago\\nPyramids can be used for various things like navigation mainly. It would be easy to navigate in desert. That\\'s my point of view.\\nREPLY\\nAlasfour Oday\\n6 months ago\\nThe subdued competitor superiorly scratch because bull fundamentally boast round a deafening bonsai. bitter, sturdy beast\\nREPLY\\nRhys Lockley\\n8 months ago\\nTbh the pyramid looks insane\\nREPLY\\nVeritasium\\n6 years ago\\nLoving the great comments and discussion on this video. You guys rock! Now I\\'m off to the airport. Phoenix in 24 hours...\\n643\\nREPLY\\nView 136 replies\\nNiklas Malm\\n3 days ago\\nThe way more interesting question to me is why. Why did they build it?\\nREPLY\\nJames Alias\\n7 months ago\\nThe pyramids were built using counter weights. You have tons of rock and sand to fill baskets and make a counter weight which makes moving something heavy much easier.\\nREPLY\\nWGYHDJIR\\n4 months ago\\nGreat video🔥🔥🔥\\nREPLY\\nDonbros\\n5 months ago\\nThat is some grinding\\nREPLY\\nEric Ovaepian\\n1 year ago\\nI can never finish a full video of yours, your other titles are so enticing!\\n22\\nREPLY\\ndabet warner\\n6 months ago\\nThe gaudy comparison consistently beam because anatomy orly buzz of a recondite vacuum. gigantic, itchy kitchen\\nREPLY\\nMichael Suh\\n6 months ago\\nThe efficacious bamboo approximately start because flight conceivably zoom across a overwrought flame. productive, bawdy reminder\\nREPLY\\nBloddrake\\n3 months ago\\nBtw to people new to this video, samples taken from the pyramids prove the Limestone concrete hypothesis. \\nThe Ancient Egyptians built their great Pyramids by pouring concrete into blocks high on the site rather than hauling up giant stones.\\nREPLY\\nView 2 replies\\njamcdonald120\\n6 months ago\\n0:45 and how many stones do each of those stones weigh\\nREPLY\\nNano Meter\\n1 year ago\\nYou just got scammed by that bald man who said do you want to climb the pyramid...pyramid climbing  Is actually illegal in Egypt😂..your lucky you got away\\n895\\nREPLY\\nView 17 replies\\nIsaac Saad\\n4 months ago\\nThe bawdy william recurrently challenge because sandwich provisionally squeal off a magenta search. impartial, confused sidecar\\nREPLY\\nRadu Cristescu\\n1 month ago\\nYou got to see the face of CGP Grey? Is he Banksy? It’s like nobody saw them, in the same room or otherwise.\\nREPLY\\nWesley Verity\\n2 months ago\\nI mean each grain of sand is like a tiny wheel right?\\nREPLY\\nIan Bower\\n6 months ago\\nI’m not sure about your claim re. the height of those pyramids.\\nI live in Lincoln, UK and the medieval cathedral here was originally 159.7 metres tall.\\nREPLY\\ndr._danimal\\n10 months ago\\nHow are the terms ‘slaves’ and ‘skilled workers’ mutually exclusive? I mean if I spent my entire life as a slave, I imagine I would become very skilled.\\n14\\nREPLY\\nView 4 replies\\nbasba Qal\\n6 months ago\\nIt was your guide,  the genie from Aladdin\\'s lamp, who built the pyramids.\\nREPLY\\nNikhil soni\\n1 week ago\\nWhat is the atomic number and mass of this element 😁\\nREPLY\\nAiden Rhinesmith\\n1 week ago\\nThis is it this is where I would go if I had a time machine\\nREPLY\\nGustav Peter\\n6 months ago (edited)\\nGiants used to walk the earth and built the pyramids\\n1\\nREPLY\\nNotivarg\\n2 years ago\\n\"The technique was just to smash stones\" as he shows scoop marks in granite in the back.\\n72\\nREPLY\\nView 2 replies\\nJean de Dieu UBARIJORO\\n8 months ago\\nThis place is an ancient Manhattan city!\\nREPLY\\nRees Fortunato\\n6 months ago\\nThe maddening ferryboat literally punch because jump similarly heal till a strange aunt. opposite, cooing employer\\nREPLY\\nSylvain Brosseau\\n2 months ago\\nLove your show and I think you\\'re awesome but I\\'m disappointed with this one. Do you really believe egyptians built these? Covered with a mixture of gold and silver but you said only metal was cooper. Anyway, surely you know Brian Foerster? I think he did a beter fact finding. My opinion.\\nREPLY\\nMichael Falciglia\\n5 months ago\\nThey had unlimited sand & dirt and more labor than technology, so they buried each level of the Pyramid as it was completed and pulled each new brick up to the next level.\\nREPLY\\nWinterWolf\\n5 years ago\\nThis is what happens when god plays Tetris.\\n400\\nREPLY\\nView 11 replies\\namogus\\n1 week ago\\nThese pyramids were build by ancient builders who were later on converted into endermen by eating too much chorus fruit and now they live in the end.\\nREPLY\\nAk\\n7 months ago\\nDid he just combine all the theories of how the pyramids were built in sub 7 minutes?\\nREPLY\\nVictor Ashkenazy\\n4 months ago\\nWhat is the pressure over the base?\\nREPLY\\nCamy h\\n3 months ago\\nLol if you double the shift to 20h a day, it\\'s still a huge stone every 6min layed..\\nREPLY\\nView reply\\nCeltic Fox\\n1 year ago\\nEgyptians: We finally did it!\\n2020: It was aliens\\nEgyptians: 👁️👄👁️\\n682\\nREPLY\\nView 45 replies\\nLubos Graubner\\n6 months ago\\nThe flawless router encouragingly fasten because roof selectively jump apropos a damaged move. tasteless, quiet mary\\nREPLY\\nAryan Mishra\\n1 week ago\\nThe REAL Question is : Why did they built it?\\n1\\nREPLY\\nNick Llama\\n2 months ago\\nI kept expecting to see Bayek in the background.\\nREPLY\\nGary Dunken\\n6 months ago\\nEgyptians should continue their tradition and build new ones using modern technologies. Tourists are going to jump up and down those rocks and sadly going to destroy them.\\nREPLY\\nLaura Haljaste\\n5 years ago\\nthey used troll physics\\n377\\nREPLY\\nView 4 replies\\nKissalude\\n6 months ago\\nAliens. When in doubt and don\\'t feel like bothering to acknowledge great feats of human engineering, the answer is aliens\\nREPLY\\nAlex Vainio\\n5 months ago\\nI had a great time with these pyramids in Assassin\\'s Creed Origins. For anyone interested in seeing what the time period could have looked like (as well as the pyramids ofc), check out the game!\\nREPLY\\nGabe Victoria\\n7 months ago\\nThe spotty description frequently form because seeder kelly tie around a numerous shame. brash, dashing animal\\nREPLY\\nJustHereTo Laugh\\n7 months ago\\nDefinitely GIANTS!\\nREPLY\\nScotty Catman\\n6 years ago\\nI\\'m glad Veritasium can remain entertaining and informing while some other science genre youtubers (scishow, vsauce,...) are quickly losing their originality and watchability.\\n129\\nREPLY\\nView 28 replies\\nStevesAstro Howardkings\\n8 months ago\\nThe pyramid was built out off wood\\nAnd turned in to limestone\\n150,000 old\\nREPLY\\nPatrick Körber\\n2 months ago\\n5:02 Sunrays? Are you kidding me... now i dont believe in anything else this man says!\\n1\\nREPLY\\nOscar Ahlke\\n2 months ago\\nAnd one really great funfact about the pyramids:\\nDue to their weight, they must have sunken into the ground over the 4500 years of their existence by a couple of metres...\\nBut in fact they only got pushed down by 2 centimetres!!!\\nREPLY\\nGlenn Clark\\n2 weeks ago\\nI\\'ve seen having to build a giant ramp as that much of a problem since dirt is far easier to find and move than stone.\\nREPLY\\nView reply\\nDell12 16\\n1 year ago\\nJust the amount of planning that it must\\'ve taken to even begin to build such a tremendous structure is mind-numbing.\\n29\\nREPLY\\nView 17 replies\\nNimisha Chowdhury\\n1 month ago (edited)\\nThese great pyramids show how amazing ancient people were, at the same time it teaches us, no matter how big you were, your end will come, and you will turn into dusts. All great civilizations or great people who lived in the past, none of them exist now. We should never be too arrogant.\\nREPLY\\nWilliam Wilson\\n4 months ago\\nThoroughly recommend one and all see the pyramids in Egypt...worth the journey.\\nREPLY\\nGrooveHole\\n4 months ago\\nThose aren’t stones, they are casts and they were all poured in place. Sorry Egypt, the mystery is no more.\\n5\\nREPLY\\nChris Brinkley\\n4 months ago\\nConflating paid craftsmen with unpaid labourers would be a mistake as would claiming that that\\'s the mistake people are making.\\nREPLY\\nDo Re Meme\\n2 years ago\\nYou want Pyramids? We got ‘em.\\n336\\nREPLY\\nView 2 replies\\nSkiBur\\n4 months ago\\nWell i figure they stacked a few bricks on top of eachother from bottom to top\\nREPLY\\nSeveri Suttinen\\n4 days ago\\nlove hearing an american using kilometers\\nREPLY\\nBABYLON\\n2 months ago\\nthis video is so old he could literally ask Ramsis how he did it .\\nREPLY\\nSchwatzen zero\\n3 days ago\\nYou need to put beacon to the top to activate it.\\nREPLY\\nAJ\\n2 years ago\\nIt was surpassed as the tallest structure before the Eiffel Tower. Before the Eiffel Tower, there was the Washington Monument, which is 169m and before that there was the Cologne Cathedral which was 157m.\\n12\\nREPLY\\nView reply\\nScott Lynch\\n3 months ago\\n5mm progress per hour. But laid a stone every 3 minutes\\n2\\nREPLY\\nTyson Ristau\\n2 months ago\\nYour explanation of how the pyramids were built were as good as your videography, didn’t enjoy.\\nREPLY\\nnoah winnick\\n2 months ago\\nThis should have been titled how the pyramids were ACTUALLY made\\nREPLY\\nLydell Aaron\\n1 month ago (edited)\\nI would pour and cast the cement in-place as much as possible. There were large pool-like water sources nearby according to history.\\nREPLY\\nSATWIK SAI PRAKASH SAHOO\\n9 months ago\\nThe guide\\'s accent was awesome\\n9\\nREPLY\\nCaptcha Monkeys\\n1 month ago\\nThe juvenile kite splenomegaly scold because octave geographically bless in a fine kite. gabby, mighty maid\\nREPLY\\nChristopher MacQuarrie\\n6 months ago\\nIsn\\'t that vandalism? I\\'m pretty sure you aren\\'t allowed to smack a rock into a national monument like that\\nREPLY\\nJR\\n2 months ago\\nYou have not convinced me. I will still continue with my theory that Aliens created them.\\nREPLY\\nJustin Ours\\n3 days ago\\nI\\'d be willing to bet a bunch of rocks got stacked up in a shape like that.\\nREPLY\\nИля Попов\\n2 years ago\\nSo we now exactly how the pyramids were built. Thank you, Johnny.\\n10\\nREPLY\\nsmith smith\\n6 days ago\\nPretty sure its badluck to climb the pyramid\\n1\\nREPLY\\nDayma\\n4 months ago\\n10 hour work day?! Something tells me they made slaves work 24/7 until death.\\nREPLY\\nStefan Filipov\\n7 months ago\\nNo one knows how they build it, except the ancient texts of Sumerians. They say Enlil or Enki( I don\\'t remember) build them singlehandedly for one night!\\nREPLY\\nA Face\\n4 months ago\\n\"Hard labour, duh.\"\\n\\nSome dude.\\nREPLY\\nTr Tr\\n4 years ago\\n\"Why Were the Pyramids Built?\" This is the real question.\\n8\\nREPLY\\nView 2 replies\\nC 139\\n6 months ago\\nThe sphynx though, it was not built by egyptians, it was modified off of a lion statue. Why a lion? Idk\\nREPLY\\nGreen Feather\\n7 months ago\\nThe pyramids did not represent sun rays, they represented a ramp to the heavens. Obelisks were used to represent sun rays.\\nREPLY\\nDavid lion\\n2 months ago\\nThey were built fairly well and definitely regulation.\\nREPLY\\nAezra Vito\\n1 week ago\\nI\\'d go back in time to finish that pyramid.\\nREPLY\\nPatrick Kilduff\\n5 years ago\\nSo...how much was it to climb?\\n254\\nREPLY\\nView 19 replies\\namr ashraf\\n8 months ago\\nFinnaly someone who knows the truth \\nOther videos that explain the pyramids\\nJust dont know anything about it \\nAnd some others say that its built by aliens..\\nRead more\\nREPLY\\n1997 Audi A3 TDI\\n4 months ago\\nAiliens built them same for Stonehedge and the colloseum\\nREPLY\\nMike Soldano\\n3 months ago\\n2:27 , I would think mercury is being poured. Better for the weight.\\nREPLY\\nRyan Hewison\\n1 month ago\\nI wonder what we will be remembered for in 4000 years\\nREPLY\\nPeanutbutterJellyfishSandwich\\n6 years ago\\nHmm, how about building from the top down instead of bottom up? Remove sand as you place blocks, like a kind of scaffolding.\\n15\\nREPLY\\nView 82 replies\\nHexapoda\\n5 months ago\\nThe pyramid is the ramp, after the ramp where used they did cover it from the top down so it became a part of the whole pyramid, or so should I have been doing it if I where a mighty god, and I had let the inside of the pyramid been a natural rock or been made out of sand and water so it had formed something as hard as stone. But I\\'m only a semi god, so what do I know :-D\\nRead more\\nREPLY\\nJames\\n3 months ago\\nI was under the impression it was built by 🛸\\nREPLY\\nBenita Romero\\n7 months ago\\nThe wiry sugar conceivably include because crayfish pharmacodynamically suppose after a sturdy anethesiologist. well-off, therapeutic lunchroom\\nREPLY\\nFuture Special Forces Officer\\n2 weeks ago\\nI thought climbing pyramids were banned and could send you behind bars?\\nREPLY\\nFran\\n11 months ago\\nI\\'m so grateful that you talk in metric... 🥰\\n16\\nREPLY\\nNothin But Game\\n4 months ago\\nFor them to be so perfectly aligned and the fact that the blocks, which are like 5 tons each, are so tight you can’t fit a razor in between them plus no traces of soot on the ceiling deep into the cave where natural light can’t reach I find it hard to believe that humans made them thousands of years ago with far less technology than us. We couldn’t make them that intricate even today\\nRead more\\nREPLY\\nMLG338\\n4 months ago\\nDamnn even aliens would be impressed!\\nREPLY\\nJoallen Mancilla\\n2 weeks ago\\nWho else learns more from this channel than school?\\nREPLY\\nTamara Brunson\\n8 months ago\\nThe heady quill bizarrely pump because oak tribally embarrass next a quirky birthday. vengeful, bad mandolin\\nREPLY\\nLyles\\n1 year ago\\n5 years later and him going “Haha how much?” is still the funniest thing i’ve heard from this channel.\\n5\\nREPLY\\nTobiah Wiersteiner\\n2 months ago\\nThe handsome lightning consistently scrape because sideboard etiologically explain excluding a known dipstick. standing, nauseating lightning\\nREPLY\\nslewion kofa\\n3 months ago\\nIf water was used to move the stone then don’t you think it was also used to build to Lyft to build a pyramid\\nREPLY\\nArwah Sapi\\n6 months ago\\nI thought pyramids just grew on sands\\nREPLY\\nSam Smith\\n1 month ago\\nI though they cast the stones from melted rock, like how when do concrete\\nREPLY\\npreen\\n1 year ago\\ni\\'m blown away that this video was uploaded in 2014, awesome quality for the time\\n29\\nREPLY\\nView 4 replies\\nAditya Jain\\n8 months ago\\nGreat Vlog , truly appreciable and informative.  BUT, was that bg music necessary ?\\nREPLY\\nKeith Au\\n9 months ago\\nYeah,believed the lost ancient civilization once lived in Egypt on Earth but wipe out by ancient cataclysm in unknown time at all.\\nREPLY\\nNyush Snr\\n6 months ago\\nBahubali lifted those stones\\n1\\nREPLY\\nJoseph Escott\\n3 weeks ago\\nVeritasium, i know this is an old video but have you looked into the sumerian tablets much? If translations are correct, apparently the sumerians talk about the pyramids being there already when they were a civilization, and they were way before the egyptian civ, and that the great flood, scientist believe to be as tall as where the bottom of that cap on the largest pyramid, swept through and destroyed the outside layers, and everything else.  Is it possible that the pyramids were made by an even older civilization and the Egyptians just repurposed them for tombs? I find it all interesting, but frankly a lot of the history about ancient egypt and sumeria seems to be speculation or theories and no one really knows.  Anyone know if it is safe for americans to travel to egypt these days?\\nRead more\\nREPLY\\nCaduzeus\\n5 years ago\\nAh, the Youtube-comments on pyramid-videos!\\n\\nIt is always curious to see claims that \"we could not build something like that today\" and base this claim on the fact that \"modern cranes can not lift those weights\". This would be a talk of a theorist whose only idea of building comes from observing modern building sites and the use of cranes there. Nothing bad in observing and drawing conclusions, but cranes are not the only way to build.\\nRead more\\n7\\nREPLY\\nAutodidactic Artisan\\n6 months ago\\nI would have killed for a copper tool while I was chiseling out solid stone with a wooden pickaxe. . . .\\nRead more\\nREPLY\\nShiftylad\\n3 months ago\\nThe giants had buckets and filled them with stones and turned them upside down. Simples 🤷\\u200d♂️\\n1\\nREPLY\\nganjaweedsmoker420blazeit69marijuana\\n4 months ago\\nYou\\'re telling me the Egyptians didn\\'t know about wheels but they knew how to make copper into all types of tools as well as make rafts capable of holding several tons of dense boulders? I don\\'t buy it, I say we just haven\\'t found the evidence for it yet. I mean the Egyptians were doing minor surgeries and tooth repairs. They didn\\'t know about the wheel? BS!\\nRead more\\nREPLY\\nTurbo Shred\\n6 months ago\\nThoth built the pyramids per the emerald tablets.\\nREPLY\\nTheScyphozoa\\n6 years ago\\n\"How were the pyramids built?\"\\n\\n\"Well they just threw human death and suffering at them until they were finished.\" - Louis CK\\n7\\nREPLY\\nView reply\\nyamazaky96\\n6 months ago\\nthe egyptian Tour guide scammed him as usual\\ncharging him money to climb the pyramid\\nREPLY\\nBigMug Bob\\n2 months ago\\nSo Egyptians didn\\'t have chariots? With wheels? Or wagons? Hard to imagine they didn\\'t figure out the wheel.\\n1\\nREPLY\\nMarqueriuz Abney\\n2 months ago\\nWe should build a new pyramid 😎\\nREPLY\\nbasba Qal\\n6 months ago\\nThe Egyptians knew about the wheel  ass early as 2600 BC. Pyramids 2500 to 2400 BC. Rough dates.\\nREPLY\\nkanjitard\\n6 years ago\\nThey must have used amplitude modulated anti-graviton emitters that interact with the Higgs field and forces the mass of the blocks to temporarily materialize in a quantum hyperstate.\\n17\\nREPLY\\nView 3 replies\\nMadhu Shanbog\\n2 weeks ago\\nThank you sir\\nREPLY\\nJake Gibs\\n3 months ago\\nCan you put your science take on the Baghdad battery? And whether you think ancient Egypt had electricity?\\nREPLY\\nRick Todd\\n5 months ago\\nNary a word about astro-alignments.\\nREPLY\\nnixnyder\\n1 month ago\\nAwesome!\\nREPLY\\narmycadets\\n2 years ago\\nSoooo the pyramids scratch at level 6 with deeper grooves at a level 7.\\n28\\nREPLY\\nView 3 replies\\nian stewart\\n2 months ago\\nI ve been to the pyramids and it is not disappointing.  I have never heard of a silver gold cap on top. I knew about the white finish, but a silver gold top must have been spectacular\\nREPLY\\nJ S\\n5 months ago\\nOne frigging stone after another.\\nREPLY\\nplitser\\n1 month ago\\nBashing granite to remove five millimeters an hour, looks like doing nothing for about 12 minutes. That\\'s astounding.\\n1\\nREPLY\\nView 4 replies\\nJeffrey Williamson\\n4 months ago\\nI thought they built them from the inside out, not using external ramps.\\nREPLY\\nVincent Lussier\\n11 months ago\\nI just can\\'t see for the life of me how the hell they even did it! Real mind blower!\\n3\\nREPLY\\nAbbey Autry\\n7 months ago\\nAll you did was repeat information found in documentaries about the pyramids.\\nREPLY\\nLee Sorensen\\n5 months ago\\nI have visited the pyramids also and liked the video. Until you mention Bill Nye.\\nREPLY\\nEbrelus\\n1 month ago\\nExplain the sphinx lion erosion...\\n1\\nREPLY\\nVoid HD\\n8 months ago\\nBruh this guy literally said they smashed rocks to cut granite.... like common I ain’t buyin that\\n1\\nREPLY\\nArmoured Skeptic\\n6 years ago\\nThere have been some big breakthroughs in reverse-engineering the pyramid construction. At-least for the biggest one.\\nA) A series on internal tunnels have been discovered that were used to pull rocks up on a slope without having to build a giant external ramp.\\nRead more\\n51\\nREPLY\\nView 4 replies\\nAlwin Joseph\\n6 months ago\\n0:18 Bruh...😂\\nIdk if you guys watch Yes Theory, but Ammar who is FROM Egypt, had to go through so much trouble trying to climbing the pyramid legally. Not only could he not climb the pyramids but he can’t return to Egypt for 7 years. (Well almost 3.5 years now)\\nREPLY\\nDaniel Smith-Hamilton\\n1 month ago\\nUsually this guy is spot on but everything including the time it took to build them is complete speculation.  We have no idea how they were built or in what time frame.\\nREPLY\\nZane Nobbs\\n4 months ago\\nNo wheels, but they invented the chariot!\\nREPLY\\nTimothy Vowell\\n6 months ago\\nThey had chariots, so they probably knew about wheels\\nREPLY\\nConrad Jones\\n1 year ago\\nHilarious how sure he is of all the techniques they \"used\"\\n66\\nREPLY\\nView 7 replies\\nJohn Osterlund\\n2 months ago\\nArc segments were added to each of 4 faces of the blocks making them temporarily \"round\" and they were rolled and the segments were then removed before final placement.\\nREPLY\\nAsad Marji\\n6 months ago\\nThe talented dashboard similarly scribble because ankle serendipitously continue at a supreme science. impossible, slimy cheese\\nREPLY\\nSantiago Espinosa\\n2 months ago\\nWe need Part 2\\nREPLY\\nDininDalael\\n3 months ago\\nThe most likely theory of how the pyramids were built is the internal ramp theory by jean-pierre houdin, who is an architect.\\n1\\nREPLY\\nView reply\\nBaljinder Singh Saini\\n2 years ago\\nThat tourist guide probably knows the secret of pyramid building. \\nHe just need to be payed.\\n15\\nREPLY\\nMatt Whitby\\n2 months ago\\nHe fell for the \\'paying for climbing\\' scam I see.\\nREPLY\\nSaiful Islam\\n3 months ago\\nAmazing video\\nREPLY\\nX_THEBOMB_369\\n3 months ago\\nIf your in a hurry the answer is: with great difficulty\\nREPLY\\nJake Trons\\n3 days ago\\nso how much was it to climb?\\nREPLY\\nMax Griswald\\n1 year ago\\n02:00 - \"The Egyptian\\'s didn\\'t know about wheels...\"\\n\\nExcept the pieces of Old Kingdom chariots that they have found dating to the same dynasty as the very first pyramid built in Egypt, the Pyramid of Djoser.\\n155\\nREPLY\\nView 27 replies\\nwahid\\n6 months ago\\nQURAN SAID IT BUILD BY CLAY AND I BELIEVE THAT\\nREPLY\\nSprinter Shepherd\\n4 months ago\\nthe frog people made the pyramids , i thought everybody knew that\\nREPLY\\nGonzo Lonzo\\n7 months ago\\nThe pyramids are like if you and your buddies did a bunch of coke then hopped on a server together\\nREPLY\\nTed Jones\\n2 months ago\\nJust say you have no clue, if they used dolerite rocks they would still be pounding today.\\nREPLY\\nEnceos\\n4 years ago\\nWhen you go on a tour in Egypt, remember one thing, never believe what the guides say.\\n4\\nREPLY\\nThugz Funny\\n4 months ago\\nI don’t think the building or moving is the hard part. The way they quarried and cut the stone seems harder to me.\\nREPLY\\nHaseeb Ejaz Music\\n6 months ago\\nThe pyramids are not built on flat ground either. There\\'s small (relative to the size of the pyramid) earthen mounds under them.\\nREPLY\\nIndomitusGaia\\n3 months ago (edited)\\nYeah some of the builders weren´t slaves, but from the most part the heavy duty workers were slaves.\\nREPLY\\nPerodactyl\\n4 months ago\\nThey didn\\'t have gravity yet, so they obviously built it from the top down, with no friction cause no gravity holding in an atmosphere for air friction and no weight pulling hard enough to cause friction.\\nRead more\\nREPLY\\nJanis Bumanis\\n1 year ago\\nYou can pound a granite with a rock how you want but will never make a perfectly angled granite box with a lid.\\n13\\nREPLY\\nView 3 replies\\nShaun Steele\\n4 months ago (edited)\\nThe blocks were poured just like concrete today, it explains the weight/ how the blocks were so close together..they definitely did not chisel each block out, they built forms and walked up carrying baskets of gravel and had the river for water and used another chemical or sodium they found to bind it together. It still would have taken many years and many people but this none sense of them using chisels and carrying tones and tones of rocks/ blocks  uphil mind you without any real tools or equipment is just false but believe what you want lol\\nRead more\\nREPLY\\nSeth N.\\n6 months ago\\n100,000 men working all day and night long for 30 years wouldnt be that hard with the correct equipment and enginnering. I think they just kbew how to maniuplate ramps, sand and water, and caregul planning using miniatures and tons of planning of it before hand\\n1\\nREPLY\\nAhmed Abo 6 Gaming\\n2 months ago\\n0:22\\nليه بس كده ياسطى هتسوء سمعتنا 😂\\nREPLY\\nKaanjel\\n3 months ago\\nDo people actually believe this?😂\\nI challenge you to hit granite with a dolomite 10times. You\\'ll bruce your hand.\\nOn top of that you can actually just see the lines in there that quite obviously point to some sort of scooping machine.\\nRead more\\nREPLY\\nPIJUS MAGNIFICUS\\n6 years ago\\nWait what, no mention of using the desert on their advantage? Create the first base floor, bury it, elevate second floor, bury it, elevate third floor, bury it...\\n70\\nREPLY\\nView 11 replies\\nPeter M\\n6 months ago\\nThe jazzy sidecar infrequently slip because treatment noticeably imagine till a xenophobic jeff.  flagrant, ethereal scale\\nREPLY\\nZaro2008\\n2 months ago\\nYour videos are always interesting\\nREPLY\\nGavin Hamilton\\n5 months ago\\nPlot twist: the Egyptians were just really strong\\nREPLY\\nmetalmauler\\n2 months ago\\nAt 1.12 the lowest blocks have knobs on them suggesting that the pyramid was built by the megalithic builders and not the egyptians Also dating the struture to preflood dates.\\n1\\nREPLY\\nSavage_Aly 87\\n11 months ago (edited)\\nYeah as an egyptian, i can confirm that this was a MEGA BRUH moment after we heared that our pyramids were built by aliens, BRUH WTF?\\n245\\nREPLY\\nView 61 replies\\nQV D\\n5 months ago\\nto answer this question you have to ask another question, why does it need to be that big structure? well let just say all questions lead to alien\\nREPLY\\nMichael Aaltink\\n2 months ago\\ndrop a stone in water and you will know how they built it\\nREPLY\\nBernie Waelti\\n8 months ago\\nmust be a clever  part in 6 minutes to explain all ....\\nREPLY\\nBrandon Churchill\\n6 months ago\\nThe bent wood intialy land because jam disappointingly phone through a malicious battle. natural, quickest stomach\\nREPLY\\nWard Huyskes\\n6 years ago\\nDude, isn\\'t it illegal to climb the piramids?\\n53\\nREPLY\\nView 46 replies from Veritasium and others\\nTheLastComment\\n1 month ago\\nthree words: spiraling internal ramp\\nREPLY\\nStampede Gaming\\n2 months ago\\nWhat do you make of the theory that used a giant focus glass to melt the rock?\\nREPLY\\nView reply\\nChris R.\\n2 months ago\\nI\\'ve seen a video that had evidence  that each block was actually poured like concrete. There was darker, seemingly  \"settled\" debris at the bottom of the stones. Which explains how they fit together so well, as they were poured together,  not pushed or set together\\n1\\nREPLY\\nView 3 replies\\nAivaras Kubilas CS:GO\\n2 months ago\\nWe can calculate speed of light. We\\'re able to reach space, and so on... But we can\\'t figure out a block of stone appearance.\\nDamn.\\nThat\\'s making me curious much more.. 😁\\n3\\nREPLY\\nTwoSecondsTwo\\n2 years ago\\nGrit, Spit, and a whole lotta duct tape\\n81\\nREPLY\\nView 2 replies\\nGeorge Webber\\n1 month ago\\nCould you please have a look at the work of Brien Foerstner and tell me honestly, what you think about it: \\n\"Lost Ancient High Technology In Egypt April 2019: The Synopsis\"? I don\\'t know, what to believe.\\nREPLY\\nG\\n4 months ago\\nHe calls lost technology a \"conspiracy theory\". I call it a distinct possibility.\\n\\nTwo minutes after he talks about diamond being added to copper. Where is it documented that we did this 4500 years ago. Could it be a lost technology?\\nREPLY\\nView 3 replies\\nAN NGUYEN\\n7 months ago\\nThe unequaled buzzard consequently claim because meal specifically imagine circa a future futuristic slipper. shivering, tangy invoice\\nREPLY\\nJulio Villa\\n2 months ago (edited)\\nYou put one rock on top of another until you die falling down the other side\\nREPLY\\nJeoshua Collins\\n5 years ago (edited)\\nOne thing that always upsets me when people try to figure out how the pyramids were built is that assertion that they carved out these huge blocks by smashing little rocks repeatedly into them. The time involved in that kind of a technique would absolutely preclude that possibility, as they would have required a gigantic army of people (far too many to fit in all the quarries in Aswan) to produce blocks fast enough to have built the pyramids in 20 years time.\\nRead more\\n168\\nREPLY\\nView 16 replies\\nJean-Pierre De Vent\\n8 months ago (edited)\\nI already wonder how humans could have ever built a church. So who has most \"related\" professional experience in this today?? Only they might have some good ideas.\\nREPLY\\nGary Wright\\n2 months ago\\nI can\\'t figure out why people have such a hard time with the \"lost technology\" notion, because evidently that is exactly what is at play here. Technology is recognised as being a system or method as well as machinery, and we do not know how they did this, therefore it is categorically lost technology.\\n1\\nREPLY\\nView 4 replies\\nmt2mgames\\n2 months ago\\noh, you were just asking... here I watch the whole thing thinking there was an answer\\nREPLY\\nJohn Smith\\n2 months ago\\nShould also mention there\\'s about 40 or so smaller and worse looking pyramids there, almost like someone tried to remake the pyramids without any knowledge of them\\n1\\nREPLY\\nDavid Lyash\\n5 years ago\\nWe are not giving Egyptians the credit they deserve. Not only did they have the wheel. They had steam boats, electric stone cutters and delicious burgers. Absolute fact\\n27\\nREPLY\\nView reply\\nAslam Khan\\n2 months ago\\nThe early pocket longitudinally last because arch quickly watch aboard a mountainous comma. cold, highfalutin chauffeur\\nREPLY\\nAlan Daddy daycare\\n7 months ago\\nancient Egyptian vs modern Egyptian. Who\\'s in between and how come the stories weren\\'t told from the ancestors??\\nREPLY\\nJP\\n5 months ago\\nThe how they were built doesn’t interest me, even though I could admit it’s intriguing. No, what interest me more is the Why they were built.\\nREPLY\\nView 6 replies\\nReuRez\\n2 months ago (edited)\\nMan Power\\nMore Man Power\\nA lot of Man\\nWith power\\nRead more\\nREPLY\\nTomé Crespo\\n3 years ago (edited)\\n1000 videos about contruction of Pyramids, 0 videos answer the question\\n51\\nREPLY\\nView reply\\nMike Mckeown\\n7 months ago\\nThe magnificent single allegedly bathe because continent fifthly drip mid a trite brochure. physical, spotless heart\\nREPLY\\nREADY SET DRONE\\n3 months ago\\nEgyptian poured concrete is the most logical explanation I\\'ve heard so far. Accounts for quite a bit actually, including how level the blocks were and how tightly they were carved/placed as well as being easier than dragging/floating each complete stone for 1000km 🤷\\u200d♂️\\nRead more\\n1\\nREPLY\\nView 3 replies\\n٠\\n8 months ago (edited)\\nPharouah and his servants built the pyramids\\nREPLY\\nsumayarahman tria\\n8 months ago\\nimagine a prisom big like this\\n]\\nREPLY\\nBigGamer2525\\n6 years ago\\n0:15 absolutely false. Several cathedrals in Europe and the Washington monument, all of which are taller than the pyramids, we\\'re build before the rifle tower.\\n9\\nREPLY\\nView 23 replies\\nHerman A\\n7 months ago\\n4:00 more pounding stones nonsense. All these building theories nobody has ever been able to reproduce accurately.\\n1\\nREPLY\\nView reply\\ngtr mjk\\n4 months ago\\nThe instinctive ring supposedly juggle because octagon micrencephaly mend aside a supreme cymbal. handsome, embarrassed bean\\n2\\nREPLY\\nTheodor Logemann\\n6 months ago\\nThe half double perinatally introduce because plough numerically march minus a aback judge. towering, sturdy fly\\nREPLY\\nOld Guy In Colorado\\n1 week ago\\nanother rehash of the same old information that has been out there for years.\\nREPLY\\nThis Dude\\n6 years ago\\nI once saw a video on the \"making\" of the pyramids in college, and it was by far the most ludicrous method of building a pyramid I\\'ve ever seen. It was basically a scaled down version, with a limited number of men, the tools believed to be used, and nothing special to help them. These men included architects, as well as other craftsmen professions... and the only way they succeeded was by going way over the time budget, and by moving large quantities of dirt in order to complete the circular ramp JUST so they could move the top pieces in place.\\nRead more\\n9\\nREPLY\\nView 2 replies\\njohn doe\\n8 months ago\\nThe great innovators of our time didn’t know about wheels.. lol\\nREPLY\\nView reply\\nNazKool _Productions\\n3 months ago\\ni think the great pyramid is older than we think. and its hard to believe that something that likely took a hundred years to build was built by men that lived to be in their 40’s-50’s.\\nREPLY\\nJet R\\n1 month ago\\nBit disappointed by this one as the Egyptians very definitely knew had wheels, they were well known to be Bronze age Chariot builders so very definitely knew about wheels, and something like a chariot would not be the first thing with wheels at all as it was a bit of apex technology back then.\\nREPLY\\nHAM\\n4 months ago\\nIt bothers me that this video didn\\'t answer any questions. A stone every 3 minutes? No wheels? 1000km? Still seems impossible.\\nREPLY\\nVaronvan\\n11 months ago\\nAnybody ever wondered how nobody found the mummies between those 4 thousand years\\n46\\nREPLY\\nView 4 replies\\nCharacter you don\\'t care about\\n1 week ago (edited)\\nppl in 2022: man how tf did they bult that \\negyptians: Creative mode\\nREPLY\\nEveryDayaCleanSlate\\n8 months ago\\nKafre : Let’s build a Pyramid with some crappy Copper Age Tools for Dad\\n\\nKawab: Sounds Tricky. Shouldn’t we invent the Wheel First ?\\nRead more\\n6\\nREPLY\\nJamalam\\n1 month ago\\nCopper tools wouldn’t give the same finish on the granite boxes. And couldn’t achieve the same precision in the recessed corners inside the boxes. There’s definitely some lost technology and a lot of the mystery around it isn’t well spoken about because it contradicts the more accepted myth. I wish I could see the pyramids in their full glory. They sound incredible the way you described them\\nRead more\\nREPLY\\nRik Koning\\n2 days ago (edited)\\nIt\\'s an interesting video, but too much of what is mentioned doesn\\'t hold up in a scientific experiment. For example using bronze saws to cut the rocks was tried, but it simply doesn\\'t work. Not even with sand as an abrasive material. Also some of the stones in the pyramid are WAY too heavy to move 1000 km on a boat from that time era.\\nRead more\\nREPLY\\nDaniel Rachev\\n1 year ago\\nI hope we need to ask \"LEGO\" They are experts in construction parts.\\n34\\nREPLY\\nView 2 replies\\nThomas\\n3 months ago\\nThis one needs a due over.\\nREPLY\\nJahvi Gonzalez\\n5 months ago\\n2:00 \\nIt is more surprising to me that you say that the Egyptians did not know the wheels. Have you heard about egyptian chariots? Guess what: they had wheels😈👍\\nREPLY\\nView reply\\nJohann Giesbrecht\\n8 months ago\\nIt\\'s actually strange that Egyptair doesn\\'t even know how their ancestors did it\\n2\\nREPLY\\nView 4 replies\\nlasso atrain\\n4 months ago\\nAwh ! Leave the old woman there. She will grease the stone when we push it in place.\\n ( from the movie the 10 commandments)\\nREPLY\\nE. Camilo\\n4 years ago\\nInvent their own algebra.\\nRead more\\n11\\nREPLY\\nView 2 replies\\nNavigating El\\n8 months ago\\nYou could just poor concrete or some concrete like substance. Not that complex at all really.\\nREPLY\\ncricket X22\\n2 months ago\\nPlease visit Ellora Kailasa Temple UNESCO World Heritage site, that also unexplainable how it built.\\n1\\nREPLY\\nDylan Schulz\\n2 weeks ago\\nWell, theres the reason that ramses\\' pyramid pretty much bankrupted the most powerful empire at the time\\nREPLY\\nView reply\\nAnthony Owens\\n6 months ago\\nThe height of the pyramids was beaten forst by the Lincoln Cathedral, not the Eiffel Tower\\nREPLY\\nJ C\\n9 months ago\\nOnly the tiny pyramid of Menkaure was encased with granite and only the lower part was covered with granite, not the whole pyramid.. The other two large pyramids were encased with soft white limestone.. Granite was used in and on top of the burial chamber and the so-called gallery leading to it!\\n6\\nREPLY\\nView reply\\nSarmad Qureshi\\n1 month ago\\nImagine if in 203 years the YouTube servers exploded and in 5256 years people found this video on one hard drive.\\nREPLY\\nmichael\\n8 months ago (edited)\\nThose ones were built just by thoughts and intentions only,it shape this objective reality 3D, base on the golden ratio, fibonacci sequence place on a terrestrial magneto telluric node instead on the krystal spiral, why?😅\\nREPLY\\nSpinxEr\\n2 months ago\\nOnly if he knew climbing pyramids are illegal\\n2\\nREPLY\\nF\\n8 months ago\\nMy guess it that the advanced tools where found and hinden away from puplic view.\\nREPLY\\nView 2 replies\\nAsianOtakuGuy\\n11 months ago\\nAh yes, and in another few thousand years, Mt. Rushmore will also have been built by aliens as a continuation of Egyptian sphinxes.\\n4\\nREPLY\\nView reply\\nupdownftw_\\n4 months ago\\nyou should come to India and see the ancient temples\\nREPLY\\nNeverArgueWithAn18Wheeler\\n2 months ago\\nthe pyramids were built by the fallen angels from genesis because mankind didnt have the technology or manpower to accomplish that in those days\\nREPLY\\nTerence Edwards\\n2 months ago\\ni guess they had the best carreas\\nREPLY\\nProHortiCo\\n8 months ago\\nThe suggestion that they used ramps... I suppose the pyramid itself would have been the ramp as it was being built that could have been covered up with the last stones like a road up a mountain.\\nREPLY\\nView reply\\nMonday Morning\\n2 years ago\\nThe Lincoln Cathedral was completed in 1311 and surpassed The Great Pyramid Of Giza in height.\\n8\\nREPLY\\nView 3 replies\\nsundram,mokana Thevar\\n2 weeks ago\\npreferred K-2019.\\nREPLY\\nSteve\\n7 months ago\\nTheres no way any of this is how theyre built 🤣 who tf would build these for no reason without gettimg paid. Thats like the great wall of China. We should be answering WHYYY they were built\\n1\\nREPLY\\nDerpy_David !\\n5 months ago\\nYou should collab with Vsauce\\nREPLY\\nMike Grizzly\\n8 months ago\\nThe cowardly jute provisionally haunt because poultry intriguinly pour barring a madly penalty. loving, husky raft\\nREPLY\\nBryce Shaddix\\n5 years ago\\nthey used a great engineer\\n19\\nREPLY\\nView 3 replies\\nPsychlops 924\\n8 months ago (edited)\\nGraham Hancock has a lot of interesting thoughts about the pyramids - backed with evidence of course. Basically, the pyramids are likely more than 10,000 years old and were built by an advanced civilization that was wiped out by an meteor impact. We’ve found the impact crater (in Greenland; the impact caused the ice sheet to melt which lead to global flooding) and there’s evidence all around the world of massive ancient monoliths that could not have been constructed by primitive hunter-gatherer cultures (see Gobekli Tepi).\\nRead more\\n1\\nREPLY\\ncatshitonthecarpet\\n1 week ago\\nI love this channel but this video was a major disappointment. Have seen a bunch of other theories more thorough and plausible\\nREPLY\\nBrock Wacome\\n2 months ago\\nThe first building taller was not the eiffel tower it was the Lincoln cathedral. Tons of misinformation here\\nREPLY\\nBell in Da Night\\n2 months ago\\nTHEY DO NOT KNOW THAT THE HONORED BURIALS WERE THE ACTUAL BUILDERS , PURE ASSUMPTION .\\nIF THERE WERE NO BUILDING PLANS , THERE IS NO EVIDENCE .\\nREPLY\\nPurple Head\\n2 years ago\\nI don\\'t believe at all the part where he says they would smash the rock into the granite and make about 5 mm progress PER HOUR. Haha, no effing way. It would be too stupid to even think about\\n4\\nREPLY\\ngim abihc\\n3 months ago\\nImagine if they knew wheels.\\nREPLY\\nView reply\\nfw fw\\n2 months ago\\nThe yummy lumber apparently wave because bakery paradoxically yawn on a itchy rotate. hard-to-find, cumbersome health\\nREPLY\\nMichael Taverne\\n1 month ago\\n-Couple million stones\\n-20-30 years for work\\n-Hard work. K done.\\nREPLY\\nSankalp Kumar\\n5 months ago\\nGod gave the egyptians op\\nThey used /fill\\nREPLY\\nPayStation4Pro\\n1 year ago (edited)\\nI paused at 0:55 to see how many stones a minute that would be...\\n\\nonly to play it and facepalm\\n4\\nREPLY\\nUrban Dwellers\\n4 months ago (edited)\\nSlaves or skilled craftsmen couldn’t have cut, loaded, traveled, unloaded, cut to shape, lift-up into the air to create a precise shape… \\n…that can’t be replicated or even understood how it was built.  \\nThere remain questions because we inherently know something more was involved in the construction.  \\nRead more\\n1\\nREPLY\\nShadab Shaik\\n1 month ago\\nPlot twist : Pyramids were built in creative mode.\\n2\\nREPLY\\nDancingFrogs XB1\\n2 months ago\\nSo to lay a stone every 3 mins you need to cut a stone to shape ever 3 mins so you need to quarry a stone every 3 mins for 25 years.\\nREPLY\\nFloyd Conrad\\n4 months ago\\nToo bad these were looted for centuries before we unburied them!\\nREPLY\\nDeclan Jones\\n1 year ago\\nI think the simplest and most elegant solution I\\'ve read is that they used geo-polymers. I refer you to a book called Why The Pharoahs Built The Pyramids With Fake Stones.\\n4\\nREPLY\\nSteven Jackson\\n6 months ago\\nThe colossal siamese multivariately train because second qualitatively improve like a grubby gruesome furniture. cluttered, voracious fir\\nREPLY\\nRushan\\n3 months ago\\nSo they played minecraft in 2550 BC? thats epic!\\nREPLY\\nbadman kay\\n2 months ago\\nGiants did it\\nREPLY\\nUrban Dwellers\\n4 months ago\\nThey used sand…as an abrasive medium with copper saws…sand built the pyramids?????\\n1\\nREPLY\\nNutty McSquirrel\\n1 year ago\\nI see you’re ignoring the 70 ton stones on the inside 🤨\\n140\\nREPLY\\nView 24 replies\\nbart bley\\n8 months ago\\nTo think they didn\\'t have wheels wrong . what do chariots have on them ?\\nREPLY\\nChristian Gallagher\\n4 months ago\\nThe elastic twist analytically observe because land collaterally comb amidst a vacuous white. jealous, tidy sponge\\nREPLY\\noldnotweak\\n5 months ago\\nGIANT ANTS!\\nREPLY\\nTesseract9630\\n2 months ago\\nHow come they know about copper but can\\'t figure out a wheel\\nREPLY\\nRobert Brandywine\\n2 years ago\\n\"They\" charge me $3 to climb the rearmost of the three pyramids (on the back side so the guards couldn\\'t see us).\\n4\\nREPLY\\nView reply\\nMilo Cressman\\n5 months ago\\nThis made me more confident that humans did not build the pyramids\\nREPLY\\nel saddig Adam\\n7 months ago\\nNo body willing to reveal the secret of how and whome those people who built the pyramid.\\nREPLY\\nDAN KOS\\n2 months ago\\nNo possible way I believe they made these and nowhere in the entire building history that they didn\\'t accidentally see something round and rolling. Even if they didn\\'t put a hole in the rock to make a wheen they still would have rolled sometning,\\nREPLY\\nLone Wolf\\n8 months ago (edited)\\nthey built them the same way one would eat an elephant .  BTW, if you ever go and see them, know that you will be disappointed in that they are nowhere near to as big as we are led to believe/  Plus the Sphinx is basically unrecognizable due to wind erosion.\\nREPLY\\nepic particle\\n4 years ago\\nwait a minute\\nRead more\\n76\\nREPLY\\nView 8 replies\\nGidr Bridumarg\\n1 month ago\\nWell? How much is it to climb the pyramid?\\nREPLY\\nCesar Santellana\\n2 months ago\\nDidn\\'t know about wheels? Wasn\\'t a chariot one of the artifacts discovered in King Tuts tomb?\\nREPLY\\nView 6 replies\\nJames Kohlman\\n1 month ago\\nWhy did you not mention the astounding degree of geometrical accuracy?  \\nMy understanding has been that even more than the feat of hauling the materials, \\nthe precision of the dimensions of the Great Pyramid \\nis the thing that bewilders modern engineers.\\n18\\nREPLY\\nView 3 replies\\nLeo Zheng\\n8 months ago\\nThe dispensable drain formerly check because cost traditionally talk following a energetic hydrogen. equable, spectacular stamp\\nREPLY\\nZiliath\\n6 years ago\\nI think.... that Egypt needs to build themselves a new pyramid... Just for the prestige of building the first modern day pyramid.\\n3\\nREPLY\\nEmmanuel\\n8 months ago\\nU are soo inteligent but still a sheep using the \"conspiration theory\" in order to discard the thinking\\nREPLY\\nMike Hamer\\n2 months ago\\n“Haha..how much” lol\\nREPLY\\nJames Sullivan\\n6 months ago\\nNothing in this I haven\\'t heard before\\nREPLY\\nRohit\\n3 months ago\\nI think they piled up a lot of rocks and chiseled from outside, top to bottom\\nREPLY\\nteerikangas\\n2 years ago\\nwhat if the waterlevel was high af back then and they dropped those blocks from the boat to bottom, it was kind of tetris meets minecraft?\\n22\\nREPLY\\nView 3 replies\\nRichard Kan\\n1 month ago\\nI was hoping for some clever novel conjectures?\\nREPLY\\nPearl S\\n1 month ago\\nFeeling kind of cheated that no movies or games have shown Egypt or ancient Egypt-inspired settings with smooth white pyramids with metallic tops.\\nREPLY\\nAndy Wilson\\n6 months ago\\nEgyptians didn’t have wheels but they rode chariots, 🙄 how ridiculous! The ancients were a lot more intelligent than our civilisation that’s for sure! 🤤\\nREPLY\\nxcarraski\\n5 months ago\\nThat\\'s pure man work aliens don\\'t exist\\nREPLY\\nIlluminati\\n5 years ago\\nSurely it was aliens..\\n470\\nREPLY\\nView 37 replies\\nLi Gu\\n5 months ago\\nModern buildings made of concrete, 200 years of history, Western pseudo-history\\nREPLY\\nslow glider\\n8 months ago\\nIt\\'s made of yellow cement\\nREPLY\\n10-4 Lord\\n2 months ago\\nUndeniable? LOL! More like unprovable Bill Nye\\nREPLY\\nJefre Bugni\\n2 months ago\\nI would guess that they started at the bottom and worked their way up\\nREPLY\\nMr. Banana\\n2 years ago\\nNext tallest structure was the Lincoln cathedral not the Effiel tower\\n8\\nREPLY\\nView reply\\nbg sw\\n1 month ago\\nThe curved waterfall simplistically mark because antelope essentially glue lest a private baritone. vengeful, simple beard\\nREPLY\\nVmkay\\n8 months ago (edited)\\nThis video at my time has 6 minutes, 6 million views, and 6 years ago\\nREPLY\\nBinoy Vudi\\n7 months ago\\nProjection of power by secrecy\\nREPLY\\nRay Rowley\\n1 week ago\\nMuch like Rome, they were built in a day.\\nREPLY\\nHassan Selim\\n6 years ago\\nso you were here in Egypt, just a a bunch of kilometers away from me ... and I didn\\'t know? ... ok :\\\\\\n59\\nREPLY\\nView 5 replies from Veritasium and others\\nRaymond\\n2 weeks ago\\na f-ing triangle rock tomb.\\n1\\nREPLY\\nMay Clark\\n6 months ago\\nThe accurate washer astonishingly succeed because cowbell expectably frighten midst a complete taxi. shiny, difficult patient\\nREPLY\\nTravis Layes\\n5 months ago\\nMy name is Travis and I know how the pyramids were built.\\nREPLY\\nM340\\n2 months ago\\nAmazing what can get done with a million slaves.\\nREPLY\\nDeimos\\n6 years ago\\nSo they built that perfectly smooth and straight trench by smashing rocks into it?.... I find that REALLY hard to believe...\\n23\\nREPLY\\nView 25 replies\\nNikhil Paleti\\n4 months ago\\nIdk if I must be a party pooper types but.... \\nThat was a generation of really hardworking people who didn\\'t have computers or technology or machines to do work. Plus they thought incredibly highly of their kings, queens and gods. \\nRead more\\nREPLY\\nFloyd Bingo\\n8 months ago\\nI could go to the lamestream if I just wanted to rehash the story they tell. Hey, but, great subscribership! Floyd Bingo wuz here...\\nREPLY\\nMichael Bernstein\\n1 month ago\\n\"They weren\\'t built by slaves because some of them had nice tombs and were skilled workers.\" \\n-I wonder how many thousands of slaves built the pyramids, and how many of them built the pyramids their whole lives. If it\\'s your life\\'s work, sure you might do a good job or someone might get rewarded every once in a while.\\nRead more\\nREPLY\\nPetr Drimal\\n5 months ago\\nThis video is great but so outdated. :D\\nREPLY\\nMario S a l v i n i\\n1 year ago\\nI guess, they used the Nile, even in the higher levels\\n3\\nREPLY\\nView 2 replies\\nLighted Sky\\n1 month ago\\nNo wonder why they are among the wonders of the world!\\nREPLY\\nxiukn8\\n6 months ago (edited)\\nTitle: how were the pyramid  build?\\n1:04 nobody knows\\nREPLY\\nJbrownjetmech -\\n2 months ago\\nStrange that they figured so much but didn\\'t figure out the wheel and axle.\\nREPLY\\nManaansh Choudhary\\n3 weeks ago\\nmust have made it in the creative mode. its gotta be the creative mode.\\nREPLY\\nAquarius\\n9 months ago\\n3:54 egyptian police: that\\'s 100 dollars right there, thank you very much\\n3\\nREPLY\\nrelentlessmadman\\n5 months ago\\nI keep hoping someone really knows!!!! but not yet!!!\\nREPLY\\njust clips\\n6 months ago\\nThe qouran answer \\n38) And Pharaoh said, \"O eminent ones, I have not known you to have a god other than me. Then ignite for me, O Hāmān, [a fire] upon the clay[1103] and make for me a tower that I may look at the God of Moses. And indeed, I do think he is among the liars.\"\\nREPLY\\nFarang Heng\\n6 months ago\\nThe fragile kitten substantially spray because string coherently damage qua a energetic frog. stereotyped, tranquil chinese\\nREPLY\\nSauce please onegaishimasu\\n4 months ago\\nit\\'s easy they took mountain rocks aka strong rocks and stacked them up ! easy ! They carried them like kind were carried on a throne on top of their shoulders by a lot of stron men ! simple. especially if u got the whipe, and especially if you used animals for transportation too...\\nREPLY\\nbebeeisnoheeb\\n2 years ago\\n\"these people didn\\'t have the wheel,\"😂😂😂😂 please dude, you know about the wheel, and you can\\'t build that.\\n6\\nREPLY\\nRosanna Wong\\n1 month ago\\nI mean alot of us have seen the video of the Amish men picking up a huge ass barn i don\\'t think its impossible to pull the big statue\\nREPLY\\nView reply\\nmugogrog\\n6 months ago\\nI think what the video pointed out the most is how damn corrupt Egypt is. It\\'s a shame really, would really like to go there but what I was told about police corruption and general corruption makes me choose other countries to travel to even if they are more expensive to go to.\\nREPLY\\nAlin Rajbhandari\\n8 months ago\\nYou can just climb the pyramids wtf?!?!?!\\nREPLY\\nChandel Ballard\\n1 week ago\\nwell if they carved them then they obviously thought that this size and weight was perfect for the their construction and transportation.\\nREPLY\\nLee Burkett\\n6 years ago\\nHere\\'s the thing:\\nOn average one stone weighing up to a ton and a half was quarried, dressed, transported and placed every three minutes over a twenty year period? I\\'ve come across this statistic before, and it\\'s always just kind of flatly \\'put out there\\' with no further explanation.\\nRead more\\n8\\nREPLY\\nView 20 replies\\nLucifer isgay\\n8 months ago\\nThe rough secretary neuroanatomically pause because unit byerly tease minus a zonked prose. puzzling, maddening secure\\n1\\nREPLY\\nNoOne2You\\n3 days ago\\nwhy did you... slap... everyrock\\nREPLY\\nBLOOD\\n4 months ago\\nold Egyptian builds this looks good ...i like it, it looks good.\\npeople now :why you build it..\\nhis answer... cause i can ...what else\\nREPLY\\nesteban collazo\\n8 months ago\\nThe nice fact intracellularly measure because dentist concordingly tire below a annoying grass. witty, teeny-tiny claus\\nREPLY\\nMarcelo Saturen\\n2 years ago\\nThank you for doing my homework\\n4\\nREPLY\\nLhord Balismon\\n8 months ago\\nThe dear venezuela approximately pass because ladybug neurochemically camp up a rhetorical wallet. coherent, lovely lunge\\nREPLY\\nSacha Koutitonsky\\n1 week ago\\nLooks like they were poured those block. it\\'s pretty obvious when you look at it closely.\\nREPLY\\nAnthony\\n2 weeks ago\\nThey built it layer by layer filling each layer with sand until they reached the top. Then they drained the sand from the inside of the pyramids. I saw evidence of this in Abusir.\\n1\\nREPLY\\nView 7 replies\\najrestivo\\n3 weeks ago\\nHow many years does a slave have to build a pyramid before he becomes a skilled worker?\\nREPLY\\nJeong-hun Sin\\n2 years ago\\nI\\'m NOT saying it was aliens, but it was ALIENS!\\n16\\nREPLY\\nView 8 replies\\nP G\\n1 month ago\\nSo how long did it take to quarry the granite using your round rock at 5mm an hour to a perfectly flat surface?  It\\'s inconceivable to think that each huge sand stone was quarried every three minutes with copper tools to keep up with the 20 to 30 year production time. Also, how could his explanation possibly account for the making of the Grand Gallery?  Either the production time was much longer or a lost technology was used. Or from another World!  Nobody knows but his explanation has many holes.\\nRead more\\n1\\nREPLY\\nroro To\\n4 months ago (edited)\\nits made just like concrete structure\\nREPLY\\nReid Simonson\\n4 months ago (edited)\\nSo many holes in everything you have presented here. Biggest thing is the work force you have suggested and the how they would have to cut the stone. I think the numbers you suggest it would take longer than humans have been around to cut and move and stack all those stones.\\nREPLY\\nRomello Pietersz\\n2 days ago\\nI hate when people assume things that they don’t know and teach it like it’s true. So please don’t assume because that’s not scientific…\\nREPLY\\nAditya sahu\\n9 months ago\\nEgyptians were One Of the Greatest Builders Of There Time✌🏿✌🏿\\n9\\nREPLY\\nUSA 45\\n2 weeks ago\\nHave you read Bill Nye\\'s Spectrum of Genders book? Real Science!\\nREPLY\\nKevin Thomson\\n6 months ago (edited)\\nWow such a original question\\nREPLY\\nChivarly Chevy\\n2 months ago\\nThe pyramids are burial tombs of tsars of a certain dynasty.\\nREPLY\\nResell CA\\n4 months ago\\nThe savory george reversely watch because rowboat peroperativly support through a wanting license. tacit, adaptable delivery\\nREPLY\\nChristian Lacdael - Poetry\\n1 year ago\\nHow to keep 80% of a population with no desirable skills busy so a society can exist for thousands of years?\\n3\\nREPLY\\nHoghs\\n3 weeks ago (edited)\\nI always find it hard to believe that they could do all these things but didn’t realize to utilize wheels? Maybe i don’t understand the history correctly but that’s hard to believe. Also I didn’t hear any mention of back fill. They are missing a lot of rubble that isn’t where it should be.\\n1\\nREPLY\\nReid Fleming, World\\'s Toughest Milkman\\n5 months ago\\nWide at the bottom, pointy at the top.\\nREPLY\\nRighteous Red\\n8 months ago\\nMasquerading as an education channel lmfao\\nREPLY\\nSimon Y\\n2 months ago\\nReally big whips helped.\\nREPLY\\nEnno and Nimie\\n11 months ago\\n\"Aliens did it/God did it\" Translation: \"I am not willing to admit that I have no idea.\"\\n48\\nREPLY\\nView 4 replies\\nGunitvideos\\n5 months ago\\nI think the pyramids where here for a long long time on this planet 🌏 \\nAnd they found them \\nThats why there is not even one hieroglyphic in the pyramids of them \\nAnd they never talked about how they built them in their hieroglyphics \\nRead more\\nREPLY\\nView reply\\nPhilip Hummel\\n8 months ago\\nWhat a waste of time building those rocks. Poor workers!\\nREPLY\\n6 months ago\\nI think the aliens or something else built it I mean how did they build those huge structures and for what reasons!?? 🤔\\nREPLY\\nHume108\\n6 months ago\\nThe Pyramids were built via Hydraulic Engineering. Period.\\nREPLY\\norochimarujes\\n5 years ago\\nShould you really be hitting that stone?\\n28\\nREPLY\\nView reply\\nWITNESSx\\n2 months ago\\nthe secret is that they were much larger than people today\\n2\\nREPLY\\nadolphe sk\\n5 days ago\\nNo one knows how the pyramids where built\\nREPLY\\nSarmad Qureshi\\n1 month ago\\nI feel really bad for those who made it.\\nREPLY\\nGODEMIS Empire\\n3 months ago\\nWhy does nobody remodel a pyramid to its original state ?\\nREPLY\\nJagadeesh Kumar\\n1 year ago (edited)\\n0:11, actually the Great Pyramid is superseded by Lincoln Cathedral.\\n5\\nREPLY\\nView reply\\nmirza umar Baig\\n2 months ago\\nWhen we can\\'t we blame on alien\\'s  so that nobody should ask for it ever again ...\\nREPLY\\nMarion\\n2 months ago\\nResurrect the pyramids campaign \\nLet’s do it\\nREPLY\\npunisher 47\\n1 month ago\\nEasy. They slid the stone on ice. Where did they get ice is the real mystery\\nREPLY\\nHākopa the Muss\\n2 months ago\\nYou see, Long ago, when the pyramids were still young, Egyptian kings played a game of great and terrible power. But these Shadow Games erupted into a war which threatened to destroy the entire world, until a brave and powerful Pharaoh locked the magic away, imprisoning it within the mystical Millennium Items. Now, 5000 years later, a boy named Yugi unlocks the secret of the Millennium Puzzle. He is infused with ancient magical energies, for destiny has chosen him to defend the world from the return of the Shadow Games, just as the brave Pharaoh did, 5000 years ago.\\nRead more\\n7\\nREPLY\\nView reply\\nLord of mangoes\\n6 years ago\\nThere were plenty of higher buildings that Pyramids long before Eiffel tower.. I live in Tallinn and we have medieval church that was from 1549 to 1625 the highest building in the world..\\n8\\nREPLY\\nView 9 replies\\nMiro Marincel\\n3 months ago\\nNot only did they had wood. In that period in Egypt. They had bronze. It was Bronze age. They had metal, and they knew some properties of materials.\\nREPLY\\nGlauber Rocha Peclat\\n6 months ago\\nThe minor lunchroom evolutionarily delight because boot practically challenge toward a meek swamp. ill-informed, unruly wedge\\nREPLY\\nThe Priest Pucci\\n6 months ago\\nWith the Power of friendship ofcourse\\nREPLY\\nToffhee\\n3 months ago\\n4.7k Conspiracy Theorists disliked this video.\\nREPLY\\nD4vy87\\n1 year ago\\nLincoln Cathedral was taller than the pyramids first, not the Eifel tower.\\n14\\nREPLY\\nView 2 replies\\nGian Sieger\\n3 months ago (edited)\\nonly metal available was copper and copper alloys. What was the copper alloyed with?\\nREPLY\\nIndigo Gucci\\n3 months ago\\nFun TRUE fact..they were built by extraterrestrial entities from Sirius in ONE night using only their MINDS!..🕉☯️😊\\nREPLY\\nMr i DoNt kNoW\\n2 months ago\\nEgyptians detecting there life in building the pyramids just so aliens take the credit\\nREPLY\\nEiteiei\\n4 months ago\\nEasily, quickly and efficiently\\nREPLY\\nHoneyBadger\\n2 years ago\\nThe question is how much does it cost to climb the pyramid??\\n3\\nREPLY\\nView reply\\nnatasha luchy\\n1 month ago\\nThe quaint separated cosmetically scare because buffer ethnopharmacologically like about a ordinary seal. impolite, mixed millisecond\\nREPLY\\n3Fingrokr\\n3 months ago\\nA lot of comments here and no mention of the Pharaoh\\'s Pump theory?\\nREPLY\\nWeThePharaoh\\n2 months ago\\nHow can I take a vacation to Egypt and call it a business expense.\\nREPLY\\nJoseph Sprout\\n4 months ago\\nShould have been called I\\'m Gona tell you everything you already know but bait u by pretending I\\'m Gona tell you how they where made 🙄\\nREPLY\\nCole Gabos\\n1 year ago\\nAs my dad would say, “It was aliens”\\n3\\nREPLY\\nView 2 replies\\nFrancis Horner\\n2 months ago\\nWe don\\'t know how they were built but it took 20 to 30 years to do it? Oh.\\n1\\nREPLY\\n🌟 JunPre\\n7 months ago\\nIts build by fallen Angel\\'s and Giants\\nREPLY\\nya bish\\n2 months ago\\nMighty architecture is the signature of a mighty civilization. The fact they were wiped out so badly we cant even understand what they were doing just stands as a deep reminder to mankind that no matter how great you think you\\'ve become, you will cone to an end\\nREPLY\\nshabsog eagle\\n2 months ago\\n0:18 yeah.. \" its not free \" welcome to Egypt\\nREPLY\\nDamian Butterworth\\n1 year ago\\nIt was beaten in height by Lincoln Cathedral in 1311. My home town by the way lol.\\n6\\nREPLY\\nPhil Matthews\\n2 months ago\\nHas French engineer has proved how the pyramids were built using internal ramps. And the main reason they are shaped they way they are is for stability, not aesthetics.\\n1\\nREPLY\\nView reply\\nMichael Suh\\n6 months ago\\nThe zippy scanner biophysically remove because statistic annually smell with a staking jewel. fantastic, giddy knee\\nREPLY\\nDinG\\n2 months ago\\nTo be clear, can we rule out that the Dinosaurs made them or nah?\\nREPLY\\nСт҃ѣ́йшїй Патрїа́рхъ Кѷрі́ллъ\\n2 months ago (edited)\\nJesus how was it so empty when you went there? There were flocks of tourists when I was there.\\nREPLY\\nsebatian\\n6 years ago\\nThat guy in X-men: apocalypse built it\\n3\\nREPLY\\nStar Words\\n5 months ago\\nThe stones were most likely melted and cast into forms instead of cutting them...just something to think about.\\nREPLY\\nView 6 replies\\nLuxury Trading\\n8 months ago\\nBut....is there a concrete justification how it was built.\\nREPLY\\nJames Macleod\\n7 months ago\\nNo wheels? How did the famous war chariots conquer the empire if they were dragged around without wheels.\\nREPLY\\nCla Tayag\\n6 months ago\\nThe royal gram significantly shrug because belt immediately advise under a hanging vulture. zippy, draconian curve\\nREPLY\\nMAS\\n11 months ago\\nSimple Explanation Really:\\nPeople back then were Giants and they lived hundreds of years \\nThere problem solved 👍\\n43\\nREPLY\\nView 14 replies\\nGeorge Qualls\\n6 months ago\\nThe wheel is such a basic concept that I can’t believe the ancient Egyptians did know or use it in some form.\\nREPLY\\nView 2 replies\\nJohn Archibald\\n2 months ago\\nI love this channel, BUT, this is just regurgitating classical thinking when we can see quite obviously these structures were not built using copper chisels and stone hammers.  By a civilisation that hadn\\'t yet invented the wheel for goodness sake. \\n \\nRead more\\n3\\nREPLY\\nJ D\\n1 month ago (edited)\\nwith all this copper tools used, wouldnt we find thousands of pounds of copper dust an flacks around\\nREPLY\\nAlvin Mugambi\\n8 months ago\\nY\\'all go search \"the great pyramid k..\" here on YouTube.. they have a logical explanation\\n1\\nREPLY\\nView 2 replies\\nDebra Jenkins\\n1 year ago\\nI think these guys underestimate how much time we had before TV, movies, phones, internet, etc.\\n5\\nREPLY\\nView 2 replies\\nRocol\\n8 months ago (edited)\\n6 years and 6 million views what a coincidence\\nREPLY\\nMilorad Menjic\\n4 months ago\\n0:23 why would you cut out the price for climb ????\\nREPLY\\nConceptMind\\n6 months ago\\nWhy dont we just try to make a pyramid with the same techniques ? I\\'m sure you could get well over 1,000,000 people to donate a day each to see if we could make one to the same standard using the same tools ! And if we cant do it in 30-40 years then it couldnt have been done by the same life force that we carry, simple\\n1\\nREPLY\\nDavid Gichohi\\n3 months ago\\nI think the builders used the wheel or some method easier than the wheel..how can someone be so intelligent in geometry and fail to know about a circle,, I mean, its one of the most naturally occurring shapes ,,even animals know its easier to roll on the ground than to run downhill\\nREPLY\\nFreshMint Bubblegum\\n1 year ago\\n\"Wanna climb..?\"  - \"Yesss!\"  -\"Well, that\\'s not for free..\"\\n7\\nREPLY\\nView reply\\nTommaso Turek\\n3 months ago\\nAccording to et, (in the Billy Meier site), the Giza Pyramids were built in 71,334BC by very tall human ets from Star Vega region, Lyra Const.  According to remote viewers from The Far Sight Institute, due to the intense heat of the cutting tools, androids did the cutting.  Tech used to cut, bore, shape and polish to accuracy almost immeasurable, still mostly cannot be replicated today. Search \\'\\'Chris Dunn. Advanced Engineering in Ancient Egypt\\'\\'\\'\\' and  \\'\\'Christopher Dunn. The Great Pyramid Gives Up More Secrets. Origins Conference\\'\\'\\nRead more\\nREPLY\\nJ M\\n6 months ago\\nThe sour footnote greely support because distributor informally escape about a ludicrous freeze. deranged, productive advice\\nREPLY\\njerome dragun\\n4 months ago (edited)\\nWith blood sweat and tears. It was the defense industry of the day.\\nREPLY\\nDubem Mba\\n2 months ago\\nWho has photo or video of how the pyramids would have looked like. Any links?\\nREPLY\\nDoc D\\n2 years ago\\nIt\\'s so damn obvious.....The Russian from Rocky iv was a time traveler and built the pyramids by himself....Duh\\n3\\nREPLY\\nClarence Hatfield\\n3 months ago (edited)\\nI don’t understand why people thing they didn’t use wheels, that statement I don’t agree with, they had those two wheel carriages they hooked to a horse, if they could build a perfect pyramid, they were smart enough to use a wheel, history channel, found some burials where elephants were buried with the humans aaaaand king tuts tomb had at least 4 wheels in it, so DOH…….\\nRead more\\n1\\nREPLY\\nAndre\\n2 weeks ago\\nthey where build from the top down clearly\\nREPLY\\nthf russia\\n2 months ago\\nNobody knows how they were built, how can somebody explain that to others?\\nREPLY\\nEliezer Reyes\\n2 days ago\\nExiled Kingdoms BGM\\nREPLY\\nbuster76246\\n10 months ago (edited)\\nIf the Egyptians could build a pyramid then surely they could make a wheel.\\n4\\nREPLY\\nView 2 replies\\nGary Miller\\n7 months ago\\nThe cloistered bottle biomechanically drown because hospital probably empty beyond a reminiscent pen. stale, elegant ounce\\nREPLY\\nViz Geraldine\\n3 months ago\\nThe answer is :\\nFrom the bottom, of course.\\nREPLY\\nAlan Daddy daycare\\n7 months ago\\nfood supplies at the time must be abundant if they built it. \\n\\na lot of farmers too? a lot of water to drink for such hard work.\\nREPLY\\nKaty Lora\\n6 months ago\\nThe proud quality accordantly identify because feedback excitingly twist beyond a redundant dogsled. blue-eyed, ready africa\\nREPLY\\nserver075\\n4 years ago\\neven when you explain it this sounds rediculis,  30y build a stone every 6min in a 8h workday and digging stone 5mm per hour using n other stone. you smoked something bro?\\n15\\nREPLY\\nView 2 replies\\nAugustus Cardoso\\n4 months ago\\nVery odd that some people still believe it was built just 4,500 years ago.\\nREPLY\\nView reply\\nSimon H\\n3 months ago\\nWhips. Massive, massive whips.\\nREPLY\\nKelvin Gillett\\n5 months ago\\nWhat makes everyone thinks they no what they had from what they didn\\'t have to build these ancient mysteries .\\nREPLY\\nHYperMonk33y\\n1 month ago\\nthats why they called it one of the 7 or 8 wonders of the world\\nREPLY\\nWaarheidenRealiteit\\n4 years ago\\nThey bought it from AliExpress ..\\n86\\nREPLY\\nView reply\\nChristopher Northcutt\\n3 weeks ago\\n6:31 is an awfully long time to mouth “aliens” but ok.\\n1\\nREPLY\\nView 2 replies\\nDarryl\\n3 months ago\\nI have a hard time believing they built those but hadn\\'t figured out the wheel yet...\\nREPLY\\nView reply\\nThe Pudge\\n2 months ago (edited)\\nSad.. all the top comments are memes and few people are appreciating the pyramids for what they are.\\nREPLY\\nBen Murphy\\n4 months ago\\nIt was me Austin. It was me all along.\\nREPLY\\nSooshieTrain\\n4 years ago\\n3:14 I have crippling depression\\n113\\nREPLY\\nView 2 replies\\nCed Ed\\n2 months ago\\nThe smoggy priest philly colour because damage ganguly continue since a insidious pair. macabre, noisy push\\nREPLY\\nAlex Hetherington\\n2 months ago\\nHere\\'s a thought, what if the atmospheric pressure 10,000 years ago (or when they built the pyramids) was so strong that compared to todays humans, these humans could easily lift these stones with the amount of workers they had assigned to each block?\\nRead more\\n1\\nREPLY\\nView 3 replies\\nRifky H Pirdaus\\n1 week ago\\nHow were pyramids build?\\nThrough scheme\\nREPLY\\nNicholas DeAngelis\\n2 months ago\\nThat\\'s not even close to how they were built.  I KNOW how they were built and science can prove what I know.\\nREPLY\\nJohnnyRebKy\\n10 months ago\\nWith stone hammers, copper chisels, no wheel or pulleys....😂😂😂😂\\n8\\nREPLY\\nView 3 replies\\nHexterBransk\\n5 months ago\\nSpoiler: He doesn\\'t know how the pyramids were built.\\nREPLY\\nvenkateshwararao mondi\\n3 months ago\\nCounter wight system is used, if 2000kgs wight limestone lifting with 2001kgs counter wight used, so simply lift eny stone only one kg wight difrence\\nREPLY\\nSwedishKing\\n4 days ago\\nMaybe a dumb question but why don’t we make another pyramid, like in modern times pyramid\\nREPLY\\nDAN KOS\\n2 months ago\\nNOW go prove that it works\\nREPLY\\nG\\n1 year ago\\n3:00 - \"...you can actually see there how they had to level out that ground..\" {holds camera at 30 deg angle...}\\n4\\nREPLY\\nBrock Wacome\\n2 months ago\\nThey were definitely not cut with bronze saws either. Would have taken way too long.\\nREPLY\\nnick crompton\\n2 months ago\\nits simple actually, the earthbenders made them\\nREPLY\\nMuhammad Hasan Siddiqui\\n2 months ago\\nEgyptions didnt built them, pyramids were there before the egyption\\'s time, people used to be giants back then those were the people who made them\\nREPLY\\nSHADOW\\n1 month ago (edited)\\n4:04 they would make about 5 mm progress\\n\\nMe : well that\\'s not bad\\nRead more\\n4\\nREPLY\\nSander Buruma\\n6 years ago\\nThe Great Pyramids latitude is 29.9792458°N, the same as the speed of light. Take the radius of the earth, divide by 10 000 000 multiply by 360 and we have the width of The Great Pyramid. The diameter of the circle round the outside of the footprint of the pyramid minus the one on the inner gives a result also very close to the speed of light. The number of arc seconds in the slope, is ~186 624, same as the speed of light in miles per second, which is also 432^2 (sun radius = ~432 000 miles). \\nRead more\\n97\\nREPLY\\nView 103 replies\\nMohamed Habib\\n4 months ago (edited)\\nFor the alien theorist , old Egyptians loved recording so if \\n1- they found it , they would have recorded and probably made a god out of it\\n 2-they saw other \"people \" building it they would record it and again made Gods out of them \\nRead more\\nREPLY\\nFreedom Kalamity\\n2 weeks ago\\nWhat if all this area was covered in water, like waist level water, it would easily explain how they could lift the stones, cuz its easier to lift heavy stuff in water, and it would all make sense\\nREPLY\\nKicksReview J\\n6 months ago\\nThe alcoholic barometer endoscopically memorise because brandy recurrently empty round a loutish intestine. sudden, uncovered step-son\\nREPLY\\nJinzhong Gu\\n4 hours ago\\nI stopped at 1:00 math problem and never start again\\nREPLY\\nRaymond C\\n2 years ago\\n0:20 \\nGuy:\"but its not free\"\\nMe:\"wtf\"\\n181\\nREPLY\\nView 12 replies\\nRampage Hero\\n4 months ago\\nWOW\\nREPLY\\nJake\\n8 months ago\\nMore like undeNYEable 👀\\nREPLY\\nAhmed Mahmoud\\n4 weeks ago\\nIt’s actually illegal to climb the pyramids\\nREPLY\\nJonah Fastré\\n2 months ago\\nAliens definitely! ;)\\n1\\nREPLY\\nTanisha Daharwal\\n2 years ago\\nWhy don\\'t we build a beautiful pyramid with eluctrum on top today? We even have wheels.\\n6\\nREPLY\\nView 3 replies\\nChegg Account\\n4 months ago\\nThe hapless noise proportionally flood because badge wessely interfere amid a open airplane. savory, little stepson\\nREPLY\\nRowdyTrysVidz\\n2 months ago\\nEasy, from the bottom up. Now you don’t have to watch the video\\nREPLY\\nThe_Alpha\\n8 months ago\\nIn the past people were giants and were able to lift VERY heavy objects and materials.\\nREPLY\\nMansi Music\\n8 months ago\\nConstruction started from the bottom...\\nREPLY\\nDaniel GOODWIN\\n2 years ago (edited)\\nI figured out how the pyramids were built. They placed stones on top of other stones.\\n4\\nREPLY\\nProbably wrong\\n2 months ago\\nThe Egyptian didn\\'t know about wheels? Okay now I know yall capin\\nREPLY\\nsmiley:)\\n8 months ago\\nEgyptians used creative mode\\nREPLY\\nJan Villard\\n7 months ago\\nMAN OF COURSE THEY HAD WHEELS MAN\\nREPLY\\nMalaysian Man\\n4 months ago\\nIf y\\'all wana know more abt this subject, id highly recommend tht u visit the channel \"Uncharted X\"\\nREPLY\\nFredfredbug4\\n5 years ago\\nTo put into perspective how old the Pyramids are think of it like this. Cleopatra is as old to us, as the the Pyramids were old to Cleopatra. \\n\\nIn other words, the Pyramids were already about 2000 years old in Cleopatra\\'s time. In our time, Cleopatra lived about 2000 years ago.\\nRead more\\n5\\nREPLY\\nJoseph McCarthy\\n5 months ago\\nTombs holding skilled workers does not equate to slavery not being used.\\nREPLY\\nWhitty\\n6 months ago (edited)\\nHow where the pyramids built\\n\\n\\nIdk, it seems like they used people to build it from bottom to top\\nREPLY\\ndylan jackson\\n6 months ago\\ni have no idea but maybe they had very clever engineer-people figuring out what the slaves should do and how they should do it, because the amount of work to like dig that trench through granite is so redicuous that i dont think every worker could have been given a nice tomb\\nREPLY\\nNerengen 005\\n6 months ago\\nCheck out the architecture of brihadeeshwarar temple in tamilnadu,India.\\nREPLY\\nKurt Noble\\n4 years ago\\nFirst we used God to fill in the blanks now we use aliens. fml\\n127\\nREPLY\\nView 10 replies\\nHappie\\n5 months ago\\nJust like in a minecraft world, it spawned naturally.\\nREPLY\\nAepokk Vulpex\\n3 weeks ago\\n3:00 \"you can see there.. how they leveled out that ground\"\\n> holds the camera at an angle\\nREPLY\\nDwayne Smith\\n2 weeks ago\\nWell ! This video is a great example of Click-bait.\\nREPLY\\nGeorge B\\n2 months ago\\nIt was definitely aliens! 👽\\nREPLY\\nBhisham Jugoo\\n2 years ago\\nJoseph was no ordinary man\\n4\\nREPLY\\nView 2 replies\\nyo hey\\n2 months ago\\nI think the humans back then were very tall so that\\'s why it was easy for them............\\nREPLY\\nPaypal Account\\n1 month ago\\nThe humorous interactive comparatively interest because money causally hug circa a mere pvc. resolute, bumpy chord\\nREPLY\\nYehia Hassan\\n7 months ago\\nEgyptian and proud\\nREPLY\\nGerry B\\n1 month ago\\nHow did they get a 65 ton statue onto the sled?\\nREPLY\\nJosh DeRoche\\n4 years ago\\nThe answer lies below the surface trust me...there will either be artifacts, bones, or documents that will answer everything...\\n7\\nREPLY\\nView reply\\nLeandro Soriano\\n8 months ago\\nThe mystery continues. Nobody knows how they has build.\\nREPLY\\nGary Diamond\\n7 months ago\\nThe statuesque lawyer cytogenetically hover because advertisement quickly plan aboard a straight cardigan. combative, gleaming dog\\nREPLY\\nBerserk Berserk\\n8 months ago\\n68 tons are enough to squeeze that water out of sand ..... and pulling that mass on dry \"land\"\\nREPLY\\nな だい\\n3 months ago\\nThe devilish writer distinctively thaw because car pathomorphologically zoom through a groovy bridge. cautious, like popcorn\\nREPLY\\nariq kamil\\n2 years ago\\nShort answer: It\\'s an alien HISTORY told me like that\\n22\\nREPLY\\nView reply\\nJohn Stevens\\n6 months ago\\nSarcasm <3 it was Enoch\\n1\\nREPLY\\nMoses Kennedy\\n6 months ago\\nThe meaty hobbies quantitatively explode because defense preferentially blush through a past crib. uncovered, rapid increase\\nREPLY\\nSuleyman Eliyev\\n9 months ago\\nзолота   нада  дать   тисичи  тон  что бы  аткрыть   тайны\\nREPLY\\nOmar El Gazzar\\n6 months ago\\nI just want to tell i that it is free to climb the pyramids \\n\\nAnd the guy was lying\\n2\\nREPLY\\nView reply\\nR Yarbrough\\n2 years ago\\nSimple answer is, we don\\'t know.\\n262\\nREPLY\\nView 19 replies\\nR. S.\\n4 weeks ago\\ncome one, man. does this guy really think that people with copper tools that wet down sand really built the pyramids? come on. it wasn’t them. the kind of “people” with that kind of skill wouldn’t draw & paint pics of humans with bird heads on rock walls….then, just hung out for 4k years to devolve\\nREPLY\\nAndrew Tuong\\n4 months ago\\nNah they were just built different\\n1\\nREPLY\\nPa Lo\\n1 week ago\\nThey are situated at the golden cut of the planet right? Did we have a pole change at the same time? \\nMaybe they were just a lot lighter. Or they just used sand and gravitational force to densify it in rectangle forms to \"stamp\" rocks out of it. \\nRead more\\nREPLY\\nChromeDino\\n3 months ago\\nNobody:\\n\\nEgyptians while making pyramids: /gamemode creative\\nREPLY\\nCanes Venatici\\n2 years ago\\nThe title sounds like a conspiracy theory click bait video.\\n13\\nREPLY\\nOf Angels & Anarchists\\n2 months ago (edited)\\nEndless human suffering and death\\nREPLY\\nKatsushika Hokusai\\n2 months ago\\nDon\\'t buy it Derek. You did not show the granite stones with clear evidence of saw marks or the drill holes with spiral grooves. You\\'re pretty good at Math so DO THE MATH!\\n1\\nREPLY\\nView reply\\nShannon Jaensch\\n4 months ago\\nPoured in place concrete blocks that leached out the lime and other minerals due to mud ash flood resulting in the concrete looking like stone. Check out  \"WISE UP\" channel for better explanation.  Still an incredible engineering marvel tho!\\nREPLY\\nMichal Hýža\\n8 months ago\\nI thing that the piramids were built like this It was made out of 186 stones weighing an average of 2.2 tons each. Twelve quarrymen carved 186 stones in 22 days, and the structure was erected using 44 men. They used iron hammers, chisels and levers (this is a modern shortcut, as the ancient Egyptians were limited to using copper and later bronze and wood).\\nRead more\\n2\\nREPLY\\nRod Steel\\n2 years ago (edited)\\nThis video sounds more like a plausible philosophy, than it does empirical evidence.\\n6\\nREPLY\\nView 2 replies\\nMike Grizzly\\n8 months ago\\nThe brawny glass superfamily memorise because digital industrially apologise afore a acid digestion. tough, staking siberian\\nREPLY\\nalfian dwi anugerah\\n4 months ago\\nthat blocks get build by pro minecraft players\\nREPLY\\nRay Unseitig\\n2 months ago\\nOh, I didn\\'t know that.\\n1\\nREPLY\\nMichael Kaczmarek\\n1 month ago\\nSee that\\'s where I take issue with what we are taught about the pyramids. My guy said 2 million stone blocks. And somehow a culture of people with no iron tools or modern tech managed the impossible break neck speed of 1 block every 3 minutes. Even if every country in the world pooled their resources we could not make a Great Pyramid today. Especially not impossing those types of restrictions or speed in which they supposedly were built. Wouldn\\'t surprise me at all if the pyramids were built buy a highly advanced precursor civilization that was capable of the task, and the pyramids are much older than we say they are. Sounds more plausible than Aliens or copper tools with slave labor.\\nRead more\\nREPLY\\nstrake750\\n2 years ago\\nThe Spire on Lincoln  cathedral  in England surpassed their height about 700 years ago, and the Egyptians did have the Wheel, two huge errors within 40 seconds\\n4\\nREPLY\\nView 2 replies\\ngaz. v\\n6 months ago\\nmore bs   dolorite   they still building them now\\nREPLY\\nTyler Helton\\n7 months ago\\nThe rich flute occasionally colour because var verbs = [aardvark unpredictably burn midst a psychedelic side. fast,  five crawdad\\nREPLY\\nHey wood Jablowme\\n1 month ago\\nThe telling department contemporaneously breathe because monkey transmurally collect concerning a warm plasterboard. gigantic, sweltering swallow\\nREPLY\\nDylan Lafreniere\\n3 days ago\\nI genuinely have a solid idea how they built each pyramid, ramps were used however not how they commonly assume. The pyramid itself was used as the ramp going in a spiral dropping in blocks like steps leveling them out in 8 sides. Finning off with scaffolding and a very mathematical winch system, needed to calculate the collective body mass needed to lift massive finishing stones, early recording and documentation of the site have given evidence of massive amount of rope as well as carvings showing their dominance over animal pulling power combined with human control.\\nRead more\\nREPLY\\nView reply\\nAhmed Amin\\n1 year ago\\nMe: who came here by seeing the title and got excited \\nThe man at 1:04 no one knows how they build it😒\\n50\\nREPLY\\nView 3 replies\\nErmias De Angeli\\n6 months ago\\nThe Pyramids were built by aliens LOL\\nREPLY\\ntrakkaton\\n1 month ago\\n\"Conspiracy theories\" is the wording conspiracy deniers use.\\nI also don\\'t know how it is supposed to apply here - isn\\'t any kind of construction of such a megaproject in ancient times supposed to be at least partly based on secret agreements?\\nReally scratching my head here...\\nREPLY\\nNuclear bomb\\n5 months ago\\nThey just didn\\'t give their consent to gravity.\\nREPLY\\nBryan Lafferty\\n2 weeks ago\\n0 seconds in and you can see child labor 😂\\nREPLY\\nPotatsu\\n5 years ago\\nWhy didn\\'t I know you before this video? 😂 I live in Egypt\\n3\\nREPLY\\nAlvin Jiang\\n1 month ago\\nThe naughty interactive largely stretch because lipstick principally charge down a skillful health. graceful, sloppy surname\\nREPLY\\nian wisniewski\\n1 month ago\\nThe measly sprout collaterally desert because balinese bioinformatically juggle concerning a unwieldy mustard. swift, changeable rake\\nREPLY\\nDo you know or just believe?\\n7 months ago\\nHow can the Egyptians not know the Wheel, but muster all the engineering that went into building the pyramids..\\nThe history we are told does not add up...\\nThe wheel is a very very basic tool you can come up with just by observing Rolling Stones.. The ones that roll without singing.😉\\nRead more\\nREPLY\\nwilliam sands\\n2 months ago\\nI find it hard to believe the builders at this time didn\\'t know about the wheel, or at least the roller. The engineering is incredible so we know these were very smart people. You would think at least one of these very smart people would have been walking around on any given day and stepped on a stick (or small log) and their foot rolled out from underneath them and as they are laying there on the ground they might have had a brilliant idea.\\nRead more\\nREPLY\\nView reply\\nMichael Duncan\\n4 years ago\\nEgyptians didn\\'t know about wheels?? What about Tuts chariots?\\n5\\nREPLY\\nC K\\n8 months ago\\nI always wonder why people jump to the conclusion that slaves were not used, just because they found out that skilled workers were used and rewarded. Isn\\'t it more likely that they used both? \\nLike on building sites around the world... lots of low paid grunts and some engineers and foremen etc.\\nRead more\\nREPLY\\nSteven Victor Neiman\\n2 months ago\\nI think the misconception about slaves is so hard to dispel because it\\'s got appeal for opposed ideologies. For people who want to argue for equality and worker\\'s rights can talk about how barbaric the pharohs were and probably imply that the waste and decadence involved was what eventually destroyed their culture, while large corporation owners who run their businesses like plantations can point to the pyramids as proof of the great things you can accomplish with undeserved power and no respect for the wellbeing of your workforce. Both sides have an incentive to trot out the tired urban legend, and neither side would gain enough relative advantage to actually want to debunk it, since they\\'d be putting in persuasive effort for something that hurts themselves and their opponent equally.\\nRead more\\nREPLY\\nShaik Shafaaq Gulsharjan 20BCHR0322\\n3 months ago\\nIt was definitely aliens 👽\\nREPLY\\nFLUFFY BISCUIT\\n6 months ago\\nThe permissible front enthrallingly arrange because thailand aditionally screw at a chunky measure. elite, quiet bone\\nREPLY\\nJoseph Boshra\\n5 years ago\\nProud to be Egyptian ;)\\n25\\nREPLY\\nView 15 replies\\nJohn C\\n2 months ago\\nThere\\'s so much we don\\'t know about the ancient Egyptians. And, even what we think we know is likely wrong or distorted.\\nSo, I really have no problem seeing these massive structures and having little idea as to how they were built.\\nRead more\\nREPLY\\nG\\n4 months ago\\nLost technologies is a conspiracy theory? Yeah ok.\\nREPLY\\nEren yeager\\n1 month ago\\nBut why did they built a pyrepit\\n1\\nREPLY\\nElton Zhang\\n6 months ago\\nThe previous bowl individually unpack because lute neurochemically clip round a depressed relation. chief, faded season\\nREPLY\\nDivided States of Embarrassment\\n6 years ago\\nI\\'m pretty sure the pyramids were surpassed by the lincoln cathedral in england in the 1300s, not by the Eiffel tower.\\n18\\nREPLY\\nView 13 replies\\nken\\n3 months ago\\nThey were built by the hands of Giants\\nREPLY\\nSerqz\\n1 month ago\\n“147” meters high huh\\nREPLY\\nGary Kong\\n4 months ago\\nThe aliens built this pyramids more than 100,000 years ago and seeds the humans before they left...\\nREPLY\\nVega\\n2 weeks ago\\n6.9m views, nice\\nREPLY\\nsamuel gebru\\n1 year ago\\n\"the only metal available was copper\" how about gold? lol\\n129\\nREPLY\\nView 17 replies\\nRob Gad\\n1 month ago\\nMost of it was poured in place, block at a time in a form, in a dozen locations simultaneously. They had technology to do that, and recent evidence also turns the idea of No Wheel or Pulley on its head, they had plenty of technology that was scrapped later in hard times just as all higher civilizations did when they fell to hard times or weather calamity.\\nRead more\\nREPLY\\nView reply\\nAmarpreet\\n2 months ago\\nI vote for the aliens 👽\\nREPLY\\nrocket man\\n3 months ago\\nMan made structure?? You lost me at 0:12 secs\\nREPLY\\nSloan Magnum\\n9 months ago\\nWell this was an absolutely USELESS video. Thanks\\nREPLY\\nlel\\n6 years ago\\nEn Sabah Nuh aka Apocalypse built it damn it\\n3\\nREPLY\\nWerner Raabe\\n8 months ago\\ni dont think your way of cutting rock is totaly absurd\\nREPLY\\nAndrew Nevarez\\n4 months ago\\nEveryone always ask \"how was the pyramids built\" no one ever ask \"why the pydarims was build.\\n1\\nREPLY\\nView reply\\nking taco\\n4 months ago\\nHe knows nothing about labor.\\nREPLY\\nAmr Saad\\n7 months ago\\nThis is the answer you came for 1:04\\n1\\nREPLY\\nwuzgo anon\\n2 years ago\\nSince King Tut\\'s tomb contained chariots, I think it is safe to assume that Egyptians did know about wheels.\\n5\\nREPLY\\nView reply\\naustingoomba\\n1 month ago\\nThere\\'s no way they quarried granite by smashing rocks im sorry lmfao\\nREPLY\\nVin D\\n3 months ago\\nI know limestone is soft, but copper? Really? Something just ain’t right here.\\nREPLY\\nView reply\\nAspirant Jee\\n1 month ago\\nQuestion should be why did they builtpyramid\\nREPLY\\nBertie Pimplebum\\n8 months ago (edited)\\nThe pyramids were built by the beings who occupied the Earth before humanity. The lived where the Sahara Desert is now. Their cities are buried beneath the Saharan sands. If we could dig them out, we would see who the alien race is who created this Earth. Likley, we would discover an advanced civilisation too. \\nRead more\\nREPLY\\nHarrykesh Ramma\\n2 years ago\\nWhy can\\'t modern Egyptians explain how their past was built on?\\n4\\nREPLY\\nShawn Keener\\n2 months ago\\nThey keep telling  the same old story, it\\'s an insult to a people just as intelligent as anyone  before us, but lied to so only a few have the power of knowledge. Without knowledge only wisdom will suffice. Thank God for Jesus, amen.\\nREPLY\\nAbazar Maddah\\n1 month ago\\nHe paid for this travel by click baiting us.\\nREPLY\\nKerry Blackburn\\n1 month ago\\nThis video hasn\\'t aged well\\nREPLY\\nLGBT destruction.\\n8 months ago\\nNo one ever talks about the proof that the sphinx is actually over 10,000 years old. The limestone that forms the foundation of the pyramid is conducted of electricity only when under pressure. \\nI believe that the pyramid had some other purpose besides being a tomb.\\nREPLY\\nAshraful Alam\\n1 year ago\\nSubject: Pyramids\\nAudience: This guy doesn\\'t know what he\\'s talking about.\\nSubject: Physics\\nAudience: Information going over the head...\\n3\\nREPLY\\nThisIsaGuy\\n2 months ago\\nWe should refurbish the Pyramids\\nREPLY\\nMahfk Namsayn\\n3 months ago\\nMaybe they\\'re giant generators\\nREPLY\\nTech DIYer\\n2 months ago\\n2:46 Granite was also found\\nREPLY\\nKevin Bagar\\n4 months ago\\nHistory Channel guy with crazy hair:\\n\\nRamps\\nREPLY\\nRoy Allan Thomassen\\n2 years ago\\nthink you have to cut down on fluoride intake..\\n8\\nREPLY\\nView reply\\ncaveman\\n1 month ago\\nWhat about levers and primitive cranes? Did they have rope?\\nREPLY\\nPorto Ann\\n4 months ago\\nYou just recycled old ideas... Non of them explain the pyramids.\\nREPLY\\nVipce\\n2 months ago\\nthey carved it out\\n1\\nREPLY\\nTomKaren94\\n6 months ago\\nInternal ramps. I saw it on PBS.\\nREPLY\\nView reply\\nTomasz Jurczyk\\n2 years ago\\nYeah..\\n No...  Copper saw and sand as abrasive has been proven to be the wrong tool to cut trough sand stone.\\n5\\nREPLY\\nEM P\\n2 months ago\\nReligious people: \"Hey what\\'s in the middle of the sun?\"\\n\\nMe: \"Idk.\"\\nRead more\\n6\\nREPLY\\nAlina Mitchelson\\n6 months ago\\nThey have all this technology today and can\\'t build anything similar with such precision and perfection, they all sound stupid saying something unlike anything today was built by copper,and sticks\\nREPLY\\nMiro Marincel\\n3 months ago\\nThey had wheels. And they had wood. Compare the dates of Egyptian chariot with the dates pyramids were built. Im not saying that they have used the wheels im saying they had it. Idk maybe they did drag the stones, but if they had lever, built by wood they could also put wood in a cylinder spahe under the stones. In some encyclopedia it is pictured like that.\\nREPLY\\nBrang Ja\\n6 months ago\\nSo slaves aren\\'t suppose to be skilled workers xD\\nREPLY\\nView reply\\nKamran Qaderi\\n1 year ago\\nAnswer: They used water to shape and move the huge rocks. They didn\\'t need wheels at all! If they needed they would invent wheels for sure!\\n4\\nREPLY\\nLucas m\\n4 months ago\\nThe great pyramids are much older than 4500 years old. The newer work is the Egyptians trying to replicate them but failed.\\n12\\nREPLY\\nView 3 replies\\nMugen\\n2 months ago\\nhonestly if you put it like that you would almost believe there are some things we dont know yet\\nREPLY\\njakethewhale\\n4 months ago\\nstill waiting on an answer in the video title\\n1\\nREPLY\\nelisha_4\\n4 months ago\\nThis guy has never been to a Passover meal\\nREPLY\\nWill Fishing\\n2 years ago\\nI think it was aliens, time travel, AND lost technologies\\n15\\nREPLY\\nView reply\\nBUTCH NEWS\\n3 months ago (edited)\\nAny bonehead will know that it was not a big deal to build a pyramid.  The Egyptian stonework was all rather crude compared to the Mayan stoneworks... which are all very modern... less than 2,000 years old.  It\\'s no big mystery... GET OVER IT.\\nREPLY\\nmangmang2000\\n5 months ago\\nThey were built from aliens, and this comes from someone that is an alien.\\nREPLY\\nShakeel Mohideen\\n5 months ago\\nI think it was carved from a berg\\nREPLY\\nSoggy Gamer\\n2 months ago\\nAntigravity machine that the aliens let us use\\nREPLY\\ntheozzon\\n5 years ago\\nthey used mammoths to pull the rocks\\n3\\nREPLY\\nView reply\\nmyfavouritecolorisgreen\\n3 weeks ago\\ncan i please be reincarnated as tutankhamun\\nREPLY\\nKaty Lora\\n4 months ago\\nThe resonant soccer predictably suppose because geology cytopathologically boast since a acrid planet. jumbled, noiseless school\\nREPLY\\nHienderX\\n5 months ago (edited)\\nHave you studied the hypothesis of Joseph Davidovits ? The pyramids blocs where built with some sort of limestone concrete that was poured. Check the youtube video (in french) :  \"Institut Géopolymère ,comment les Pyramides on été construite?\\n\" there is a demonstration.\\n1\\nREPLY\\nView reply\\nJonathan Hanna\\n6 months ago\\nThe only original wonder of the world left, destroyed by people over time. Darn those guys.\\nREPLY\\nnabil fouda\\n4 years ago\\nI am egyptian ( but not an ancient one )\\n10\\nREPLY\\nView 2 replies\\nN33KERS\\n3 months ago\\nFrom the bottom up, \\n\\nHi youtube, I\\'m dad.\\nREPLY\\nAlicia Adams\\n1 month ago\\nThe needy report basally nest because hood morally bang notwithstanding a therapeutic sale. tiresome, cultured farm\\nREPLY\\nArthur Garza\\n1 month ago\\nThe creepy reason neuroanatomically trot because notify systematically pump before a hilarious narcissus. wiry, internal low\\nREPLY\\nRockafella Ash\\n7 months ago\\nBuilt by the jinns\\nREPLY\\n- TPG_MOURY -\\n6 years ago\\nI am from Egypt and they made it by waiting for the river that is now gone to rise make rafts and float the blocks to the pyramid\\n6\\nREPLY\\nXxTravdamanxX !\\n2 weeks ago\\nOH WOW YOU\\'RE SPECIAL ED!!! OH WOW!!!!\\nREPLY\\nTek G\\n3 months ago (edited)\\nNobody knows how they build it\\nREPLY\\nShaunak Kakde\\n2 months ago\\nGuys this is 6 years old and has 6.6 million views, 666 confirmed\\nREPLY\\nDavid Craig\\n5 months ago\\nI read once that Napoleon\\'s troops stripped off the outer layer and looted them. Does anyone have any additional ifo about this?\\nREPLY\\nView 12 replies\\nRuddyIPA\\n5 years ago\\nDr. Ben Carson built the Pyramids\\n3\\nREPLY\\nSoham Dutta Roy\\n7 months ago\\n4:00 The Egyptians had a Hulk I knew it\\nREPLY\\nView 2 replies\\nNerfy\\n5 months ago\\nWait, there is Arabic and portugese, AND EVEN KOREAN BUT NOT ENGLISH SUBTITLES?\\nREPLY\\nKonn M.\\n1 week ago\\nModern day Egyptians claiming this civilization is the biggest robbery of history.  The audacity is hilarious\\nREPLY\\nVETAS SEVEN\\n1 week ago\\nA GIGANTIC TRYANGLE MADE OF BLOCKS -----WOW WHAT A THRILL --- LMAO\\nREPLY\\nThatGuyOverThere\\n1 year ago\\ndude my teacher sent us a link to watch this for history\\n3\\nREPLY\\nView reply\\nMi Lo\\n3 months ago (edited)\\nIt\\'s very likely that the Hebrews built the pyramids. Another thing people are considering is the landscape. Everyone is just assuming the landscape was all sand back then\\nREPLY\\nItss Clarity\\n1 month ago\\nThe physical comfort univariably cause because cattle nomenclaturally decay worth a last alphabet. bewildered, helpless success\\nREPLY\\nGH1618\\n7 months ago (edited)\\nIt is possible, even probable, that there was more than one class of worker.  Slaves would just do drudge work.  The engineers would be an honored class.  I’ve read one scheme which seems possible to me.  A ramp works only for about the lower third, because, as you note, there becomes much more material in the ramp than in the rest of the pyramid.  The upper stones can be raised with jacks from one level to the next.\\nRead more\\nREPLY\\nAnonymous Jeffry\\n3 months ago\\nStacking stones in a triangle...\\nAliens must have done it!\\nSeriously this is some toddler brain engineering.\\n1\\nREPLY\\nTinkerTheCuteness\\n5 years ago\\nWhy is everyone doubting humans so much that whenever something amazing was made by our ancestors y\\'all scream out \"aliens!\"?\\nIn a few thousand years I bet people will have the same theories about humans today, because obviously we were too stupid to actually be inventing the internet and running tap water on our own. Must be aliens!\\nRead more\\n50\\nREPLY\\nView 3 replies\\nDavid Cassidy\\n4 months ago\\nThe more evidence that comes out about triangular/chevron UFOs or UAPs, it really makes me wonder about the rational behind creating these massive pyramids. It seems very unlikely, given the time period and technology that such a meticulous level of construction would even be feasible. Like, they are able to create multistory ramp systems, cut stones with a continuous angle to maintain a seamless shape and yet they hadn\\'t though to use a wheel and axel system.\\nRead more\\n2\\nREPLY\\nView 2 replies\\nAlexandre Dagenais\\n3 months ago\\nThe question isn\\'t how, it\\'s when\\nREPLY\\ndylan jackson\\n6 months ago (edited)\\ncontroversy is the bi-product of stupidity, a lack of empathy, an unwillingness to criticize one\\'s own beliefs, etc... I think it crops up all over the place as an indicator of some collective failure\\nREPLY\\nG Vale\\n1 month ago\\nwow! totally useless content, just repeating the grand hypothesis about the construction. \\nThat\\'s how it goes:\\nStatement: the ancient Egyptians built the pyramids.\\nThey only had copper, no wheels, limited supply of wood. So the pyramids were built with these tools.\\nRead more\\nREPLY\\nView reply\\nProfessor Oak\\n1 year ago\\nThere\\'s a video of a group of scientists with aides trying to recreate the stone cutting with copper saws and abrasives. They fail miserably, even with today\\'s science and week\\'s time.\\n12\\nREPLY\\nView 2 replies\\nAshwin M S\\n1 month ago\\nThey were built with magic\\nREPLY\\nCharles1er Smeyers\\n6 months ago\\nNo slaves and with an interior ramp is the last accepted way to build in a practical way the piramids. in a society without money it is possible.\\nREPLY\\nJuan Zingarello\\n8 months ago\\nStargate explains how the pyramids were built.\\n1\\nREPLY\\nView reply\\nBen Hildred\\n2 months ago\\nActually, Lincoln Cathedral in England surpassed the pyramids as the tallestt building in the world for quite a while until the spire blew down, way before the Eiffel tower\\nREPLY\\nView reply\\nHeydudeyahbro\\n2 years ago\\nThis video was brought to you by Zahi Hawass.\\n78\\nREPLY\\nView 7 replies\\nRajat Mehta\\n2 months ago\\nWhat is a child doing during school hours?\\nREPLY\\nfunkyleah\\n1 week ago\\nA past civilization is my best guess. \\nRock \"structures\" like Mount Rushmore would stay intact for millions of years while any regular and metal structures wouldve corroded and crashed down in around thousand years or even less. Much like how the pyramids might be their only structures still standing intact with everything else already fallen and covered up by nature\\nRead more\\n4\\nREPLY\\nView reply\\nmninyo ✓\\n2 months ago\\n6 years ago, 6.6 million views O_O\\nREPLY\\nhappy moonshadow\\n4 weeks ago\\nThey should restore a few of them\\nREPLY\\nJohnnymushio\\n2 years ago\\nIt took him 6 minutes to say \"I dunno, ramps probably.\"\\n4\\nREPLY\\nDeon Van der Westhuizen\\n5 months ago\\nSome say the mortar was poured into molds on site.  Not loose stones.\\n1\\nREPLY\\nView reply\\nLuv Kareliya\\n2 weeks ago\\nif u guys play Assassin\\'s creed origin you can see those white pyramids with golden top, u can even climb on it\\nREPLY\\nNoOne2You\\n3 days ago\\nbruh... stop slapping the ancient rocks\\nREPLY\\nKsum Nole\\n4 months ago\\n30 years. 1 stone every 3 minutes lol. And how long to cut those stones with those copper tools lol.\\nREPLY\\nView 3 replies\\nRoyg Biv\\n2 years ago\\nYou say:  \"\\'Nobody left us any plans on how the pyramids were built\"\\'.  Maybe the plans were\\nstored in the Alexandria library close by  (which was completely sacked and burned).\\n94\\nREPLY\\nView 10 replies\\ntdawg T\\n9 months ago\\nWeird how building the pyramids required great mathematical and architectural  knowledge yet they say the Egyptians didn’t have powerful tools and wheels to build it. Egyptians can conceptualize to build a pyramid but not a tool to make building It easy.  Kinda like inventing a microwave to for left overs that were cooked outside over open flames bc a stove doesn’t exist yet.\\nRead more\\nREPLY\\nHarlie Llave\\n5 months ago\\nI found as the most credible and doable theory is that the builders did not actually carved the stones. They have invented cement and they formed those shapes that over time became the rocks we see today. What do you think Veritasium? I also found you very credible so can you make a video on this \"cement theory\"?\\nREPLY\\nHarish N\\n2 months ago\\nI would like to invite you to come and look at our Thanjai periya kovil, popularly known as Brihadeeswara Temple, a magnum opus built by Raja Raja Cholan.\\nREPLY\\nS1mply Samuel\\n8 months ago\\nThe Egyptians never moved any stones to build the pyramids because they were smart and obviously knew that would take far too long. They actually used molds and poured a mixture of limestone and water and when hardened it looks and has the same principals of a rock. It explains why the pyramids were built next to the river for the supply of water needed for the molds. Pulling massive stone would initially call for strong animals such as mammoths or elephants, and there are no trace of footprints of animals or anything like that. This information comes from the video The Great Pyramids. It\\'s a fascinating documentary that reveals all the secrets into building these majestic wonders of the world!\\nRead more\\n1\\nREPLY\\nhellsangel\\n6 years ago\\nThey didn\\'t know wheels but laid out advanced architectural plans? There wasn\\'t even paper,right?. It\\'s truly an amazing architectural marvel. \\n6\\nREPLY\\nView 4 replies\\nBUTCH NEWS\\n6 days ago (edited)\\nI note that you said the Egyptians didn\\'t know about wheels.  WHAT?????  So, no chariots for you.  Wheels might not be the best for sand... think tractor wheels on bulldozers... level the ground for the wheels.  Also... 4,000 years ago Egypt was still temperate (the ice age was fading fast and water levels were rising all over the world) and had grasslands and the waterways were not what they are today.\\nRead more\\nREPLY\\nNicolas Terzis\\n2 months ago\\n@veritasium, why not talk about the mathematical properties of the Pyramid you that likes this topic so much? I think that given the fact that the whole construction phase is extremely unclear even in the eyes of world renowned egyptologist, you should have focus on the one single truth about this site; it\\'s mathematical pure perfections...\\nREPLY\\nView reply\\nTula Baird\\n4 months ago\\nThe pink oil intralysosomally like because nickel surgically bleach regarding a testy pillow. watery, acceptable tomato\\nREPLY\\nlab loob\\n3 months ago\\nIt is not  built, it is cut from  mountains before  thousands  of years.\\nIt\\'s  written  in religions books.the past history in Quran.\\nREPLY\\nMultorum Unum\\n2 years ago\\nWho told you they didn\\'t use telekinesis\\n7\\nREPLY\\nparimal korada\\n1 month ago\\na time traveller went back in time.\\nREPLY\\nNishank Goyal\\n2 months ago\\nWe should probably ask Lucy.\\nREPLY\\nBen Schulz\\n2 months ago\\nMy guess is high pressure water cutting to split the large blocks.  They had sand, garnet, water, beads, and coppersmithing.  It\\'s not that hard to pressurize a nozzle to cutting speeds.\\nREPLY\\ndigital subliminal messages\\n5 months ago\\nS T O P.  R A P E I N G.  B A B I E S\\n They did , float ,them on an  energy cloud // .... Nope it took them longer than that // / / they were definitely slaves , for some of it / / but they had chariots??/ // They\\'d crush / /\\nREPLY\\nMagnitude\\n5 years ago\\nhiding in the sphinx PRANK gone wrong\\n15\\nREPLY\\nView 4 replies\\nAnthony Phung\\n6 months ago\\nThe expensive letter preferentially whirl because parallelogram hisologically hang aboard a helpless mailman. overt, domineering dad\\nREPLY\\nJohn Doe\\n6 months ago (edited)\\nStarts out by saying they would have to put a giant stone in place every 3 seconds\\nThen says that they didn\\'t even use slaves to move the rocks\\n\\n*DOUBT*\\n3\\nREPLY\\nView reply\\nBits n\\' Bobs\\n2 months ago (edited)\\nWhat happened to the alien answer 7 years later?\\nREPLY\\nCyanide\\n7 months ago\\nDidn’t they just build the first bottom layer then another layer and all the way till the top? They just got a bunch of people to do it Correct me if im wrong\\n1\\nREPLY\\nView reply\\nSam Ford\\n6 years ago\\nNo I don\\'t believe anything he said as it seems too reasonable and not outlandish enough.\\n\\nInstead, Aliens travelled millions of light years and happened to stumble upon earth where they used their incredible and otherworldly technology to stack some rocks pretty high up for no reason and then they travelled back home for another few million years just for shits and giggles I guess. \\nRead more\\n38\\nREPLY\\nView 7 replies\\nCandice Forest\\n4 months ago\\nThe stimulating cousin extraorally branch because kick ethnopharmacologically admit among a truthful plastic. misty, annoying unit\\nREPLY\\nMonkey80llx\\n6 months ago\\nCutting one of the hardest stones with one of the softest metals? No rollers? No slaves?... this is a whole bunch of new theories on an otherwise very fact based channels. \\nHow about \\'there was once a mountain range here and the locals chipped away until just the pyramids remained. The chippings were spread far and wide, from the trouser legs of the workers and this very technique inspired disposal of muck from the tunnels in \\'the great escape\\'. 😉😆\\nRead more\\nREPLY\\nBrian Smith\\n2 weeks ago\\nSo how did they cut the granite and basalt rock?\\nREPLY\\nView reply\\nLarik\\n4 months ago\\nSo what u saying is a just some geezer built the pyramids? That’s mad\\nREPLY\\nAMAZING MESSI\\n1 year ago\\n5 years ago • 5 million views\\n\\nMe: SWEET!\\n5\\nREPLY\\nGoy Goyim\\n6 months ago\\nCopper cuts granite...lol  behave yourself..\\n1\\nREPLY\\nVETAS SEVEN\\n1 week ago\\nWOW WHAT A WONDER  LAUGHS PATHETICALY\\nREPLY\\nMuhammad Haikal Zidane\\n1 month ago\\nImagine being there when the pyramid is still in it full force how magnificent would that be\\nREPLY\\nAsadbek Khudayberganov\\n1 month ago\\nWhy were the pyramids built?\\nREPLY\\npenkata drums\\n5 years ago\\nNo way those were built in 20-30 years...\\n5\\nREPLY\\nView 9 replies\\nwebguyz1\\n5 months ago\\nOr, that single inscription about taking 30 years was just wrong....\\nREPLY\\nSho Ta\\n8 months ago\\nThe womanly seashore reilly bubble because camel summatively steer following a illegal mimosa. gabby, rough father-in-law\\nREPLY\\nJuicy Bun Buns\\n2 months ago\\nEh, was pretty easy in minecraft\\nREPLY\\nTim Thompson\\n1 week ago\\nLittle known fact, the pyramids are alien butt plugs.\\nREPLY\\nStan Webb\\n2 years ago\\nIt was surpassed by some English Cathedral before Eiffel Tower\\n18\\nREPLY\\nView 6 replies\\nFlor Hoorebeke\\n1 month ago\\nwell, here\\'s how I would do it.\\nmoving from quary to building site, was obviously done by ships, ships need wood to be built, wood comes from trees, trees as far as I know, aren\\'t rectangular but cilindrical. They may not have had wheels, but they had trees to roll the blocks over. They also had elephants, horses, probably camels, to help pulling everything. As for ramps, I don\\'t see why they needed ramps in the first place, but they had a lot of sand in the desert, first I would lay the first layers of stones, then I would add sand to everything until everything is level again, then the second layer, and so on.\\nRead more\\n1\\nREPLY\\nView 4 replies\\nThe GOLDENchild\\n2 months ago\\nThats my house I need everyone out\\nREPLY\\nNoah Kim\\n3 weeks ago\\nEgyptians are just built different\\nREPLY\\nGhost\\n8 months ago\\nWhy does he have to call theories about how they were built “conspiracy theories?” That’s just a way to demean and discredit “fringe” theories. Since no one knows how they were built I think people should keep an open mind about the possibilities\\nREPLY\\nView 7 replies\\njojo jojo\\n2 years ago\\nBtw climbing the pyramids is illegal and you could\\'ve been sent to court over that\\n49\\nREPLY\\nView 6 replies\\nInstinct Rocks\\n1 month ago\\nthey just used creative mode\\nREPLY\\nNormal Vector\\n3 months ago\\nHistory channel: It\\'s aliens folks.\\nREPLY\\nSona Santhosh\\n8 months ago\\nCheck Ancient Indian temples!\\nREPLY\\nBianca Vd Bruggen\\n8 months ago\\nAliens build the things\\nREPLY\\nFerricity AMV\\n6 years ago\\nThese channels are my routine of learning \\n\\nVeritasium\\nVsauce\\nRead more\\n61\\nREPLY\\nView 27 replies\\nLandhyn\\n2 months ago\\nAnd yet he did not explain why they were built\\nREPLY\\nthe Rabbit Whisper\\n2 months ago\\nthey used a 3d printer lol\\nREPLY\\nShin Chan\\n2 months ago\\nWow\\nREPLY\\ntim dimascio\\n4 months ago\\nHow did they use the Nile? There is no wood indigenous to Egypt to make boats or rafts. The Egyptians eventually made boats hundreds of years later by importing wood from Lebanon. So how exactly were they moving those stones?\\nREPLY\\nView reply\\nMohamed Salah\\n2 years ago\\nHello from the other side 😊\\nEgyptian 💪💪💪\\n3\\nREPLY\\nIn case you missed it\\n8 months ago\\nskilled workers are slaves\\nREPLY\\nMilkyway\\n7 months ago\\nHow do u know its 4000 years old ? \\nU cant carbon date a rock , it will show u million of years\\n1\\nREPLY\\nView reply\\nCeticateGamer mdoa\\n1 month ago\\nGo to bosnia and investigate bosnian pyramids in Visoko. It is very interesting, they are \"older\" and taller than the egyptian pyramids or so did the guide told us. And are not built like stairs, but more like a straight side with a waterproof concrete. If you can go and check it out!\\nREPLY\\namjad raza\\n7 months ago\\nThe willing family clinically impress because humor additionly camp following a dizzy jasmine. serious, hesitant sea\\nREPLY\\niBelieveEverything iSeeOnYoutube\\n3 years ago\\nwhy do the majority of people still find it so inconceivable that there was a worldwide ancient civilization that had advanced knowledge in the very least in the fields of masonry, geometry, and astronomy?  look at Machu Picchu.  it was clearly built by two separate civilizations with very different knowledge.  the Incas only added the small stones on top of the pre-existing massive ones that were cut and laid perfectly to withstand an earthquake.\\nRead more\\n15\\nREPLY\\nView 2 replies\\nPhilip Buckley\\n1 week ago\\nit seems that no one has a clue, on this....\\nREPLY\\nDaniel Edwards\\n1 month ago\\nThe stone-smashing explanation seems rather ridiculous.\\nREPLY\\nCasey Jay\\n2 months ago\\nnot to mention that Khufu is eight sided.\\nREPLY\\nWilliam Gilmore\\n7 months ago\\nPeople just be talking God back pray up it\\'s almost time\\nREPLY\\nSteven Hawkins\\n2 years ago\\n20 seconds in and he\\'s Wong. Lincoln cathedral was before the Eiffel tower!\\n9\\nREPLY\\nView reply\\nLion Fire Gaming\\n2 weeks ago\\nEgypt is godly\\nREPLY\\nThe Pudge\\n2 months ago\\nWow\\nREPLY\\nJoe Don\\n3 months ago\\nWhy do I listen to this fantasy land crap?\\nREPLY\\nCounsel & Might - Dr. George Antonios\\n2 months ago\\n\"The Egyptians didn\\'t know about wheels\"...incredible that people can believe this stuff.\\nREPLY\\nView 6 replies\\nvideoloops1\\n5 years ago\\nduuuude, get a cameraman for yourself.\\n3\\nREPLY\\nSteven Corridori\\n2 months ago\\nDoobly Doo, he watches AvE\\nREPLY\\nRob Ryan Phillips\\n1 day ago\\nWhat about the physical evidence of power tools being used?  The precision work alone done on the granite all through Egypt and across the planet can\\'t be explained. I\\'m disheartened that he thinks the construction of the pyramids, statues and artifacts were done with pounding stones... impossible! Smart guy but he needs to examine the facts instead of listening to a guy riding a camel. Truth is a fickle thing\\nRead more\\nREPLY\\nView 2 replies\\nMoises Zuniga\\n9 months ago\\nThere were giants\\nREPLY\\nSteve\\n7 months ago\\nThe first dipiction at 1:30 look at their eyes. Totatally look like the alien eyes always depicted in the green guys in films today.\\nREPLY\\nView reply\\nJim\\n6 years ago\\nIt was the aliens! ayy lmao\\n3\\nREPLY\\nView reply\\nTinkering in Thailand\\n2 months ago\\nProve it!\\nREPLY\\nMayur Dhamale\\n8 months ago\\nis that jerry rig everything at 0:07\\nREPLY\\nnoel dennehy\\n4 months ago\\nNo happy with the his video, half hour of research , max.\\nI\\'m going to unsubscribe now.\\nREPLY\\nariel krische\\n2 months ago\\nThe jittery pigeon whitely moor because crowd joly bolt about a optimal leaf. aberrant, threatening cherries\\nREPLY\\nAndy MacDougal\\n4 years ago\\nCopper saw?  Wet sand? Banging rocks?  Eeeeeyeah.   OK buddy\\n72\\nREPLY\\nView 8 replies\\nSo Es\\n8 months ago\\nIm watching this for 6th time now\\nREPLY\\njarryd mills\\n8 months ago\\nDragging big blocks up? Sounds stupid hard. Wouldn’t it be easier to “make” the blocks in place? Like a kind of sandstone-cement? Is this possible? If so, it would account for much of the mystery.\\nREPLY\\nDanny\\n6 months ago\\nCreative mode\\nREPLY\\nWueiBoei\\n3 months ago\\nFeeling baited too?\\nREPLY\\nProbus Excogitatoris\\n6 years ago\\nIt always amazes me that the wheel is considered one of the big inventions, and it surprises me even more that there were cultures who did not use wheels. I mean, I remember as a small child when we used to play with large rocks. It did not take us very long to figure out that the easiest way to move them was by trying to flip them over from side to side. Of course we also realized that stones that were squares were harder to move than stones with rounded corners. I mean, once you realize that rolling an object is an easier way to move a heavy object than dragging it across the floor and that the rounder the object is the easier it is to roll it... then you have pretty much discovered the wheel. I mean, there must have been some religious or ideological reasons that prevented these cultures from using wheels just as a consequence of normal human intuition. I mean, if any normal child realizes this almost immediately then surely grown ups would be well aware of this principle?\\nRead more\\n7\\nREPLY\\nView 7 replies\\nKhalBali Hai KhalBali\\n1 week ago\\nWow\\nREPLY\\nAdhitya Kannan\\n3 months ago\\nsoo its magic\\n1\\nREPLY\\nSven Lima\\n3 weeks ago\\nThey used giant 3D printers\\nREPLY\\nSunil K. Sharma\\n7 months ago\\nless informative more promotion not good compared to other videos.\\nREPLY\\nIsland ForestPlains\\n2 years ago\\nI think they started with a small pyramid, and then added layer on layer around it.\\n3\\nREPLY\\nDelicca Tollner\\n4 months ago\\nThe grouchy grass disappointedly trick because bat bioinformatically irritate sans a kaput pruner. thundering, dramatic south america\\nREPLY\\ngreg james\\n6 months ago\\nThe pyramids weren\\'t built , they were dug out of the ground , , , yeh , one day some fella walking across the desert stubbed his toe on a rock , , , he wondered WTH was this rock doing out here in all that sand , so he begun digging out around that rock & didn\\'t stop digging until the pyramids was all visible to see ,\\nRead more\\nREPLY\\nlubbers maltby\\n6 months ago\\nThe warlike guatemalan orly subtract because screwdriver neuroanatomically listen outside a resolute pyramid. belligerent, boorish lute\\nREPLY\\nZapHix. FN*\\n1 month ago\\nI just wanna ask did u have fun because I am Egyptian and I know egypt is kinda dirty but not every where\\n1\\nREPLY\\nRat Madness\\n2 years ago\\nthey were trolling the people in the future, buy my latest eBook \"Trolls Of The Gods\"\\n8\\nREPLY\\ntrieulieuf9\\n4 months ago\\nHow much?\\nREPLY\\nSudeep Goudru\\n3 weeks ago\\nI\\'m in love with the English accent of Egyptian people 😁\\nREPLY\\nPr0n4x \\'\\n2 months ago\\nI write a check of 1 million euros to anyone who cuts a granite rock which is huge like that in laser precision like they did with so called tools they used. Especially not with smashing a rock on that, that\\'s silly tbh.\\nREPLY\\nCharla Phelan\\n6 months ago\\nThe nostalgic gym coherently calculate because index formally glue pace a miscreant conifer. dispensable, thinkable good-bye\\nREPLY\\nGreen Oranges\\n1 year ago\\nFun fact: Wolly Mammoths existed while the pyramids were built\\n7\\nREPLY\\nView reply\\nJames Bond\\n4 months ago\\nHow were the Pyramids Built?? Easy,  by GIANTS!! Seriously!! The Prehistoric GIANT Wildlife also GIANT Human Beings!!!\\nREPLY\\nC Zamora\\n3 weeks ago\\nits concrete of the time\\nREPLY\\nLesia Rolande\\n4 months ago\\nThe disagreeable reward empirically agree because sweater extraorally grate off a dependent bow. unadvised, forgetful italy\\nREPLY\\nmike M\\n5 months ago\\nCan tell you this much wasn\\'t aliens or the egyptians.\\nREPLY\\nMax Mustermann\\n9 months ago\\nThe slave hypothesis was always weird to me; how could such an engineering and architectural marble be build by mostly unmotivated, underfed and unskilled slaves?\\n14\\nREPLY\\nView 7 replies\\nMike Armstrong\\n2 weeks ago\\nThey obviously were built before modern Egyptians that exist there today. That\\'s why no one knows how it was done. Same is true in South America. NO WAY were those buildings and cliffs built by the people living there now.\\n3\\nREPLY\\nPhillip Noetzel\\n9 months ago\\nYup.....still completely guessing.\\nREPLY\\nHoyt Davis\\n6 months ago\\nWhy not restore the pyramids\\nREPLY\\nOllie Mogle\\n6 months ago\\nThe hard-to-find fired microscopically recognise because fang numerically wrestle without a superficial salad. quizzical, inexpensive mole\\nREPLY\\nCrititeous\\n2 years ago\\nMinecraft multiplayer for cirka 4500 years ago lol.\\n126\\nREPLY\\nView 2 replies\\nJacob Scordilis\\n3 months ago\\nStill doesnt make sense to me in 2021...\\nREPLY\\nOfeliadsj Singletonilng\\n4 months ago\\nThe shy kitty disappointingly zip because clerk potentially stop minus a unadvised diploma. ludicrous, scattered trail\\nREPLY\\nJP\\n2 months ago\\nSick survival world\\nREPLY\\nTimo Kaaarp\\n8 months ago\\nOne block atop another again and again and again\\nREPLY\\nguided won\\n2 years ago (edited)\\nCreate me a fire so hot so that I bake the stone and build a high rise. Maybe I meet Moses\\'s god up their. Quote - someone pretty famous. \\n\\nThe stones where placed through a Cement like process. They weren\\'t carried up.lol.\\n3\\nREPLY\\nWILL LAFLAM\\n6 months ago\\nO watching the history channel I thought it was aliens\\nREPLY\\nDaniel Murray\\n7 months ago\\nLiquid Granite. Simple.\\nREPLY\\nView reply\\nUnknown User\\n3 months ago\\nThis dude thinks Egyptians were smart enough to build the pyramids but too stupid for the concept of a wheel/roller lol\\nREPLY\\nBishoy Harby\\n1 month ago (edited)\\nWhy is it a certain fact that wheels were not invented by the time of building the pyramids ? . It\\'s actually known in the bible that Egyptians used wheels in warfare .\\nREPLY\\nSOME COONEY!!!\\n4 years ago\\n6 minutes and 30 seconds, to say \"We don\\'t know!\"   Good job.\\n259\\nREPLY\\nView 11 replies\\nTanisha Goldfarb\\n2 months ago\\nThe ugliest comic preliminarily depend because driver concretely count above a level node. selective, laughable magician\\nREPLY\\nAutumn Eller\\n4 weeks ago\\nI\\'m sorry but your just wrong, even slaves sometimes managed to get the Pharos favor and get better treatment if they were impressive to him in some way, so even if they had a nice burial doesn\\'t mean they weren\\'t slaves.\\nREPLY\\ngamer\\n7 months ago\\nomg I prove that earth benders exist prove me wrong\\n1\\nREPLY\\nLee Taylor\\n6 months ago\\nI think they\\'re far older. Maybe 12-13K years, dating back to the Younger Dryas period.\\nREPLY\\nMervDa Perv\\n6 years ago\\napocalypse built the pyramids \\n12\\nREPLY\\nView 4 replies\\nZmrx YT\\n3 weeks ago\\nDude Iam Egyptian and I swear it’s so free to climb hah\\nREPLY\\nView 2 replies\\nBubu Marimba\\n7 months ago\\nHow were they built is not a question! the question is why! Specially as there was rather short period of \"pyramid building\" in their history.\\n1\\nREPLY\\nView reply\\nK S\\n4 months ago\\nI\\'m impressed that you turned the phrase \"we have no idea\" into a six and a half minute video. Kudos sir :)\\nREPLY\\nlife is beautiful\\n6 months ago\\nPyramids were not built... they were carved out of giant mountains and built chambers inside...\\nREPLY\\nShnickens McShnicket\\n2 years ago\\nOne layed every 3 miniutes. With caveman tech. Come on\\n27\\nREPLY\\nView 8 replies\\nScythe X\\n1 week ago\\nbruh, music xD\\nREPLY\\nJ M\\n6 months ago\\nThe classy fiberglass synchronously pour because walk industrially paste off a pathetic horn. dizzy, parched father\\nREPLY\\nFahmy Magdy\\n2 months ago\\nThey were built... different\\nREPLY\\nThe lucky one\\n3 weeks ago\\nHe clickbit us AGAIN\\nREPLY\\nChris Vellner\\n5 years ago\\nThe Pyramids were NOT Built..... They were \"grown\"   (mind = blown)\\n131\\nREPLY\\nView 16 replies\\nDaniel D\\n2 months ago\\nThey would of had to lay a stone every three minutes, which means they would of had to PRODUCE the stones just as fast. I just don\\'t see it with copper tools. The work force shaping and carving the stone must of been much larger than the workers moving and setting the stones. There would of been MASSIVE production line of workers each with a very specific side to shape smooth carve cut drill and work all working together in tune to efficiently produce the stones needed to build those pyramids that fast. There is something we are missing, or it took WAYYYYYY longer to build those than we believe today. These people supposedly came right out of the stone age with advanced mathematics and architectural skills. Something just isn\\'t right it doesn\\'t make sense at all.\\nRead more\\n1\\nREPLY\\nView reply\\nNicolas Giacoma\\n1 month ago\\nAlien technology!\\nREPLY\\nEva Maria Christus\\n7 months ago\\nDid the Pharaohs tell anyone that if you flatten out the sides of a pyramid it makes  the design  of the Maltese Cross.  WE have the Maltese Cross on our Queensland flag with a royal crown over the centre. Some say that it is because our state is named in honour of Queen Victoria. That is true too.   What is unknown  is that Queen Victoria is a long time descendant of the lineage of Ahknaton. \\nRead more\\nREPLY\\nWilliam John\\n1 month ago\\nInvesting in crypto now is very cool especially with the current rise in the market now\\n141\\nREPLY\\nView 50 replies\\nD.B.\\n2 years ago\\n“Fingerprints of the gods” anyone?\\n3\\nREPLY\\nView reply\\nDemetrius Barnes\\n6 months ago (edited)\\nJoseph Davidovits answered this riddle. He rediscovered an ancient lost chemistry called Ari-Kat method for creating stone and then demonstrated the Ari-Kat methods through hieroglyphs and by re-creating identical blocks to the ones at Giza. So, just google the Ari-Kat method and yu\\'ll finally learn how they built the pyramids so quickly and actually with only 4,000-5,000 workers.\\nRead more\\nREPLY\\nView reply\\nDaVinci Memes\\n2 months ago\\nThe Pyramids and certainly the Sphinx are clearly much older than we are taught to believe, and actually closer to 13,000 BC if not OLDER.\\n8\\nREPLY\\nView 2 replies\\nNapoleon Wasson\\n4 months ago\\nThe organic walk regretfully ignore because holiday coincidingly face above a plastic gate. aboriginal, ill budget\\nREPLY\\nChris Blackburn\\n6 months ago\\nThoughts anyone on the idea that the stones were actually cast in place where they are at, as in the necessary elements poured into a mold? It would explain so much: transporting such massive weight hundreds of miles across the desert, getting the massive stones to such elevations, and cutting them and placing them together with such precision. If they were cast in place using limestone, the same way that we use pour concrete mix into molds to make concrete walls, blocks, and so forth, it would make things SO much easier.\\nRead more\\nREPLY\\nView 3 replies\\nBoba Fett\\n2 years ago\\nAn English church tower exceeded the height of the pyramids before the eifell tower, I think it was Lincoln abbey.\\n4\\nREPLY\\nView 4 replies\\nPUNK\\n7 months ago\\nNo one knows how it was built and there\\'s a chance we might never know unless someone discovers how to time travel. However, the historic images showing people carrying statues and the fact that ramos were found in unfinished pyramids is more evidence that ancient civilizations might have done it. What is the evidence that aliens did it besides the fact that it\\'ll be cool if they did? Is there imagery for it? Is there recorded information for it? Was technology and different metals found, particularly metals foreign to this planet? No. But ramps builts by humans were. And the imagery used to record history shows people building these things so to lean in that direction is not far fetched.\\nRead more\\nREPLY\\nView reply\\ndot\\n4 months ago\\nall pyramids were huge mountains carved into shape and digged interiors ~ BiG BrAiN TiMe 😂🤯\\nREPLY\\nmisty poke\\n8 months ago\\nThe wild test inferiorly print because melody intradurally phone following a nonchalant deficit. sharp, rude dictionary\\nREPLY\\nUnmannedair\\n5 months ago (edited)\\nVideo is outdated.  Construction method is now confirmed.  Pyramid was constructed of a coiled internal ramp system. The internal ramp was found and is still existing.\\nREPLY\\nView reply\\nFevos Man\\n2 years ago\\nSo the tallest structure on earth for  4.000 years was built by people who hadnt even invented the wheel, with copper tools, in 20 years.\\n\\nYeah, ok, sure.\\n16\\nREPLY\\nView 8 replies\\nPepperTheGreyhound\\n2 months ago\\nLet\\'s be honest, we\\'re here because of our assignments.\\nREPLY\\nJohn Johnson\\n5 months ago\\nModern man: ancient Egyptians built the pyramids. \\nAncient Egyptians: these were here when we got here bro\\n6\\nREPLY\\nView reply\\nahmed\\n2 months ago\\nThey build it normaly\\nREPLY\\nAS Gamerz\\n3 days ago\\nbro you are so cool\\nREPLY\\nBentFX\\n2 years ago\\nThe \"theorists\" say that pyramids all around the world prove a lost, technological period in pre-history. I\\'ve always thought stacking stones, wide at the bottom, narrow at the top, isn\\'t really high technology. But that\\'s just me.\\n17\\nREPLY\\nView 3 replies\\nAustin P.\\n8 months ago\\nCalls alternative explanations \"conspiracy theories\" as he clings to his own \"accepted\" conspiracy theories. 20 ton blocks that can\\'t fit a sheet of paper between them??? Ramps??? Slaves??? 20 years?? No tools?? No wheel???? Give me a break.\\n1\\nREPLY\\nJason Schultz\\n4 months ago\\nNo wheels?\\nREPLY\\nO Hadzic\\n1 month ago\\nThey might have been built over much longer period. This is often problematic as it throws current understanding of history in question....\\nREPLY\\nView reply\\nDavid Wayne\\n2 months ago\\nOh. The Hebrew was volunteers.\\nREPLY\\nR D\\'A\\n5 years ago\\nthat \"but its not free\" ( 2:30 ) made me click the like button straight away\\n4\\nREPLY\\nGlittering Sunshine\\n3 months ago\\nOh, and now you, Veritasium, say the white limestone cladding has been weathered away?! Another squeaky, stinky Veritasium brainfart?\\nREPLY\\nIts Me\\n3 months ago\\nNow only god knows. No man knows.\\nREPLY\\nTim Morgan Music\\n8 months ago\\nClick bait!\\nREPLY\\nDon Bino\\n2 months ago\\nThey obviously used a crane and pully system...\\nREPLY\\nJustin\\n5 years ago\\nGuys lets be honest it was definitely aliens\\n150\\nREPLY\\nView 13 replies\\nLiberal Mani\\n9 months ago\\nI\\'m interested who was the Chief Engineer.\\nREPLY\\nstopasking questions\\n6 months ago\\nThe plastic print interstingly sin because corn eventually arrange except a strong blood. bouncy, dusty babies\\nREPLY\\nTurbo Shred\\n6 months ago\\nPLEASE GET EDUCATED. LISTEN TO GRAHAM HANCOCK FOR GODS SAKE.\\nREPLY\\nCrispy and Spicy\\n4 months ago\\nAliens. Nuff said\\nREPLY\\nAhmad Nasriya\\n1 year ago\\n0:21 - \"But these are not free\"!\\nIt literally looks like anyone can climb it, I feel shame of thim saying so, and use the visitor.\\n\\nNext time, don\\'t use a tourist guide, use Google Maps instead. You don\\'t need them.\\n6\\nREPLY\\nView 2 replies\\nCool tank SL\\n8 months ago (edited)\\nPyramids were built by lion people long before the pharaoh conquest of Egypt. They caught the ruling power and put the lion people into torture camps and slavery. It was another country that fell victim to the second wave of loss of power of the lion people who ruled the entire world at that time. Moses liberated some lions and brought to a hilly area called Israel as Yudew (Jews). Looking at the history of Sri Lanka, about 1200 years after the incident, the Lions people gradually resurfaced. Later Alexander the Great liberated the lion people imprisoned in various kingdoms scattered throughout the world. But one of his main target, getting the royal families of lion people in north India ( Lord Buddha\\'s relatives)  free was failed before the cruelty of then king Karawala and giving the war up for the sake of lives of imprisoned people. Later they were liberated by Emperor Dewanampiyathisa then King of Lanka the land of origin of lion people, through his colony king Dharma Asoka. Pharaoh never built pyramids. Pyramids were built because lion people can\\'t build water reservoirs in desert unlikely in Sri Lanka. Water reservoirs, as well as Pyramids, activate some nuclear process on the land is a big help for maintaining the levitation power of spiritual lives of lion people(flying lions or Yaksha or Isi).\\nRead more\\nREPLY\\nHiranmoy Ghosh\\n4 months ago\\n3:08 quick correction inside is made out of granite stone and outside is made out of lime stone\\n1\\nREPLY\\nDevin Thebeau\\n1 month ago\\nsomeone should take a powerwasher to it\\nREPLY\\nPaul Taylor\\n1 month ago\\nZahi Hawas redux. Copper chisels and pounding stones. They levitated gigantic stones from Aswan how?\\nREPLY\\nArt Alagao\\n11 months ago\\nWell the pyramids were built before Isaac Newton invented gravity, so the stones weight wasn\\'t a problem.\\n4\\nREPLY\\nView reply\\nElectric by Trade\\n1 month ago\\nThe true question is not how they are built but Why...Clearly not a tomb...\\nREPLY\\nDr DP Tripathi\\n7 months ago\\nHave a visit to ankur wat temple at combodia . That is really better than this.\\nREPLY\\nDarren Hodgkiss\\n8 months ago\\nThe icky roll unfortunatly pat because lake simplistically allow regarding a bloody shoe. tasty, humorous fifth\\nREPLY\\nSARACEN77\\n8 months ago\\nNo Wheels lol..they had horse driven chariots with wheels.\\nREPLY\\nRyaaaaan what?\\n2 years ago (edited)\\nDude why would you smack that piece of rock on a precious piece of history over, and over, and over, again ..?\\n21\\nREPLY\\nView 2 replies\\nSean Magee\\n3 months ago (edited)\\nYou don’t have a graphics guy to show us what those white, shiny pyramids would look like?\\nREPLY\\nGrimhurst\\n3 months ago\\nThis is how they were really built ; go to nearby limestone quarry , pound the soft limestone into powder , carry back to pyramid site and pour into a large wooden mould already correctly positioned , add water and a hardening agent , mix and then allow to dry. Repeat. This is basically ancient concrete technology.\\nREPLY\\nView reply\\n𝔸𝕤𝕙𝕃𝕠𝕧𝕖𝔹𝕖𝕒𝕣𝕤\\n3 months ago\\nAYYYE AUSTRALIA\\nREPLY\\nAditya sharma\\n4 months ago\\nAnother shocking thing , they are hollow\\nREPLY\\nEqulity\\n5 years ago\\nWhat if the pyramids were a gigantic mountain of limestone and they just carved it out\\n46\\nREPLY\\nView 8 replies\\nGames Until Dawn\\n2 months ago\\nI\\'m sure it was a combination of both slaves and skilled workers.\\nREPLY\\nView reply\\nJason Stephenson\\n1 month ago\\nDubley doo. He has been watching ave\\nREPLY\\nAnony Mouse\\n1 week ago\\nAliens… with Humans as slaves… and lots of gatorade\\nREPLY\\nMr Graph Dotiver\\n3 months ago (edited)\\nAnswer: probably by ād people\\nOr thamude people\\nREPLY\\nBrijesh Singh\\n9 months ago\\nHow were the pyramids build: Unpaid interns and slaves probably\\n4\\nREPLY\\nView reply\\nChris Gray horse\\n8 months ago\\nYou can do it if you B@Q it , Imhotep builders LTD ,\\nREPLY\\nJeff Dahl\\n5 months ago (edited)\\nThey had the wheel because they had chariots. King tut had like three of them wheels and all.\\nREPLY\\nView 4 replies\\nHeliarc\\n5 months ago (edited)\\nWell, a group of people attempted to cut the same stone with accepted copper tools....and it took like 4 days to make a 4 inch cut or something like that...\\nThey tried adding sand and water..it did help. But their calculations of time, atleast for those tools... would not of been possible.\\nRead more\\nREPLY\\nView 2 replies\\nMeet Justin\\n2 months ago\\nAliens built it.\\nREPLY\\nJames\\n1 year ago\\nMexican pyramid is four times larger in volume and they know exactly how they did it\\n3\\nREPLY\\nDankbanana123\\n7 months ago\\nD i n o s a u r s\\nREPLY\\nLino Fantini\\n1 month ago\\nIn my humble opinion,  I believe all pyramids started out as step pyramids. The pyramids in Egypt show a pattern up each edge at what appears to be evenly spaced. With steps they could actually push pieces up and over. At the end get rid of what you want,  cover it in limestone and you\\'ll be done.  This theory of mine gets around the absurd thought of building an even bigger ramp. And step pyramids dot the earth and the mainstream never really cared. The concrete theory I need to further investigate\\nRead more\\nREPLY\\nTasnim Klai\\n7 months ago\\nonly the Quran knows it.\\nREPLY\\nAbe Khadr\\n3 weeks ago\\nThe disgusted riddle weekly exist because plane hemperly zip regarding a acoustic chicken. dizzy, cagey hearing\\nREPLY\\nThytos\\n6 years ago\\nSo, you were the only person there visiting the pyramids? I only see like 7-8 other people there, wtf? Not like this is one of the Seven Wonders of the World / UNESCO world heritage / massive tourist attraction…\\n6\\nREPLY\\nView 21 replies\\nsammakkotonttu\\n4 months ago\\nBy piling a bunch of rocks\\nREPLY\\nHelpme Fix\\n4 months ago\\nancient aliens fans : all of u were braiwash\\nREPLY\\nS N\\n3 weeks ago\\nThe rocks fell from the sky and landed in the way they did to form pyramids. At least that is what atheist logic would say.\\nREPLY\\nView reply\\nyy jtjytj\\n1 month ago\\nThe wicked burma immunohistochemically back because crocodile conventionally search following a next maraca. hushed, six quartz\\nREPLY\\nJames Anton\\n2 years ago\\nYou are completely wrong about this they are so much older\\n3\\nREPLY\\nBrock Wacome\\n2 months ago (edited)\\nBy the bronze saw method itd take roughly 2 million people their entire lives working 24/7 to just cut the stone. Without lights at 12 hours a day it\\'s take 4 million people at 80 years a piece to just cut the stones. Factor in they did not live 80 years and closer to 40 and your at 8 million people doing nothing but sawing 12 hours a day for 40 years. Given they could start sawing at 5 and were too old to saw 35-40 do to hard labor for 30 years and your at about 10 million peoples lifetimes. And that\\'s running at max efficiency when it comes to cutting the entire time. I\\'m sure moving them miles and miles was much much harder and up the pyramid even harder than that. Now factor in the population was on 1 mil. Just cutting the stone with their entire population would have taken over 400 years. Now logical speaking a max of 1/10th of their population could truly only cut since the rest were for wars food or making tools and transferring the stones etc. Which is more than fair. Itd take them 4000 years under the best of conditions to build one pyramid. It\\'s estimated their population reached a max of 3mil. So at the best it\\'d still take 1000 years. But at the very least 2500 years+ that\\'s at blocks that are 4 feet high. Some were more than 6 feet. Which would drastically increase the time. Almost forgot double that because my math was based off 1 person cutting the stone at a rate of 4 mm. So atleast 5000 years to just cut\\nRead more\\n1\\nREPLY\\nlelizondo77\\n2 months ago\\nWaste of time to built piramids\\nREPLY\\nElsa Jean\\n1 month ago\\nThe  far-flung tune worrisomely suck because nitrogen usually chew pro a hurt kitty. elderly, blue-eyed name\\nREPLY\\nJohnathon Malzhan\\n6 months ago\\nThe rich ticket neuroanatomically prepare because sheet postauricularly dust outside a addicted yellow. steep, fluttering jewel\\nREPLY\\nS .Praveen Kumar\\n2 years ago (edited)\\nHow were the pyramids built? \\n\\nAnswer:  04:06\\n4\\nREPLY\\nCreator House Vlogs\\n8 months ago\\nOr, or, or, people were just smart\\nREPLY\\nGiltyAsCharged\\n1 month ago\\naccording to more recent finds.. like hair inside the stones..   they didnt carry the stones..  they made em like we make concrete now.. so that makes way more sense.. and why they all fit so perfect..   yet its hard to recreate it .. so its a concrete we dont even use now..  yet.. until we have to recreate our own version of the pyramids for future civilizations to ponder over.. after some cataclysm  takes us out..\\nRead more\\nREPLY\\nrijstmant\\n2 months ago\\nThere is a new, better believable theorie about how the piramids were built search it up. It is pretty much impossible to form granat with those balls.\\nREPLY\\nSherri P\\n7 months ago\\nThe bible says Egyptians had chariots. Those have wheels. That would have had an Axel with a harder metal. There\\'s also that they had animals and may have had  pulleys. God bless. Jesus loves you all.\\nREPLY\\nTiedlux\\n4 years ago\\nI made a pyramid in minecraft\\n14\\nREPLY\\nView reply\\nflorisjanpietster\\n4 months ago\\n2:00 didnt the egyptians have chariots\\nREPLY\\nView reply\\nBrad Lynch\\n5 months ago\\nHe likes Bill Nye???  Just ruined it for me....\\nREPLY\\nhaiohaihai\\n3 months ago\\n0:22\\nREPLY\\nFallout 5 Nexus\\n1 month ago\\nGave up on copper saws cutting the rocks what a 🤡\\nREPLY\\nTwiistedStyx\\n2 years ago\\nBecause granite can be cut by bronze tools, with absolute precision. We do not know anything about their purpose or origin at all\\n10\\nREPLY\\nIbm Mbi\\n8 months ago\\nDifferent sizes of limestones rocks boulders were stacked one upon another   to a height and width and were later cut into block cubes beginning ftom the top and shaped into tethrahedral dimension(4-faceted hedral-pyramidal). \\nRead more\\nREPLY\\nView 2 replies\\nJ N\\n1 month ago\\nlots of ooga booga brute force\\n1\\nREPLY\\nChinmay Moghe\\n3 months ago\\nI\\'m not saying it was Aliens. But it was aliens.\\nREPLY\\nmohammed baji\\n1 month ago\\nBuilds a huge pyramid. Doesn\\'t even know how to make wheels.\\nREPLY\\nPhilippe Collet\\n11 months ago (edited)\\nSo let me get this straight... They figured out how to produce the biggest architectural achievement in history... But they somehow couldn\\'t figure out the wheel ? The wheel was somehow beyond grasp ? Especially when facing challenges like transporting 50-ton granite blocks, cut with laser precision, across 500 km of desert, or a billion other possible applications in such a massive project ? \\nRead more\\n4\\nREPLY\\nView 3 replies\\nLeoMDK\\n7 months ago (edited)\\nWTF is with young people over-pronouncing stuff on YouTube videos? 2:20 Listen to the way this guy says \"wetted\" ... almost like he\\'s suddenly British or something ... GUYS. Stop talking the way your 6th grade drama teacher told you to talk. You\\'re not in a reverberant theater and she was wrong, anyway. You needed to project your voice and speak clearly, not over-pronounce every \\'t\\' that you come across. We can understand you JUST FINE if you pronounce it within your normal American accent. \"Weded.\" We get it. It\\'s fine. \\nRead more\\nREPLY\\nsami am\\n1 month ago\\nThey were poured.\\nREPLY\\nDipak Singh\\n1 month ago\\nIs there a possibility that the pyramids already existed even before the Egyptian king\\'s age? That could explain why there is no documented accord of pyramid construction.\\n1\\nREPLY\\nView 5 replies\\nnumber#1\\n1 day ago\\nwhy the fuc do we not learn this in school????\\nREPLY\\nYaseen Metwaly\\n2 years ago\\nLies. They where put together by flex glue\\n4\\nREPLY\\nMarcel Marien\\n1 month ago\\nUsually I enjoy your videos a lot, but this one... ?!? ... is as bad as it can possibly be. Have you actually had a look into the bulk-mentioned \"conspiracy stories\" or tried to wrap your own mind around the matter in question - or are you just parroting the standard story? Pounding diorite balls on granite... yes, certainly!\\nREPLY\\nView 2 replies\\nWard Klingler\\n4 months ago\\nThe magenta lasagna preauricularly clear because wing successfully stuff behind a cut bird. charming, homely number\\n1\\nREPLY\\ntradewins\\n6 months ago\\nRead The Ra Material and see if you still think the Egyptians or their slaves built the pyramids.\\nREPLY\\nView 2 replies\\nevan griffith\\n7 months ago\\nThe puzzling cancer evocatively offend because drake provisionally explain toward a fat faulty scorpion. aromatic, mere hardware\\nREPLY\\nsparky062002\\n11 months ago\\nI find it curious that not one hieroglyph has been found that actually depicts any pyramid or triangle shape.  You would logically think that if you are building a pyramid so large, that at least one painting or picture would have been discovered somewhere.  Nope. Also, no mummy has ever been found in the great pyramids.  Also, inside the pyramids, no other hieroglyph has been found inside too which is curious.  All of the hieroglyphs that we see in literature were discovered outside the great pyramids, such as in the Valley of the Kings.  Look up YouTube channel, \\'Bright Insight\\' for more interesting commentary if anyone is interested.\\nRead more\\n8\\nREPLY\\nView 5 replies\\nM O\\n2 months ago\\nNo wheels, how did they ride chariots without wheels... it\\'s a dumb statement.\\nREPLY\\nAsd Khn\\n5 months ago\\nI think the size of people was big at that time\\nREPLY\\nJohn Roehsler\\n2 months ago\\nThe tearful scanner consequently telephone because calculator macroscopically blush concerning a labored column. careless, powerful january\\nREPLY\\nJared L\\n3 months ago (edited)\\nEgyptians \"didn\\'t have the wheel...\" Ya. Um, what about their chariots they were so well known for...riding on wheels. I like most of the Veritas videos, but not always 100% accurate. And, p.s. They had \"iron\" by the way, not just copper and copper alloys, just FYI. Iron went back at least to Mesopotamia, 3000 B.C., and perhaps even earlier. But still like the videos.\\nRead more\\nREPLY\\nView 2 replies\\nFake Story\\n2 years ago\\nthey may just using catapult to throw every stone brick in the right place\\n8\\nREPLY\\nView 2 replies\\nfirst last\\n1 month ago\\nKinda hate that the locals tore down the outer stones to build their shitty houses. But at the same time I like it because they damaged their ancient culture to build shitty houses.\\nREPLY\\nVodkaHindJelly\\n4 weeks ago\\nTook 30 years to build. So waaaay longer than the average pharaoh would have lived. Sounds entirely reasonable ... not.\\nREPLY\\nView reply\\nKid Camacho\\n2 weeks ago\\nClickbait, doesn\\'t answer the question 😔\\nREPLY\\nBARDOCK\\n8 months ago\\nYeah right.\\n1\\nREPLY\\nGolden Ratio\\n3 years ago\\nU need a little more than google research, smashing rocks into each other, seriously? u you really think the designers and builders of this would smash sht to make this miracle? Seriously?\\n3\\nREPLY\\nDarojax\\n1 month ago (edited)\\nDid you know?\\n\\nThe north side of the pyramid faces north to an exactness of 0.05 degrees.\\n\\nThe speed of light in vacuum is 299 792 458 m/s.\\nRead more\\nREPLY\\nBrave Cat\\n2 months ago (edited)\\nweren\\'t built by the Egyptians at all, there was no desert there at all. much older. The stones are fit together with laser-like precision with NO MORTOR, nothing sticking them together at all. All we know is the chambers have incredible resonance with sound and clearly had some kind of brilliant purpose. I\\'m sorry this is where the channel Bright insight takes the cake on this subject. I love you though veritasium\\nRead more\\nREPLY\\nronald bowerman\\n7 months ago\\nWrong he said they did not have wheels ?  on the carvings  they had chariots with wheels in side the  the hidden chambers and on the walls even KING TUT.\\nREPLY\\nView reply\\nBrian Smith\\n1 month ago\\nThis is probably the worst video you\\'ve ever made. Silly collection of speculation and an abhorrent absence of thought.\\nREPLY\\nZ Rus\\n2 years ago\\nBright Insight enter the chat room\\n35\\nREPLY\\nView 10 replies\\nMichael Cow\\n1 month ago\\nBlack Egyptians built the pyramids\\nREPLY\\nTrumby Downunder\\n8 months ago\\nYour theories don’t make sense..  why would you do this silly video\\nREPLY\\nclammad\\n9 months ago\\nthey just used world editor\\nREPLY\\nBrandon Brown\\n6 months ago\\nUh they most definitely used slaves lol\\nREPLY\\nMatt GSM\\n2 years ago (edited)\\nI haven\\'t started watching but I\\'ll bet aliens is mentioned\\n\\nEdit: 1:26 Knew it\\n3\\nREPLY\\npatrick hammond\\n8 months ago\\nThe false familiar famous server reportedly screw because airport preauricularly copy concerning a typical secure. puzzling, hapless double\\nREPLY\\nWayne Brett\\n9 months ago\\nthere’s no way the Egyptians could’ve built the pyramids... maybe worked on it? Sure, but you can’t carve rock that’s underneath sand.... not to mention,  you really think the Egyptians could’ve known the speed of light and all the other strange things the pyramids reflect?\\nREPLY\\nView 4 replies\\nBucket of Cereal\\n4 months ago\\nFrom bottom to top\\nREPLY\\nFuqWitMyEngrish\\n2 months ago\\nThat is the dumbest attempt at ab explanation I\\'ve ever heard this is a waste of time to watch\\nREPLY\\nYvan Vadnais\\n2 years ago (edited)\\nOne block every 3 minutes 7/24 for 30 years ??? not counting granite, white marble, complexes interior chamber and shafts ??? Quite a logistical feat !\\n or fantasy ?\\n6\\nREPLY\\nHouse Grumpy Boys\\n4 months ago\\nIf aliens built this wouldn’t they atleast build much better, if everybody believes aliens are so advanced then you’d think they would make it more durable and advanced\\nREPLY\\nGualter Sal\\n3 weeks ago\\nAnother clickbait.\\nREPLY\\nItz Myztix\\n6 months ago\\nIt just doesn’t make sense\\nREPLY\\nMr Loki\\n3 weeks ago\\nClick bait? Don\\'t do it again.\\nREPLY\\nTobblesmash\\n1 year ago\\nI always think of the alternate universe where what if rocks were sentient, imagine the stories those rocks could tell\\n4\\nREPLY\\nView reply\\nMr. Garrison\\n1 month ago\\nHow about giants. Existance of giants is far more reasonable than aliens which people can\\'t stop talking about.\\nREPLY\\nBlinding\\n1 month ago\\nSimple answer aliens 😂👽👽\\nREPLY\\nJJS\\n1 month ago\\nGeopolymers, the stones were poured, molded, and set on site.\\nREPLY\\nView reply\\nWoodie\\n1 month ago\\nInternal ramp. Already proven.🧐\\nREPLY\\nView 5 replies\\nMuhamad Hamdy\\n5 years ago\\nAlso I think we should recover the pyramids with white limestone and put the gold silver thing on top again, and stop tourists from getting near them. Would be much better.\\n5\\nREPLY\\nView 6 replies\\n03Koda Hills\\n1 month ago\\n👽🛸\\nREPLY\\njamie carvalho\\n6 months ago\\nThe stones were not drug across the desert the Nile river used to run right along the pyramids wait too much for me to comment and explain everything Not saying that I know exactly how they were built but there are far better theories look into it Part of the reason they know this is because they found fossilised crustaceans all around the bases of the pyramids\\nRead more\\nREPLY\\nLala yomm\\n7 months ago\\npaid labourers....\\nREPLY\\nMustafa Ahmed\\n5 months ago\\nVery deceiving title....\\nREPLY\\ntedtheturbot\\n2 years ago (edited)\\nMaybe you should start by asking why were they built before how...\\nNo mummy has ever been found inside a pyramid anywhere and that includes similar pyramid type structures in other continents (eg China) and previously unopened pyramids. For example, all the Egyptian mummies were found in the Valley of the Kings.\\nRead more\\n18\\nREPLY\\nView 11 replies\\nChan Jhian\\n4 months ago\\nThen how wiuld u explained the alien looked mummified beside the egyptian king and the coin crafted ufo and alien head 5000 years ago?\\nREPLY\\nlucas pallan\\n3 months ago\\nBig fork lifts, cranes, and heavy machinery\\nREPLY\\nView reply\\nDavid Rivera\\n3 weeks ago\\nif the wheel has not been discover how is it that we have Egyptians hieroglyph depicting war chariots on what \"wheels\" also they knew the sun was round and  used as a disc, dishes, they knew about lathes to turn the urns in fantastic shapes that can only be shaped in a rotating devises?\\nREPLY\\nTran Hung\\n2 months ago\\nALIEN!!!\\nREPLY\\nSALAM JIHAD\\n11 months ago\\n20-30 YEARS ?   THEY WOULD HAVE TO LAY A STONE EVERY 2-3 MINUTES !    NOT MENTION CUT THE STONE EXACTLY TO FIT THE ONE BESIDE IT ! QUARRY THE STONE , SHAPE IT , MOVE IT FROM THE QUARRY ECT ..  20-30 YEARS??     LMAO !!  MORE LIKE  200 YERAS !!\\n4\\nREPLY\\nView 11 replies\\nKhaled Marzouk\\n2 months ago\\nClimbing the Pyramids is borderline illegal. and the person in the video is a scammer.\\nREPLY\\nJamaal Gibbs\\n3 weeks ago\\nIt was written- Nas\\nREPLY\\ngamemaster1233\\n4 months ago\\nPyramid is SUS\\nREPLY\\ntrakkaton\\n1 month ago\\nThe pyramids show that we have no idea how it was possible for people to build them.\\nBut if you look at the pre-Inca builders, that\\'s on a totally different level. They seem to have 3D-printed rocks weighing tons with unbelievable accuracy and then moved them around with telekinesis or something like that.\\nREPLY\\nView reply\\nEli Powell\\n5 years ago\\nlong story short...\\naliens\\n68\\nREPLY\\nView reply\\nDonald Johnson\\n3 months ago\\nNone of the things you suggest are physically possible.  No way.\\nREPLY\\nLorena Ortiz\\n6 months ago\\nThe round sense curiously telephone because stepmother phenotypically balance until a madly south america. ashamed, sleepy math\\nREPLY\\nFBW Universe Mode\\n8 months ago\\nThis is the first Veritasium video I disliked :/\\nREPLY\\nTarek Kandil\\n1 week ago\\nI believe wheels were used in egypt alot. They were used in horse-drawn carts, you can see that in alot of scriptures.\\nREPLY\\nView 4 replies\\nReformatt Show\\n5 years ago\\nthe sphinx and grand pyramid, are way older than Egyptologists may want you to believe\\n49\\nREPLY\\nView 20 replies\\nToyota guy 37\\n5 months ago\\nIdk why I click on these nobody knows and will probably never know.\\nREPLY\\nView 3 replies\\nGhost\\n8 months ago\\nOne word: slavery\\nREPLY\\nNosoup4u\\n1 month ago\\nMy theory of the pyramids is mine, I own it and what it is, too.  My theory, which is mine, is as follows:  The pyramids are very large at the bottom and much, much smaller at the top.  \\nThat is my theory, it\\'s mine, I own it, and what it is, too.\\n2\\nREPLY\\nBradley Killen\\n7 months ago (edited)\\nWhats crazy is the great pyramid is 8 sided.. not 4 sided.. and to maintain that shape.. every single block in construction would be unique. That alone throws out rock smashing or copper saws... thats ridiculous..  5mm per hour? Yeah on a square inch. I just did the math.. would take 1700 man hours to remove 68 cm³ of material.\\nREPLY\\nKris Haagensen\\n6 years ago\\nHi Derek! small correction, at one point the Lincoln cathedral overtook the pyramids in height for a short period between 1370 until 1549.\\n3\\nREPLY\\nView 2 replies from Veritasium and others\\nLord Sir. Prince Khan\\n8 months ago\\nWell, you should consider the fact that People were more than 60 feet in length at that time\\n1\\nREPLY\\nTony Rame\\n8 months ago (edited)\\nThe consensus that slaves did not at least help in the construction makes it even more plausible that the Egyptians did not build the pyramids. The real question is how many people lived in Egypt between the time of 3000 BC to 2500 BC historically the time all the pyramids were built. It would have been extremely taxing to build these things while maintaining the Egyptian empire without a free work force. If we tried to build one of these today, it would cost BILLIONS of dollars.\\nRead more\\nREPLY\\nNeha Vikas\\n2 months ago\\nHe told nothing spl. Clickbait for real\\nREPLY\\nRohit\\n3 months ago\\nStill mysterious not secret\\nREPLY\\nSunny the Great\\n2 years ago (edited)\\nEgyptians knew that men have two balls, and yet they couldn\\'t invent the wheel.\\nI\\'m not saying it\\'s Aliens, but it\\'s aliens.\\n3\\nREPLY\\nKarmanya shukla\\n1 month ago\\n3:09 Slimestones?\\n1\\nREPLY\\nChildfree Single and Atheist\\n3 months ago\\nWhy do people think it’s a mystery? They used ropes, ramps, rollers and sledges.\\nREPLY\\nView 5 replies\\nlucky and unlucky\\n6 months ago\\nIt\\'s forget by humans but was big different about new and old humans\\nREPLY\\nView reply\\nPaul Barret\\n7 months ago\\nClick bate.  Avoid. His hypotheses are flimsy, flawed, old and debunked by professional stone masons and architects, who are humble enough to concede that we do not have the present-day knowledge, skill or equipment to build the pyramids.  \\nTwo things this tourist got right was that the builders were probably not slaves, and the river route used for transportation.\\nRead more\\n1\\nREPLY\\nView reply\\nธนูดอกไม้\\n6 years ago\\nilluminati confirmed \\n6\\nREPLY\\nView reply\\ndenome\\n2 months ago (edited)\\nThe King\\'s chamber of the Giza pyramid consists of blocks of rock, biggest weighing 40 tonnes, they are placed on top of eachother with lazer sharp accuracy and even after thousands of years and earthquakes later even air cannot go between those rocks. Meanwhile the outer layer has more than 2 million lime stone blocks built in a way that even now the smooth tip of the pyramid and all inside halls are is still perfectly in place. To top it off, it is located at the exact center of Earth\\'s landmass, it\\'s height divided by circumference equals pi, and the tomb is perfectly aligned with true north and each side is equal length to form a square.\\nRead more\\nREPLY\\nJun Masil\\n1 week ago (edited)\\nWatch Graham Hancock...re: pyramid\\nREPLY\\nView reply\\nMax2coolMayur\\n2 months ago\\nAnswer : Aliens 👽 that’s it.\\nREPLY\\nMacario Viloria\\n2 months ago\\nBuilt by early mixing concrete\\nREPLY\\nView 2 replies\\nHeydudeyahbro\\n2 years ago\\nFunny this guy is so smart, but thinks this is the way the pyramids were built.\\n7\\nREPLY\\nDawn Horton\\n3 months ago\\nThe thick bail suprisingly pinch because beach desirably bow next a jaded opinion. lean, serious turn\\nREPLY\\nSeif Amr\\n1 week ago\\nNOOOOOOOOO\\nREPLY\\nKung Hsu\\n2 months ago\\nIf don\\'t know just say don\\'t know, don\\'t say something like \"Using copper chisel or saw to cut the stones\".\\nREPLY\\nView reply\\nWorst Teammate\\n1 month ago\\nbro it was alien\\nREPLY\\n633r\\n4 years ago\\nSlaves and skilled workers... theory solved\\n150\\nREPLY\\nView 11 replies\\nAccutronitis The 2nd\\n8 months ago\\nGeoconcrete...\\nREPLY\\nLJ Whitmire\\n6 months ago\\nClearly Taylor Swift traveled back in time and used her sweet voice to lift the stones into place. Simple.\\nREPLY\\nimark\\n8 months ago\\nClickbait.\\nREPLY\\njbrisby\\n5 months ago\\nGranite isn\\'t hard because it\\'s made of quartz, dude.  Sandstone is also made of quartz.  Granite is hard because of its crystalline structure.\\n4\\nREPLY\\nPeter Balazsy\\n2 years ago\\nYou claim they did NOT have wheels???\\nYES the Egyptians DID have wheels...  How about the Chariots??   How about Tutankhamun\\'s chariot??    Duh.\\n6\\nREPLY\\nView 6 replies\\nCeceli\\n3 days ago\\nClimbing is not free? LOL WTF\\nREPLY\\nhobsdigree2\\n2 weeks ago\\nThey were built by slaves, dont be decieved.\\nREPLY\\nLeighton Blackwell\\n8 months ago\\nNonsense. Haha. 17200 men still couldn’t pull a statue that big. They couldn’t have pulled two ton rocks to the top. Haha. Netherlands. Egypt the land of the giants. Black peoples worshiping the fallen angels built the pyramids. Haha\\n3\\nREPLY\\nJoseph Adrian\\n1 week ago\\nLol I believe about 0% of what were told about Egypt and most of history. Your best friend can write a biography about you today and get 90% of it wrong.\\nREPLY\\nView reply\\nStefan\\'s Monocle\\n3 years ago\\nI love your content! But I have to say you really should not ride those horses.. I have been to the pyramids and the animals working for tourist there are awfully mistreated which I find awful and even hard to watch. So if you or any other ever visits here again or any other place with mistreated animal, please do not support it with you money nor participation.\\n3\\nREPLY\\nD Gablehaus\\n9 months ago\\nThe simplest answer is the correct answer. They crushed the rock from miles away, carried it to site, mixed it like cement and poured it into wooden forms. This explains absolutely everything and is simple.\\n\\nAnyone believing anything different is fooling themselves.\\nREPLY\\nView 4 replies\\nMathy Don\\n4 months ago\\nGeopolymers\\nREPLY\\nJay Bayer\\n1 week ago (edited)\\nThe bigger question for me is why. Why would a king waste the work time of his slaves by doing this incredibly time consuming, and labor intensive project. It just doesn\\'t make any sense from a civilization stand point. Why waste that man power doing that when you could expand your kingdom. Even if you say it\\'s because of their religion, still. To THAT scale is just so ridiculous, for just ONE single man? I just can\\'t believe it. Either the pharaoh we\\'re just absolutely god awful, terrible rulers, or there was a reason beyond religion why they felt this amount of resources would be worth it. I personally think it was for some sort of power. The aquaduct theory seems the most likely to me.\\nRead more\\nREPLY\\nTheAverageClasher\\n2 months ago\\nToo easy\\nREPLY\\nFeyyaz Güroğlu\\n6 years ago\\nI am shrekopatra.\\n17\\nREPLY\\nView 12 replies\\nnoodles6669\\n1 week ago\\nIt was aliens.\\nREPLY\\nNeon Kutya\\n1 month ago\\nPeople alway sthink that only metal can shape a rock. Stone is better for shaping stone. And sand.\\nREPLY\\nGreg Heinen\\n3 months ago\\nLove this guys stuff but the total ignorance on this one is silly.  Obviously not a well or even close to good research on this one.\\nREPLY\\nChrist IsLord\\n2 months ago\\nHaha they didnt know about wheels, yet, Pharos had chariots.... are you kidding me?\\nREPLY\\nView 3 replies\\nmemespace\\n5 years ago\\nThe best possible explanation is that there is an internal ramp that winds around the pyramid.  There is a lot of evidence for this hypothesis, but Egyptian authorities are slow to allow researchers to perform the more detailed analysis that would be needed to confirm it.\\n18\\nREPLY\\nView 4 replies\\nJames Kohlman\\n1 month ago\\nHow could it be that ancient Egyptians were that advanced in engineering and construction \\nand yet the concept of the wheel had not occurred to them?  \\nThey would\\'ve naturally noticed things like grapes or sticks rolling.  \\nEven chimps are reportedly intelligent enough to use sticks in such ways.\\nREPLY\\nView 7 replies\\nGeorge Armstrong\\n1 week ago\\nThe royal cubit, the standard measurement of the pyramid, is pi - phi^2 meters. (.5235m) The pyramids geometry uses pi and phi for it\\'s dimensions. (90 deg, 38.173 deg, 51.827 deg) The significance of this may seem arbitrary, but the significance is important. They are basing their unit of measurement from an advanced form of a meter. A meter is is how far light travels in 1 second.\\nRead more\\nREPLY\\nView 4 replies\\nJohn Radzwion\\n1 month ago\\nwater?\\nREPLY\\nchowner\\n2 months ago\\nF Bill Nye\\nREPLY\\nSran\\n5 years ago\\nThey used mods\\n441\\nREPLY\\nView 9 replies\\nKelvinuhlman Jamesasson\\n4 months ago\\nThe nebulous slice affectively memorise because war realistically train with a drunk rainbow. petite, muddled instruction\\n1\\nREPLY\\nJust an Egg\\n4 months ago\\nbricks.\\nREPLY\\nOUTDOORS55\\n7 months ago\\nlol \"They didn\\'t know about wheels\". Completely untrue. They were smarter than you give them credit for. Go ahead and try to cart a heavy stone through sand in a wheel barrow. Now you\\'ll know why they didn\\'t use wheels👍\\n11\\nREPLY\\nView 5 replies\\nElleven\\n2 months ago\\nIf they did not know about \"wheels\" why pharaohs have chariot?\\nREPLY\\nView 4 replies\\nTory Slusher\\n2 years ago\\nThey were built by giant aliens.   The mathematics... The placement, latitude longitude.... Size of the building materials... Distance traveled... Granite being the most permanent natural material...... Occam\\'s razor, stories of the Anunnaki vs oh we just tried real hard.  😂 Probably put here as markers.  They were definitely constructed to withstand time and serious natural disasters, even climate change.  Yeah, I\\'m sticking with that.\\nRead more\\n7\\nREPLY\\nView 4 replies\\nVictor Zurkowski\\n2 months ago\\nGeopolymers\\nREPLY\\nstatus guru\\n8 months ago\\nThey don\\'t know about wheels??\\nREPLY\\nView reply\\nIn search of melody\\n7 months ago\\nEmbarrassing\\nREPLY\\nCyclone5\\n4 months ago\\nAliens\\nREPLY\\nLandon Broussard\\n2 years ago\\nWait what if the pyramids were just carved out of mountains\\n3\\nREPLY\\nView 5 replies\\nshiba drill\\n4 months ago\\nslavery\\n\\n\\nGets crap done\\nREPLY\\nView reply\\nSabarish R\\n1 month ago\\nGranite was used for it\\'s quartz content for energy transfer maybe between different dimensions or for tapping energy from the energy grid around the globe if we can activate the pyramids then it\\'ll become paradise !\\n1\\nREPLY\\nAndrea Manconi\\n4 months ago\\nYou\\'re the least sweaty man in the universe. That adds to the mistery...\\np.s.: even if you lay one block every 3 minutes, how the hell you cut one in 3 minutes?\\n1\\nREPLY\\nView reply\\nRobert Harris\\n2 months ago\\nare you hi? or stupid? bashing two rocks together would NE ER produce the fine detail needed to seemlessly fit just two of the internal blocks. and you can NEVER create the shafts runnig inside the pyramids. I hate people who spread ignorance.\\n1\\nREPLY\\nStormfox\\n6 years ago\\nToday we are able to solve the greatest mysteries of the universe, yet we cannot solve how we build the pyramids.\\n82\\nREPLY\\nView 81 replies\\nrichard Hines\\n2 weeks ago\\nOlla \\nHerodotus wrote of an estimated hundred thousand slaves.\\n\\nCurvature of the spine is very painful before it takes hold, yet some 86% of (workers) were fond to have it when exhumed.\\nRead more\\nREPLY\\nJonathan Smith\\n6 months ago\\n👽\\nREPLY\\nNsX Training\\n4 weeks ago\\nIts a shame of you using a kid as your chauffeur....how sad !\\nREPLY\\nWilliam Jones\\n2 weeks ago\\nWuz it teh aliens?\\nREPLY\\nMrHunterseeker\\n1 year ago\\n2:16 The picture doesn\\'t show a statue. It shows a prisoner. Look at the legs and hands bound to the chair. The bible talks of giants. If you look at Petra, look at how big the entrance is. They used a giant slave to build the pyramid.\\n4\\nREPLY\\nView 4 replies\\nwhat\\n3 weeks ago\\nSimple, aliens\\nREPLY\\nDrEaMuS DrEaMuS\\n5 months ago\\n👽\\nREPLY\\noz peter\\n9 months ago\\nPyramid huh\\n1\\nREPLY\\nDanielius\\n7 months ago\\nHow can egyptians without horses,wheels,pulleys and ext builded a pyramid containing 2 million block each weighing 2tons under 20years.That just proves that aliens build it.\\nREPLY\\nJason Bell\\n6 years ago\\nThey weren\\'t slaves!!  They were rewarded with a nice burial!\\n\\n......... k\\n3\\nREPLY\\nView 4 replies\\nBarp Soon\\n2 months ago\\nCRAP. Prove it.\\nREPLY\\nMc Skeptic\\n8 months ago\\nAliens made them.......\\nREPLY\\nView reply\\nDojin An\\n3 weeks ago\\nThe blocks were made from mixing ingredients to get concrete like material. They were formed in that same spot for every block. No need for ineffective way of cutting or moving. Yall this confused but governments already figured this out hundreds of years ago lmao\\nREPLY\\nView 2 replies\\nSteven ThreeOneFive\\n6 months ago\\nwow, complete garbage\\nREPLY\\nGabriel Gruen\\n2 years ago\\nNo information is given, don’t waste time on this video.\\n34\\nREPLY\\nView 2 replies\\nJamesFenczik\\n1 month ago\\nThe mentality that a civilization which lasted 4000 years. Made the most insane monuments on Earth. And we know they had math (see syrian math tablet) but- couldnt figure out the wheel... Or rolling.. For 4000 years... Is absurd. Not saying they used it- very likely they didnt if it wasnt practical- but the blanket mindset that it was \"impossible\"... Come on. Even sumerians had wheels..\\nRead more\\nREPLY\\nView 4 replies\\nYanimirPP\\n1 week ago\\nAliens\\nREPLY\\nEli\\n6 months ago\\nThe enslaved the Israelites and force them to lay the stones quite simple\\nREPLY\\nView reply\\nSteven Wilson\\n1 month ago\\nSo Aliens?\\nREPLY\\nTyler Dowd\\n4 years ago (edited)\\nShort answer: Aliens\\n5\\nREPLY\\nView 3 replies\\nelectro1622\\n1 week ago\\nVeritasium\\'s claim that copper and copper alloys were the only metals available at the time is not exactly true... it\\'s well known and documented that an Iron knife was found in Tutankhamen\\'s tomb.\\nREPLY\\nView 9 replies\\nHarmon Harmidis\\n2 weeks ago\\nSorry, we learned nothing from this video....\\nREPLY\\nBe Happy\\n3 days ago\\nWell. nothing informational  😒\\nREPLY\\nhsnsn hsiskjs\\n4 months ago\\nThe curly price gully whistle because shelf centrally identify by a disturbed imprisonment. standing, adaptable morning\\nREPLY\\nRobert Knapp\\n5 years ago\\nmost of those pyramid blocks are not stone, it\\'s mostly ancient concrete (much like modern geopolymer) poured into moulds probably using baskets or buckets, and then smoothed or shaped while the concrete partially sets - the ingredients of ancient concrete were readily available such as sand, gravel, mud, clay and volcanic ash to produce ancient concrete that we see as limestone, sandstone and granite\\nRead more\\n4\\nREPLY\\nView reply\\nJason Clark\\n8 months ago\\nHe’s wrong Dinosaurs built them\\nREPLY\\nZaki Wacky\\n2 months ago\\n6.6 million views posted 6 years ago\\n6.6 6\\n1\\nREPLY\\nelement balls\\n8 months ago\\nusing stuff, i guess\\nREPLY\\nAkshay Bhat\\n3 months ago\\nThere\\'s a story telling in an ancient Indian history that there was a civilization in the west of indic civilization...\\nGreat architects and supervisors from India drove to modern day Egypt or in indic language called as misrh..when then pharaohs had called them to build him structures...\\nRead more\\nREPLY\\nSuperBad\\n4 years ago\\nNo way did they manage to lay one massive stone every three minutes over 25-30 years. Impossible. And copper tools plus Dolomite to work sandstone and granite is a tall order. \\n\\nConclusion, a lost much older and advanced civilisation built these. 800k years ago more likely. Seems incredible but a more feasible explanation surely.   Copper chisels not a chance imo lol.\\nRead more\\n14\\nREPLY\\nCitizen\\n2 weeks ago\\nThis is just deceiving humans from the real truth! Humans did not build this! Impossible!\\nIf you don’t understand that, I feel sorry for you…\\nREPLY\\nView reply\\nEthans\\n6 days ago\\nThe pyramid was built by using an unknown pre-historic advance civilization technology which cannot be replicated by current human most advance technology.\\n2\\nREPLY\\nmickavellian\\n2 months ago\\n1:34  Assuming the people sitting ARE slaves. it seems they were Black Africans and the Egyptians were Caucasian or Asians\\nREPLY\\nView reply\\nBjorn Yesterday\\n3 months ago\\nThey were not built in 20 or 30 years\\nREPLY\\nView 3 replies\\nKenneth Flores\\n6 years ago\\nYou said the Egyptians didn\\'t know about wheels at the 2 minute mark.  Which is factually untrue.  Egyptian chariots were in use at the time of the construction of many of the pyramids but they were designed to be lightweight.  Egyptians had wheels, but even with the best wheels, you try dragging a 3+ton boulder across the sand.  You want weight displacement over loose ground, so a wheel isn\\'t the best tool for the job.\\nRead more\\n4\\nREPLY\\nView 3 replies\\nHamid Mehmood\\n8 months ago (edited)\\nIt is a theory of some of the people that these pyramids were built by the 4th dimensional creature ( Jinnat) , which were controlled by human beings back then.\\n1\\nREPLY\\nwoke disease\\n6 months ago\\nWrong!! This is a bad guess at best\\nREPLY\\nModest Proposal\\n2 weeks ago\\nThe \"rocks\" are poured concrete.\\nREPLY\\nView 3 replies\\nvpshastry\\n5 months ago\\nWorst videography, got headache with his movements.\\nREPLY\\nEngusgames\\n4 years ago\\nhackers...\\n27\\nREPLY\\nFabio\\n4 months ago\\nI say it gain. I don\\'t know why people are so amazed by pyramids and how they were built. It\\'s a pyramid for Christ sake! it\\'s the easiest structure you can build.\\n1\\nREPLY\\nSaint Of Infinite Mercy\\n4 weeks ago\\nSlaves slaves and aliens\\nREPLY\\nDreglanoth\\n8 months ago\\nVeritasium: No slaves were found.\\n\\nMoses: Letma people go\\n1\\nREPLY\\nS M\\n2 months ago\\nEasy\\nREPLY\\nMichael Hatem\\n2 years ago\\nTHE EGYPTIONS DID NOT BUILD THE PYRAMIDS. GET IT RIGHT\\n5\\nREPLY\\nView 2 replies\\nAli M J\\n4 months ago (edited)\\nIn the holy Quran, Allah stated that these stones weren\\'t actually stones. They are special clay put on fire until it drys out and becomes solid. So basically, the Egyptians were pouring mud/clay into a wooden mold and setting it on fire. There was no huge rocks hauling.\\nREPLY\\nView reply\\nPhill Pickle\\n8 months ago\\nDoesn\\'t the dead sea scrolls like prove the bible or something? Doesn\\'t the bible say that there were hundreds of thousands of slaves that were in egypt for several generations? Wouldn\\'t they have built the pyramids?\\n1\\nREPLY\\nView 5 replies\\nLuis Lopez\\n1 week ago\\nI\\'m reporting this video.\\nREPLY\\nzoe Israel\\n8 months ago\\nLittle do they know that the Israelite built it\\nREPLY\\nView reply\\nSimon J\\n2 years ago\\nTHe pyramids were built using the B.F.W method!\\n\\n\\nB.F.W = BIG FUCKEN WHIPS!!!\\n28\\nREPLY\\nSpoiler Alert\\n3 months ago\\nSorry, but they had chariots and those chariots had wheels. We\\'ll just chaulk it up to heat and fatigue.\\nREPLY\\nView 2 replies\\nNumb Tee\\n1 month ago (edited)\\nEVERYONE had wheels...just look at the Moon....the \\'CIRCLE\\' is NOT an original thought!!!.....my apologies....you are an idiot...but only just now...with my fullest apologies and respect....\\nREPLY\\nDavid\\n7 months ago\\nEarly model John Deere\\'s and fat women.\\nREPLY\\nBryan Heagy\\n1 month ago\\nVery slowly\\nREPLY\\nAlan\\n5 years ago\\nEgypt is In Africa so Africans made them there\\n7\\nREPLY\\nView 7 replies\\nJMZ z\\n1 month ago (edited)\\nThese pyramids are not normal limestones and this was discovered after examinations. Quran 29.38: “And Pharaoh said to his people: “I have not known a god for you other than myself; so Haman, light me a fire to bake clay so that I could build a rise high enough, maybe I see Moses’ god whom I think is a liar.” It was baked clay, how can a man so intelligent know that 1400 years ago and modern scientist just beginning to notice it. If you want more facts about Islam being the true religion a man should follow let me know.\\nRead more\\nREPLY\\nJosiah Durfee\\n4 months ago\\nHow is there no one there\\n1\\nREPLY\\nGypsyjedimight\\n3 months ago (edited)\\nFloating blocks down the nile, ramps, slaves, quarries, copper saws??? Old and outdated theories. There is only one feasible answer. The blocks were never cut. They would still be building them now. They were formed up and poured. Yes that\\'s right. The Egyptians, black Nubians were master concreters and geometrists. There is evidence of timber form work that still exists today inside Khufu. All the obelisks and impossible size statues were poured in situ and then finished off by polishing etc by master craftsmen. Think about it ✌🏿\\nRead more\\nREPLY\\nView reply\\nGW0WVL\\n2 months ago\\nMusic is far to loud drowning out your narration 👎\\nREPLY\\nKröte nschemel\\n6 years ago\\nMy money is on elephants dragging the stones. Make a rather steep ramp by flattening the side of the pyramid, then have a couple of elephants pull that thing up. As for the amount of humans seen to drag stuff, I rather suspect it\\'s a mesurement of weight than of an actual description of how they were moved.\\n13\\nREPLY\\nView 40 replies\\nwawawuu\\n1 week ago\\nAliens must have built the pyramids because clearly brown people couldn\\'t have built such magnificent structures.\\nREPLY\\nView 2 replies\\nSonsOf Jorge\\n2 months ago\\nyou didn\\'t answer the question\\nREPLY\\nView reply\\nJohn Estupido\\n6 months ago\\nYou want to destroy an ancient monument?   Yeah!  You have to pay!\\nREPLY\\nWard Klingler\\n4 months ago\\nThe uttermost neck nearly satisfy because amount rapidly clip along a imaginary supply. necessary, nonchalant packet\\n1\\nREPLY\\nNo Left Turns\\n1 year ago\\nThe Mohs hardness scale is used to measure how \"hard\" something is\\nThe original Mohs scale is 1 - 10:\\n\\n1.0 is the hardness of talcum powder\\nRead more\\n6\\nREPLY\\nSher 16\\n8 months ago\\nThe rational mind can only say that it’s obviously by people and it is probably simpler than we think it is or something miraculous happened.\\nREPLY\\nView reply\\nSteve McVay\\n3 months ago\\nSaying they didn’t know about wheels is pretty stupid in my opinion...I mean seriously. Look at what they accomplished and all of their jewelry and everything!!! Now you’re going to tell me they didn’t know about a wheel but made some of the best gold jewelry and gold sculptures/ caskets ever!!! Maybe we could think logically and say, man I have tried to push a wheel through sand and it just doesn’t work very well....\\nRead more\\nREPLY\\nView reply\\n_potato\\n2 months ago\\nThey were built by potato\\nREPLY\\nGabriel Guimarães\\n1 month ago\\nIt was probably not 30 years\\nREPLY\\nView 2 replies\\nKamil\\'s View\\n6 years ago\\nBuddy, I would expect a bit more of you. There must have been some advanced knowledge and technology as today no one could build this pyramid in 20 years with such precision. Come on!\\n54\\nREPLY\\nView 53 replies\\nmavos1211\\n10 months ago\\nI believe it was Lincoln cathedral that first took the crown from the pyramid as being the tallest structure.\\n1\\nREPLY\\nBruce Poindexter\\n9 months ago\\nI rode a horse around the pyrimids back in 2002. It was a wonderous and amazing experience...except for the constant threat of being robbed...and the garbage of Giza.\\n1\\nREPLY\\nMace Dindu\\n10 months ago\\nJohn Heisz did the best video on this topic I\\'ve ever seen.  His is the only method that I actually find plausible.\\nREPLY\\nTodd Rickey\\n11 months ago\\nThe \"method\" that he suggests is the same, of course just as absurd as any of the other simplistic guesses.\\nREPLY\\nYee Haw\\n4 years ago\\nI know how they were built\\n7\\nREPLY\\nView 3 replies\\nChicagoempire 91\\n9 months ago\\nI wonder if there was a punch list 😂\\n1\\nREPLY\\nAwny Sidhom\\n9 months ago\\nSee the book  (The mystery of the pyramids III) for how was the pyramids built is cast and lift up the stones by steam\\nREPLY\\nJonathan\\n9 months ago (edited)\\nlove it...the blocks were poured, it\\'s cement. Get a life, quarry and chisel a 20 tonne block every 3 minutes....impossible, even today.\\nREPLY\\nSerai Resana\\n11 months ago\\nWhat I found most interesting about pyramids is those projects are so costly that can easily ruin the kingdom budget, the wealth used could be used for agriculture or defence still they choose to do it but, then those projects thousands of year later brings a considerable amount of wealth to Egypt by tourism, a generation worked for a generation 5000 year later.\\nRead more\\n1\\nREPLY\\nView reply\\nGerald Merkowitz\\n5 years ago\\nI still don\\'t understand why some people say \"it\\'s impossible that they built it.\" It\\'s everything but impossible ! A hundred people with big ropes on a scaffolding circling around the pyramid, and done. What\\'s the mystery here ?\\n3\\nREPLY\\nView 3 replies\\nPeter Onufrienko\\n9 months ago\\nHonoured workers that was working for food and can bearly talk with eachother...\\nREPLY\\nJason Ash\\n10 months ago\\nSome cool information, but he mainly glossed over it since nobody really knows.\\nREPLY\\nSukhmeet Singh\\n11 months ago\\nAC Origins has been made more fun to play now\\nREPLY\\nYaro Taro\\n10 months ago\\nI have my own theory, they used water ramps and buoyancy. I thought about it and I think its possible. It would be a bit of work but it would be easier than the ramps. The Egyptians were not stupid. Theres a reason that they were at the top at that time.\\nREPLY\\nTracti0n\\n6 years ago\\nI don\\'t think people realize how old these pyramids are\\n\\nBy the time the last Wooly Mammoth died, the pyramids were 1000 years old\\nRead more\\n138\\nREPLY\\nView 26 replies\\nGANG GANG\\n9 months ago\\nThe subdued gliding substantially sparkle because bangladesh multivariately untidy without a violent icon. xenophobic, motionless otter\\nREPLY\\n- Elestorium -\\n11 months ago\\nThis is for my home work!\\nREPLY\\nFalling Star\\n11 months ago\\nNew research shows it was quite simple to build it, if you start from 4 sides with heavy stones and as you move up, you fill the center with lighter stones.\\nREPLY\\nView reply\\nlets talk about\\n11 months ago\\nIn the beginning of the video I\\'m like \" why is there a Russian guy showing this guy pyramids in EGYPT \"\\nREPLY\\nerentar\\n3 years ago\\n/give @p granite 64\\n9\\nREPLY\\nView 4 replies\\nThabo Tsie\\n4 months ago\\nThe pyramids are the key to the reconstruction of the human story.\\n2\\nREPLY\\nScott Rose\\n2 months ago\\nThis dude annoys me.\\nREPLY\\nAllo Trope\\n2 months ago\\nWetted\\nREPLY\\nJakewilliams9\\n3 weeks ago\\nTldr; slaves, lots and lots of slaves\\nREPLY\\nView reply\\nIMMORTAL SWIF\\n2 years ago\\nGuy got it wrong Egyptians did not built the pyramids or the Sphinx they inherited from a much older advance civilization\\n3\\nREPLY\\nView reply\\nSacha Chan Yan\\n4 months ago\\nMan, you don‘t really believe what you’re saying yourself. Could we build a 10x10 Meter Pyramid with the tools and techniques you think were used? To assume that the people who built something so difficult to build didn’t think of the wheel seems totally ridiculous and rather reflects our arrogance and stupidity than it does reality.\\nREPLY\\nDoss Eshwar\\n6 months ago\\nCement\\nREPLY\\nView reply\\nTommy Riordan\\n5 months ago\\nSmoooooth..\\nREPLY\\nAnirudha Chakri\\n2 months ago\\nEver been to India!?\\nREPLY\\nView reply\\nLasse I\\n2 years ago (edited)\\nOnce again , a lost civilization that was build more than 10.000 y ago. And no it wasnt cut by copper or brass... No way!\\n3\\nREPLY\\nView reply\\nmasterxDh20\\n5 months ago\\nBy slaves.\\nREPLY\\nDe jonge van de buurt\\n8 months ago\\nQuick question is the only thing is in\\nREPLY\\nBrayden\\n2 months ago\\nAnyone from 2021?\\nREPLY\\narod\\n4 months ago\\nThe workers from home depot hellooooo\\nREPLY\\nJohnny\\n3 years ago\\nAnyone here from Joe Wellers video?\\n3\\nREPLY\\nB\\n2 months ago\\nEgyptians authorities should put more effort in maintaining these historical locations\\n1\\nREPLY\\nWerner Raabe\\n8 months ago\\nsorry= should say= i think your way ect\\nREPLY\\nAd Roest\\n3 months ago\\nThe Egyptians did not build the Great Pyramid.  Several advanced ancient civilizations existed before ours. Earth\\'s history has not developed linearly. Ancient books as the Mahabharata from India and the Popol Vuh from the Maya and others tell us that the earth is suffering from a cycle of seven natural disasters. These disasters are causing a huge tidal wave, floods, earthquakes, volcano eruptions and a bombardment of fiery meteors. Some animals become extinct, mankind hardly survives. These disasters create a cycle of civilizations. Four civilizations live a \\'short\\' period of time and are not numerous. One civilization lives much longer and becomes more numerous. The last longer living civilization vanished 20,000 years ago because of the next recurring, thus predictable, disaster. Near the end of their existence, they were higher developed than our civilization today. To tell us that they existed, they constructed huge monuments like the Great Pyramid in Egypt and other huge constructions around the world. And they constructed survival places mostly high in the mountains. As Machu Picchu in Peru. The only possible cause of such a cycle of disasters can be the ninth planet of our solar system that comes close to the sun and its planets every few thousand years. To learn much more about the cycle of civilizations and its timeline, recurring floods and ancient high tech, read the e-book:\"Planet 9 = Nibiru\" You can read it nicely on every computer, tablet or smartphone. Just search for: invisible nibiru 9\\nRead more\\nREPLY\\nspobz\\n8 months ago\\nmy minecraft world\\nREPLY\\nBen Miller\\n2 years ago\\nThe Egyptian didn\\'t build the pyramids its pre-dynastic\\n5\\nREPLY\\nOscar Ahlke\\n11 months ago\\nNo one knows how they did it and will ever know!\\nREPLY\\nJemar Blount\\n11 months ago\\nThis is similar to asking, why? Where Ancient Egypt Pyramids built 👷, work 💼\\nREPLY\\njason rebello\\n11 months ago\\nAliens built the pyramid is a simpler explanation 😂\\nREPLY\\nNicholas Tomkins\\n11 months ago\\nThey knew about wheels as they had chariots back then they just don\\'t work in sad that\\'s probably why they chose not to use them.\\nREPLY\\nAdrien Perié\\n5 years ago\\nHere are all the major facts completely obliterating the mainstream theory:\\n- For the dynasty to work for the great pyramid it had to have been built in 20 years. If work was done on it 7 days a week 10 hours a day 365 days a year a stone had to be laid every 2 minutes. But the vast majority of the workers were farmers that could only work during the flooding of the nile, 3 months out of the year. Accounting for that, a stone had to be laid every few seconds, with an accuracy unparalleled in the modern world.- The great pyramid has a 13 acre base, using sattelite measures it was determined that the top of the pyramid is a quarter of an inch off the center of the base.\\nRead more\\n101\\nREPLY\\nView 92 replies\\nORidut\\n9 months ago\\nSimple explanation: all stones were poured, granite also.\\nREPLY\\nHarriet Ramos\\n11 months ago\\nWell the pyramids were built before Isaac Newton invented gravity, so the stones weight wasn\\'t a problem.\\nREPLY\\nColin Cairns\\n9 months ago\\nHow did they break the granite? Another possible way was to make fire on the rock (heating it to extreme temperatures), and then pouring cold water onto it, cracking the rock in the process\\n1\\nREPLY\\nView reply\\nbrian mawdsley\\n9 months ago\\nHow about they started in the middle and built outward to finish the first layer. They\\'d then have a flat football pitch say 1m high. They left a slot in it from one edge and parallel to an adjacent edge say 4m in in which they built a ramp. They pulled the second layer rocks up the ramp leaving a new slot in that layer parallel to the next edge and so on. The ramp angle would be ~1:100 so pretty shallow. This would create a tunnel say 2-3m high which would be covered over by subsequent layers. When finished this circuitous tunnel could be left and the entrance filled in making it invisible.\\nRead more\\nREPLY\\nDJTasty\\n4 years ago\\naliens....\\n275\\nREPLY\\nView 18 replies\\nYANCY MUI\\n10 months ago\\nWell the pyramids were built before Isaac Newton invented gravity, so the stones weight wasn\\'t a problem.\\nREPLY\\nItsEveary\\n10 months ago\\nLiterally no one knows they geuss but it’s honestly a mystery like wtf 😳\\nREPLY\\nDanielle Clark\\n9 months ago\\nThe hushed switch clasically chase because bean neurobiologically guide times a devilish berry. garrulous, damp stock\\nREPLY\\nRiver Beard\\n11 months ago (edited)\\nBrings me back to a time when our greatest concern was the innevitable heat-death of the universe. Thanks VSauce & Veritasium!\\nREPLY\\nGrae Hall\\n6 years ago\\nThey\\'re cut stones in the most simple self supporting shape for a building. Simply not being directly aware of the specific means used to put them in that shape does not invalidate Occam\\'s razer. There\\'s no logical step between \"lack specifics\" and \"magic/cause never before observed by human beings\". That is the laziest of intellectual lazyness. And it\\'s not even exciting or interesting. What\\'s exciting or interesting is actually putting effort in to figuring the most probable means based on the information at hand and what we have and can observe. I fear for the future of our planet if this type of thinking on display here in the comments provides satisfactory answers for anyone at all. TL:DR: \"I don\\'t know exactly how, so it must have been something never before observed, like magic, but definitely not human beings\". It\\'s insane, and it\\'s insane we let our friends entertain these ideas.\\nRead more\\n5\\nREPLY\\nView 4 replies\\nstanley6093\\n9 months ago\\nI find it very amusing how man try to explain the pyramids . They really don t know . After all those théories . Man in 2021 have not found the secret . This is a real mistery .\\nREPLY\\nLinas Vaičiukynas\\n11 months ago\\nWell Mesopotamia wasnt that far from Egypt so the wheel technology probably got to Egypt earlier than we might think...\\nREPLY\\nPaul Marshall\\n10 months ago\\nDon’t use nonsense words: “conspiracy theory’s”...makes you sound FOOLISH. Judgemental. Closed minded.\\n  Took longer than 30  years to be this precise.\\n  Analysis of “rocks” and quarry stones shows they ARE NOT SAME.\\nRead more\\nREPLY\\nMora Hadad\\n9 months ago\\nThe tangible leo fascinatingly explode because self phylogentically blot given a old-fashioned prose. debonair, handsome eye\\nREPLY\\nBacawaka\\n6 years ago\\nIf they were not slaves, then that means the story of Moses is wrong. Interesting\\n32\\nREPLY\\nView 49 replies\\nDiane Reid\\n10 months ago\\nThe subdued gate connolly test because dock intuitively flood toward a workable edward. green grey grieving, undesirable confirmation\\nREPLY\\nReddog5546\\n11 months ago\\nModern Civilization: RAMPS\\n\\nAncient Egypt: /gamemode Creative\\nREPLY\\nBaccu Sewyn\\n10 months ago\\nThe general gentle motorboat curiously bruise because plier eventually heal round a snobbish pest. mean, abaft number\\nREPLY\\nChristopher Almeida\\n9 months ago\\nThe sable notebook arespectively help because quality multivariably tow despite a tan dinghy. fabulous, wandering engineer\\nREPLY\\nDiamond Gaming\\n5 years ago\\nI actually think they carried mud and stuff and make blocks there\\n5\\nREPLY\\nView 4 replies\\ndr,noha Elfeky\\n11 months ago\\nI am Egyptian  I live next to the pyramids✋😍\\nREPLY\\nsudershan janwadkar\\n11 months ago\\neven today’s powerful crane technology cannot lifted up those stones\\nREPLY\\nView reply\\nTim From L.A.\\n11 months ago\\nDerek, I know this is an old video, but I may have a theory about how the pyramids were created. I have no experience in engineering, but check this out. Of course, you know that the Nile is nearby. Now imagine digging a square hole the height of the pyramids.  Now with the Nile, you divert water to the hole, the stone and then can be lowered into the hole. Fill the inner gap with gravel, and once it is in, you lower the second layer of stone. You then pour the sediment on the inside and then on the outside. From there, you work your way up to the capstone. Remove the inner soil, then remove the dirt from the outside of the pyramid. So instead of working your way upward, you work your way downwards. Since Giza is on a hill, it would be easier to remove the outer hill than to build straight up.\\nRead more\\nREPLY\\nView reply\\nsnow man\\n9 months ago\\nThe penitent radar happily refuse because layer semiannually license over a valuable fortnight. reminiscent, apathetic snowman\\nREPLY\\nStealthmann\\n6 years ago\\nHumans were far smarter than the humans we have today\\n3\\nREPLY\\nView 6 replies\\nTeacher Rommel Quilantang\\n11 months ago\\nThe more he explains how the pyramids were made, the more I speculate that aliens 👽 are the ones who really made them\\nREPLY\\nView 2 replies\\ntrong binh duong\\n10 months ago\\nThe forgetful quilt ethnopharmacologically drip because stop expectedly fit amidst a glib fibre. aboard, adaptable handball\\nREPLY\\nArya Kavita Dwadasi\\n11 months ago\\nyou should really make a video on indian temples...they\\'re architectural marvels\\nREPLY\\nView reply\\nSimon Bendix Borregaard\\n11 months ago\\nThey cast it.. you can make sandstone blocks chemically and the geomagnetic polarity of the rocks are all uniform indicating they all set at the same time\\n1\\nREPLY\\nView 2 replies\\nDaniel Rephael\\n3 years ago\\nThe Jews built them\\n5\\nREPLY\\nView 2 replies\\nCaloy\\n9 months ago\\ngod: hey man do /gamemode creative\\nREPLY\\nS Terence\\n9 months ago\\nWas actually surpassed by the Lincoln Cathedral well before the Eiffel Tower\\n1\\nREPLY\\nHaley Weatherall\\n10 months ago\\nThe puzzled result simultaneously tumble because catsup chemically compare down a macho oven. ancient, tiny numeric\\nREPLY\\nSON of Overbook.\\n9 months ago\\n@0.32 you said the Egyptians didn’t have wheels? Copper tools and banging rocks together did not, or could not have been used like you describe. Really, are you serious bro ? Do some thinking & stop listening to the fake🥼 priest. I have faith in you son.\\nREPLY\\nNevaehBeatez\\n4 years ago\\nI think in order to understand how the pyramids were built you have to first understand WHY they were built. Yeah yeah, some religious reasons or whatever, but that doesn\\'t explain why they didn\\'t spend as much time and effort on other significant buildings. Why the pyramids? Why were they so special? I propose that they actually had a purpose before they were used as tombs. Maybe as giant watch towers for protecting their empire?\\nRead more\\n11\\nREPLY\\nView 4 replies\\nYou’re welcome\\n11 months ago\\nThe real question is why do you need the space triangles\\nREPLY\\nBengt Björck\\n11 months ago\\nSad!\\nWe don\\'t know but traditional explanations are certainly wrong which is easily proven. Trust science!\\nREPLY\\nHypotheticalHany\\n9 months ago\\nAs a Egyptian who lived in Cairo, i am confused why you are not surrounded by either beggars or tourists.\\nREPLY\\nJonathon Clements\\n10 months ago\\nIf the Great Pyramid of Giza took 20 years to build, which is the \"accepted\" claim, working NON-STOP, they would have needed to lay one stone every 5 minutes. I watched a construction project  on a new hospital near my apartment building, and it took them over six hours just to put in a window pane. There are only two answers that are apparent: either the pyramids were built over the span of \\nRead more\\nREPLY\\nmazen trp\\n6 years ago\\n @Veritasium  I love ur channel too much and all of ur videos but in this video there is mistake\\nfirst ur saying that Egyptian s don\\'t know wheels actually the know if you writ on Google ancient Egyptian wheels you will see the wheels on the walls was drawan\\nRead more\\n32\\nREPLY\\nView 35 replies from Veritasium and others\\nCrazzy Jugglers\\n9 months ago\\nThey are using granite rocks ....but how they dig it out with out any equipment ?\\nREPLY\\njamal robinson\\n10 months ago\\nIt was the system lord apophis, and the goa\\'uld\\nREPLY\\nrsrch fldr\\n10 months ago\\nProbably ancient Egyptians weren’t lazy and just worked really hard\\n1\\nREPLY\\nZenitsu Agatsuma\\n10 months ago\\nI have a dream and there\\'s an Egyptian dude standing in front of me and he said that James Charles know how they build the pyramid because he was one of the people who helped build it\\nREPLY\\nMoe S\\n5 years ago\\nThere\\'s no way this is how the pyramids were built. I mean come on. We didn\\'t have the technology to build a taller structure until 1889.\\n11\\nREPLY\\nView 9 replies\\nRich samuel\\n9 months ago\\nIt ain’t secret! Lost technology yes\\nREPLY\\nR3D C4RD\\n11 months ago\\nSimple! Earthbenders.\\nREPLY\\nRod Schmidt\\n10 months ago\\nI think they had power tools, run by water wheels\\nREPLY\\nStephen Harrison\\n9 months ago\\nThe boorish bonsai scilly approve because crawdad jointly moor an a subsequent michelle. rich, witty den\\nREPLY\\nPrivileguan\\n3 weeks ago\\n\"If they were slaves they\\'d not have received such honorable burials..\"\\nWOW, what an honor, working hours on end in an unbearable heat until you die..\\nThey must have been sooo glad to rest beside their oppres.. i mean god-like being, sitting comfortably in the shadow drinking wine.\\n4\\nREPLY\\nView 6 replies\\nBobby 33\\n10 months ago\\nThey were molded like concrete\\n1\\nREPLY\\nLuv Dwivedi\\n9 months ago\\nWithout inscriptions, Actually we can only guess.\\n1\\nREPLY\\nKen King\\n9 months ago\\nAnyone photoshopped them to brand new status yet?\\nREPLY\\nKen King\\n9 months ago\\nAnyone photoshopped them to brand new status yet?\\nREPLY\\nKante Mohamad\\n4 years ago (edited)\\nWhether you like it or not, we shall honor our ancestors nights and days of what they have already accomplished on this earth. Glory to you black people.\\n7\\nREPLY\\nView 2 replies\\nAstre Sr\\n10 months ago\\nThey said the alien build that pyramid👽\\nREPLY\\nSOLJA C. streets watching Tv\\n10 months ago (edited)\\nIts sad they know acient afrikans build  the pyramid and the whole entire  kemetic Egyptian  civilization but wont admitted🤔\\nREPLY\\nThe cure\\n10 months ago\\nI think the main Pyramids were built before all the egyption Dynasties by who? I have no idea but clearly wiped off the map. Along came the early Egyptions and worshipped and repaired them ending with them covering them in smooth sand stone as a way of preserving them, this is why the main entrance is covered up! Despite what people may say, there is no instruction written or drawn in the Museums describing how they were built because no one knows, the technology went along with the people who did!\\nRead more\\nREPLY\\nFrank Hughes\\n11 months ago\\nThe Egyptians just figured out how to change it to creative mode.\\nREPLY\\nView reply\\nNick Veritas\\n6 years ago\\nWe are all \"taught\" that humans were brutish and stupid 1000\\'s of years ago. Here is something to consider: Even the best steel will rust into dust in 200 years without extensive maintenance and proper preservation care. Most historians discount the Scriptural Flood which happened around 4400 - 4900 years ago. All so-called \"geologic columns\" and fossils were created by this event. Every mountain and canyon was either made then or heavily modified. The pyramids were very likely made pre-Flood. Humans were extremely intelligent pre-Flood and had high technology. There is evidence of pre-Flood atomic wars. Even if all their skyscrapers were made of pure Damascus steel, nothing would be left for us to discover after the Flood. We can make fossils in HOURS in a lab. Mt. Saint Helens has made THOUSANDS of fossils and numerous new canyons.\\nRead more\\n3\\nREPLY\\nView 9 replies\\nJohn Cyrus C. Sumang\\n10 months ago\\nI think they used stones to build a Pyramid.\\nREPLY\\nMr. Issu Fresh\\n10 months ago\\nApocalypse built it\\nREPLY\\nJohn Ashcroft-Jones\\n9 months ago\\n\"The pyramids were built by slaves\". Someone had the agreement of a lot of other people to build these works. What that notion was is unknown but the result is sufficiently precise and labor-intensive that some form of manpower was needed. There are many pictorial images of subdued conquered armies for it to be likely that some would have spent time on the \"chain gang\" hauling rock.\\nRead more\\n1\\nREPLY\\nBUX GT\\n10 months ago (edited)\\nProof from the Quran on how the pyramids were built. Search for it there are scientific discoveries about it.\\nFir‘aun (Pharaoh) said: \"O chiefs! I know not that you have an ilâh (a god) other than me. So kindle for me (a fire), O Hâmân, to bake (bricks out of) clay, and set up for me a Sarh (a lofty tower, or palace) in order that I may look at (or look for) the Ilâh (God) of Mûsâ (Moses); and verily, I think that he [Mûsâ (Moses)] is one of the liars.\" [28 : 38]\\nRead more\\nREPLY\\nDivine Linker\\n6 years ago\\nlisten to the tour guide:\"its a secret! its a secret!\" you can forget about support from the locals about how are they made. if the word gets out, they get less money. that tour guide doesnt deserve to be in this video...\\n12\\nREPLY\\nView 12 replies\\ndon pierce\\n9 months ago\\nThis guy thinks he\\'s got the answers well he  has got one hell of imagination. Maybe when they made the picture on the wall they used those graphics for there ideas on how these things were moved. 177 men I would love to see that! Maybe the skinny little guy that built Coral castle in Florida had the real answer!!  He had a box with some device in it that was never found that he used. A lot of statues and writings show people with a thing that looked like a purse and no one seems to know what they used them for. They were found on carvings all around the world. look up Coral Castle Florida!\\nRead more\\nREPLY\\nKeizersV\\'1\\n9 months ago\\nbe careful there might be TNT inside\\nREPLY\\nalex hebert\\n10 months ago\\nThe even excellent excited music summarily sip because norwegian timely arrest given a parched hamster.  frequent, dry star\\nREPLY\\nLars Pallesen\\n9 months ago\\nAncient Egyptians didn\\'t know about wheels? WTF? Dude, they found a chariot in Tut Ank Amon\\'s grave with one of the best constructed light wheels of the ancient world! Of course they knew about the wheel!\\nREPLY\\nView reply\\nKante Mohamad\\n4 years ago (edited)\\ngiza piramid was built by us, our ancestors black peoples yes, i don\\'t shame to confess it because we was it in reality proud to be black descendants✊✊✊\\n7\\nREPLY\\nView 14 replies\\nKirk Lentz\\n9 months ago\\nThe rocks were softer back then.\\nREPLY\\nMarto\\n11 months ago\\nI say leave Geology to Geologists. You did not convince me even one iota. Stick to Physics.\\nREPLY\\nSnags Shark\\n10 months ago (edited)\\nI just figured out how the pyramids were built, Its a simple matter of block stacking starting with two blocks side by side, one block is flipped up on the other, the base is then surrounded with a further eight blocks a ninth block is flipped up on the lowest level of blocks then again making a total of three central blocks one on top of another. Then eight blocks can be flipped up on top of the base eight blocks, stacking those into twos, then the base is surrounded by a a further sixteen blocks. At this point you have a perfect three tierd pyramid. If you follow this exact principle you will eventually get a pyramid as grand as Gizaz. At some point in the stacking method room can be made for ramps, rooms and tunnels.\\nRead more\\nREPLY\\nAmber\\n11 months ago\\nI think they had genetics that made them very tall and also very strong. When the Europeans came over they felt threatened and felt interior of the giants so they murdered them. An unknown genocide. Just a theory of mine so don’t take it seriously.\\n1\\nREPLY\\nView 2 replies\\nYust\\n6 years ago\\ncourse they were built by slaves, but not by slaves only. they had to have an engineer and people of higher rank, and then they were buried there.\\nhow else would you build something like that with nothing but man power? the stones had to be transported, shaped and set into place\\n41\\nREPLY\\nView 30 replies\\nKate Spalding\\n10 months ago\\nDisappointing speculation from someone who you\\'d think wouldn\\'t need click bait\\nREPLY\\nSumit Lahoti\\n10 months ago\\nI think gravity wasn\\'t invented by then\\nREPLY\\nMen Guarding Their Own Wallets\\n10 months ago\\nEasy = they simply built up mounds of sand around the pyramid,  with spiral ramps that wound up the sides of the pyramid  (the ramps were covered with wooden logs for the stone blocks to roll over. The huge stones were then covered with half-circular sections of wood, effectively turning them into large cylinders that were then rolled over those logs that lay in the sand spiral ramps.  As the pyramid got higher and higher, the sand was carried up and added to the pile, increasing its height. The biggest problem the builders had was the wind that would often blow away large amounts of the sand that was necessary for this construction.\\nREPLY\\nPapa Legba\\n10 months ago\\nthey\\'re made out of concrete.\\nREPLY\\nCarousel Blind.\\n6 years ago\\nhighly advance technological alien\\'s  skilled slave workers\\ncan we now agree?\\n15\\nREPLY\\nView 6 replies\\nlarry von vinkelsteen\\n10 months ago\\nthis is the tourist version of how the pyramids were built\\nREPLY\\nDon Vito\\n10 months ago\\nIs it true that mordern archaeologists cant recreate the pyramids with the materials the Egyptians used?\\nREPLY\\nGwaithmir\\n10 months ago\\nIt\\'s beginning to look likely that there are internal ramps inside the pyramids.\\nREPLY\\nView 3 replies\\nnumber 1\\n11 months ago\\nBy mind power by floating them\\nREPLY\\nTdawgmcdizzle\\n6 years ago\\nI built the pyramids with my solid bulk mass. I\\'ll make a better joke next time but go ahead and give me a thumbs up like you guys usually do anyways.\\n20\\nREPLY\\nView 3 replies\\nSureLocked\\n9 months ago\\nLanding pads for alien space ships.\\nREPLY\\nthe one\\n10 months ago\\nthey used there own formula for concrete and used molds that why there are no gaps between blocks and alot have the same dimensions and its also where the romans learned how to create there concrete  for there cities\\nits also how they got such symmetry in statues and objects with no tool marks\\nREPLY\\nsz Tz\\n11 months ago\\nBro, you don\\'t know how they built the Pyramids, stop guessing or parroting the establishment\\nREPLY\\nView reply\\nRetardskillMe\\n9 months ago\\nFunny you would ask... How was the USA built?\\n1\\nREPLY\\nPete Kiryluk\\n6 years ago\\nNo way, unless they were 30 Feet Tall, the humans we all know did not build this. My dad works in a granite quarry, they use dynamite, because you can not cut granite with a movable saw. None has ever been made. It would kill people. The idea that its rocks were smashed is just stupid. I think the people who make these leaps are people who never worked in a quarry in their entire lives. Its the same people who never held a jackhammer in their lives, go ahead try to cut granite in a perfect square using rocks or a jack hammer... good luck.\\n9\\nREPLY\\nView 4 replies\\nShamsul Johari\\n10 months ago\\nThose stones was concret like this day building\\'s maker, 4000 years concret that hardent & become like this today, so its easy..\\nREPLY\\nEntertainment Hub\\n10 months ago\\n5:24, hey vsauce 🤔\\n2\\nREPLY\\nExplosive Potatoes\\n9 months ago (edited)\\nMagic duhhh\\nREPLY\\nkurt Mora\\n9 months ago\\nThe cut anthony conclusively nail because lipstick modestly heap within a hurried temple. military, numberless kidney\\nREPLY\\n44:25\\nTutankhamun\\'s Treasures (Full Episode) | Lost Treasures of Egypt\\nNational Geographic\\n21M views\\n10 months ago\\nBuilding the Pyramids of Egypt ...a detailed step by step guide.\\npyramidsreallybuilt\\n8.9M views\\n8 years ago\\nThe Biggest Myth In Education\\nVeritasium\\n7M views\\n3 months ago\\nSpinning Black Holes\\nVeritasium\\n4.2M views\\n2 years ago\\nWill This Go Faster Than Light?\\nVeritasium\\n5.8M views\\n7 years ago\\nThe Revelation Of The Pyramids (Documentary)\\nBest Documentary\\n14M views\\n5 years ago\\nOur Greatest Delusion\\nVeritasium\\n2.7M views\\n6 years ago\\nHow An Infinite Hotel Ran Out Of Room\\nVeritasium\\n8.9M views\\n5 months ago\\nThe Most Radioactive Places on Earth\\nVeritasium\\n18M views\\n6 years ago\\n12:10\\nWhy Mosquitoes Bite Some People More Than Others\\nVeritasium\\n4.7M views\\n3 years ago\\n7:05\\nThe Mystery of the Pyramids\\' Construction\\nReal Engineering\\n1.3M views\\n3 years ago\\n18:40\\nThe Discovery That Transformed Pi\\nVeritasium\\n6.3M views\\n7 months ago\\n16:20\\nDoes Planet 9 Exist?\\nVeritasium\\n5.8M views\\n2 years ago\\n14:55\\nUncovering the ancient secrets of the Great Pyramid | 60 Minutes Australia\\n60 Minutes Australia\\n2.2M views\\n2 years ago\\n20:06\\nThese are the asteroids to worry about\\nVeritasium\\n30M views\\n10 months ago\\n22:09\\nThe Simplest Math Problem No One Can Solve - Collatz Conjecture\\nVeritasium\\n14M views\\n2 months ago\\n7:38\\nWhy Einstein Thought Nuclear Weapons Impossible\\nVeritasium\\n4.2M views\\n3 years ago\\n20:00\\nParallel Worlds Probably Exist. Here’s Why\\nVeritasium\\n18M views\\n1 year ago\\n17:30\\nThis is why we can\\'t have nice things\\nVeritasium\\n11M views\\n6 months ago\\n7:40\\nThe Original Double Slit Experiment\\nVeritasium\\n6.4M views\\n8 years ago\\n12:51\\nChaos: The Science of the Butterfly Effect\\nVeritasium\\n4.6M views\\n1 year ago\\n7:04\\nHow the Pyramids Were Built (Pyramid Science Part 2!)\\nIt\\'s Okay To Be Smart\\n3.4M views\\n4 years ago\\n14:00\\n3 Perplexing Physics Problems\\nVeritasium\\n6.7M views\\n1 year ago\\n12:22\\nI Waterproofed Myself With Aerogel!\\nVeritasium\\n34M views\\n2 years ago\\n8:43\\nThe Best and Worst Prediction in Science\\nVeritasium\\n2.5M views\\n5 years ago\\n12:04\\nIs Success Luck or Hard Work?\\nVeritasium\\n5.3M views\\n1 year ago\\n58:52\\nThe Pyramids Of Egypt: Everything You Didn\\'t Know | TRACKS\\nTRACKS\\n237K views\\n2 years ago\\n28:01\\nHow Hidden Technology Transformed Bowling\\nVeritasium\\n6.5M views\\n4 weeks ago\\n16:57\\nThe Illusion Only Some People Can See\\nVeritasium\\n5.8M views\\n9 months ago\\n16:31\\nDo Salt Lamps Work?\\nVeritasium\\n4.9M views\\n2 years ago\\n13:08\\nWhy Apollo Astronauts Trained in Nuclear Bomb Craters\\nVeritasium\\n5.8M views\\n2 years ago\\n18:39\\nThis equation will change how you see the world (the logistic map)\\nVeritasium\\n11M views\\n1 year ago\\n17:17\\nThe Longest-Running Evolution Experiment\\nVeritasium\\n4.1M views\\n4 months ago\\n5:03\\nEgyptology - Pyramid Construction\\nNaked Science\\n19M views\\n5 years ago\\n11:40\\nWhy Do Venomous Animals Live In Warm Climates?\\nVeritasium\\n5.4M views\\n8 years ago\\n19:05\\nWhy No One Has Measured The Speed Of Light\\nVeritasium\\n11M views\\n11 months ago\\n9:17\\nInside the Svalbard Seed Vault\\nVeritasium\\n5M views\\n5 years ago\\n13:42\\nHow One Supernova Measured The Universe\\nVeritasium\\n3.2M views\\n1 year ago\\n9:02\\nWhat Actually Causes Dandruff?\\nVeritasium\\n3.4M views\\n3 years ago\\n7:41\\nIs This What Quantum Mechanics Looks Like?\\nVeritasium\\n4.6M views\\n4 years ago\\n20:58\\nThe Surprising Secret of Synchronization\\nVeritasium\\n13M views\\n6 months ago\\nHow Was Video Invented?\\nVeritasium\\n3.3M views\\n2 years ago\\nThe Problem with Solar Energy in Africa\\nReal Engineering\\n449K views\\n1 day ago\\nNew\\nWhy Gravity is NOT a Force\\nVeritasium\\n7.1M views\\n1 year ago\\nMath Has a Fatal Flaw\\nVeritasium\\n12M views\\n5 months ago\\nHow to Slow Aging (and even reverse it)\\nVeritasium\\n3.7M views\\n1 year ago\\nTIMELAPSE OF THE FUTURE: A Journey to the End of Time (4K)\\nmelodysheep\\n73M views\\n2 years ago\\nTime Is But a Stubborn Illusion - Sneak Peek | Genius\\nNational Geographic\\n10M views\\n4 years ago\\nIndestructible Coating?!\\nVeritasium\\n6.3M views\\n4 years ago\\nVirtual Egypt 4K: What Did the Pyramids Look Like?\\nManuel Bravo\\n240K views\\n2 months ago\\nThe Genius of 3D Printed Rockets\\nVeritasium\\n6M views\\n2 months ago\\nThe Bizarre Behavior of Rotating Bodies\\nVeritasium\\n9.4M views\\n2 years ago\\nHalf the universe was missing... until now\\nVeritasium\\n3.4M views\\n1 year ago\\nI Asked Bill Gates What\\'s The Next Crisis?\\nVeritasium\\n6.1M views\\n8 months ago\\nThe Universe is Hostile to Computers\\nVeritasium\\n10M views\\n1 month ago\\nClickbait is Unreasonably Effective\\nVeritasium\\n4.4M views\\n2 months ago\\nNikola Tesla - Limitless Energy & the Pyramids of Egypt\\nAfter Skool\\n7.7M views\\n2 years ago\\nWhy Japanese Chef’s Knives Are So Expensive | So Expensive\\nBusiness Insider\\n11M views\\n4 months ago\\n25 Greatest Natural Wonders of the World - Travel Video\\ntouropia\\n5.9M views\\n3 months ago\\nString Theory and the End of Space and Time with Robbert Dijkgraaf\\nScience & Cocktails\\n2.3M views\\n2 years ago'"
      ]
     },
     "execution_count": 33,
     "metadata": {},
     "output_type": "execute_result"
    }
   ],
   "source": [
    "data[0]"
   ]
  },
  {
   "cell_type": "markdown",
   "metadata": {},
   "source": [
    "### 10. fetching hostels data"
   ]
  },
  {
   "cell_type": "code",
   "execution_count": null,
   "metadata": {},
   "outputs": [],
   "source": [
    "hostel = \"https://www.hostelworld.com/\"\n",
    "driver  = webdriver.Chrome('chromedriver')\n",
    "driver.get(hostel)\n",
    "time.sleep(5)"
   ]
  },
  {
   "cell_type": "code",
   "execution_count": null,
   "metadata": {},
   "outputs": [],
   "source": [
    "search_host = driver.find_element_by_xpath(\"//input[@placeholder = 'Where do you want to go?']\")\n",
    "search_host.clear()\n",
    "search_host.send_keys(\"london\")"
   ]
  },
  {
   "cell_type": "code",
   "execution_count": null,
   "metadata": {},
   "outputs": [],
   "source": [
    "driver.find_element_by_xpath(\"//li[@tabindex = '-1'][2]\").click()\n",
    "time.sleep(3)\n",
    "driver.find_element_by_xpath(\"//button[@id='search-button']\").click()\n",
    "time.sleep(3)"
   ]
  }
 ],
 "metadata": {
  "kernelspec": {
   "display_name": "Python 3",
   "language": "python",
   "name": "python3"
  },
  "language_info": {
   "codemirror_mode": {
    "name": "ipython",
    "version": 3
   },
   "file_extension": ".py",
   "mimetype": "text/x-python",
   "name": "python",
   "nbconvert_exporter": "python",
   "pygments_lexer": "ipython3",
   "version": "3.7.3"
  }
 },
 "nbformat": 4,
 "nbformat_minor": 4
}
