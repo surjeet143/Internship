{
 "cells": [
  {
   "cell_type": "code",
   "execution_count": 1,
   "metadata": {},
   "outputs": [],
   "source": [
    "from selenium import webdriver\n",
    "from selenium.webdriver.common.keys import Keys\n",
    "import pandas as pd\n",
    "from selenium.webdriver.common.action_chains import ActionChains\n",
    "from selenium.webdriver.support.ui import WebDriverWait\n",
    "from selenium.webdriver.common.by import By\n",
    "from selenium.common.exceptions import NoSuchElementException\n",
    "from selenium.common.exceptions import NoSuchWindowException\n",
    "import time\n",
    "from selenium.webdriver.support.ui import Select\n",
    "from selenium.webdriver.support import expected_conditions as EC"
   ]
  },
  {
   "cell_type": "markdown",
   "metadata": {},
   "source": [
    "## 1. Most viewed vides on youtube"
   ]
  },
  {
   "cell_type": "code",
   "execution_count": 22,
   "metadata": {},
   "outputs": [],
   "source": [
    "link_1 = \"https://en.wikipedia.org/wiki/List_of_most-viewed_YouTube_videos\""
   ]
  },
  {
   "cell_type": "code",
   "execution_count": 23,
   "metadata": {},
   "outputs": [],
   "source": [
    "driver = webdriver.Chrome('chromedriver')\n",
    "driver.get(link_1)"
   ]
  },
  {
   "cell_type": "code",
   "execution_count": 26,
   "metadata": {},
   "outputs": [],
   "source": [
    "try:\n",
    "    page_1 = driver.find_elements_by_xpath(\"//table[@class = 'wikitable sortable jquery-tablesorter']/tbody/tr/td\")\n",
    "except:\n",
    "    driver = webdriver.Chrome('chromedriver')\n",
    "    driver.get(link_1)\n",
    "    time.sleep(5)\n",
    "    page_1 = driver.find_elements_by_xpath(\"//table[@class = 'wikitable sortable jquery-tablesorter']/tbody/tr/td\")\n",
    "table = [item.text for item in page_1]    "
   ]
  },
  {
   "cell_type": "code",
   "execution_count": 32,
   "metadata": {},
   "outputs": [],
   "source": [
    "rank = []\n",
    "name = []\n",
    "artist = []\n",
    "upload_date = []\n",
    "views = []\n",
    "i = 0\n",
    "while i < len(table)-2:\n",
    "    rank.append(table[i])\n",
    "    name.append(table[i+1])\n",
    "    artist.append(table[i+2])\n",
    "    views.append(table[i+3])\n",
    "    upload_date.append(table[i+4])\n",
    "    i = i + 6"
   ]
  },
  {
   "cell_type": "code",
   "execution_count": 39,
   "metadata": {},
   "outputs": [
    {
     "data": {
      "text/html": [
       "<div>\n",
       "<style scoped>\n",
       "    .dataframe tbody tr th:only-of-type {\n",
       "        vertical-align: middle;\n",
       "    }\n",
       "\n",
       "    .dataframe tbody tr th {\n",
       "        vertical-align: top;\n",
       "    }\n",
       "\n",
       "    .dataframe thead th {\n",
       "        text-align: right;\n",
       "    }\n",
       "</style>\n",
       "<table border=\"1\" class=\"dataframe\">\n",
       "  <thead>\n",
       "    <tr style=\"text-align: right;\">\n",
       "      <th></th>\n",
       "      <th>rank</th>\n",
       "      <th>name</th>\n",
       "      <th>artist</th>\n",
       "      <th>views(billion)</th>\n",
       "      <th>upload_date</th>\n",
       "    </tr>\n",
       "  </thead>\n",
       "  <tbody>\n",
       "    <tr>\n",
       "      <th>0</th>\n",
       "      <td>1.</td>\n",
       "      <td>\"Baby Shark Dance\"[23]</td>\n",
       "      <td>Pinkfong Baby Shark - Kids' Songs &amp; Stories</td>\n",
       "      <td>9.58</td>\n",
       "      <td>June 17, 2016</td>\n",
       "    </tr>\n",
       "    <tr>\n",
       "      <th>1</th>\n",
       "      <td>2.</td>\n",
       "      <td>\"Despacito\"[25]</td>\n",
       "      <td>Luis Fonsi</td>\n",
       "      <td>7.61</td>\n",
       "      <td>January 12, 2017</td>\n",
       "    </tr>\n",
       "    <tr>\n",
       "      <th>2</th>\n",
       "      <td>3.</td>\n",
       "      <td>\"Johny Johny Yes Papa\"[26]</td>\n",
       "      <td>LooLoo Kids</td>\n",
       "      <td>5.85</td>\n",
       "      <td>October 8, 2016</td>\n",
       "    </tr>\n",
       "    <tr>\n",
       "      <th>3</th>\n",
       "      <td>4.</td>\n",
       "      <td>\"Shape of You\"[27]</td>\n",
       "      <td>Ed Sheeran</td>\n",
       "      <td>5.51</td>\n",
       "      <td>January 30, 2017</td>\n",
       "    </tr>\n",
       "    <tr>\n",
       "      <th>4</th>\n",
       "      <td>5.</td>\n",
       "      <td>\"See You Again\"[28]</td>\n",
       "      <td>Wiz Khalifa</td>\n",
       "      <td>5.31</td>\n",
       "      <td>April 6, 2015</td>\n",
       "    </tr>\n",
       "  </tbody>\n",
       "</table>\n",
       "</div>"
      ],
      "text/plain": [
       "  rank                        name  \\\n",
       "0   1.      \"Baby Shark Dance\"[23]   \n",
       "1   2.             \"Despacito\"[25]   \n",
       "2   3.  \"Johny Johny Yes Papa\"[26]   \n",
       "3   4.          \"Shape of You\"[27]   \n",
       "4   5.         \"See You Again\"[28]   \n",
       "\n",
       "                                        artist views(billion)  \\\n",
       "0  Pinkfong Baby Shark - Kids' Songs & Stories           9.58   \n",
       "1                                   Luis Fonsi           7.61   \n",
       "2                                  LooLoo Kids           5.85   \n",
       "3                                   Ed Sheeran           5.51   \n",
       "4                                  Wiz Khalifa           5.31   \n",
       "\n",
       "        upload_date  \n",
       "0     June 17, 2016  \n",
       "1  January 12, 2017  \n",
       "2   October 8, 2016  \n",
       "3  January 30, 2017  \n",
       "4     April 6, 2015  "
      ]
     },
     "execution_count": 39,
     "metadata": {},
     "output_type": "execute_result"
    }
   ],
   "source": [
    "dict_1 = {\"rank\":rank, \"name\":name, \"artist\":artist, \"views(billion)\":views, \"upload_date\":upload_date}\n",
    "df_1 = pd.DataFrame(dict_1)\n",
    "df_1.head()"
   ]
  },
  {
   "cell_type": "markdown",
   "metadata": {},
   "source": [
    "## 2. team india international fixtures"
   ]
  },
  {
   "cell_type": "code",
   "execution_count": 25,
   "metadata": {},
   "outputs": [],
   "source": [
    "link_2 = \"https://www.bcci.tv/\"\n",
    "driver = webdriver.Chrome('chromedriver')\n",
    "try:\n",
    "    driver.get(link_2)\n",
    "    time.sleep(5)\n",
    "except NoSuchWindowException:\n",
    "    driver = webdriver.Chrome('chromedriver')\n",
    "    driver.get(link_2)\n",
    "    time.sleep(5)\n",
    "\n",
    "driver.find_element_by_xpath(\"//li[@class = 'footer-navigation__item'][2]/ul/li[1]\").click()\n",
    "time.sleep(5)"
   ]
  },
  {
   "cell_type": "code",
   "execution_count": 26,
   "metadata": {},
   "outputs": [],
   "source": [
    "driver.find_element_by_xpath(\"//button[@class = 'load-more-button u-center js-show-more-button js-loader']\").click()\n",
    "time.sleep(5)"
   ]
  },
  {
   "cell_type": "code",
   "execution_count": 27,
   "metadata": {},
   "outputs": [],
   "source": [
    "page_2 = driver.find_elements_by_xpath(\"//div[@class = 'js-list']/a\")"
   ]
  },
  {
   "cell_type": "code",
   "execution_count": 30,
   "metadata": {},
   "outputs": [],
   "source": [
    "links2 = [item.get_attribute(\"href\") for item in page_2]\n",
    "table_2 = [item.text.split(\"\\n\") for item in page_2]"
   ]
  },
  {
   "cell_type": "code",
   "execution_count": 31,
   "metadata": {},
   "outputs": [],
   "source": [
    "series = []\n",
    "match_title = []\n",
    "date = []\n",
    "place = []\n",
    "time_ = []\n",
    "link = []\n",
    "\n",
    "for match in table_2:\n",
    "    series.append(match[-8])\n",
    "    match_title.append(match[-6])\n",
    "    date.append(match[1]+\" \"+match[2])\n",
    "    place.append(match[-5])"
   ]
  },
  {
   "cell_type": "code",
   "execution_count": 35,
   "metadata": {},
   "outputs": [],
   "source": [
    "time_ = []\n",
    "for i in range(len(series)):\n",
    "    driver.get(links2[i])\n",
    "    time.sleep(5)\n",
    "    t = driver.find_element_by_xpath(\"//span[@class='mc-header-scorebox__ist-time']\").text\n",
    "    time_.append(t)"
   ]
  },
  {
   "cell_type": "code",
   "execution_count": 36,
   "metadata": {},
   "outputs": [
    {
     "data": {
      "text/html": [
       "<div>\n",
       "<style scoped>\n",
       "    .dataframe tbody tr th:only-of-type {\n",
       "        vertical-align: middle;\n",
       "    }\n",
       "\n",
       "    .dataframe tbody tr th {\n",
       "        vertical-align: top;\n",
       "    }\n",
       "\n",
       "    .dataframe thead th {\n",
       "        text-align: right;\n",
       "    }\n",
       "</style>\n",
       "<table border=\"1\" class=\"dataframe\">\n",
       "  <thead>\n",
       "    <tr style=\"text-align: right;\">\n",
       "      <th></th>\n",
       "      <th>series</th>\n",
       "      <th>date</th>\n",
       "      <th>place</th>\n",
       "      <th>match_title</th>\n",
       "      <th>time</th>\n",
       "    </tr>\n",
       "  </thead>\n",
       "  <tbody>\n",
       "    <tr>\n",
       "      <th>0</th>\n",
       "      <td>T20I</td>\n",
       "      <td>08 NOVEMBER</td>\n",
       "      <td>Dubai International Stadium, Dubai</td>\n",
       "      <td>Match 42</td>\n",
       "      <td>19:30 IST</td>\n",
       "    </tr>\n",
       "    <tr>\n",
       "      <th>1</th>\n",
       "      <td>T20I</td>\n",
       "      <td>17 NOVEMBER</td>\n",
       "      <td>Sawai Mansingh Stadium, Jaipur</td>\n",
       "      <td>1st T20I</td>\n",
       "      <td>19:00 IST</td>\n",
       "    </tr>\n",
       "    <tr>\n",
       "      <th>2</th>\n",
       "      <td>T20I</td>\n",
       "      <td>19 NOVEMBER</td>\n",
       "      <td>JSCA International Stadium Complex, Ranchi</td>\n",
       "      <td>2nd T20I</td>\n",
       "      <td>19:00 IST</td>\n",
       "    </tr>\n",
       "    <tr>\n",
       "      <th>3</th>\n",
       "      <td>T20I</td>\n",
       "      <td>21 NOVEMBER</td>\n",
       "      <td>Eden Gardens, Kolkata</td>\n",
       "      <td>3rd T20I</td>\n",
       "      <td>19:00 IST</td>\n",
       "    </tr>\n",
       "    <tr>\n",
       "      <th>4</th>\n",
       "      <td>TEST</td>\n",
       "      <td>25 NOVEMBER</td>\n",
       "      <td>Green Park, Kanpur</td>\n",
       "      <td>1st Test</td>\n",
       "      <td>09:30 IST</td>\n",
       "    </tr>\n",
       "  </tbody>\n",
       "</table>\n",
       "</div>"
      ],
      "text/plain": [
       "  series         date                                       place match_title  \\\n",
       "0   T20I  08 NOVEMBER          Dubai International Stadium, Dubai    Match 42   \n",
       "1   T20I  17 NOVEMBER              Sawai Mansingh Stadium, Jaipur    1st T20I   \n",
       "2   T20I  19 NOVEMBER  JSCA International Stadium Complex, Ranchi    2nd T20I   \n",
       "3   T20I  21 NOVEMBER                       Eden Gardens, Kolkata    3rd T20I   \n",
       "4   TEST  25 NOVEMBER                          Green Park, Kanpur    1st Test   \n",
       "\n",
       "        time  \n",
       "0  19:30 IST  \n",
       "1  19:00 IST  \n",
       "2  19:00 IST  \n",
       "3  19:00 IST  \n",
       "4  09:30 IST  "
      ]
     },
     "execution_count": 36,
     "metadata": {},
     "output_type": "execute_result"
    }
   ],
   "source": [
    "dict_2 = {\"series\":series, \"date\":date, \"place\":place, \"match_title\":match_title, \"time\":time_}\n",
    "df_2 = pd.DataFrame(dict_2)\n",
    "df_2.head()"
   ]
  },
  {
   "cell_type": "markdown",
   "metadata": {},
   "source": [
    "## 3. exceptions handling"
   ]
  },
  {
   "cell_type": "code",
   "execution_count": 25,
   "metadata": {},
   "outputs": [],
   "source": [
    "link_3 = \"https://www.guru99.com/\"\n",
    "driver = webdriver.Chrome('chromedriver')\n",
    "try:\n",
    "    driver.get(link_3)\n",
    "    time.sleep(5)\n",
    "except NoSuchWindowException:\n",
    "    driver = webdriver.Chrome('chromedriver')\n",
    "    driver.get(link_3)\n",
    "    time.sleep(5)\n",
    "\n",
    "try:\n",
    "    driver.find_element_by_xpath(\"//ul[@class = 'menu1']/li/a[@title = 'Selenium']\").click()\n",
    "    time.sleep(5)\n",
    "except:\n",
    "    time.sleep(5)\n",
    "    driver.find_element_by_xpath(\"//ul[@class = 'menu1']/li/a[@title = 'Selenium']\").click()\n",
    "    time.sleep(5)\n",
    "try:    \n",
    "    driver.find_element_by_xpath(\"//td[@class = 'responsivetable']/a[@title = 'Selenium Exception Handling (Common Exceptions List)']\").click()\n",
    "    time.sleep(5)\n",
    "except:\n",
    "    time.sleep(5)\n",
    "    driver.find_element_by_xpath(\"//td[@class = 'responsivetable']/a[@title = 'Selenium Exception Handling (Common Exceptions List)']\").click()\n",
    "    time.sleep(5)"
   ]
  },
  {
   "cell_type": "code",
   "execution_count": 26,
   "metadata": {},
   "outputs": [],
   "source": [
    "page_3 = driver.find_elements_by_xpath(\"//table[@class = 'table table-striped']/tbody/tr/td\")\n",
    "table_3 = [item.text for item in page_3]"
   ]
  },
  {
   "cell_type": "code",
   "execution_count": 27,
   "metadata": {},
   "outputs": [],
   "source": [
    "exception = []\n",
    "description = []\n",
    "i = 0\n",
    "while i<len(table_3):\n",
    "    exception.append(table_3[i])\n",
    "    description.append(table_3[i+1])\n",
    "    i = i+2\n"
   ]
  },
  {
   "cell_type": "code",
   "execution_count": 28,
   "metadata": {},
   "outputs": [
    {
     "data": {
      "text/html": [
       "<div>\n",
       "<style scoped>\n",
       "    .dataframe tbody tr th:only-of-type {\n",
       "        vertical-align: middle;\n",
       "    }\n",
       "\n",
       "    .dataframe tbody tr th {\n",
       "        vertical-align: top;\n",
       "    }\n",
       "\n",
       "    .dataframe thead th {\n",
       "        text-align: right;\n",
       "    }\n",
       "</style>\n",
       "<table border=\"1\" class=\"dataframe\">\n",
       "  <thead>\n",
       "    <tr style=\"text-align: right;\">\n",
       "      <th></th>\n",
       "      <th>exception</th>\n",
       "      <th>description</th>\n",
       "    </tr>\n",
       "  </thead>\n",
       "  <tbody>\n",
       "    <tr>\n",
       "      <th>0</th>\n",
       "      <td>ElementNotVisibleException</td>\n",
       "      <td>This type of Selenium exception occurs when an...</td>\n",
       "    </tr>\n",
       "    <tr>\n",
       "      <th>1</th>\n",
       "      <td>ElementNotSelectableException</td>\n",
       "      <td>This Selenium exception occurs when an element...</td>\n",
       "    </tr>\n",
       "    <tr>\n",
       "      <th>2</th>\n",
       "      <td>NoSuchElementException</td>\n",
       "      <td>This Exception occurs if an element could not ...</td>\n",
       "    </tr>\n",
       "    <tr>\n",
       "      <th>3</th>\n",
       "      <td>NoSuchFrameException</td>\n",
       "      <td>This Exception occurs if the frame target to b...</td>\n",
       "    </tr>\n",
       "    <tr>\n",
       "      <th>4</th>\n",
       "      <td>NoAlertPresentException</td>\n",
       "      <td>This Exception occurs when you switch to no pr...</td>\n",
       "    </tr>\n",
       "  </tbody>\n",
       "</table>\n",
       "</div>"
      ],
      "text/plain": [
       "                       exception  \\\n",
       "0     ElementNotVisibleException   \n",
       "1  ElementNotSelectableException   \n",
       "2         NoSuchElementException   \n",
       "3           NoSuchFrameException   \n",
       "4        NoAlertPresentException   \n",
       "\n",
       "                                         description  \n",
       "0  This type of Selenium exception occurs when an...  \n",
       "1  This Selenium exception occurs when an element...  \n",
       "2  This Exception occurs if an element could not ...  \n",
       "3  This Exception occurs if the frame target to b...  \n",
       "4  This Exception occurs when you switch to no pr...  "
      ]
     },
     "execution_count": 28,
     "metadata": {},
     "output_type": "execute_result"
    }
   ],
   "source": [
    "dict_3 = {\"exception\": exception, \"description\": description}\n",
    "df_3 = pd.DataFrame(dict_3)\n",
    "df_3.head()"
   ]
  },
  {
   "cell_type": "markdown",
   "metadata": {},
   "source": [
    "## 4. State-wise GDP of India"
   ]
  },
  {
   "cell_type": "code",
   "execution_count": null,
   "metadata": {},
   "outputs": [],
   "source": [
    "link_4 = \"http://statisticstimes.com/\"\n",
    "link_4_ = \"https://www.statisticstimes.com/economy/india/indian-states-gdp-per-capita.php\"\n",
    "#driver = webdriver.Chrome('chromedriver')\n",
    "try:\n",
    "    driver.get(link_4)\n",
    "    time.sleep(5)\n",
    "except NoSuchWindowException:\n",
    "    driver = webdriver.Chrome('chromedriver')\n",
    "    driver.get(link_4)\n",
    "    time.sleep(5)"
   ]
  },
  {
   "cell_type": "code",
   "execution_count": 41,
   "metadata": {},
   "outputs": [],
   "source": [
    "link_4_ = \"https://www.statisticstimes.com/economy/india/indian-states-gdp.php\"\n",
    "driver = webdriver.Chrome('chromedriver')\n",
    "driver.get(link_4_)"
   ]
  },
  {
   "cell_type": "code",
   "execution_count": 42,
   "metadata": {},
   "outputs": [],
   "source": [
    "page_4 = driver.find_elements_by_xpath(\"//div[@class = 'fwidth']/div[@itemprop = 'text']/div/table/tbody/tr\")"
   ]
  },
  {
   "cell_type": "code",
   "execution_count": 50,
   "metadata": {},
   "outputs": [],
   "source": [
    "rank = []\n",
    "state = []\n",
    "GSDP18_19 =[]\n",
    "GSDP19_20 = []\n",
    "share18_19 = []\n",
    "GDP = []\n",
    "#table_4 = [item.text.split() for item in page_4]\n",
    "for item in table_4:\n",
    "    rank.append(item[0])\n",
    "    state.append(item[1:3])\n",
    "    GSDP19_20.append(item[-6])\n",
    "    GSDP18_19.append(item[-5])\n",
    "    share18_19.append(item[-4])\n",
    "    GDP.append(item[-3])"
   ]
  },
  {
   "cell_type": "code",
   "execution_count": 51,
   "metadata": {},
   "outputs": [
    {
     "data": {
      "text/html": [
       "<div>\n",
       "<style scoped>\n",
       "    .dataframe tbody tr th:only-of-type {\n",
       "        vertical-align: middle;\n",
       "    }\n",
       "\n",
       "    .dataframe tbody tr th {\n",
       "        vertical-align: top;\n",
       "    }\n",
       "\n",
       "    .dataframe thead th {\n",
       "        text-align: right;\n",
       "    }\n",
       "</style>\n",
       "<table border=\"1\" class=\"dataframe\">\n",
       "  <thead>\n",
       "    <tr style=\"text-align: right;\">\n",
       "      <th></th>\n",
       "      <th>rank</th>\n",
       "      <th>state</th>\n",
       "      <th>GSDP19_20</th>\n",
       "      <th>GSDP18_19</th>\n",
       "      <th>GDP</th>\n",
       "      <th>share18_19</th>\n",
       "    </tr>\n",
       "  </thead>\n",
       "  <tbody>\n",
       "    <tr>\n",
       "      <th>0</th>\n",
       "      <td>1</td>\n",
       "      <td>[Maharashtra, -]</td>\n",
       "      <td>-</td>\n",
       "      <td>2,632,792</td>\n",
       "      <td>399.921</td>\n",
       "      <td>13.94%</td>\n",
       "    </tr>\n",
       "    <tr>\n",
       "      <th>1</th>\n",
       "      <td>2</td>\n",
       "      <td>[Tamil, Nadu]</td>\n",
       "      <td>1,845,853</td>\n",
       "      <td>1,630,208</td>\n",
       "      <td>247.629</td>\n",
       "      <td>8.63%</td>\n",
       "    </tr>\n",
       "    <tr>\n",
       "      <th>2</th>\n",
       "      <td>3</td>\n",
       "      <td>[Uttar, Pradesh]</td>\n",
       "      <td>1,687,818</td>\n",
       "      <td>1,584,764</td>\n",
       "      <td>240.726</td>\n",
       "      <td>8.39%</td>\n",
       "    </tr>\n",
       "    <tr>\n",
       "      <th>3</th>\n",
       "      <td>4</td>\n",
       "      <td>[Gujarat, -]</td>\n",
       "      <td>-</td>\n",
       "      <td>1,502,899</td>\n",
       "      <td>228.290</td>\n",
       "      <td>7.96%</td>\n",
       "    </tr>\n",
       "    <tr>\n",
       "      <th>4</th>\n",
       "      <td>5</td>\n",
       "      <td>[Karnataka, 1,631,977]</td>\n",
       "      <td>1,631,977</td>\n",
       "      <td>1,493,127</td>\n",
       "      <td>226.806</td>\n",
       "      <td>7.91%</td>\n",
       "    </tr>\n",
       "  </tbody>\n",
       "</table>\n",
       "</div>"
      ],
      "text/plain": [
       "  rank                   state  GSDP19_20  GSDP18_19      GDP share18_19\n",
       "0    1        [Maharashtra, -]          -  2,632,792  399.921     13.94%\n",
       "1    2           [Tamil, Nadu]  1,845,853  1,630,208  247.629      8.63%\n",
       "2    3        [Uttar, Pradesh]  1,687,818  1,584,764  240.726      8.39%\n",
       "3    4            [Gujarat, -]          -  1,502,899  228.290      7.96%\n",
       "4    5  [Karnataka, 1,631,977]  1,631,977  1,493,127  226.806      7.91%"
      ]
     },
     "execution_count": 51,
     "metadata": {},
     "output_type": "execute_result"
    }
   ],
   "source": [
    "dict_4 = {\"rank\":rank, \"state\":state, \"GSDP19_20\":GSDP19_20, \"GSDP18_19\":GSDP18_19, \"GDP\":GDP, \"share18_19\":share18_19}\n",
    "df_4 = pd.DataFrame(dict_4)\n",
    "df_4.head()"
   ]
  },
  {
   "cell_type": "markdown",
   "metadata": {},
   "source": [
    "going through code and filtering the text for state column is remaining"
   ]
  },
  {
   "cell_type": "markdown",
   "metadata": {},
   "source": [
    "## 5. github repositories"
   ]
  },
  {
   "cell_type": "code",
   "execution_count": 2,
   "metadata": {},
   "outputs": [],
   "source": [
    "link_5 = \"https://github.com/\"\n",
    "link_5_ = \"https://github.com/trending\"\n",
    "\n",
    "driver = webdriver.Chrome('chromedriver')\n",
    "driver.get(link_5_)"
   ]
  },
  {
   "cell_type": "code",
   "execution_count": 3,
   "metadata": {},
   "outputs": [],
   "source": [
    "a5 = driver.find_elements_by_xpath(\"//h1[@class = 'h3 lh-condensed']/a\")\n",
    "links5 = [item.get_attribute(\"href\") for item in a5]\n",
    "title = [item.text for item in a5]"
   ]
  },
  {
   "cell_type": "code",
   "execution_count": 7,
   "metadata": {},
   "outputs": [],
   "source": [
    "lang = driver.find_elements_by_xpath(\"//article[@class = 'Box-row']/div[2]/span[1]\")\n",
    "language = [item.text for item in lang]"
   ]
  },
  {
   "cell_type": "code",
   "execution_count": null,
   "metadata": {},
   "outputs": [],
   "source": [
    "language_ = []\n",
    "for i in range(len(language)):\n",
    "    if language[i] == \"Built by\":\n",
    "        language_.append(\"-\")\n",
    "    else:\n",
    "        language_.append(language[i])"
   ]
  },
  {
   "cell_type": "code",
   "execution_count": 16,
   "metadata": {},
   "outputs": [],
   "source": [
    "description5 = []\n",
    "contributor = []\n",
    "for link in links5:\n",
    "    driver.get(link)\n",
    "    time.sleep(5)\n",
    "    try:\n",
    "        desc5 = driver.find_element_by_xpath(\"//p[@class = 'f4 mt-3']\").text\n",
    "    except NoSuchElementException:\n",
    "        desc5 = \"No description aavailable\"\n",
    "    try:\n",
    "        c = driver.find_elements_by_xpath(\"//a[@class= 'Link--primary no-underline']/span[@class = 'Counter']\")\n",
    "        if c == '':\n",
    "            c = 1\n",
    "        count = [item.text for item in c][-1]\n",
    "    except:\n",
    "        count = \"1\"\n",
    "    description5.append(desc5)\n",
    "    contributor.append(count)"
   ]
  },
  {
   "cell_type": "code",
   "execution_count": 21,
   "metadata": {},
   "outputs": [
    {
     "data": {
      "text/html": [
       "<div>\n",
       "<style scoped>\n",
       "    .dataframe tbody tr th:only-of-type {\n",
       "        vertical-align: middle;\n",
       "    }\n",
       "\n",
       "    .dataframe tbody tr th {\n",
       "        vertical-align: top;\n",
       "    }\n",
       "\n",
       "    .dataframe thead th {\n",
       "        text-align: right;\n",
       "    }\n",
       "</style>\n",
       "<table border=\"1\" class=\"dataframe\">\n",
       "  <thead>\n",
       "    <tr style=\"text-align: right;\">\n",
       "      <th></th>\n",
       "      <th>title</th>\n",
       "      <th>description</th>\n",
       "      <th>contributors</th>\n",
       "      <th>Language used</th>\n",
       "    </tr>\n",
       "  </thead>\n",
       "  <tbody>\n",
       "    <tr>\n",
       "      <th>0</th>\n",
       "      <td>DrKLO / Telegram</td>\n",
       "      <td>Telegram for Android source</td>\n",
       "      <td>16</td>\n",
       "      <td>Java</td>\n",
       "    </tr>\n",
       "    <tr>\n",
       "      <th>1</th>\n",
       "      <td>commaai / openpilot</td>\n",
       "      <td>openpilot is an open source driver assistance ...</td>\n",
       "      <td>254</td>\n",
       "      <td>Python</td>\n",
       "    </tr>\n",
       "    <tr>\n",
       "      <th>2</th>\n",
       "      <td>flutter / flutter</td>\n",
       "      <td>Flutter makes it easy and fast to build beauti...</td>\n",
       "      <td>933</td>\n",
       "      <td>Dart</td>\n",
       "    </tr>\n",
       "    <tr>\n",
       "      <th>3</th>\n",
       "      <td>pi-hole / pi-hole</td>\n",
       "      <td>A black hole for Internet advertisements</td>\n",
       "      <td>196</td>\n",
       "      <td>Shell</td>\n",
       "    </tr>\n",
       "    <tr>\n",
       "      <th>4</th>\n",
       "      <td>coolsnowwolf / lede</td>\n",
       "      <td>Lean's OpenWrt source</td>\n",
       "      <td>272</td>\n",
       "      <td>C</td>\n",
       "    </tr>\n",
       "  </tbody>\n",
       "</table>\n",
       "</div>"
      ],
      "text/plain": [
       "                 title                                        description  \\\n",
       "0     DrKLO / Telegram                        Telegram for Android source   \n",
       "1  commaai / openpilot  openpilot is an open source driver assistance ...   \n",
       "2    flutter / flutter  Flutter makes it easy and fast to build beauti...   \n",
       "3    pi-hole / pi-hole           A black hole for Internet advertisements   \n",
       "4  coolsnowwolf / lede                              Lean's OpenWrt source   \n",
       "\n",
       "  contributors Language used  \n",
       "0           16          Java  \n",
       "1          254        Python  \n",
       "2          933          Dart  \n",
       "3          196         Shell  \n",
       "4          272             C  "
      ]
     },
     "execution_count": 21,
     "metadata": {},
     "output_type": "execute_result"
    }
   ],
   "source": [
    "dict_5 = {\"title\": title, \"description\": description5, \"contributors\": contributor, \"Language used\": language_}\n",
    "df_5 = pd.DataFrame(dict_5)\n",
    "df_5.head()"
   ]
  },
  {
   "cell_type": "markdown",
   "metadata": {},
   "source": [
    "## 6. top 100 songs ob billboard"
   ]
  },
  {
   "cell_type": "code",
   "execution_count": 2,
   "metadata": {},
   "outputs": [],
   "source": [
    "link_6 = \"https://www.billboard.com/\"\n",
    "link_6_ = \"https://www.billboard.com/charts/hot-100\"\n",
    "driver = webdriver.Chrome(\"chromedriver\")\n",
    "driver.get(link_6_)"
   ]
  },
  {
   "cell_type": "code",
   "execution_count": 3,
   "metadata": {},
   "outputs": [],
   "source": [
    "page_6 = driver.find_elements_by_xpath(\"//ol[@class= 'chart-list__elements']/li[@class = 'chart-list__element display--flex']\")"
   ]
  },
  {
   "cell_type": "code",
   "execution_count": 9,
   "metadata": {},
   "outputs": [],
   "source": [
    "table_6 = [item.text.split(\"\\n\") for item in page_6]"
   ]
  },
  {
   "cell_type": "code",
   "execution_count": 11,
   "metadata": {},
   "outputs": [],
   "source": [
    "song_name = []\n",
    "artist = []\n",
    "lwr = []\n",
    "peak_rank = []\n",
    "wob = []\n",
    "for item in table_6:\n",
    "    song_name.append(item[2])\n",
    "    artist.append(item[3])\n",
    "    lwr.append(item[-3])\n",
    "    peak_rank.append(item[-2])\n",
    "    wob.append(item[-1])"
   ]
  },
  {
   "cell_type": "code",
   "execution_count": 14,
   "metadata": {},
   "outputs": [
    {
     "data": {
      "text/html": [
       "<div>\n",
       "<style scoped>\n",
       "    .dataframe tbody tr th:only-of-type {\n",
       "        vertical-align: middle;\n",
       "    }\n",
       "\n",
       "    .dataframe tbody tr th {\n",
       "        vertical-align: top;\n",
       "    }\n",
       "\n",
       "    .dataframe thead th {\n",
       "        text-align: right;\n",
       "    }\n",
       "</style>\n",
       "<table border=\"1\" class=\"dataframe\">\n",
       "  <thead>\n",
       "    <tr style=\"text-align: right;\">\n",
       "      <th></th>\n",
       "      <th>song_name</th>\n",
       "      <th>artist</th>\n",
       "      <th>peak_rank</th>\n",
       "      <th>weaks_on_board</th>\n",
       "      <th>last_weak_rank</th>\n",
       "    </tr>\n",
       "  </thead>\n",
       "  <tbody>\n",
       "    <tr>\n",
       "      <th>0</th>\n",
       "      <td>Easy On Me</td>\n",
       "      <td>Adele</td>\n",
       "      <td>1</td>\n",
       "      <td>3</td>\n",
       "      <td>1</td>\n",
       "    </tr>\n",
       "    <tr>\n",
       "      <th>1</th>\n",
       "      <td>Stay</td>\n",
       "      <td>The Kid LAROI &amp; Justin Bieber</td>\n",
       "      <td>1</td>\n",
       "      <td>16</td>\n",
       "      <td>2</td>\n",
       "    </tr>\n",
       "    <tr>\n",
       "      <th>2</th>\n",
       "      <td>Industry Baby</td>\n",
       "      <td>Lil Nas X &amp; Jack Harlow</td>\n",
       "      <td>1</td>\n",
       "      <td>14</td>\n",
       "      <td>3</td>\n",
       "    </tr>\n",
       "    <tr>\n",
       "      <th>3</th>\n",
       "      <td>Fancy Like</td>\n",
       "      <td>Walker Hayes</td>\n",
       "      <td>3</td>\n",
       "      <td>19</td>\n",
       "      <td>4</td>\n",
       "    </tr>\n",
       "    <tr>\n",
       "      <th>4</th>\n",
       "      <td>Bad Habits</td>\n",
       "      <td>Ed Sheeran</td>\n",
       "      <td>2</td>\n",
       "      <td>18</td>\n",
       "      <td>5</td>\n",
       "    </tr>\n",
       "  </tbody>\n",
       "</table>\n",
       "</div>"
      ],
      "text/plain": [
       "       song_name                         artist peak_rank weaks_on_board  \\\n",
       "0     Easy On Me                          Adele         1              3   \n",
       "1           Stay  The Kid LAROI & Justin Bieber         1             16   \n",
       "2  Industry Baby        Lil Nas X & Jack Harlow         1             14   \n",
       "3     Fancy Like                   Walker Hayes         3             19   \n",
       "4     Bad Habits                     Ed Sheeran         2             18   \n",
       "\n",
       "  last_weak_rank  \n",
       "0              1  \n",
       "1              2  \n",
       "2              3  \n",
       "3              4  \n",
       "4              5  "
      ]
     },
     "execution_count": 14,
     "metadata": {},
     "output_type": "execute_result"
    }
   ],
   "source": [
    "dict_6 = {\"song_name\" : song_name, \"artist\":artist, \"peak_rank\" : peak_rank, \"weaks_on_board\" : wob, \"last_weak_rank\":lwr}\n",
    "df_6 = pd.DataFrame(dict_6)\n",
    "df_6.head()"
   ]
  },
  {
   "cell_type": "markdown",
   "metadata": {},
   "source": [
    "## 7. Data science recruiters"
   ]
  },
  {
   "cell_type": "code",
   "execution_count": 16,
   "metadata": {},
   "outputs": [],
   "source": [
    "link_7 = \"https://www.naukri.com/data-science-recruiters\"\n",
    "driver.get(link_7)"
   ]
  },
  {
   "cell_type": "code",
   "execution_count": 17,
   "metadata": {},
   "outputs": [],
   "source": [
    "page_7 = driver.find_elements_by_xpath(\"//div[@class= 'recInfo']\")"
   ]
  },
  {
   "cell_type": "code",
   "execution_count": 20,
   "metadata": {},
   "outputs": [],
   "source": [
    "table_7 = [item.text.split(\"\\n\") for item in page_7]"
   ]
  },
  {
   "cell_type": "code",
   "execution_count": 22,
   "metadata": {},
   "outputs": [],
   "source": [
    "name = []\n",
    "designation = []\n",
    "company = []\n",
    "location = []\n",
    "skills = []\n",
    "for recruiter in table_7:\n",
    "    name.append(recruiter[0])\n",
    "    designation.append(recruiter[1])\n",
    "    company.append(recruiter[2])\n",
    "    location.append(recruiter[3])\n",
    "    skills.append(recruiter[5])"
   ]
  },
  {
   "cell_type": "code",
   "execution_count": 23,
   "metadata": {},
   "outputs": [
    {
     "data": {
      "text/html": [
       "<div>\n",
       "<style scoped>\n",
       "    .dataframe tbody tr th:only-of-type {\n",
       "        vertical-align: middle;\n",
       "    }\n",
       "\n",
       "    .dataframe tbody tr th {\n",
       "        vertical-align: top;\n",
       "    }\n",
       "\n",
       "    .dataframe thead th {\n",
       "        text-align: right;\n",
       "    }\n",
       "</style>\n",
       "<table border=\"1\" class=\"dataframe\">\n",
       "  <thead>\n",
       "    <tr style=\"text-align: right;\">\n",
       "      <th></th>\n",
       "      <th>name</th>\n",
       "      <th>designation</th>\n",
       "      <th>company</th>\n",
       "      <th>location</th>\n",
       "      <th>skills_I_hire_for</th>\n",
       "    </tr>\n",
       "  </thead>\n",
       "  <tbody>\n",
       "    <tr>\n",
       "      <th>0</th>\n",
       "      <td>Aakash Harit</td>\n",
       "      <td>HR Manager</td>\n",
       "      <td>Data Science Network</td>\n",
       "      <td>Delhi</td>\n",
       "      <td>Classic ASP Developer, Internet Marketing Prof...</td>\n",
       "    </tr>\n",
       "    <tr>\n",
       "      <th>1</th>\n",
       "      <td>shravan Kumar Gaddam</td>\n",
       "      <td>Company Recruiter</td>\n",
       "      <td>Shore Infotech India Pvt. Ltd</td>\n",
       "      <td>Hyderabad / Secunderabad</td>\n",
       "      <td>.Net, Java, Data Science, Linux Administration...</td>\n",
       "    </tr>\n",
       "    <tr>\n",
       "      <th>2</th>\n",
       "      <td>MARSIAN Technologies LLP</td>\n",
       "      <td>Company HR</td>\n",
       "      <td>MARSIAN Technologies LLP</td>\n",
       "      <td>Pune</td>\n",
       "      <td>Data Science, Artificial Intelligence, Machine...</td>\n",
       "    </tr>\n",
       "    <tr>\n",
       "      <th>3</th>\n",
       "      <td>Anik Agrawal</td>\n",
       "      <td>Company Recruiter</td>\n",
       "      <td>Enerlytics Software Solutions Pvt Ltd</td>\n",
       "      <td>Ahmedabad</td>\n",
       "      <td>Mean Stack, javascript, angularjs, mongodb, We...</td>\n",
       "    </tr>\n",
       "    <tr>\n",
       "      <th>4</th>\n",
       "      <td>subhas patel</td>\n",
       "      <td>Founder CEO</td>\n",
       "      <td>LibraryXProject</td>\n",
       "      <td>UK - (london)</td>\n",
       "      <td>Hadoop, Spark, Digital Strategy, Data Architec...</td>\n",
       "    </tr>\n",
       "  </tbody>\n",
       "</table>\n",
       "</div>"
      ],
      "text/plain": [
       "                       name        designation  \\\n",
       "0              Aakash Harit         HR Manager   \n",
       "1      shravan Kumar Gaddam  Company Recruiter   \n",
       "2  MARSIAN Technologies LLP         Company HR   \n",
       "3              Anik Agrawal  Company Recruiter   \n",
       "4              subhas patel        Founder CEO   \n",
       "\n",
       "                                 company                  location  \\\n",
       "0                   Data Science Network                     Delhi   \n",
       "1          Shore Infotech India Pvt. Ltd  Hyderabad / Secunderabad   \n",
       "2               MARSIAN Technologies LLP                      Pune   \n",
       "3  Enerlytics Software Solutions Pvt Ltd                 Ahmedabad   \n",
       "4                        LibraryXProject             UK - (london)   \n",
       "\n",
       "                                   skills_I_hire_for  \n",
       "0  Classic ASP Developer, Internet Marketing Prof...  \n",
       "1  .Net, Java, Data Science, Linux Administration...  \n",
       "2  Data Science, Artificial Intelligence, Machine...  \n",
       "3  Mean Stack, javascript, angularjs, mongodb, We...  \n",
       "4  Hadoop, Spark, Digital Strategy, Data Architec...  "
      ]
     },
     "execution_count": 23,
     "metadata": {},
     "output_type": "execute_result"
    }
   ],
   "source": [
    "dict_7 = {\"name\": name, \"designation\":designation, \"company\":company, \"location\":location, \"skills_I_hire_for\":skills}\n",
    "df_7 = pd.DataFrame(dict_7)\n",
    "df_7.head()"
   ]
  },
  {
   "cell_type": "markdown",
   "metadata": {},
   "source": [
    "## 8. Highest selling novel"
   ]
  },
  {
   "cell_type": "code",
   "execution_count": 24,
   "metadata": {},
   "outputs": [],
   "source": [
    "link_8 = \"https://www.theguardian.com/news/datablog/2012/aug/09/best-selling-books-all-time-fifty-shades-grey-compare/\"\n",
    "driver.get(link_8)\n",
    "time.sleep(5)"
   ]
  },
  {
   "cell_type": "code",
   "execution_count": null,
   "metadata": {},
   "outputs": [],
   "source": [
    "page_8 = driver.find_elements_by_xpath(\"//div[@class= 'embed block']/table/tbody/tr/td\")"
   ]
  },
  {
   "cell_type": "code",
   "execution_count": null,
   "metadata": {},
   "outputs": [],
   "source": [
    "table_8 = [item.text for item in page_8]"
   ]
  },
  {
   "cell_type": "code",
   "execution_count": 34,
   "metadata": {},
   "outputs": [],
   "source": [
    "name = []\n",
    "author = []\n",
    "volume = []\n",
    "pub = []\n",
    "genre = []\n",
    "i = 1\n",
    "while i < len(table_8):\n",
    "    name.append(table_8[i])\n",
    "    author.append(table_8[i+1])\n",
    "    volume.append(table_8[i+2])\n",
    "    pub.append(table_8[i+3])\n",
    "    genre.append(table_8[i+4])\n",
    "    i = i + 6"
   ]
  },
  {
   "cell_type": "code",
   "execution_count": 36,
   "metadata": {},
   "outputs": [
    {
     "data": {
      "text/html": [
       "<div>\n",
       "<style scoped>\n",
       "    .dataframe tbody tr th:only-of-type {\n",
       "        vertical-align: middle;\n",
       "    }\n",
       "\n",
       "    .dataframe tbody tr th {\n",
       "        vertical-align: top;\n",
       "    }\n",
       "\n",
       "    .dataframe thead th {\n",
       "        text-align: right;\n",
       "    }\n",
       "</style>\n",
       "<table border=\"1\" class=\"dataframe\">\n",
       "  <thead>\n",
       "    <tr style=\"text-align: right;\">\n",
       "      <th></th>\n",
       "      <th>name</th>\n",
       "      <th>author</th>\n",
       "      <th>volume</th>\n",
       "      <th>publisher</th>\n",
       "      <th>genre</th>\n",
       "    </tr>\n",
       "  </thead>\n",
       "  <tbody>\n",
       "    <tr>\n",
       "      <th>0</th>\n",
       "      <td>Da Vinci Code,The</td>\n",
       "      <td>Brown, Dan</td>\n",
       "      <td>5,094,805</td>\n",
       "      <td>Transworld</td>\n",
       "      <td>Crime, Thriller &amp; Adventure</td>\n",
       "    </tr>\n",
       "    <tr>\n",
       "      <th>1</th>\n",
       "      <td>Harry Potter and the Deathly Hallows</td>\n",
       "      <td>Rowling, J.K.</td>\n",
       "      <td>4,475,152</td>\n",
       "      <td>Bloomsbury</td>\n",
       "      <td>Children's Fiction</td>\n",
       "    </tr>\n",
       "    <tr>\n",
       "      <th>2</th>\n",
       "      <td>Harry Potter and the Philosopher's Stone</td>\n",
       "      <td>Rowling, J.K.</td>\n",
       "      <td>4,200,654</td>\n",
       "      <td>Bloomsbury</td>\n",
       "      <td>Children's Fiction</td>\n",
       "    </tr>\n",
       "    <tr>\n",
       "      <th>3</th>\n",
       "      <td>Harry Potter and the Order of the Phoenix</td>\n",
       "      <td>Rowling, J.K.</td>\n",
       "      <td>4,179,479</td>\n",
       "      <td>Bloomsbury</td>\n",
       "      <td>Children's Fiction</td>\n",
       "    </tr>\n",
       "    <tr>\n",
       "      <th>4</th>\n",
       "      <td>Fifty Shades of Grey</td>\n",
       "      <td>James, E. L.</td>\n",
       "      <td>3,758,936</td>\n",
       "      <td>Random House</td>\n",
       "      <td>Romance &amp; Sagas</td>\n",
       "    </tr>\n",
       "  </tbody>\n",
       "</table>\n",
       "</div>"
      ],
      "text/plain": [
       "                                        name         author     volume  \\\n",
       "0                          Da Vinci Code,The     Brown, Dan  5,094,805   \n",
       "1       Harry Potter and the Deathly Hallows  Rowling, J.K.  4,475,152   \n",
       "2   Harry Potter and the Philosopher's Stone  Rowling, J.K.  4,200,654   \n",
       "3  Harry Potter and the Order of the Phoenix  Rowling, J.K.  4,179,479   \n",
       "4                       Fifty Shades of Grey   James, E. L.  3,758,936   \n",
       "\n",
       "      publisher                        genre  \n",
       "0    Transworld  Crime, Thriller & Adventure  \n",
       "1    Bloomsbury           Children's Fiction  \n",
       "2    Bloomsbury           Children's Fiction  \n",
       "3    Bloomsbury           Children's Fiction  \n",
       "4  Random House              Romance & Sagas  "
      ]
     },
     "execution_count": 36,
     "metadata": {},
     "output_type": "execute_result"
    }
   ],
   "source": [
    "dict_8 = {\"name\": name, \"author\": author, \"volume\":volume, \"publisher\":pub, \"genre\": genre}\n",
    "df_8 = pd.DataFrame(dict_8)\n",
    "df_8.head()"
   ]
  },
  {
   "cell_type": "markdown",
   "metadata": {},
   "source": [
    "## 9. Most watched tv series"
   ]
  },
  {
   "cell_type": "code",
   "execution_count": 98,
   "metadata": {},
   "outputs": [],
   "source": [
    "link_9 = \"https://www.imdb.com/list/ls095964455/\"\n",
    "driver = webdriver.Chrome(\"chromedriver\")\n",
    "driver.get(link_9)\n",
    "time.sleep(5)"
   ]
  },
  {
   "cell_type": "code",
   "execution_count": 99,
   "metadata": {},
   "outputs": [],
   "source": [
    "page_9 = driver.find_elements_by_xpath(\"//div[@class= 'lister-list']/div\")"
   ]
  },
  {
   "cell_type": "code",
   "execution_count": 100,
   "metadata": {},
   "outputs": [],
   "source": [
    "name = []\n",
    "year_span = []\n",
    "genre = []\n",
    "runtime = []\n",
    "ratings = []\n",
    "votes = []\n",
    "\n",
    "table_9 = [item.text.split(\"\\n\") for item in page_9]\n",
    "for series in table_9:\n",
    "    try:\n",
    "        name.append(series[0].split(\"(\")[0][3:].strip())\n",
    "    except:\n",
    "        name.append(\"-\")\n",
    "    try:\n",
    "        year_span.append(series[0].split('(')[1][:-1])\n",
    "    except:\n",
    "        year_span.append(\"-\")\n",
    "    try:\n",
    "        genre.append(series[1].split(\"|\")[-1].strip())\n",
    "    except:\n",
    "        genre.append(\"-\")\n",
    "    try:\n",
    "        runtime.append(series[1].split(\"|\")[1].strip())\n",
    "    except:\n",
    "        runtime.append(\"-\")\n",
    "    try:\n",
    "        ratings.append(series[2])\n",
    "    except:\n",
    "        ratings.append(\"-\")\n",
    "    try:\n",
    "        votes.append(series[-1].split(\":\")[-1].strip())\n",
    "    except:\n",
    "        votes.append(\"-\")"
   ]
  },
  {
   "cell_type": "code",
   "execution_count": 75,
   "metadata": {},
   "outputs": [
    {
     "data": {
      "text/html": [
       "<div>\n",
       "<style scoped>\n",
       "    .dataframe tbody tr th:only-of-type {\n",
       "        vertical-align: middle;\n",
       "    }\n",
       "\n",
       "    .dataframe tbody tr th {\n",
       "        vertical-align: top;\n",
       "    }\n",
       "\n",
       "    .dataframe thead th {\n",
       "        text-align: right;\n",
       "    }\n",
       "</style>\n",
       "<table border=\"1\" class=\"dataframe\">\n",
       "  <thead>\n",
       "    <tr style=\"text-align: right;\">\n",
       "      <th></th>\n",
       "      <th>name</th>\n",
       "      <th>year_span</th>\n",
       "      <th>genre</th>\n",
       "      <th>runtime</th>\n",
       "      <th>ratings</th>\n",
       "      <th>votes</th>\n",
       "    </tr>\n",
       "  </thead>\n",
       "  <tbody>\n",
       "    <tr>\n",
       "      <th>0</th>\n",
       "      <td>Game of Thrones</td>\n",
       "      <td>2011–2019</td>\n",
       "      <td>Action, Adventure, Drama</td>\n",
       "      <td>57 min</td>\n",
       "      <td>9.2</td>\n",
       "      <td>1,895,644</td>\n",
       "    </tr>\n",
       "    <tr>\n",
       "      <th>1</th>\n",
       "      <td>Stranger Things</td>\n",
       "      <td>2016–</td>\n",
       "      <td>Drama, Fantasy, Horror</td>\n",
       "      <td>51 min</td>\n",
       "      <td>8.7</td>\n",
       "      <td>926,921</td>\n",
       "    </tr>\n",
       "    <tr>\n",
       "      <th>2</th>\n",
       "      <td>The Walking Dead</td>\n",
       "      <td>2010–2022</td>\n",
       "      <td>Drama, Horror, Thriller</td>\n",
       "      <td>44 min</td>\n",
       "      <td>8.2</td>\n",
       "      <td>910,646</td>\n",
       "    </tr>\n",
       "    <tr>\n",
       "      <th>3</th>\n",
       "      <td>13 Reasons Why</td>\n",
       "      <td>2017–2020</td>\n",
       "      <td>Drama, Mystery, Thriller</td>\n",
       "      <td>60 min</td>\n",
       "      <td>7.5</td>\n",
       "      <td>272,499</td>\n",
       "    </tr>\n",
       "    <tr>\n",
       "      <th>4</th>\n",
       "      <td>The 100</td>\n",
       "      <td>2014–2020</td>\n",
       "      <td>Drama, Mystery, Sci-Fi</td>\n",
       "      <td>43 min</td>\n",
       "      <td>7.6</td>\n",
       "      <td>232,918</td>\n",
       "    </tr>\n",
       "  </tbody>\n",
       "</table>\n",
       "</div>"
      ],
      "text/plain": [
       "               name  year_span                     genre runtime ratings  \\\n",
       "0   Game of Thrones  2011–2019  Action, Adventure, Drama  57 min     9.2   \n",
       "1   Stranger Things     2016–     Drama, Fantasy, Horror  51 min     8.7   \n",
       "2  The Walking Dead  2010–2022   Drama, Horror, Thriller  44 min     8.2   \n",
       "3    13 Reasons Why  2017–2020  Drama, Mystery, Thriller  60 min     7.5   \n",
       "4           The 100  2014–2020    Drama, Mystery, Sci-Fi  43 min     7.6   \n",
       "\n",
       "       votes  \n",
       "0  1,895,644  \n",
       "1    926,921  \n",
       "2    910,646  \n",
       "3    272,499  \n",
       "4    232,918  "
      ]
     },
     "execution_count": 75,
     "metadata": {},
     "output_type": "execute_result"
    }
   ],
   "source": [
    "dict_9 = {\"name\": name,\"year_span\": year_span, \"genre\":genre, \"runtime\":runtime, \"ratings\" :ratings, \"votes\":votes}\n",
    "df_9 = pd.DataFrame(dict_9)\n",
    "df_9.head()"
   ]
  },
  {
   "cell_type": "markdown",
   "metadata": {},
   "source": [
    "## 10. UCI ML repositories"
   ]
  },
  {
   "cell_type": "code",
   "execution_count": 2,
   "metadata": {},
   "outputs": [],
   "source": [
    "link_10 = \"https://archive.ics.uci.edu/\"\n",
    "link_10_ = \"https://archive.ics.uci.edu/ml/datasets.php\"\n",
    "driver = webdriver.Chrome(\"chromedriver\")\n",
    "driver.get(link_10_)\n",
    "time.sleep(5)"
   ]
  },
  {
   "cell_type": "code",
   "execution_count": 3,
   "metadata": {},
   "outputs": [],
   "source": [
    "page_10 = driver.find_elements_by_xpath(\"//table[@border = '1']/tbody/tr/td\")"
   ]
  },
  {
   "cell_type": "code",
   "execution_count": 4,
   "metadata": {},
   "outputs": [],
   "source": [
    "table_10 = [item.text for item in page_10]"
   ]
  },
  {
   "cell_type": "code",
   "execution_count": 14,
   "metadata": {},
   "outputs": [],
   "source": [
    "name = []\n",
    "d_type = []\n",
    "task = []\n",
    "attribute = []\n",
    "instances = []\n",
    "no_attributes = []\n",
    "year = []\n",
    "\n",
    "i = 0\n",
    "while i < len(table_10):\n",
    "    try:\n",
    "        name.append(table_10[i+0].strip())\n",
    "    except:\n",
    "        name.append(\"-\")\n",
    "    try:\n",
    "        d_type.append(table_10[i+1])\n",
    "    except:\n",
    "        d_type.append(\"-\")\n",
    "    try:\n",
    "        task.append(table_10[i+2])\n",
    "    except:\n",
    "        task.append(\"-\")\n",
    "    try:\n",
    "        attribute.append(table_10[i+3])\n",
    "    except:\n",
    "        attribute.append(\"-\")\n",
    "    try:\n",
    "        instances.append(table_10[i+4])\n",
    "    except:\n",
    "        instances.append(\"-\")\n",
    "    try:\n",
    "        no_attributes.append(table_10[i+5])\n",
    "    except:\n",
    "        no_attributes.append(\"-\")\n",
    "    try:\n",
    "        year.append(table_10[i+6])\n",
    "    except:\n",
    "        year.append(\"-\")\n",
    "    i = i+7"
   ]
  },
  {
   "cell_type": "code",
   "execution_count": 18,
   "metadata": {},
   "outputs": [
    {
     "data": {
      "text/html": [
       "<div>\n",
       "<style scoped>\n",
       "    .dataframe tbody tr th:only-of-type {\n",
       "        vertical-align: middle;\n",
       "    }\n",
       "\n",
       "    .dataframe tbody tr th {\n",
       "        vertical-align: top;\n",
       "    }\n",
       "\n",
       "    .dataframe thead th {\n",
       "        text-align: right;\n",
       "    }\n",
       "</style>\n",
       "<table border=\"1\" class=\"dataframe\">\n",
       "  <thead>\n",
       "    <tr style=\"text-align: right;\">\n",
       "      <th></th>\n",
       "      <th>name</th>\n",
       "      <th>d_type</th>\n",
       "      <th>task</th>\n",
       "      <th>attribute</th>\n",
       "      <th>instances</th>\n",
       "      <th>no_attributes</th>\n",
       "      <th>year</th>\n",
       "    </tr>\n",
       "  </thead>\n",
       "  <tbody>\n",
       "    <tr>\n",
       "      <th>1</th>\n",
       "      <td>Abalone</td>\n",
       "      <td>Multivariate</td>\n",
       "      <td>Classification</td>\n",
       "      <td>Categorical, Integer, Real</td>\n",
       "      <td>4177</td>\n",
       "      <td>8</td>\n",
       "      <td>1995</td>\n",
       "    </tr>\n",
       "    <tr>\n",
       "      <th>2</th>\n",
       "      <td>Adult</td>\n",
       "      <td>Multivariate</td>\n",
       "      <td>Classification</td>\n",
       "      <td>Categorical, Integer</td>\n",
       "      <td>48842</td>\n",
       "      <td>14</td>\n",
       "      <td>1996</td>\n",
       "    </tr>\n",
       "    <tr>\n",
       "      <th>3</th>\n",
       "      <td>Annealing</td>\n",
       "      <td>Multivariate</td>\n",
       "      <td>Classification</td>\n",
       "      <td>Categorical, Integer, Real</td>\n",
       "      <td>798</td>\n",
       "      <td>38</td>\n",
       "      <td></td>\n",
       "    </tr>\n",
       "    <tr>\n",
       "      <th>4</th>\n",
       "      <td>Anonymous Microsoft Web Data</td>\n",
       "      <td></td>\n",
       "      <td>Recommender-Systems</td>\n",
       "      <td>Categorical</td>\n",
       "      <td>37711</td>\n",
       "      <td>294</td>\n",
       "      <td>1998</td>\n",
       "    </tr>\n",
       "    <tr>\n",
       "      <th>5</th>\n",
       "      <td>Arrhythmia</td>\n",
       "      <td>Multivariate</td>\n",
       "      <td>Classification</td>\n",
       "      <td>Categorical, Integer, Real</td>\n",
       "      <td>452</td>\n",
       "      <td>279</td>\n",
       "      <td>1998</td>\n",
       "    </tr>\n",
       "  </tbody>\n",
       "</table>\n",
       "</div>"
      ],
      "text/plain": [
       "                           name         d_type                  task  \\\n",
       "1                       Abalone  Multivariate        Classification    \n",
       "2                         Adult  Multivariate        Classification    \n",
       "3                     Annealing  Multivariate        Classification    \n",
       "4  Anonymous Microsoft Web Data                 Recommender-Systems    \n",
       "5                    Arrhythmia  Multivariate        Classification    \n",
       "\n",
       "                     attribute instances no_attributes   year  \n",
       "1  Categorical, Integer, Real      4177             8   1995   \n",
       "2        Categorical, Integer     48842            14   1996   \n",
       "3  Categorical, Integer, Real       798            38          \n",
       "4                 Categorical     37711           294   1998   \n",
       "5  Categorical, Integer, Real       452           279   1998   "
      ]
     },
     "execution_count": 18,
     "metadata": {},
     "output_type": "execute_result"
    }
   ],
   "source": [
    "dict_10 = {\"name\":name, \"d_type\": d_type, \"task\":task, \"attribute\" :attribute, \"instances\": instances, \n",
    "          \"no_attributes\": no_attributes, \"year\": year}\n",
    "df_10 = pd.DataFrame(dict_10)\n",
    "df_10 = df_10.iloc[1: , :]\n",
    "df_10.head()"
   ]
  },
  {
   "cell_type": "code",
   "execution_count": null,
   "metadata": {},
   "outputs": [],
   "source": []
  }
 ],
 "metadata": {
  "kernelspec": {
   "display_name": "Python 3",
   "language": "python",
   "name": "python3"
  },
  "language_info": {
   "codemirror_mode": {
    "name": "ipython",
    "version": 3
   },
   "file_extension": ".py",
   "mimetype": "text/x-python",
   "name": "python",
   "nbconvert_exporter": "python",
   "pygments_lexer": "ipython3",
   "version": "3.7.3"
  }
 },
 "nbformat": 4,
 "nbformat_minor": 4
}
