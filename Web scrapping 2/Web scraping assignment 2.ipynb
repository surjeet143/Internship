{
 "cells": [
  {
   "cell_type": "code",
   "execution_count": 1,
   "metadata": {},
   "outputs": [],
   "source": [
    "from selenium import webdriver\n",
    "from selenium.webdriver.common.keys import Keys\n",
    "import pandas as pd\n",
    "from selenium.webdriver.common.action_chains import ActionChains\n",
    "\n",
    "#driver = webdriver.Chrome('chromedriver')"
   ]
  },
  {
   "cell_type": "markdown",
   "metadata": {},
   "source": [
    "### 1. Fetching data of 10 jobs of data analyst in Bengaluru"
   ]
  },
  {
   "cell_type": "code",
   "execution_count": 18,
   "metadata": {},
   "outputs": [],
   "source": [
    "#initialize the chrome browser and going to website\n",
    "naukri_url = \"https://www.naukri.com/\"\n",
    "\n",
    "driver = webdriver.Chrome('chromedriver')\n",
    "driver.get(naukri_url)"
   ]
  },
  {
   "cell_type": "code",
   "execution_count": 19,
   "metadata": {},
   "outputs": [],
   "source": [
    "# sending the data to search fields\n",
    "search_job = driver.find_element_by_id(\"qsb-keyword-sugg\")\n",
    "search_job.send_keys(\"Data Analyst\")\n",
    "search_job = driver.find_element_by_xpath(\"//input[@id='qsb-location-sugg']\")\n",
    "search_job.send_keys(\"Bangalore\")\n",
    "\n",
    "search_btn = driver.find_element_by_xpath(\"//div[@class='search-btn']/button\")\n",
    "search_btn.click()"
   ]
  },
  {
   "cell_type": "code",
   "execution_count": 20,
   "metadata": {},
   "outputs": [
    {
     "data": {
      "text/plain": [
       "10"
      ]
     },
     "execution_count": 20,
     "metadata": {},
     "output_type": "execute_result"
    }
   ],
   "source": [
    "#fetching the job titles\n",
    "job_title = driver.find_elements_by_xpath(\"//a[@class = 'title fw500 ellipsis']\")\n",
    "job_title = [job.text for job in job_title]\n",
    "job_title = job_title[:10]\n",
    "len(job_title)"
   ]
  },
  {
   "cell_type": "code",
   "execution_count": 21,
   "metadata": {},
   "outputs": [],
   "source": [
    "# fetching the job location \n",
    "job_loc = driver.find_elements_by_xpath(\"//li[@class = 'fleft grey-text br2 placeHolderLi location']/span\")\n",
    "job_loc = [job.text.strip() for job in job_loc]\n",
    "job_loc = job_loc[:10]\n",
    "#job_loc"
   ]
  },
  {
   "cell_type": "code",
   "execution_count": 22,
   "metadata": {},
   "outputs": [],
   "source": [
    "# fetching the name of the company\n",
    "company = driver.find_elements_by_xpath(\"//div[@class='mt-7 companyInfo subheading lh16']/a[@class = 'subTitle ellipsis fleft']\")\n",
    "company = [com.text.strip() for com in company]\n",
    "company = company[:10]\n",
    "#company"
   ]
  },
  {
   "cell_type": "code",
   "execution_count": 23,
   "metadata": {},
   "outputs": [],
   "source": [
    "# fetching the experience required for the job\n",
    "exp_req = driver.find_elements_by_xpath(\"//li[@class='fleft grey-text br2 placeHolderLi experience']/span\")\n",
    "exp_req = [exp.text.strip() for exp in exp_req]\n",
    "exp_req = exp_req[:10]\n",
    "#exp_req"
   ]
  },
  {
   "cell_type": "code",
   "execution_count": 24,
   "metadata": {},
   "outputs": [
    {
     "data": {
      "text/html": [
       "<div>\n",
       "<style scoped>\n",
       "    .dataframe tbody tr th:only-of-type {\n",
       "        vertical-align: middle;\n",
       "    }\n",
       "\n",
       "    .dataframe tbody tr th {\n",
       "        vertical-align: top;\n",
       "    }\n",
       "\n",
       "    .dataframe thead th {\n",
       "        text-align: right;\n",
       "    }\n",
       "</style>\n",
       "<table border=\"1\" class=\"dataframe\">\n",
       "  <thead>\n",
       "    <tr style=\"text-align: right;\">\n",
       "      <th></th>\n",
       "      <th>job title</th>\n",
       "      <th>location</th>\n",
       "      <th>company</th>\n",
       "      <th>exp. required</th>\n",
       "    </tr>\n",
       "  </thead>\n",
       "  <tbody>\n",
       "    <tr>\n",
       "      <th>0</th>\n",
       "      <td>Data Analyst / Business Analyst (Demand Planning)</td>\n",
       "      <td>Bangalore/Bengaluru</td>\n",
       "      <td>Flipkart</td>\n",
       "      <td>1-4 Yrs</td>\n",
       "    </tr>\n",
       "    <tr>\n",
       "      <th>1</th>\n",
       "      <td>Data Analyst</td>\n",
       "      <td>Bangalore/Bengaluru</td>\n",
       "      <td>Applied Materials</td>\n",
       "      <td>0-3 Yrs</td>\n",
       "    </tr>\n",
       "    <tr>\n",
       "      <th>2</th>\n",
       "      <td>Business Cum Data Analyst</td>\n",
       "      <td></td>\n",
       "      <td>Virtusa Consulting Services Pvt Ltd</td>\n",
       "      <td>2-4 Yrs</td>\n",
       "    </tr>\n",
       "    <tr>\n",
       "      <th>3</th>\n",
       "      <td>Senior Data Analyst II</td>\n",
       "      <td></td>\n",
       "      <td>Flipkart</td>\n",
       "      <td>2-4 Yrs</td>\n",
       "    </tr>\n",
       "    <tr>\n",
       "      <th>4</th>\n",
       "      <td>Senior Data Analyst</td>\n",
       "      <td></td>\n",
       "      <td>Flipkart</td>\n",
       "      <td>3-7 Yrs</td>\n",
       "    </tr>\n",
       "  </tbody>\n",
       "</table>\n",
       "</div>"
      ],
      "text/plain": [
       "                                           job title             location  \\\n",
       "0  Data Analyst / Business Analyst (Demand Planning)  Bangalore/Bengaluru   \n",
       "1                                       Data Analyst  Bangalore/Bengaluru   \n",
       "2                          Business Cum Data Analyst                        \n",
       "3                             Senior Data Analyst II                        \n",
       "4                                Senior Data Analyst                        \n",
       "\n",
       "                               company exp. required  \n",
       "0                             Flipkart       1-4 Yrs  \n",
       "1                    Applied Materials       0-3 Yrs  \n",
       "2  Virtusa Consulting Services Pvt Ltd       2-4 Yrs  \n",
       "3                             Flipkart       2-4 Yrs  \n",
       "4                             Flipkart       3-7 Yrs  "
      ]
     },
     "execution_count": 24,
     "metadata": {},
     "output_type": "execute_result"
    }
   ],
   "source": [
    "# creating the data frame\n",
    "dict = {\"job title\": job_title, \"location\":job_loc, \"company\":company, \"exp. required\":exp_req}\n",
    "df = pd.DataFrame(dict)\n",
    "\n",
    "df.head()"
   ]
  },
  {
   "cell_type": "markdown",
   "metadata": {},
   "source": [
    "### 2. Fetching data of 10 jobs of data scientist"
   ]
  },
  {
   "cell_type": "code",
   "execution_count": 25,
   "metadata": {},
   "outputs": [],
   "source": [
    "#initialize the chrome browser and going to website\n",
    "naukri_url = \"https://www.naukri.com/\"\n",
    "\n",
    "#driver = webdriver.Chrome('chromedriver')\n",
    "driver.get(naukri_url)"
   ]
  },
  {
   "cell_type": "code",
   "execution_count": 26,
   "metadata": {},
   "outputs": [],
   "source": [
    "# sending the data to search fields\n",
    "search_job = driver.find_element_by_id(\"qsb-keyword-sugg\")\n",
    "search_job.send_keys(\"Data Scientist\")\n",
    "\n",
    "search_btn = driver.find_element_by_xpath(\"//div[@class='search-btn']/button\")\n",
    "search_btn.click()"
   ]
  },
  {
   "cell_type": "code",
   "execution_count": 27,
   "metadata": {},
   "outputs": [
    {
     "data": {
      "text/plain": [
       "10"
      ]
     },
     "execution_count": 27,
     "metadata": {},
     "output_type": "execute_result"
    }
   ],
   "source": [
    "#fetching the job titles\n",
    "job_title = driver.find_elements_by_xpath(\"//a[@class = 'title fw500 ellipsis']\")\n",
    "job_title = [job.text for job in job_title]\n",
    "job_title = job_title[:10]\n",
    "len(job_title)"
   ]
  },
  {
   "cell_type": "code",
   "execution_count": 28,
   "metadata": {},
   "outputs": [],
   "source": [
    "# fetching the job location \n",
    "job_loc = driver.find_elements_by_xpath(\"//li[@class = 'fleft grey-text br2 placeHolderLi location']/span\")\n",
    "job_loc = [job.text.strip() for job in job_loc]\n",
    "job_loc = job_loc[:10]\n",
    "#job_loc"
   ]
  },
  {
   "cell_type": "code",
   "execution_count": 29,
   "metadata": {},
   "outputs": [],
   "source": [
    "# fetching the name of the company\n",
    "company = driver.find_elements_by_xpath(\"//div[@class='mt-7 companyInfo subheading lh16']/a[@class = 'subTitle ellipsis fleft']\")\n",
    "company = [com.text.strip() for com in company]\n",
    "company = company[:10]\n",
    "#company"
   ]
  },
  {
   "cell_type": "code",
   "execution_count": 30,
   "metadata": {},
   "outputs": [],
   "source": [
    "# fetching the experience required for the job\n",
    "exp_req = driver.find_elements_by_xpath(\"//li[@class='fleft grey-text br2 placeHolderLi experience']/span\")\n",
    "exp_req = [exp.text.strip() for exp in exp_req]\n",
    "exp_req = exp_req[:10]\n",
    "#exp_req"
   ]
  },
  {
   "cell_type": "code",
   "execution_count": 31,
   "metadata": {},
   "outputs": [
    {
     "data": {
      "text/html": [
       "<div>\n",
       "<style scoped>\n",
       "    .dataframe tbody tr th:only-of-type {\n",
       "        vertical-align: middle;\n",
       "    }\n",
       "\n",
       "    .dataframe tbody tr th {\n",
       "        vertical-align: top;\n",
       "    }\n",
       "\n",
       "    .dataframe thead th {\n",
       "        text-align: right;\n",
       "    }\n",
       "</style>\n",
       "<table border=\"1\" class=\"dataframe\">\n",
       "  <thead>\n",
       "    <tr style=\"text-align: right;\">\n",
       "      <th></th>\n",
       "      <th>job title</th>\n",
       "      <th>location</th>\n",
       "      <th>company</th>\n",
       "      <th>exp. required</th>\n",
       "    </tr>\n",
       "  </thead>\n",
       "  <tbody>\n",
       "    <tr>\n",
       "      <th>0</th>\n",
       "      <td>Data Science - Machine Learning Engineer</td>\n",
       "      <td>Ahmedabad(Bodakdev)</td>\n",
       "      <td>Juriscape Legal Research Pvt. Ltd</td>\n",
       "      <td>5-8 Yrs</td>\n",
       "    </tr>\n",
       "    <tr>\n",
       "      <th>1</th>\n",
       "      <td>Data Scientist/Quantitative Analyst</td>\n",
       "      <td>(WFH during Covid)</td>\n",
       "      <td>Antier Solutions</td>\n",
       "      <td>3-5 Yrs</td>\n",
       "    </tr>\n",
       "    <tr>\n",
       "      <th>2</th>\n",
       "      <td>Data Scientist: Advanced Analytics</td>\n",
       "      <td>Chandigarh</td>\n",
       "      <td>IBM India Pvt. Limited</td>\n",
       "      <td>5-10 Yrs</td>\n",
       "    </tr>\n",
       "    <tr>\n",
       "      <th>3</th>\n",
       "      <td>Digital Enterprise Architect (Data Scientist)</td>\n",
       "      <td>Bangalore/Bengaluru</td>\n",
       "      <td>Mphasis Limited</td>\n",
       "      <td>10-13 Yrs</td>\n",
       "    </tr>\n",
       "    <tr>\n",
       "      <th>4</th>\n",
       "      <td>Co-Founder &amp; Principal Data Scientist/Senior S...</td>\n",
       "      <td>Bangalore/Bengaluru</td>\n",
       "      <td>Benovymed Healthcare</td>\n",
       "      <td>2-7 Yrs</td>\n",
       "    </tr>\n",
       "  </tbody>\n",
       "</table>\n",
       "</div>"
      ],
      "text/plain": [
       "                                           job title             location  \\\n",
       "0           Data Science - Machine Learning Engineer  Ahmedabad(Bodakdev)   \n",
       "1                Data Scientist/Quantitative Analyst   (WFH during Covid)   \n",
       "2                 Data Scientist: Advanced Analytics           Chandigarh   \n",
       "3      Digital Enterprise Architect (Data Scientist)  Bangalore/Bengaluru   \n",
       "4  Co-Founder & Principal Data Scientist/Senior S...  Bangalore/Bengaluru   \n",
       "\n",
       "                             company exp. required  \n",
       "0  Juriscape Legal Research Pvt. Ltd       5-8 Yrs  \n",
       "1                   Antier Solutions       3-5 Yrs  \n",
       "2             IBM India Pvt. Limited      5-10 Yrs  \n",
       "3                    Mphasis Limited     10-13 Yrs  \n",
       "4               Benovymed Healthcare       2-7 Yrs  "
      ]
     },
     "execution_count": 31,
     "metadata": {},
     "output_type": "execute_result"
    }
   ],
   "source": [
    "# creating the data frame\n",
    "dict = {\"job title\": job_title, \"location\":job_loc, \"company\":company, \"exp. required\":exp_req}\n",
    "df = pd.DataFrame(dict)\n",
    "\n",
    "df.head()"
   ]
  },
  {
   "cell_type": "markdown",
   "metadata": {},
   "source": [
    "### 3. Fetching data of 10 jobs of data scientist in by applying Delhi/NCR and 3-6 lakh filter"
   ]
  },
  {
   "cell_type": "code",
   "execution_count": 9,
   "metadata": {},
   "outputs": [],
   "source": [
    "#initialize the chrome browser and going to website\n",
    "naukri_url = \"https://www.naukri.com/\"\n",
    "\n",
    "driver = webdriver.Chrome('chromedriver')\n",
    "driver.get(naukri_url)"
   ]
  },
  {
   "cell_type": "code",
   "execution_count": 10,
   "metadata": {},
   "outputs": [],
   "source": [
    "# sending the data to search fields\n",
    "search_job = driver.find_element_by_id(\"qsb-keyword-sugg\")\n",
    "search_job.send_keys(\"Data Scientist\")\n",
    "\n",
    "search_btn = driver.find_element_by_xpath(\"//div[@class='search-btn']/button\")\n",
    "search_btn.click()"
   ]
  },
  {
   "cell_type": "code",
   "execution_count": 11,
   "metadata": {},
   "outputs": [],
   "source": [
    "# applying the filter for Delhi/NCR\n",
    "chk_btn = driver.find_element_by_xpath(\"//div[@class = 'mt-8 chckBoxCont'][3]\")\n",
    "chk_btn.click()"
   ]
  },
  {
   "cell_type": "code",
   "execution_count": 12,
   "metadata": {},
   "outputs": [],
   "source": [
    "# applying the filter for salary range 3-6 lakhs\n",
    "chk_btn = driver.find_element_by_xpath(\"//div[@data-filter-id='salaryRange']/div[2]\")\n",
    "chk_btn.click()"
   ]
  },
  {
   "cell_type": "code",
   "execution_count": 13,
   "metadata": {},
   "outputs": [
    {
     "data": {
      "text/plain": [
       "10"
      ]
     },
     "execution_count": 13,
     "metadata": {},
     "output_type": "execute_result"
    }
   ],
   "source": [
    "#fetching the job titles\n",
    "job_title = driver.find_elements_by_xpath(\"//a[@class = 'title fw500 ellipsis']\")\n",
    "job_title = [job.text for job in job_title]\n",
    "job_title = job_title[:10]\n",
    "len(job_title)"
   ]
  },
  {
   "cell_type": "code",
   "execution_count": 14,
   "metadata": {},
   "outputs": [],
   "source": [
    "# fetching the job location \n",
    "job_loc = driver.find_elements_by_xpath(\"//li[@class = 'fleft grey-text br2 placeHolderLi location']/span\")\n",
    "job_loc = [job.text.strip() for job in job_loc]\n",
    "job_loc = job_loc[:10]\n",
    "#job_loc"
   ]
  },
  {
   "cell_type": "code",
   "execution_count": 15,
   "metadata": {},
   "outputs": [],
   "source": [
    "# fetching the name of the company\n",
    "company = driver.find_elements_by_xpath(\"//div[@class='mt-7 companyInfo subheading lh16']/a[@class = 'subTitle ellipsis fleft']\")\n",
    "company = [com.text.strip() for com in company]\n",
    "company = company[:10]\n",
    "#company"
   ]
  },
  {
   "cell_type": "code",
   "execution_count": 16,
   "metadata": {},
   "outputs": [],
   "source": [
    "# fetching the experience required for the job\n",
    "exp_req = driver.find_elements_by_xpath(\"//li[@class='fleft grey-text br2 placeHolderLi experience']/span\")\n",
    "exp_req = [exp.text.strip() for exp in exp_req]\n",
    "exp_req = exp_req[:10]\n",
    "#exp_req"
   ]
  },
  {
   "cell_type": "code",
   "execution_count": 17,
   "metadata": {},
   "outputs": [
    {
     "data": {
      "text/html": [
       "<div>\n",
       "<style scoped>\n",
       "    .dataframe tbody tr th:only-of-type {\n",
       "        vertical-align: middle;\n",
       "    }\n",
       "\n",
       "    .dataframe tbody tr th {\n",
       "        vertical-align: top;\n",
       "    }\n",
       "\n",
       "    .dataframe thead th {\n",
       "        text-align: right;\n",
       "    }\n",
       "</style>\n",
       "<table border=\"1\" class=\"dataframe\">\n",
       "  <thead>\n",
       "    <tr style=\"text-align: right;\">\n",
       "      <th></th>\n",
       "      <th>job title</th>\n",
       "      <th>location</th>\n",
       "      <th>company</th>\n",
       "      <th>exp. required</th>\n",
       "    </tr>\n",
       "  </thead>\n",
       "  <tbody>\n",
       "    <tr>\n",
       "      <th>0</th>\n",
       "      <td>Data Scientist I/II/III</td>\n",
       "      <td>Gurgaon/Gurugram</td>\n",
       "      <td>OLX India Pvt Ltd</td>\n",
       "      <td>3-6 Yrs</td>\n",
       "    </tr>\n",
       "    <tr>\n",
       "      <th>1</th>\n",
       "      <td>Associate Data Scientist</td>\n",
       "      <td>Noida</td>\n",
       "      <td>Optum Global Solutions (India) Private Limited</td>\n",
       "      <td>2-7 Yrs</td>\n",
       "    </tr>\n",
       "    <tr>\n",
       "      <th>2</th>\n",
       "      <td>Job Opportunity || Data Scientist || HCL Techn...</td>\n",
       "      <td>Delhi / NCR</td>\n",
       "      <td>HCL Technologies</td>\n",
       "      <td>4-7 Yrs</td>\n",
       "    </tr>\n",
       "    <tr>\n",
       "      <th>3</th>\n",
       "      <td>Data Scientist</td>\n",
       "      <td>Gurgaon/Gurugram</td>\n",
       "      <td>Milliman India Pvt Ltd</td>\n",
       "      <td>2-5 Yrs</td>\n",
       "    </tr>\n",
       "    <tr>\n",
       "      <th>4</th>\n",
       "      <td>Academic Counsellor - Data Scientist</td>\n",
       "      <td>Gurgaon/Gurugram, Bangalore/Bengaluru</td>\n",
       "      <td>GreatLearning</td>\n",
       "      <td>1-4 Yrs</td>\n",
       "    </tr>\n",
       "  </tbody>\n",
       "</table>\n",
       "</div>"
      ],
      "text/plain": [
       "                                           job title  \\\n",
       "0                            Data Scientist I/II/III   \n",
       "1                           Associate Data Scientist   \n",
       "2  Job Opportunity || Data Scientist || HCL Techn...   \n",
       "3                                     Data Scientist   \n",
       "4               Academic Counsellor - Data Scientist   \n",
       "\n",
       "                                location  \\\n",
       "0                       Gurgaon/Gurugram   \n",
       "1                                  Noida   \n",
       "2                            Delhi / NCR   \n",
       "3                       Gurgaon/Gurugram   \n",
       "4  Gurgaon/Gurugram, Bangalore/Bengaluru   \n",
       "\n",
       "                                          company exp. required  \n",
       "0                               OLX India Pvt Ltd       3-6 Yrs  \n",
       "1  Optum Global Solutions (India) Private Limited       2-7 Yrs  \n",
       "2                                HCL Technologies       4-7 Yrs  \n",
       "3                          Milliman India Pvt Ltd       2-5 Yrs  \n",
       "4                                   GreatLearning       1-4 Yrs  "
      ]
     },
     "execution_count": 17,
     "metadata": {},
     "output_type": "execute_result"
    }
   ],
   "source": [
    "# creating the data frame\n",
    "dict = {\"job title\": job_title, \"location\":job_loc, \"company\":company, \"exp. required\":exp_req}\n",
    "df = pd.DataFrame(dict)\n",
    "\n",
    "df.head()"
   ]
  },
  {
   "cell_type": "markdown",
   "metadata": {},
   "source": [
    "### 3. fetching data grom glassdoor data scientist jobs"
   ]
  },
  {
   "cell_type": "code",
   "execution_count": 2,
   "metadata": {},
   "outputs": [],
   "source": [
    "# starting the chrome browser \n",
    "glassdoor = \" https://www.glassdoor.co.in/index.htm\"\n",
    "driver = webdriver.Chrome('chromedriver')\n",
    "driver.get(glassdoor)"
   ]
  },
  {
   "cell_type": "code",
   "execution_count": 3,
   "metadata": {},
   "outputs": [],
   "source": [
    "# after logging in manually, entring data scientist and noida location in search field\n",
    "search = driver.find_element_by_xpath(\"//input[@id = 'sc.keyword']\")\n",
    "search.send_keys(\"Data scientist\")\n",
    "search_loc = driver.find_element_by_xpath(\"//input[@id = 'sc.location']\")\n",
    "search_loc.send_keys(\"noida\")"
   ]
  },
  {
   "cell_type": "code",
   "execution_count": 4,
   "metadata": {},
   "outputs": [],
   "source": [
    "#clicking on search button\n",
    "srch_btn = driver.find_element_by_xpath(\"//button[@class='gd-ui-button ml-std col-auto search__SearchStyles__newSearchButton css-1dqvyh7']\") \n",
    "srch_btn.click()"
   ]
  },
  {
   "cell_type": "code",
   "execution_count": 5,
   "metadata": {},
   "outputs": [],
   "source": [
    "#fetching the general data of job\n",
    "data = driver.find_elements_by_xpath(\"//div[@class='d-flex flex-column pl-sm css-1buaf54 job-search-key-1mn3dn8 e1rrn5ka0']\") \n",
    "data = [d.text.split(\"\\n\") for d in data]"
   ]
  },
  {
   "cell_type": "code",
   "execution_count": 6,
   "metadata": {},
   "outputs": [],
   "source": [
    "# fetching the company name and days ago from data\n",
    "company = []\n",
    "days_ago = []\n",
    "for job in data:\n",
    "    company.append(job[0])\n",
    "    days_ago.append(job[-1])"
   ]
  },
  {
   "cell_type": "code",
   "execution_count": 7,
   "metadata": {},
   "outputs": [],
   "source": [
    "# fetching the rating of the company\n",
    "rating = driver.find_elements_by_xpath(\"//div[@class='d-flex flex-column job-search-key-1pzmdmc e1rrn5ka1']\")\n",
    "rating = [rat.text for rat in rating]"
   ]
  },
  {
   "cell_type": "code",
   "execution_count": 8,
   "metadata": {},
   "outputs": [
    {
     "data": {
      "text/html": [
       "<div>\n",
       "<style scoped>\n",
       "    .dataframe tbody tr th:only-of-type {\n",
       "        vertical-align: middle;\n",
       "    }\n",
       "\n",
       "    .dataframe tbody tr th {\n",
       "        vertical-align: top;\n",
       "    }\n",
       "\n",
       "    .dataframe thead th {\n",
       "        text-align: right;\n",
       "    }\n",
       "</style>\n",
       "<table border=\"1\" class=\"dataframe\">\n",
       "  <thead>\n",
       "    <tr style=\"text-align: right;\">\n",
       "      <th></th>\n",
       "      <th>company</th>\n",
       "      <th>days ago</th>\n",
       "      <th>rating</th>\n",
       "    </tr>\n",
       "  </thead>\n",
       "  <tbody>\n",
       "    <tr>\n",
       "      <th>0</th>\n",
       "      <td>Pixel Vision</td>\n",
       "      <td>1d</td>\n",
       "      <td></td>\n",
       "    </tr>\n",
       "    <tr>\n",
       "      <th>1</th>\n",
       "      <td>UnitedHealth Group</td>\n",
       "      <td>4d</td>\n",
       "      <td>3.7</td>\n",
       "    </tr>\n",
       "    <tr>\n",
       "      <th>2</th>\n",
       "      <td>Optum - India</td>\n",
       "      <td>20d</td>\n",
       "      <td></td>\n",
       "    </tr>\n",
       "    <tr>\n",
       "      <th>3</th>\n",
       "      <td>AlgoScale Technologies Private Limited</td>\n",
       "      <td>30d+</td>\n",
       "      <td>4.0</td>\n",
       "    </tr>\n",
       "    <tr>\n",
       "      <th>4</th>\n",
       "      <td>Crowe</td>\n",
       "      <td>11d</td>\n",
       "      <td>3.8</td>\n",
       "    </tr>\n",
       "  </tbody>\n",
       "</table>\n",
       "</div>"
      ],
      "text/plain": [
       "                                  company days ago rating\n",
       "0                            Pixel Vision       1d       \n",
       "1                      UnitedHealth Group       4d    3.7\n",
       "2                           Optum - India      20d       \n",
       "3  AlgoScale Technologies Private Limited     30d+    4.0\n",
       "4                                   Crowe      11d    3.8"
      ]
     },
     "execution_count": 8,
     "metadata": {},
     "output_type": "execute_result"
    }
   ],
   "source": [
    "# creating a dataframe\n",
    "df = pd.DataFrame({\"company\":company, \"days ago\":days_ago, \"rating\":rating})\n",
    "df.head()"
   ]
  },
  {
   "cell_type": "markdown",
   "metadata": {},
   "source": [
    "### 5. scraping salaries data from glassdoor"
   ]
  },
  {
   "cell_type": "code",
   "execution_count": 9,
   "metadata": {},
   "outputs": [],
   "source": [
    "glassdoor = \"https://www.glassdoor.co.in/Salaries/index.htm\"\n",
    "driver = webdriver.Chrome('chromedriver')\n",
    "driver.get(glassdoor)"
   ]
  },
  {
   "cell_type": "code",
   "execution_count": 10,
   "metadata": {},
   "outputs": [],
   "source": [
    "# logging into the account manually and then entering data scientist and location noida\n",
    "job_search = driver.find_element_by_xpath(\"//input[@class='keyword']\")\n",
    "job_search.send_keys(\"data scientist\") \n",
    "job_loc = driver.find_element_by_xpath(\"//input[@class='loc']\")\n",
    "job_loc.clear() \n",
    "job_loc.send_keys(\"noida\")"
   ]
  },
  {
   "cell_type": "code",
   "execution_count": 11,
   "metadata": {},
   "outputs": [],
   "source": [
    "search_btn = driver.find_element_by_xpath(\"//button[@class='gd-btn-mkt']\")\n",
    "search_btn.click()"
   ]
  },
  {
   "cell_type": "code",
   "execution_count": 19,
   "metadata": {},
   "outputs": [],
   "source": [
    "data = driver.find_elements_by_xpath(\"//div[@class='col px-xsm']\")\n",
    "data = [d.text.split(\"\\n\") for d in data]"
   ]
  },
  {
   "cell_type": "code",
   "execution_count": 25,
   "metadata": {},
   "outputs": [],
   "source": [
    "company = []\n",
    "avg_sal = []\n",
    "max_sal = []\n",
    "min_sal = []\n",
    "salaries = []\n",
    "\n",
    "for i in data:\n",
    "    company.append(i[0])\n",
    "    avg_sal.append(i[2])\n",
    "    min_sal.append(i[4].split(\":\")[1].split('-')[0])\n",
    "    max_sal.append(i[4].split(\":\")[1].split('-')[1])\n",
    "    salaries.append(i[5].split(\" \")[0])"
   ]
  },
  {
   "cell_type": "code",
   "execution_count": 26,
   "metadata": {},
   "outputs": [
    {
     "data": {
      "text/html": [
       "<div>\n",
       "<style scoped>\n",
       "    .dataframe tbody tr th:only-of-type {\n",
       "        vertical-align: middle;\n",
       "    }\n",
       "\n",
       "    .dataframe tbody tr th {\n",
       "        vertical-align: top;\n",
       "    }\n",
       "\n",
       "    .dataframe thead th {\n",
       "        text-align: right;\n",
       "    }\n",
       "</style>\n",
       "<table border=\"1\" class=\"dataframe\">\n",
       "  <thead>\n",
       "    <tr style=\"text-align: right;\">\n",
       "      <th></th>\n",
       "      <th>company</th>\n",
       "      <th>average salary</th>\n",
       "      <th>max salary</th>\n",
       "      <th>min salary</th>\n",
       "      <th>salaries</th>\n",
       "    </tr>\n",
       "  </thead>\n",
       "  <tbody>\n",
       "    <tr>\n",
       "      <th>0</th>\n",
       "      <td>Tata Consultancy Services</td>\n",
       "      <td>₹6,31,184</td>\n",
       "      <td>₹13L</td>\n",
       "      <td>₹4L</td>\n",
       "      <td>25</td>\n",
       "    </tr>\n",
       "    <tr>\n",
       "      <th>1</th>\n",
       "      <td>IBM</td>\n",
       "      <td>₹9,08,246</td>\n",
       "      <td>₹28L</td>\n",
       "      <td>₹1L</td>\n",
       "      <td>20</td>\n",
       "    </tr>\n",
       "    <tr>\n",
       "      <th>2</th>\n",
       "      <td>Accenture</td>\n",
       "      <td>₹12,13,338</td>\n",
       "      <td>₹23L</td>\n",
       "      <td>₹6L</td>\n",
       "      <td>16</td>\n",
       "    </tr>\n",
       "    <tr>\n",
       "      <th>3</th>\n",
       "      <td>Ericsson-Worldwide</td>\n",
       "      <td>₹x,xx,xxx</td>\n",
       "      <td>₹xxL</td>\n",
       "      <td>₹xL</td>\n",
       "      <td>15</td>\n",
       "    </tr>\n",
       "    <tr>\n",
       "      <th>4</th>\n",
       "      <td>Delhivery</td>\n",
       "      <td>₹xx,xx,xxx</td>\n",
       "      <td>₹xCr</td>\n",
       "      <td>₹xL</td>\n",
       "      <td>15</td>\n",
       "    </tr>\n",
       "  </tbody>\n",
       "</table>\n",
       "</div>"
      ],
      "text/plain": [
       "                     company average salary max salary min salary salaries\n",
       "0  Tata Consultancy Services      ₹6,31,184       ₹13L       ₹4L        25\n",
       "1                        IBM      ₹9,08,246       ₹28L       ₹1L        20\n",
       "2                  Accenture     ₹12,13,338       ₹23L       ₹6L        16\n",
       "3         Ericsson-Worldwide      ₹x,xx,xxx       ₹xxL       ₹xL        15\n",
       "4                  Delhivery     ₹xx,xx,xxx       ₹xCr       ₹xL        15"
      ]
     },
     "execution_count": 26,
     "metadata": {},
     "output_type": "execute_result"
    }
   ],
   "source": [
    "df = pd.DataFrame({\"company\":company, \"average salary\":avg_sal, \"max salary\":max_sal, \"min salary\":min_sal, \"salaries\":salaries})\n",
    "df.head()"
   ]
  },
  {
   "cell_type": "markdown",
   "metadata": {},
   "source": [
    "### 6. Scraping 100 sunglasses from flipkart"
   ]
  },
  {
   "cell_type": "code",
   "execution_count": 2,
   "metadata": {},
   "outputs": [],
   "source": [
    "driver = webdriver.Chrome('chromedriver')"
   ]
  },
  {
   "cell_type": "code",
   "execution_count": 3,
   "metadata": {},
   "outputs": [],
   "source": [
    "driver.get(\"https://www.flipkart.com/\")"
   ]
  },
  {
   "cell_type": "code",
   "execution_count": 6,
   "metadata": {},
   "outputs": [],
   "source": [
    "# searching the sunglasses in the search box\n",
    "search_box = driver.find_element_by_xpath(\"//input[@class = '_3704LK']\")\n",
    "search_box.send_keys(\"sunglasses\")\n",
    "\n",
    "\n",
    "button = driver.find_element_by_xpath(\"//button[@class = 'L0Z3Pu']\")\n",
    "driver.implicitly_wait(10)\n",
    "ActionChains(driver).move_to_element(button).click(button).perform()"
   ]
  },
  {
   "cell_type": "code",
   "execution_count": 7,
   "metadata": {},
   "outputs": [],
   "source": [
    "brands = []\n",
    "prices = []\n",
    "discs = []\n",
    "descs = []\n",
    "\n",
    "# collecting the information from the first page\n",
    "brand = driver.find_elements_by_xpath(\"//div[@class = '_2WkVRV']\")\n",
    "brand = [brand.text for brand in brand]\n",
    "brands = brands + brand\n",
    "    \n",
    "desc = driver.find_elements_by_xpath(\"//a[@class = 'IRpwTa']\")\n",
    "desc = [desc.text for desc in desc]\n",
    "descs = descs + desc\n",
    "    \n",
    "price = driver.find_elements_by_xpath(\"//div[@class='_30jeq3']\")\n",
    "price = [price.text for price in price]\n",
    "prices = prices + price\n",
    "\n",
    "disc = driver.find_elements_by_xpath(\"//div[@class='_3Ay6Sb']/span\")\n",
    "disc = [disc.text.split(\" \")[0] for disc in disc]\n",
    "discs = discs + disc"
   ]
  },
  {
   "cell_type": "code",
   "execution_count": 8,
   "metadata": {},
   "outputs": [],
   "source": [
    "# going to second page\n",
    "driver.find_element_by_xpath(\"//a[@class='_1LKTO3']\").click()\n",
    "driver.implicitly_wait(10)"
   ]
  },
  {
   "cell_type": "code",
   "execution_count": 9,
   "metadata": {},
   "outputs": [],
   "source": [
    "#getting data from second page\n",
    "brand = driver.find_elements_by_xpath(\"//div[@class = '_2WkVRV']\")\n",
    "brand = [brand.text for brand in brand]\n",
    "brands = brands + brand\n",
    "    \n",
    "desc = driver.find_elements_by_xpath(\"//a[@class = 'IRpwTa']\")\n",
    "desc = [desc.text for desc in desc]\n",
    "descs = descs + desc\n",
    "    \n",
    "price = driver.find_elements_by_xpath(\"//div[@class='_30jeq3']\")\n",
    "price = [price.text for price in price]\n",
    "prices = prices + price\n",
    "\n",
    "disc = driver.find_elements_by_xpath(\"//div[@class='_3Ay6Sb']/span\")\n",
    "disc = [disc.text.split(\" \")[0] for disc in disc]\n",
    "discs = discs + disc"
   ]
  },
  {
   "cell_type": "code",
   "execution_count": 10,
   "metadata": {},
   "outputs": [],
   "source": [
    "# going to 3rd page\n",
    "driver.find_element_by_xpath(\"//a[@class='_1LKTO3']\").click()\n",
    "driver.implicitly_wait(10)"
   ]
  },
  {
   "cell_type": "code",
   "execution_count": 11,
   "metadata": {},
   "outputs": [],
   "source": [
    "# getting data from third page\n",
    "brand = driver.find_elements_by_xpath(\"//div[@class = '_2WkVRV']\")\n",
    "brand = [brand.text for brand in brand]\n",
    "brands = brands + brand\n",
    "    \n",
    "desc = driver.find_elements_by_xpath(\"//a[@class = 'IRpwTa']\")\n",
    "desc = [desc.text for desc in desc]\n",
    "descs = descs + desc\n",
    "    \n",
    "price = driver.find_elements_by_xpath(\"//div[@class='_30jeq3']\")\n",
    "price = [price.text for price in price]\n",
    "prices = prices + price\n",
    "\n",
    "disc = driver.find_elements_by_xpath(\"//div[@class='_3Ay6Sb']/span\")\n",
    "disc = [disc.text.split(\" \")[0] for disc in disc]\n",
    "discs = discs + disc"
   ]
  },
  {
   "cell_type": "code",
   "execution_count": 13,
   "metadata": {},
   "outputs": [
    {
     "data": {
      "text/html": [
       "<div>\n",
       "<style scoped>\n",
       "    .dataframe tbody tr th:only-of-type {\n",
       "        vertical-align: middle;\n",
       "    }\n",
       "\n",
       "    .dataframe tbody tr th {\n",
       "        vertical-align: top;\n",
       "    }\n",
       "\n",
       "    .dataframe thead th {\n",
       "        text-align: right;\n",
       "    }\n",
       "</style>\n",
       "<table border=\"1\" class=\"dataframe\">\n",
       "  <thead>\n",
       "    <tr style=\"text-align: right;\">\n",
       "      <th></th>\n",
       "      <th>brand</th>\n",
       "      <th>price</th>\n",
       "      <th>discount</th>\n",
       "      <th>description</th>\n",
       "    </tr>\n",
       "  </thead>\n",
       "  <tbody>\n",
       "    <tr>\n",
       "      <th>0</th>\n",
       "      <td>ROYAL SON</td>\n",
       "      <td>₹524</td>\n",
       "      <td>73%</td>\n",
       "      <td>UV Protection Retro Square Sunglasses (60)</td>\n",
       "    </tr>\n",
       "    <tr>\n",
       "      <th>1</th>\n",
       "      <td>Rich Club</td>\n",
       "      <td>₹299</td>\n",
       "      <td>62%</td>\n",
       "      <td>UV Protection, Others Round Sunglasses (48)</td>\n",
       "    </tr>\n",
       "    <tr>\n",
       "      <th>2</th>\n",
       "      <td>Fastrack</td>\n",
       "      <td>₹419</td>\n",
       "      <td>53%</td>\n",
       "      <td>UV Protection Wayfarer Sunglasses (Free Size)</td>\n",
       "    </tr>\n",
       "    <tr>\n",
       "      <th>3</th>\n",
       "      <td>Fastrack</td>\n",
       "      <td>₹377</td>\n",
       "      <td>58%</td>\n",
       "      <td>UV Protection Wayfarer Sunglasses (Free Size)</td>\n",
       "    </tr>\n",
       "    <tr>\n",
       "      <th>4</th>\n",
       "      <td>SHAAH COLLECTIONS</td>\n",
       "      <td>₹198</td>\n",
       "      <td>88%</td>\n",
       "      <td>UV Protection, Polarized, Mirrored Rectangular...</td>\n",
       "    </tr>\n",
       "  </tbody>\n",
       "</table>\n",
       "</div>"
      ],
      "text/plain": [
       "               brand price discount  \\\n",
       "0          ROYAL SON  ₹524      73%   \n",
       "1          Rich Club  ₹299      62%   \n",
       "2           Fastrack  ₹419      53%   \n",
       "3           Fastrack  ₹377      58%   \n",
       "4  SHAAH COLLECTIONS  ₹198      88%   \n",
       "\n",
       "                                         description  \n",
       "0         UV Protection Retro Square Sunglasses (60)  \n",
       "1        UV Protection, Others Round Sunglasses (48)  \n",
       "2      UV Protection Wayfarer Sunglasses (Free Size)  \n",
       "3      UV Protection Wayfarer Sunglasses (Free Size)  \n",
       "4  UV Protection, Polarized, Mirrored Rectangular...  "
      ]
     },
     "execution_count": 13,
     "metadata": {},
     "output_type": "execute_result"
    }
   ],
   "source": [
    "# defining the dataframe\n",
    "dict = {\"brand\":brands[:99], \"price\":prices[:99], \"discount\":discs[:99], \"description\":descs[:99]}\n",
    "df = pd.DataFrame(dict)\n",
    "df.head()"
   ]
  },
  {
   "cell_type": "code",
   "execution_count": 1,
   "metadata": {},
   "outputs": [],
   "source": [
    "def abc():\n",
    "    return 0"
   ]
  },
  {
   "cell_type": "markdown",
   "metadata": {},
   "source": [
    "## 7. scraping iphone reviews from flipkart"
   ]
  },
  {
   "cell_type": "code",
   "execution_count": 2,
   "metadata": {},
   "outputs": [],
   "source": [
    "iphone_rev = \"https://www.flipkart.com/apple-iphone-11-black-64-gb-includes-earpods-\\\n",
    "power-adapter/p/itm0f37c2240b217?pid=MOBFKCTSVZAXUHGR&lid=LSTMOBFKCTSVZAXUHGREPBFGI&marketplace\""
   ]
  },
  {
   "cell_type": "code",
   "execution_count": 5,
   "metadata": {},
   "outputs": [],
   "source": [
    "driver = webdriver.Chrome('chromedriver')\n",
    "driver.get(iphone_rev)"
   ]
  },
  {
   "cell_type": "code",
   "execution_count": 6,
   "metadata": {},
   "outputs": [],
   "source": [
    "# going to page of all reviews\n",
    "driver.find_element_by_xpath(\"//div[@class='_3UAT2v _16PBlm']\").click()\n",
    "driver.implicitly_wait(10) "
   ]
  },
  {
   "cell_type": "code",
   "execution_count": 7,
   "metadata": {},
   "outputs": [],
   "source": [
    "#collecting ratings \n",
    "rating = driver.find_elements_by_xpath(\"//div[@class='_3LWZlK _1BLPMq']\")\n",
    "driver.implicitly_wait(10)\n",
    "ratings = [rating.text for rating in rating]"
   ]
  },
  {
   "cell_type": "code",
   "execution_count": 9,
   "metadata": {},
   "outputs": [],
   "source": [
    "#collecting summary\n",
    "summary = driver.find_elements_by_xpath(\"//p[@class='_2-N8zT']\")\n",
    "summary = [summary.text for summary in summary]"
   ]
  },
  {
   "cell_type": "code",
   "execution_count": 10,
   "metadata": {},
   "outputs": [],
   "source": [
    "#collecting review \n",
    "rev = driver.find_elements_by_xpath(\"//div[@class='t-ZTKy']/div/div\")\n",
    "rev = [rev.text for rev in rev]"
   ]
  },
  {
   "cell_type": "code",
   "execution_count": 11,
   "metadata": {},
   "outputs": [
    {
     "data": {
      "text/html": [
       "<div>\n",
       "<style scoped>\n",
       "    .dataframe tbody tr th:only-of-type {\n",
       "        vertical-align: middle;\n",
       "    }\n",
       "\n",
       "    .dataframe tbody tr th {\n",
       "        vertical-align: top;\n",
       "    }\n",
       "\n",
       "    .dataframe thead th {\n",
       "        text-align: right;\n",
       "    }\n",
       "</style>\n",
       "<table border=\"1\" class=\"dataframe\">\n",
       "  <thead>\n",
       "    <tr style=\"text-align: right;\">\n",
       "      <th></th>\n",
       "      <th>rating</th>\n",
       "      <th>summary</th>\n",
       "      <th>review</th>\n",
       "    </tr>\n",
       "  </thead>\n",
       "  <tbody>\n",
       "    <tr>\n",
       "      <th>0</th>\n",
       "      <td>5</td>\n",
       "      <td>Brilliant</td>\n",
       "      <td>The Best Phone for the Money\\n\\nThe iPhone 11 ...</td>\n",
       "    </tr>\n",
       "    <tr>\n",
       "      <th>1</th>\n",
       "      <td>5</td>\n",
       "      <td>Simply awesome</td>\n",
       "      <td>Really satisfied with the Product I received.....</td>\n",
       "    </tr>\n",
       "    <tr>\n",
       "      <th>2</th>\n",
       "      <td>5</td>\n",
       "      <td>Perfect product!</td>\n",
       "      <td>Amazing phone with great cameras and better ba...</td>\n",
       "    </tr>\n",
       "    <tr>\n",
       "      <th>3</th>\n",
       "      <td>5</td>\n",
       "      <td>Best in the market!</td>\n",
       "      <td>Great iPhone very snappy experience as apple k...</td>\n",
       "    </tr>\n",
       "    <tr>\n",
       "      <th>4</th>\n",
       "      <td>5</td>\n",
       "      <td>Fabulous!</td>\n",
       "      <td>This is my first iOS phone. I am very happy wi...</td>\n",
       "    </tr>\n",
       "  </tbody>\n",
       "</table>\n",
       "</div>"
      ],
      "text/plain": [
       "  rating              summary  \\\n",
       "0      5            Brilliant   \n",
       "1      5       Simply awesome   \n",
       "2      5     Perfect product!   \n",
       "3      5  Best in the market!   \n",
       "4      5            Fabulous!   \n",
       "\n",
       "                                              review  \n",
       "0  The Best Phone for the Money\\n\\nThe iPhone 11 ...  \n",
       "1  Really satisfied with the Product I received.....  \n",
       "2  Amazing phone with great cameras and better ba...  \n",
       "3  Great iPhone very snappy experience as apple k...  \n",
       "4  This is my first iOS phone. I am very happy wi...  "
      ]
     },
     "execution_count": 11,
     "metadata": {},
     "output_type": "execute_result"
    }
   ],
   "source": [
    "# creating dataframe \n",
    "dict = {\"rating\":ratings, \"summary\":summary, \"review\":rev}\n",
    "df = pd.DataFrame(dict)\n",
    "df.head()"
   ]
  },
  {
   "cell_type": "markdown",
   "metadata": {},
   "source": [
    "## 8. scraping data for sneakers from flipkart"
   ]
  },
  {
   "cell_type": "code",
   "execution_count": 13,
   "metadata": {},
   "outputs": [],
   "source": [
    "driver = webdriver.Chrome('chromedriver')\n",
    "driver.get(\"https://www.flipkart.com/\")"
   ]
  },
  {
   "cell_type": "code",
   "execution_count": 14,
   "metadata": {},
   "outputs": [],
   "source": [
    "search_box = driver.find_element_by_xpath(\"//input[@class = '_3704LK']\")\n",
    "search_box.send_keys(\"sneakers\")\n",
    "\n",
    "\n",
    "button = driver.find_element_by_xpath(\"//button[@class = 'L0Z3Pu']\")\n",
    "driver.implicitly_wait(10)\n",
    "ActionChains(driver).move_to_element(button).click(button).perform()"
   ]
  },
  {
   "cell_type": "code",
   "execution_count": 15,
   "metadata": {},
   "outputs": [],
   "source": [
    "brands = []\n",
    "prices = []\n",
    "discs = []\n",
    "descs = []\n",
    "\n",
    "\n",
    "brand = driver.find_elements_by_xpath(\"//div[@class = '_2WkVRV']\")\n",
    "brand = [brand.text for brand in brand]\n",
    "brands = brands + brand\n",
    "    \n",
    "desc = driver.find_elements_by_xpath(\"//a[@class = 'IRpwTa']\")\n",
    "desc = [desc.text for desc in desc]\n",
    "descs = descs + desc\n",
    "    \n",
    "price = driver.find_elements_by_xpath(\"//div[@class='_30jeq3']\")\n",
    "price = [price.text for price in price]\n",
    "prices = prices + price\n",
    "\n",
    "disc = driver.find_elements_by_xpath(\"//div[@class='_3Ay6Sb']/span\")\n",
    "disc = [disc.text.split(\" \")[0] for disc in disc]\n",
    "discs = discs + disc"
   ]
  },
  {
   "cell_type": "code",
   "execution_count": 16,
   "metadata": {},
   "outputs": [],
   "source": [
    "driver.find_element_by_xpath(\"//nav[@class='yFHi8N']/a[2]\").click()\n",
    "#driver.find_element_by_xpath(\"//a[@class='_1LKTO3']\").click()\n",
    "driver.implicitly_wait(10)"
   ]
  },
  {
   "cell_type": "code",
   "execution_count": 17,
   "metadata": {},
   "outputs": [],
   "source": [
    "brand = driver.find_elements_by_xpath(\"//div[@class = '_2WkVRV']\")\n",
    "brand = [brand.text for brand in brand]\n",
    "brands = brands + brand\n",
    "    \n",
    "desc = driver.find_elements_by_xpath(\"//a[@class = 'IRpwTa']\")\n",
    "desc = [desc.text for desc in desc]\n",
    "descs = descs + desc\n",
    "    \n",
    "price = driver.find_elements_by_xpath(\"//div[@class='_30jeq3']\")\n",
    "price = [price.text for price in price]\n",
    "prices = prices + price\n",
    "\n",
    "disc = driver.find_elements_by_xpath(\"//div[@class='_3Ay6Sb']/span\")\n",
    "disc = [disc.text.split(\" \")[0] for disc in disc]\n",
    "discs = discs + disc"
   ]
  },
  {
   "cell_type": "code",
   "execution_count": 18,
   "metadata": {},
   "outputs": [],
   "source": [
    "driver.find_element_by_xpath(\"//nav[@class='yFHi8N']/a[4]\").click()\n",
    "#driver.find_element_by_xpath(\"//a[@class='_1LKTO3']\").click()\n",
    "driver.implicitly_wait(10)"
   ]
  },
  {
   "cell_type": "code",
   "execution_count": 19,
   "metadata": {},
   "outputs": [],
   "source": [
    "brand = driver.find_elements_by_xpath(\"//div[@class = '_2WkVRV']\")\n",
    "brand = [brand.text for brand in brand]\n",
    "brands = brands + brand\n",
    "    \n",
    "desc = driver.find_elements_by_xpath(\"//a[@class = 'IRpwTa']\")\n",
    "desc = [desc.text for desc in desc]\n",
    "descs = descs + desc\n",
    "    \n",
    "price = driver.find_elements_by_xpath(\"//div[@class='_30jeq3']\")\n",
    "price = [price.text for price in price]\n",
    "prices = prices + price\n",
    "\n",
    "disc = driver.find_elements_by_xpath(\"//div[@class='_3Ay6Sb']/span\")\n",
    "disc = [disc.text.split(\" \")[0] for disc in disc]\n",
    "discs = discs + disc"
   ]
  },
  {
   "cell_type": "code",
   "execution_count": 20,
   "metadata": {},
   "outputs": [
    {
     "data": {
      "text/html": [
       "<div>\n",
       "<style scoped>\n",
       "    .dataframe tbody tr th:only-of-type {\n",
       "        vertical-align: middle;\n",
       "    }\n",
       "\n",
       "    .dataframe tbody tr th {\n",
       "        vertical-align: top;\n",
       "    }\n",
       "\n",
       "    .dataframe thead th {\n",
       "        text-align: right;\n",
       "    }\n",
       "</style>\n",
       "<table border=\"1\" class=\"dataframe\">\n",
       "  <thead>\n",
       "    <tr style=\"text-align: right;\">\n",
       "      <th></th>\n",
       "      <th>brand</th>\n",
       "      <th>price</th>\n",
       "      <th>discount</th>\n",
       "      <th>description</th>\n",
       "    </tr>\n",
       "  </thead>\n",
       "  <tbody>\n",
       "    <tr>\n",
       "      <th>0</th>\n",
       "      <td>WROGN</td>\n",
       "      <td>₹629</td>\n",
       "      <td>68%</td>\n",
       "      <td>Sneakers For Men</td>\n",
       "    </tr>\n",
       "    <tr>\n",
       "      <th>1</th>\n",
       "      <td>RapidBox</td>\n",
       "      <td>₹640</td>\n",
       "      <td>35%</td>\n",
       "      <td>Modern Trendy Sneakers Shoes Sneakers For Men</td>\n",
       "    </tr>\n",
       "    <tr>\n",
       "      <th>2</th>\n",
       "      <td>BRUTON</td>\n",
       "      <td>₹299</td>\n",
       "      <td>76%</td>\n",
       "      <td>Sneakers For Men</td>\n",
       "    </tr>\n",
       "    <tr>\n",
       "      <th>3</th>\n",
       "      <td>Magnolia</td>\n",
       "      <td>₹369</td>\n",
       "      <td>63%</td>\n",
       "      <td>Combo Pack Of 4 Casual Shoes Loafer Shoes Snea...</td>\n",
       "    </tr>\n",
       "    <tr>\n",
       "      <th>4</th>\n",
       "      <td>BRUTON</td>\n",
       "      <td>₹399</td>\n",
       "      <td>88%</td>\n",
       "      <td>Original Luxury Branded Fashionable Men's Casu...</td>\n",
       "    </tr>\n",
       "  </tbody>\n",
       "</table>\n",
       "</div>"
      ],
      "text/plain": [
       "      brand price discount                                        description\n",
       "0     WROGN  ₹629      68%                                   Sneakers For Men\n",
       "1  RapidBox  ₹640      35%      Modern Trendy Sneakers Shoes Sneakers For Men\n",
       "2    BRUTON  ₹299      76%                                   Sneakers For Men\n",
       "3  Magnolia  ₹369      63%  Combo Pack Of 4 Casual Shoes Loafer Shoes Snea...\n",
       "4    BRUTON  ₹399      88%  Original Luxury Branded Fashionable Men's Casu..."
      ]
     },
     "execution_count": 20,
     "metadata": {},
     "output_type": "execute_result"
    }
   ],
   "source": [
    "dict = {\"brand\":brands[:99], \"price\":prices[:99], \"discount\":discs[:99], \"description\":descs[:99]}\n",
    "df = pd.DataFrame(dict)\n",
    "df.head()"
   ]
  },
  {
   "cell_type": "markdown",
   "metadata": {},
   "source": [
    "## 9. scraping shoes data from myntra"
   ]
  },
  {
   "cell_type": "code",
   "execution_count": 2,
   "metadata": {},
   "outputs": [],
   "source": [
    "shoes_link = \" https://www.myntra.com/shoes\"\n",
    "driver = webdriver.Chrome('chromedriver')\n",
    "driver.get(shoes_link)"
   ]
  },
  {
   "cell_type": "code",
   "execution_count": 3,
   "metadata": {},
   "outputs": [],
   "source": [
    "#selecting the price Rs 6897 to Rs 13595\n",
    "driver.find_element_by_xpath(\"//ul[@class='price-list']/li[2]\").click()"
   ]
  },
  {
   "cell_type": "code",
   "execution_count": 4,
   "metadata": {},
   "outputs": [],
   "source": [
    "# selecting the black color\n",
    "driver.find_element_by_xpath(\"//div[@class='vertical-filters-filters']/ul/li[@class='colour-listItem']\").click()"
   ]
  },
  {
   "cell_type": "code",
   "execution_count": 5,
   "metadata": {},
   "outputs": [],
   "source": [
    "brand = []\n",
    "short_description = [] \n",
    "price = []"
   ]
  },
  {
   "cell_type": "code",
   "execution_count": 6,
   "metadata": {},
   "outputs": [],
   "source": [
    "shoes_brand = driver.find_elements_by_xpath(\"//div[@class = 'product-productMetaInfo']/h3\")\n",
    "shoes_brand = [shoe.text for shoe in shoes_brand] \n",
    "brand = brand + shoes_brand"
   ]
  },
  {
   "cell_type": "code",
   "execution_count": 7,
   "metadata": {},
   "outputs": [],
   "source": [
    "short_desc =  driver.find_elements_by_xpath(\"//div[@class = 'product-productMetaInfo']/h4[1]\")\n",
    "short_desc = [desc.text for desc in short_desc] \n",
    "short_description = short_description + short_desc "
   ]
  },
  {
   "cell_type": "code",
   "execution_count": 8,
   "metadata": {},
   "outputs": [],
   "source": [
    "shoe_price = driver.find_elements_by_xpath(\"//div[@class='product-price']\")\n",
    "shoe_price = [price.text.split('Rs.')[1].strip() for price in shoe_price]\n",
    "price = price + shoe_price "
   ]
  },
  {
   "cell_type": "code",
   "execution_count": 9,
   "metadata": {},
   "outputs": [],
   "source": [
    "driver.find_element_by_xpath(\"//li[@class='pagination-number']\").click()"
   ]
  },
  {
   "cell_type": "code",
   "execution_count": 10,
   "metadata": {},
   "outputs": [],
   "source": [
    "shoes_brand = driver.find_elements_by_xpath(\"//div[@class = 'product-productMetaInfo']/h3\")\n",
    "shoes_brand = [shoe.text for shoe in shoes_brand] \n",
    "brand = brand + shoes_brand\n",
    "\n",
    "short_desc =  driver.find_elements_by_xpath(\"//div[@class = 'product-productMetaInfo']/h4[1]\")\n",
    "short_desc = [desc.text for desc in short_desc] \n",
    "short_description = short_description + short_desc \n",
    "\n",
    "shoe_price = driver.find_elements_by_xpath(\"//div[@class='product-price']\")\n",
    "shoe_price = [price.text.split('Rs.')[1].strip() for price in shoe_price]\n",
    "price = price + shoe_price "
   ]
  },
  {
   "cell_type": "code",
   "execution_count": 11,
   "metadata": {},
   "outputs": [
    {
     "data": {
      "text/html": [
       "<div>\n",
       "<style scoped>\n",
       "    .dataframe tbody tr th:only-of-type {\n",
       "        vertical-align: middle;\n",
       "    }\n",
       "\n",
       "    .dataframe tbody tr th {\n",
       "        vertical-align: top;\n",
       "    }\n",
       "\n",
       "    .dataframe thead th {\n",
       "        text-align: right;\n",
       "    }\n",
       "</style>\n",
       "<table border=\"1\" class=\"dataframe\">\n",
       "  <thead>\n",
       "    <tr style=\"text-align: right;\">\n",
       "      <th></th>\n",
       "      <th>brand</th>\n",
       "      <th>short_description</th>\n",
       "      <th>shoe_price</th>\n",
       "    </tr>\n",
       "  </thead>\n",
       "  <tbody>\n",
       "    <tr>\n",
       "      <th>0</th>\n",
       "      <td>ALDO</td>\n",
       "      <td>Leather Solid Loafers</td>\n",
       "      <td>10499</td>\n",
       "    </tr>\n",
       "    <tr>\n",
       "      <th>1</th>\n",
       "      <td>ALDO</td>\n",
       "      <td>Men Driving Shoes</td>\n",
       "      <td>11199</td>\n",
       "    </tr>\n",
       "    <tr>\n",
       "      <th>2</th>\n",
       "      <td>Puma</td>\n",
       "      <td>Men Jamming 2.0 Running Shoes</td>\n",
       "      <td>7799</td>\n",
       "    </tr>\n",
       "    <tr>\n",
       "      <th>3</th>\n",
       "      <td>Puma</td>\n",
       "      <td>Men Velocity Nitro Running</td>\n",
       "      <td>8799</td>\n",
       "    </tr>\n",
       "    <tr>\n",
       "      <th>4</th>\n",
       "      <td>ALDO</td>\n",
       "      <td>Men Leather Loafers</td>\n",
       "      <td>11199</td>\n",
       "    </tr>\n",
       "  </tbody>\n",
       "</table>\n",
       "</div>"
      ],
      "text/plain": [
       "  brand              short_description shoe_price\n",
       "0  ALDO          Leather Solid Loafers      10499\n",
       "1  ALDO              Men Driving Shoes      11199\n",
       "2  Puma  Men Jamming 2.0 Running Shoes       7799\n",
       "3  Puma     Men Velocity Nitro Running       8799\n",
       "4  ALDO            Men Leather Loafers      11199"
      ]
     },
     "execution_count": 11,
     "metadata": {},
     "output_type": "execute_result"
    }
   ],
   "source": [
    "dict = {\"brand\":brand, \"short_description\": short_description , \"shoe_price\": price}\n",
    "df = pd.DataFrame(dict)\n",
    "df.head()"
   ]
  },
  {
   "cell_type": "markdown",
   "metadata": {},
   "source": [
    "## 10. fetching data for laptops from Amazon"
   ]
  },
  {
   "cell_type": "code",
   "execution_count": 27,
   "metadata": {},
   "outputs": [],
   "source": [
    "laptop_link = 'https://www.amazon.in/'\n",
    "driver = webdriver.Chrome('chromedriver')\n",
    "driver.get(laptop_link)"
   ]
  },
  {
   "cell_type": "code",
   "execution_count": 28,
   "metadata": {},
   "outputs": [],
   "source": [
    "# searching laptop in search field\n",
    "search_box = driver.find_element_by_xpath(\"//div[@class='nav-search-field ']/input\")\n",
    "search_box.send_keys(\"laptop\") "
   ]
  },
  {
   "cell_type": "code",
   "execution_count": 29,
   "metadata": {},
   "outputs": [],
   "source": [
    "# clicking on search button\n",
    "driver.find_element_by_xpath(\"//div[@class='nav-search-submit nav-sprite']\").click() "
   ]
  },
  {
   "cell_type": "code",
   "execution_count": 30,
   "metadata": {},
   "outputs": [],
   "source": [
    "#filtering intel core i7 and i9 \n",
    "driver.find_element_by_xpath(\"//li[@id='p_n_feature_thirteen_browse-bin/12598163031']/span/a/div\").click()"
   ]
  },
  {
   "cell_type": "code",
   "execution_count": 31,
   "metadata": {},
   "outputs": [],
   "source": [
    "driver.find_element_by_xpath(\"//li[@id='p_n_feature_thirteen_browse-bin/16757432031']/span/a/div\").click() "
   ]
  },
  {
   "cell_type": "code",
   "execution_count": 50,
   "metadata": {},
   "outputs": [],
   "source": [
    "# fetching the title\n",
    "title = driver.find_elements_by_xpath(\"//div[@class='a-section a-spacing-none']/h2\")\n",
    "title = [t.text for t in title]\n",
    "# getting the links of each product\n",
    "link = driver.find_elements_by_xpath(\"//div[@class='a-section a-spacing-none']/h2/a\") \n",
    "link = [lap.get_attribute(\"href\") for lap in link]"
   ]
  },
  {
   "cell_type": "code",
   "execution_count": null,
   "metadata": {},
   "outputs": [],
   "source": [
    "# fetching the price\n",
    "price = driver.find_elements_by_xpath(\"//span[@class='a-price-whole']\")\n",
    "price = [p.text for p in price]"
   ]
  },
  {
   "cell_type": "code",
   "execution_count": 33,
   "metadata": {},
   "outputs": [],
   "source": [
    "# fetching the rating\n",
    "rating = driver.find_elements_by_xpath(\"//span[@class='a-icon-alt']\")\n",
    "rating = [r.text for r in rating]"
   ]
  },
  {
   "cell_type": "code",
   "execution_count": 76,
   "metadata": {},
   "outputs": [],
   "source": [
    "# fetching the rating by itrating the each product link\n",
    "from selenium.common.exceptions import NoSuchElementException\n",
    "rating = []\n",
    "for i in range(10):\n",
    "    url = link[i]\n",
    "    driver.get(url)\n",
    "    try:\n",
    "        rating.append(driver.find_element_by_xpath(\"//td[@class='a-size-base']\").text.split('\\n')[1][:3])\n",
    "    except NoSuchElementException:\n",
    "        rating.append(\"\")   "
   ]
  },
  {
   "cell_type": "code",
   "execution_count": 80,
   "metadata": {},
   "outputs": [
    {
     "data": {
      "text/html": [
       "<div>\n",
       "<style scoped>\n",
       "    .dataframe tbody tr th:only-of-type {\n",
       "        vertical-align: middle;\n",
       "    }\n",
       "\n",
       "    .dataframe tbody tr th {\n",
       "        vertical-align: top;\n",
       "    }\n",
       "\n",
       "    .dataframe thead th {\n",
       "        text-align: right;\n",
       "    }\n",
       "</style>\n",
       "<table border=\"1\" class=\"dataframe\">\n",
       "  <thead>\n",
       "    <tr style=\"text-align: right;\">\n",
       "      <th></th>\n",
       "      <th>title</th>\n",
       "      <th>price</th>\n",
       "      <th>rating</th>\n",
       "    </tr>\n",
       "  </thead>\n",
       "  <tbody>\n",
       "    <tr>\n",
       "      <th>0</th>\n",
       "      <td>Lenovo Legion 5 10th Gen Intel Core i7-10750H ...</td>\n",
       "      <td>83,490</td>\n",
       "      <td>4.0</td>\n",
       "    </tr>\n",
       "    <tr>\n",
       "      <th>1</th>\n",
       "      <td>HP Spectre x360 11th Gen Intel Core i7 13.3 in...</td>\n",
       "      <td>1,36,400</td>\n",
       "      <td>4.0</td>\n",
       "    </tr>\n",
       "    <tr>\n",
       "      <th>2</th>\n",
       "      <td>Life Digital Laptop 15.6-inch (39.62 cms) (Int...</td>\n",
       "      <td>24,990</td>\n",
       "      <td>3.3</td>\n",
       "    </tr>\n",
       "    <tr>\n",
       "      <th>3</th>\n",
       "      <td>Mi Notebook Horizon Edition 14 Intel Core i7-1...</td>\n",
       "      <td>53,990</td>\n",
       "      <td>4.2</td>\n",
       "    </tr>\n",
       "    <tr>\n",
       "      <th>4</th>\n",
       "      <td>Acer Nitro 5 11th Gen Intel Core i7-11800H 15....</td>\n",
       "      <td>89,990</td>\n",
       "      <td>3.9</td>\n",
       "    </tr>\n",
       "  </tbody>\n",
       "</table>\n",
       "</div>"
      ],
      "text/plain": [
       "                                               title     price rating\n",
       "0  Lenovo Legion 5 10th Gen Intel Core i7-10750H ...    83,490    4.0\n",
       "1  HP Spectre x360 11th Gen Intel Core i7 13.3 in...  1,36,400    4.0\n",
       "2  Life Digital Laptop 15.6-inch (39.62 cms) (Int...    24,990    3.3\n",
       "3  Mi Notebook Horizon Edition 14 Intel Core i7-1...    53,990    4.2\n",
       "4  Acer Nitro 5 11th Gen Intel Core i7-11800H 15....    89,990    3.9"
      ]
     },
     "execution_count": 80,
     "metadata": {},
     "output_type": "execute_result"
    }
   ],
   "source": [
    "# creating the data frame\n",
    "dict = {\"title\":title[:10], \"price\":price[:10], \"rating\":rating}\n",
    "df = pd.DataFrame(dict)\n",
    "df.head()"
   ]
  },
  {
   "cell_type": "code",
   "execution_count": null,
   "metadata": {},
   "outputs": [],
   "source": []
  }
 ],
 "metadata": {
  "kernelspec": {
   "display_name": "Python 3",
   "language": "python",
   "name": "python3"
  },
  "language_info": {
   "codemirror_mode": {
    "name": "ipython",
    "version": 3
   },
   "file_extension": ".py",
   "mimetype": "text/x-python",
   "name": "python",
   "nbconvert_exporter": "python",
   "pygments_lexer": "ipython3",
   "version": "3.7.7"
  }
 },
 "nbformat": 4,
 "nbformat_minor": 4
}
