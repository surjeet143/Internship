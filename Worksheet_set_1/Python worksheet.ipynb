{
 "cells": [
  {
   "cell_type": "markdown",
   "metadata": {},
   "source": [
    "1. %      \n",
    "2. 0      \n",
    "3. 24     \n",
    "4. 2\n",
    "5. 6 \n",
    "6. the finally block will be executed no matter if the try block raises an error or not.  \n",
    "7. It is used to raise an exception.  \n",
    "8. In defining an iterator   \n",
    "9. _abc , abc2  \n",
    "10. yield, raise"
   ]
  },
  {
   "cell_type": "markdown",
   "metadata": {},
   "source": [
    "11. program to find the factorial."
   ]
  },
  {
   "cell_type": "code",
   "execution_count": 23,
   "metadata": {},
   "outputs": [],
   "source": [
    "def fact(n):\n",
    "    fact = 1\n",
    "    if n == 0:\n",
    "        return 1\n",
    "    for i in range(n):\n",
    "        fact = fact*(i+1)\n",
    "    return fact"
   ]
  },
  {
   "cell_type": "markdown",
   "metadata": {},
   "source": [
    "12. program to check the prime number."
   ]
  },
  {
   "cell_type": "code",
   "execution_count": 125,
   "metadata": {},
   "outputs": [],
   "source": [
    "def isprime(n):\n",
    "    if (n == 1) or(n == 0):\n",
    "        return False\n",
    "    for i in range(n//2):\n",
    "        if n%(i+2)==0:\n",
    "            return False\n",
    "    return True"
   ]
  },
  {
   "cell_type": "markdown",
   "metadata": {},
   "source": [
    "13. to check palindrome word"
   ]
  },
  {
   "cell_type": "code",
   "execution_count": 126,
   "metadata": {},
   "outputs": [],
   "source": [
    "def ispali(string):\n",
    "    def reverse(s):\n",
    "        str = \"\"\n",
    "        for i in s:\n",
    "            str = i + str\n",
    "        return str\n",
    "    if string == reverse(string):\n",
    "        return True\n",
    "    return False"
   ]
  },
  {
   "cell_type": "markdown",
   "metadata": {},
   "source": [
    "14. to find the third side of right angled triangle"
   ]
  },
  {
   "cell_type": "code",
   "execution_count": 152,
   "metadata": {},
   "outputs": [],
   "source": [
    "from math import sqrt\n",
    "def thirdside(a,b):\n",
    "    #c1 and c2 are possible sides\n",
    "    c1, c2 = round(sqrt(abs(a**2+b**2)),2),round(sqrt(abs(a**2-b**2)),2)  \n",
    "    \n",
    "    #checking the triangle possibility with c1 and c2\n",
    "    def istriangle(A,B,C):\n",
    "        if (A+B>C) & (B+C>A) & (C+A>B):\n",
    "            return True\n",
    "   \n",
    "    list = []  # list of possible Pythagorean triplets\n",
    "    if istriangle(a,b,c1):\n",
    "        list.append([a,b,c1])\n",
    "    if istriangle(a,b,c1):\n",
    "        list.append([a,b,c2])\n",
    "    return list"
   ]
  },
  {
   "cell_type": "markdown",
   "metadata": {},
   "source": [
    "15. to count the frequency of character in string"
   ]
  },
  {
   "cell_type": "code",
   "execution_count": 164,
   "metadata": {},
   "outputs": [],
   "source": [
    "def FrequencyCounter(string):\n",
    "    # creating an empty dictionary \n",
    "    counter_dict = {}\n",
    "  \n",
    "    # looping for each character\n",
    "    for i in string:\n",
    "        if i in counter_dict:\n",
    "            counter_dict[i] += 1\n",
    "        else:\n",
    "            counter_dict[i] = 1\n",
    "    return counter_dict"
   ]
  },
  {
   "cell_type": "code",
   "execution_count": null,
   "metadata": {},
   "outputs": [],
   "source": []
  }
 ],
 "metadata": {
  "kernelspec": {
   "display_name": "Python 3",
   "language": "python",
   "name": "python3"
  },
  "language_info": {
   "codemirror_mode": {
    "name": "ipython",
    "version": 3
   },
   "file_extension": ".py",
   "mimetype": "text/x-python",
   "name": "python",
   "nbconvert_exporter": "python",
   "pygments_lexer": "ipython3",
   "version": "3.7.3"
  }
 },
 "nbformat": 4,
 "nbformat_minor": 4
}
